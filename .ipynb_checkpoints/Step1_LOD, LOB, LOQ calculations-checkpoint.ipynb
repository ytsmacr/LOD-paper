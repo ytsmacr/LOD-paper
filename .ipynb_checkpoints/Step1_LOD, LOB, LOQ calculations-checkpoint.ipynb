{
 "cells": [
  {
   "cell_type": "markdown",
   "id": "8bf96c7e",
   "metadata": {},
   "source": [
    "# *RUN THIS CHUNK*"
   ]
  },
  {
   "cell_type": "code",
   "execution_count": 1,
   "id": "5175712d",
   "metadata": {},
   "outputs": [],
   "source": [
    "import os\n",
    "import pandas as pd\n",
    "import numpy as np\n",
    "from tqdm.notebook import tqdm"
   ]
  },
  {
   "cell_type": "markdown",
   "id": "8b239144",
   "metadata": {},
   "source": [
    "# First/reset calculations?\n",
    "#### Set up results table"
   ]
  },
  {
   "cell_type": "code",
   "execution_count": 2,
   "id": "59e6aa62",
   "metadata": {},
   "outputs": [],
   "source": [
    "# make table to hold vectors\n",
    "full_table = pd.DataFrame({\n",
    "    'element' : [],\n",
    "    'instrument' : [],\n",
    "    'atmosphere' : [],\n",
    "    'num_range' : [],\n",
    "    'vector' : [],\n",
    "    'LOB_Braga' : [],\n",
    "    'LOB_metals' : [],\n",
    "    'LOD_Braga' : [],\n",
    "    'LOD_metals' : [],\n",
    "    'LOQ_Braga' : [],\n",
    "    'LOQ_metals' : []\n",
    "})"
   ]
  },
  {
   "cell_type": "markdown",
   "id": "288c9263",
   "metadata": {},
   "source": [
    "# Adding new data?\n",
    "#### Import existing table"
   ]
  },
  {
   "cell_type": "code",
   "execution_count": 16,
   "id": "1aece619",
   "metadata": {},
   "outputs": [],
   "source": [
    "#fpath = \"C:\\\\Users\\\\ytsma22c\\\\Google Drive\\\\Misc Work\\\\LOD paper\\\\LOD_calcs.csv\"\n",
    "#full_table = pd.read_csv(fpath)"
   ]
  },
  {
   "cell_type": "markdown",
   "id": "33a89433",
   "metadata": {},
   "source": [
    "# \\*\\*\\*Start here with a new calculation\\*\\*\\*\n",
    "## Calculate regression vectors\n",
    "Data should be in a `XX_coeffs.csv` format within folders separated by random number region (0-750 or 250-1000)\n",
    "\n",
    "- **LANL 0-750:** C:\\\\Users\\\\ytsma22c\\\\Google Drive\\\\Darby Work\\\\LOD paper\\\\LANL calculations\\\\models\\\\0-750\\\\\n",
    "- **LANL 250-1000:** C:\\\\Users\\\\ytsma22c\\\\Google Drive\\\\Darby Work\\\\LOD paper\\\\LANL calculations\\\\models\\\\250-1000\\\\\n",
    "\n",
    "#### Get data information"
   ]
  },
  {
   "cell_type": "code",
   "execution_count": 17,
   "id": "c2dd7e6d",
   "metadata": {},
   "outputs": [
    {
     "name": "stdout",
     "output_type": "stream",
     "text": [
      "What instrument was the data collected on? LANL\n",
      "What atmosphere was the data collected under? Mars\n",
      "What range of random numbers were the models trained on? (0-750 or 250-1000)250-1000\n",
      "Folder path containing models:C:\\Users\\ytsma22c\\Google Drive\\Darby Work\\LOD paper\\LANL calculations\\models\\250-1000\\\n"
     ]
    }
   ],
   "source": [
    "instrument = input(\"What instrument was the data collected on? \")\n",
    "atm = input(\"What atmosphere was the data collected under? \")\n",
    "num_range = input(\"What range of random numbers were the models trained on? (0-750 or 250-1000)\")\n",
    "folder = input('Folder path containing models:')\n",
    "\n",
    "coefflist = os.listdir(folder)\n",
    "coeffs = []"
   ]
  },
  {
   "cell_type": "markdown",
   "id": "8b67f276",
   "metadata": {},
   "source": [
    "#### Read in model coefficients"
   ]
  },
  {
   "cell_type": "code",
   "execution_count": 18,
   "id": "2e136a34",
   "metadata": {},
   "outputs": [
    {
     "name": "stdout",
     "output_type": "stream",
     "text": [
      "Reading in models...\n"
     ]
    },
    {
     "data": {
      "application/vnd.jupyter.widget-view+json": {
       "model_id": "fd916bf7e80f4c4bac2ed347141c4533",
       "version_major": 2,
       "version_minor": 0
      },
      "text/plain": [
       "  0%|          | 0/37 [00:00<?, ?it/s]"
      ]
     },
     "metadata": {},
     "output_type": "display_data"
    }
   ],
   "source": [
    "print(\"Reading in models...\")\n",
    "for file in tqdm(coefflist):\n",
    "    if \"_coeff\" in file:\n",
    "        #get path name        \n",
    "        path = (folder + file)\n",
    "        #read in file\n",
    "        data = pd.read_csv(path, skiprows = [0])\n",
    "        #merge together data\n",
    "        coeffs.append(data)\n",
    "\n",
    "# convert to dataframe\n",
    "coeffs = pd.concat(coeffs).T\n",
    "coeffs.columns = coeffs.iloc[0]\n",
    "coeffs = coeffs.drop(coeffs.index[0])"
   ]
  },
  {
   "cell_type": "markdown",
   "id": "ae9342ac",
   "metadata": {},
   "source": [
    "#### Calculate regression vectors"
   ]
  },
  {
   "cell_type": "code",
   "execution_count": 19,
   "id": "c6059ad1",
   "metadata": {},
   "outputs": [],
   "source": [
    "#square root of sum of squares\n",
    "vectors = coeffs.pow(2).sum().pow(.5)"
   ]
  },
  {
   "cell_type": "code",
   "execution_count": 20,
   "id": "c702cced",
   "metadata": {},
   "outputs": [
    {
     "data": {
      "text/plain": [
       "wavelength\n",
       "Li (ppm)       22791.058232\n",
       "MnO (wt%)          6.465417\n",
       "Na2O (wt%)        161.39895\n",
       "Ni (ppm)          6329.5992\n",
       "Pb (ppm)         520.481655\n",
       "Rb (ppm)        7499.395355\n",
       "SiO2 (wt%)      8542.342845\n",
       "Sr (ppm)      111411.378542\n",
       "Zn (ppm)       14459.090656\n",
       "dtype: object"
      ]
     },
     "execution_count": 20,
     "metadata": {},
     "output_type": "execute_result"
    }
   ],
   "source": [
    "vectors"
   ]
  },
  {
   "cell_type": "markdown",
   "id": "3b13ab6e",
   "metadata": {},
   "source": [
    "#### Assemble table"
   ]
  },
  {
   "cell_type": "code",
   "execution_count": 21,
   "id": "83e5a7ce",
   "metadata": {},
   "outputs": [],
   "source": [
    "# add data to table\n",
    "vals = vectors\n",
    "elem = coeffs.columns\n",
    "instr = [instrument] * len(vectors)\n",
    "atmos = [atm] * len(vectors)\n",
    "num = [num_range] * len(vectors)\n",
    "\n",
    "temp = pd.DataFrame({'element' : elem,\n",
    "                     'instrument' : instr,\n",
    "                     'atmosphere' : atmos,\n",
    "                     'num_range' : num,\n",
    "                     'vector' : vals\n",
    "}).reset_index(drop = True)"
   ]
  },
  {
   "cell_type": "markdown",
   "id": "af1c58a9",
   "metadata": {},
   "source": [
    "## Calculate LOB, LOD, LOQ\n",
    "\n",
    "- LOB = 1.645 * stdev * vector\n",
    "- LOD = 3.3 * stdev * vector\n",
    "- LOQ = 10 * stdev * vector\n",
    "\n",
    "Currently just using the pre-calculated `standard deviation` but can easily make a code for that too. The files just aren't in the best format for LANL right now"
   ]
  },
  {
   "cell_type": "markdown",
   "id": "294cfe6e",
   "metadata": {},
   "source": [
    "#### Assign standard deviation based on instrument and atmosphere"
   ]
  },
  {
   "cell_type": "code",
   "execution_count": 22,
   "id": "c0dfcf93",
   "metadata": {
    "scrolled": true
   },
   "outputs": [],
   "source": [
    "if instrument == 'LANL':\n",
    "    braga =  0.000245701982436336\n",
    "    metals = 0.0000919578459982072\n",
    "    \n",
    "if instrument == 'ChemLIBS':\n",
    "    if atm == 'Mars':\n",
    "        braga = 0.00028197645372017\n",
    "        metals = 0.000117639483634021\n",
    "        \n",
    "    elif atm == 'Earth':\n",
    "        braga = 0.000444867993101603\n",
    "        metals = 0.0000931716553399781\n",
    "    \n",
    "    else:\n",
    "        braga = 0.000417553099169204\n",
    "        metals = 0.000231951753003813"
   ]
  },
  {
   "cell_type": "code",
   "execution_count": 23,
   "id": "12fc25f2",
   "metadata": {},
   "outputs": [],
   "source": [
    "temp['LOB_Braga'] = 1.645 * braga * temp['vector']\n",
    "temp['LOB_metals'] = 1.645 * metals * temp['vector']\n",
    "temp['LOD_Braga'] = 3.3 * braga * temp['vector']\n",
    "temp['LOD_metals'] = 3.3 * metals * temp['vector']\n",
    "temp['LOQ_Braga'] = 10 * braga * temp['vector']\n",
    "temp['LOQ_metals'] = 10 * metals * temp['vector']"
   ]
  },
  {
   "cell_type": "markdown",
   "id": "da9a23de",
   "metadata": {},
   "source": [
    "### Add data to full table"
   ]
  },
  {
   "cell_type": "code",
   "execution_count": 24,
   "id": "12cb0e8f",
   "metadata": {
    "scrolled": true
   },
   "outputs": [
    {
     "data": {
      "text/html": [
       "<div>\n",
       "<style scoped>\n",
       "    .dataframe tbody tr th:only-of-type {\n",
       "        vertical-align: middle;\n",
       "    }\n",
       "\n",
       "    .dataframe tbody tr th {\n",
       "        vertical-align: top;\n",
       "    }\n",
       "\n",
       "    .dataframe thead th {\n",
       "        text-align: right;\n",
       "    }\n",
       "</style>\n",
       "<table border=\"1\" class=\"dataframe\">\n",
       "  <thead>\n",
       "    <tr style=\"text-align: right;\">\n",
       "      <th></th>\n",
       "      <th>element</th>\n",
       "      <th>instrument</th>\n",
       "      <th>atmosphere</th>\n",
       "      <th>num_range</th>\n",
       "      <th>vector</th>\n",
       "      <th>LOB_Braga</th>\n",
       "      <th>LOB_metals</th>\n",
       "      <th>LOD_Braga</th>\n",
       "      <th>LOD_metals</th>\n",
       "      <th>LOQ_Braga</th>\n",
       "      <th>LOQ_metals</th>\n",
       "    </tr>\n",
       "  </thead>\n",
       "  <tbody>\n",
       "    <tr>\n",
       "      <th>0</th>\n",
       "      <td>Li</td>\n",
       "      <td>LANL</td>\n",
       "      <td>Mars</td>\n",
       "      <td>0-750</td>\n",
       "      <td>22613.498955</td>\n",
       "      <td>9.139919</td>\n",
       "      <td>3.420759</td>\n",
       "      <td>18.335399</td>\n",
       "      <td>6.862313</td>\n",
       "      <td>55.561815</td>\n",
       "      <td>20.794887</td>\n",
       "    </tr>\n",
       "    <tr>\n",
       "      <th>1</th>\n",
       "      <td>MnO</td>\n",
       "      <td>LANL</td>\n",
       "      <td>Mars</td>\n",
       "      <td>0-750</td>\n",
       "      <td>7.054565</td>\n",
       "      <td>0.002851</td>\n",
       "      <td>0.001067</td>\n",
       "      <td>0.00572</td>\n",
       "      <td>0.002141</td>\n",
       "      <td>0.017333</td>\n",
       "      <td>0.006487</td>\n",
       "    </tr>\n",
       "    <tr>\n",
       "      <th>2</th>\n",
       "      <td>Na2O</td>\n",
       "      <td>LANL</td>\n",
       "      <td>Mars</td>\n",
       "      <td>0-750</td>\n",
       "      <td>128.725448</td>\n",
       "      <td>0.052028</td>\n",
       "      <td>0.019472</td>\n",
       "      <td>0.104373</td>\n",
       "      <td>0.039063</td>\n",
       "      <td>0.316281</td>\n",
       "      <td>0.118373</td>\n",
       "    </tr>\n",
       "    <tr>\n",
       "      <th>3</th>\n",
       "      <td>Ni</td>\n",
       "      <td>LANL</td>\n",
       "      <td>Mars</td>\n",
       "      <td>0-750</td>\n",
       "      <td>3676.400453</td>\n",
       "      <td>1.485927</td>\n",
       "      <td>0.556132</td>\n",
       "      <td>2.980886</td>\n",
       "      <td>1.115644</td>\n",
       "      <td>9.032989</td>\n",
       "      <td>3.380739</td>\n",
       "    </tr>\n",
       "    <tr>\n",
       "      <th>4</th>\n",
       "      <td>Pb</td>\n",
       "      <td>LANL</td>\n",
       "      <td>Mars</td>\n",
       "      <td>0-750</td>\n",
       "      <td>750.936853</td>\n",
       "      <td>0.303513</td>\n",
       "      <td>0.113595</td>\n",
       "      <td>0.608872</td>\n",
       "      <td>0.22788</td>\n",
       "      <td>1.845067</td>\n",
       "      <td>0.690545</td>\n",
       "    </tr>\n",
       "    <tr>\n",
       "      <th>5</th>\n",
       "      <td>Rb</td>\n",
       "      <td>LANL</td>\n",
       "      <td>Mars</td>\n",
       "      <td>0-750</td>\n",
       "      <td>9631.399718</td>\n",
       "      <td>3.892817</td>\n",
       "      <td>1.456948</td>\n",
       "      <td>7.809298</td>\n",
       "      <td>2.922753</td>\n",
       "      <td>23.66454</td>\n",
       "      <td>8.856828</td>\n",
       "    </tr>\n",
       "    <tr>\n",
       "      <th>6</th>\n",
       "      <td>SiO2</td>\n",
       "      <td>LANL</td>\n",
       "      <td>Mars</td>\n",
       "      <td>0-750</td>\n",
       "      <td>8097.538977</td>\n",
       "      <td>3.272861</td>\n",
       "      <td>1.22492</td>\n",
       "      <td>6.565619</td>\n",
       "      <td>2.457286</td>\n",
       "      <td>19.895814</td>\n",
       "      <td>7.446322</td>\n",
       "    </tr>\n",
       "    <tr>\n",
       "      <th>7</th>\n",
       "      <td>Sr</td>\n",
       "      <td>LANL</td>\n",
       "      <td>Mars</td>\n",
       "      <td>0-750</td>\n",
       "      <td>124924.782336</td>\n",
       "      <td>50.492069</td>\n",
       "      <td>18.897454</td>\n",
       "      <td>101.29108</td>\n",
       "      <td>37.909786</td>\n",
       "      <td>306.942667</td>\n",
       "      <td>114.878139</td>\n",
       "    </tr>\n",
       "    <tr>\n",
       "      <th>8</th>\n",
       "      <td>Zn</td>\n",
       "      <td>LANL</td>\n",
       "      <td>Mars</td>\n",
       "      <td>0-750</td>\n",
       "      <td>5242.403461</td>\n",
       "      <td>2.118873</td>\n",
       "      <td>0.793022</td>\n",
       "      <td>4.250627</td>\n",
       "      <td>1.590864</td>\n",
       "      <td>12.880689</td>\n",
       "      <td>4.820801</td>\n",
       "    </tr>\n",
       "    <tr>\n",
       "      <th>9</th>\n",
       "      <td>Li</td>\n",
       "      <td>LANL</td>\n",
       "      <td>Mars</td>\n",
       "      <td>250-1000</td>\n",
       "      <td>22791.058232</td>\n",
       "      <td>9.211684</td>\n",
       "      <td>3.447618</td>\n",
       "      <td>18.479367</td>\n",
       "      <td>6.916195</td>\n",
       "      <td>55.998082</td>\n",
       "      <td>20.958166</td>\n",
       "    </tr>\n",
       "    <tr>\n",
       "      <th>10</th>\n",
       "      <td>MnO</td>\n",
       "      <td>LANL</td>\n",
       "      <td>Mars</td>\n",
       "      <td>250-1000</td>\n",
       "      <td>6.465417</td>\n",
       "      <td>0.002613</td>\n",
       "      <td>0.000978</td>\n",
       "      <td>0.005242</td>\n",
       "      <td>0.001962</td>\n",
       "      <td>0.015886</td>\n",
       "      <td>0.005945</td>\n",
       "    </tr>\n",
       "    <tr>\n",
       "      <th>11</th>\n",
       "      <td>Na2O</td>\n",
       "      <td>LANL</td>\n",
       "      <td>Mars</td>\n",
       "      <td>250-1000</td>\n",
       "      <td>161.39895</td>\n",
       "      <td>0.065234</td>\n",
       "      <td>0.024415</td>\n",
       "      <td>0.130865</td>\n",
       "      <td>0.048978</td>\n",
       "      <td>0.39656</td>\n",
       "      <td>0.148419</td>\n",
       "    </tr>\n",
       "    <tr>\n",
       "      <th>12</th>\n",
       "      <td>Ni</td>\n",
       "      <td>LANL</td>\n",
       "      <td>Mars</td>\n",
       "      <td>250-1000</td>\n",
       "      <td>6329.5992</td>\n",
       "      <td>2.558296</td>\n",
       "      <td>0.957483</td>\n",
       "      <td>5.132144</td>\n",
       "      <td>1.920786</td>\n",
       "      <td>15.551951</td>\n",
       "      <td>5.820563</td>\n",
       "    </tr>\n",
       "    <tr>\n",
       "      <th>13</th>\n",
       "      <td>Pb</td>\n",
       "      <td>LANL</td>\n",
       "      <td>Mars</td>\n",
       "      <td>250-1000</td>\n",
       "      <td>520.481655</td>\n",
       "      <td>0.210368</td>\n",
       "      <td>0.078734</td>\n",
       "      <td>0.422015</td>\n",
       "      <td>0.157946</td>\n",
       "      <td>1.278834</td>\n",
       "      <td>0.478624</td>\n",
       "    </tr>\n",
       "    <tr>\n",
       "      <th>14</th>\n",
       "      <td>Rb</td>\n",
       "      <td>LANL</td>\n",
       "      <td>Mars</td>\n",
       "      <td>250-1000</td>\n",
       "      <td>7499.395355</td>\n",
       "      <td>3.031104</td>\n",
       "      <td>1.134438</td>\n",
       "      <td>6.080634</td>\n",
       "      <td>2.275773</td>\n",
       "      <td>18.426163</td>\n",
       "      <td>6.896282</td>\n",
       "    </tr>\n",
       "    <tr>\n",
       "      <th>15</th>\n",
       "      <td>SiO2</td>\n",
       "      <td>LANL</td>\n",
       "      <td>Mars</td>\n",
       "      <td>250-1000</td>\n",
       "      <td>8542.342845</td>\n",
       "      <td>3.452642</td>\n",
       "      <td>1.292206</td>\n",
       "      <td>6.926273</td>\n",
       "      <td>2.592267</td>\n",
       "      <td>20.988706</td>\n",
       "      <td>7.855354</td>\n",
       "    </tr>\n",
       "    <tr>\n",
       "      <th>16</th>\n",
       "      <td>Sr</td>\n",
       "      <td>LANL</td>\n",
       "      <td>Mars</td>\n",
       "      <td>250-1000</td>\n",
       "      <td>111411.378542</td>\n",
       "      <td>45.030224</td>\n",
       "      <td>16.853272</td>\n",
       "      <td>90.334189</td>\n",
       "      <td>33.808996</td>\n",
       "      <td>273.739966</td>\n",
       "      <td>102.451504</td>\n",
       "    </tr>\n",
       "    <tr>\n",
       "      <th>17</th>\n",
       "      <td>Zn</td>\n",
       "      <td>LANL</td>\n",
       "      <td>Mars</td>\n",
       "      <td>250-1000</td>\n",
       "      <td>14459.090656</td>\n",
       "      <td>5.844072</td>\n",
       "      <td>2.187236</td>\n",
       "      <td>11.72367</td>\n",
       "      <td>4.387769</td>\n",
       "      <td>35.526272</td>\n",
       "      <td>13.296268</td>\n",
       "    </tr>\n",
       "  </tbody>\n",
       "</table>\n",
       "</div>"
      ],
      "text/plain": [
       "   element instrument atmosphere num_range         vector  LOB_Braga  \\\n",
       "0       Li       LANL       Mars     0-750   22613.498955   9.139919   \n",
       "1      MnO       LANL       Mars     0-750       7.054565   0.002851   \n",
       "2     Na2O       LANL       Mars     0-750     128.725448   0.052028   \n",
       "3       Ni       LANL       Mars     0-750    3676.400453   1.485927   \n",
       "4       Pb       LANL       Mars     0-750     750.936853   0.303513   \n",
       "5       Rb       LANL       Mars     0-750    9631.399718   3.892817   \n",
       "6     SiO2       LANL       Mars     0-750    8097.538977   3.272861   \n",
       "7       Sr       LANL       Mars     0-750  124924.782336  50.492069   \n",
       "8       Zn       LANL       Mars     0-750    5242.403461   2.118873   \n",
       "9       Li       LANL       Mars  250-1000   22791.058232   9.211684   \n",
       "10     MnO       LANL       Mars  250-1000       6.465417   0.002613   \n",
       "11    Na2O       LANL       Mars  250-1000      161.39895   0.065234   \n",
       "12      Ni       LANL       Mars  250-1000      6329.5992   2.558296   \n",
       "13      Pb       LANL       Mars  250-1000     520.481655   0.210368   \n",
       "14      Rb       LANL       Mars  250-1000    7499.395355   3.031104   \n",
       "15    SiO2       LANL       Mars  250-1000    8542.342845   3.452642   \n",
       "16      Sr       LANL       Mars  250-1000  111411.378542  45.030224   \n",
       "17      Zn       LANL       Mars  250-1000   14459.090656   5.844072   \n",
       "\n",
       "   LOB_metals  LOD_Braga LOD_metals   LOQ_Braga  LOQ_metals  \n",
       "0    3.420759  18.335399   6.862313   55.561815   20.794887  \n",
       "1    0.001067    0.00572   0.002141    0.017333    0.006487  \n",
       "2    0.019472   0.104373   0.039063    0.316281    0.118373  \n",
       "3    0.556132   2.980886   1.115644    9.032989    3.380739  \n",
       "4    0.113595   0.608872    0.22788    1.845067    0.690545  \n",
       "5    1.456948   7.809298   2.922753    23.66454    8.856828  \n",
       "6     1.22492   6.565619   2.457286   19.895814    7.446322  \n",
       "7   18.897454  101.29108  37.909786  306.942667  114.878139  \n",
       "8    0.793022   4.250627   1.590864   12.880689    4.820801  \n",
       "9    3.447618  18.479367   6.916195   55.998082   20.958166  \n",
       "10   0.000978   0.005242   0.001962    0.015886    0.005945  \n",
       "11   0.024415   0.130865   0.048978     0.39656    0.148419  \n",
       "12   0.957483   5.132144   1.920786   15.551951    5.820563  \n",
       "13   0.078734   0.422015   0.157946    1.278834    0.478624  \n",
       "14   1.134438   6.080634   2.275773   18.426163    6.896282  \n",
       "15   1.292206   6.926273   2.592267   20.988706    7.855354  \n",
       "16  16.853272  90.334189  33.808996  273.739966  102.451504  \n",
       "17   2.187236   11.72367   4.387769   35.526272   13.296268  "
      ]
     },
     "metadata": {},
     "output_type": "display_data"
    }
   ],
   "source": [
    "full_table = full_table.append(temp).reset_index(drop=True)\n",
    "# drop unit info\n",
    "full_table.element = full_table.apply(lambda row: row.element.split()[0], axis = 1)\n",
    "display(full_table)"
   ]
  },
  {
   "cell_type": "markdown",
   "id": "15fc361f",
   "metadata": {},
   "source": [
    "### Export full table"
   ]
  },
  {
   "cell_type": "code",
   "execution_count": 26,
   "id": "38833028",
   "metadata": {},
   "outputs": [],
   "source": [
    "epath = \"C:\\\\Users\\\\ytsma22c\\\\Google Drive\\\\Darby Work\\\\LOD paper\\\\LOD_calcs.csv\"\n",
    "full_table.to_csv(epath, index=False)"
   ]
  },
  {
   "cell_type": "code",
   "execution_count": null,
   "id": "35838d55",
   "metadata": {},
   "outputs": [],
   "source": []
  }
 ],
 "metadata": {
  "kernelspec": {
   "display_name": "Python 3",
   "language": "python",
   "name": "python3"
  },
  "language_info": {
   "codemirror_mode": {
    "name": "ipython",
    "version": 3
   },
   "file_extension": ".py",
   "mimetype": "text/x-python",
   "name": "python",
   "nbconvert_exporter": "python",
   "pygments_lexer": "ipython3",
   "version": "3.8.8"
  }
 },
 "nbformat": 4,
 "nbformat_minor": 5
}
