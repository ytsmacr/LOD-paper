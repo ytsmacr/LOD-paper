{
 "cells": [
  {
   "cell_type": "markdown",
   "id": "8bf96c7e",
   "metadata": {},
   "source": [
    "# *RUN THIS CHUNK*"
   ]
  },
  {
   "cell_type": "code",
   "execution_count": 15,
   "id": "5175712d",
   "metadata": {},
   "outputs": [],
   "source": [
    "import os\n",
    "import pandas as pd\n",
    "import numpy as np\n",
    "from tqdm.notebook import tqdm"
   ]
  },
  {
   "cell_type": "markdown",
   "id": "8b239144",
   "metadata": {},
   "source": [
    "# First/reset calculations?\n",
    "#### Set up results table"
   ]
  },
  {
   "cell_type": "code",
   "execution_count": 27,
   "id": "59e6aa62",
   "metadata": {},
   "outputs": [],
   "source": [
    "# make table to hold vectors\n",
    "full_table = pd.DataFrame({\n",
    "    'element' : [],\n",
    "    'instrument' : [],\n",
    "    'atmosphere' : [],\n",
    "    'num_range' : [],\n",
    "    'vector' : [],\n",
    "    'LOB_Braga' : [],\n",
    "    'LOB_metals' : [],\n",
    "    'LOD_Braga' : [],\n",
    "    'LOD_metals' : [],\n",
    "    'LOQ_Braga' : [],\n",
    "    'LOQ_metals' : []\n",
    "})"
   ]
  },
  {
   "cell_type": "markdown",
   "id": "288c9263",
   "metadata": {},
   "source": [
    "# Adding new data?\n",
    "#### Import existing table"
   ]
  },
  {
   "cell_type": "code",
   "execution_count": 16,
   "id": "1aece619",
   "metadata": {},
   "outputs": [],
   "source": [
    "fpath = \"C:\\\\Users\\\\ytsma22c\\\\Google Drive\\\\Misc Work\\\\LOD paper\\\\LOD_calcs.csv\"\n",
    "full_table = pd.read_csv(fpath)"
   ]
  },
  {
   "cell_type": "markdown",
   "id": "33a89433",
   "metadata": {},
   "source": [
    "# \\*\\*\\*Start here with a new calculation\\*\\*\\*\n",
    "## Calculate regression vectors\n",
    "Data should be in a `XX_coeffs.csv` format within folders separated by random number region (0-750 or 250-1000)\n",
    "\n",
    "- **LANL 0-750:** C:\\\\Users\\\\ytsma22c\\\\Google Drive\\\\Misc Work\\\\LOD paper\\\\LANL calculations\\\\models\\\\0-750\\\\\n",
    "- **LANL 250-1000:** C:\\\\Users\\\\ytsma22c\\\\Google Drive\\\\Misc Work\\\\LOD paper\\\\LANL calculations\\\\models\\\\250-1000\\\\\n",
    "\n",
    "#### Get data information"
   ]
  },
  {
   "cell_type": "code",
   "execution_count": 36,
   "id": "c2dd7e6d",
   "metadata": {},
   "outputs": [
    {
     "name": "stdout",
     "output_type": "stream",
     "text": [
      "What instrument was the data collected on? LANL\n",
      "What atmosphere was the data collected under? Mars\n",
      "What range of random numbers were the models trained on? (0-750 or 250-1000)250-1000\n",
      "Folder path containing models:C:\\Users\\ytsma22c\\Google Drive\\Misc Work\\LOD paper\\LANL calculations\\models\\250-1000\\\n"
     ]
    }
   ],
   "source": [
    "instrument = input(\"What instrument was the data collected on? \")\n",
    "atm = input(\"What atmosphere was the data collected under? \")\n",
    "num_range = input(\"What range of random numbers were the models trained on? (0-750 or 250-1000)\")\n",
    "folder = input('Folder path containing models:')\n",
    "\n",
    "coefflist = os.listdir(folder)\n",
    "coeffs = []"
   ]
  },
  {
   "cell_type": "markdown",
   "id": "8b67f276",
   "metadata": {},
   "source": [
    "#### Read in model coefficients"
   ]
  },
  {
   "cell_type": "code",
   "execution_count": 37,
   "id": "2e136a34",
   "metadata": {},
   "outputs": [
    {
     "name": "stdout",
     "output_type": "stream",
     "text": [
      "Reading in models...\n"
     ]
    },
    {
     "data": {
      "application/vnd.jupyter.widget-view+json": {
       "model_id": "479c04322226402eb2a8e3cf4cc643f7",
       "version_major": 2,
       "version_minor": 0
      },
      "text/plain": [
       "  0%|          | 0/37 [00:00<?, ?it/s]"
      ]
     },
     "metadata": {},
     "output_type": "display_data"
    }
   ],
   "source": [
    "print(\"Reading in models...\")\n",
    "for file in tqdm(coefflist):\n",
    "    if \"_coeff\" in file:\n",
    "        #get path name        \n",
    "        path = (folder + file)\n",
    "        #read in file\n",
    "        data = pd.read_csv(path, skiprows = [0])\n",
    "        #merge together data\n",
    "        coeffs.append(data)\n",
    "\n",
    "# convert to dataframe\n",
    "coeffs = pd.concat(coeffs).T\n",
    "coeffs.columns = coeffs.iloc[0]\n",
    "coeffs = coeffs.drop(coeffs.index[0])"
   ]
  },
  {
   "cell_type": "markdown",
   "id": "ae9342ac",
   "metadata": {},
   "source": [
    "#### Calculate regression vectors"
   ]
  },
  {
   "cell_type": "code",
   "execution_count": 38,
   "id": "c6059ad1",
   "metadata": {},
   "outputs": [],
   "source": [
    "#square root of sum of squares\n",
    "vectors = coeffs.pow(2).sum().pow(.5)"
   ]
  },
  {
   "cell_type": "code",
   "execution_count": 39,
   "id": "c702cced",
   "metadata": {},
   "outputs": [
    {
     "data": {
      "text/plain": [
       "wavelength\n",
       "Li (ppm)       22791.605649\n",
       "MnO (wt%)          6.508857\n",
       "Na2O (wt%)       139.356633\n",
       "Ni (ppm)        6555.697404\n",
       "Pb (ppm)         932.453539\n",
       "Rb (ppm)        4578.040971\n",
       "SiO2 (wt%)      6311.901011\n",
       "Sr (ppm)      155661.441953\n",
       "Zn (ppm)        17189.66734\n",
       "dtype: object"
      ]
     },
     "execution_count": 39,
     "metadata": {},
     "output_type": "execute_result"
    }
   ],
   "source": [
    "vectors"
   ]
  },
  {
   "cell_type": "markdown",
   "id": "3b13ab6e",
   "metadata": {},
   "source": [
    "#### Assemble table"
   ]
  },
  {
   "cell_type": "code",
   "execution_count": 40,
   "id": "83e5a7ce",
   "metadata": {},
   "outputs": [],
   "source": [
    "# add data to table\n",
    "vals = vectors\n",
    "elem = coeffs.columns\n",
    "instr = [instrument] * len(vectors)\n",
    "atmos = [atm] * len(vectors)\n",
    "num = [num_range] * len(vectors)\n",
    "\n",
    "temp = pd.DataFrame({'element' : elem,\n",
    "                     'instrument' : instr,\n",
    "                     'atmosphere' : atmos,\n",
    "                     'num_range' : num,\n",
    "                     'vector' : vals\n",
    "}).reset_index(drop = True)"
   ]
  },
  {
   "cell_type": "markdown",
   "id": "af1c58a9",
   "metadata": {},
   "source": [
    "## Calculate LOB, LOD, LOQ\n",
    "\n",
    "- LOB = 1.645 * stdev * vector\n",
    "- LOD = 3.3 * stdev * vector\n",
    "- LOQ = 10 * stdev * vector\n",
    "\n",
    "Currently just using the pre-calculated `standard deviation` but can easily make a code for that too. The files just aren't in the best format for LANL right now"
   ]
  },
  {
   "cell_type": "markdown",
   "id": "294cfe6e",
   "metadata": {},
   "source": [
    "#### Assign standard deviation based on instrument and atmosphere"
   ]
  },
  {
   "cell_type": "code",
   "execution_count": 41,
   "id": "c0dfcf93",
   "metadata": {
    "scrolled": true
   },
   "outputs": [],
   "source": [
    "if instrument == 'LANL':\n",
    "    braga =  0.000245701982436336\n",
    "    metals = 0.0000919578459982072\n",
    "    \n",
    "if instrument == 'ChemLIBS':\n",
    "    if atm == 'Mars':\n",
    "        braga = 0.00028197645372017\n",
    "        metals = 0.000117639483634021\n",
    "        \n",
    "    elif atm == 'Earth':\n",
    "        braga = 0.000444867993101603\n",
    "        metals = 0.0000931716553399781\n",
    "    \n",
    "    else:\n",
    "        braga = 0.000417553099169204\n",
    "        metals = 0.000231951753003813"
   ]
  },
  {
   "cell_type": "code",
   "execution_count": 42,
   "id": "12fc25f2",
   "metadata": {},
   "outputs": [],
   "source": [
    "temp['LOB_Braga'] = 1.645 * braga * temp['vector']\n",
    "temp['LOB_metals'] = 1.645 * metals * temp['vector']\n",
    "temp['LOD_Braga'] = 3.3 * braga * temp['vector']\n",
    "temp['LOD_metals'] = 3.3 * metals * temp['vector']\n",
    "temp['LOQ_Braga'] = 10 * braga * temp['vector']\n",
    "temp['LOQ_metals'] = 10 * metals * temp['vector']"
   ]
  },
  {
   "cell_type": "markdown",
   "id": "da9a23de",
   "metadata": {},
   "source": [
    "### Add data to full table"
   ]
  },
  {
   "cell_type": "code",
   "execution_count": 43,
   "id": "12cb0e8f",
   "metadata": {
    "scrolled": true
   },
   "outputs": [
    {
     "data": {
      "text/html": [
       "<div>\n",
       "<style scoped>\n",
       "    .dataframe tbody tr th:only-of-type {\n",
       "        vertical-align: middle;\n",
       "    }\n",
       "\n",
       "    .dataframe tbody tr th {\n",
       "        vertical-align: top;\n",
       "    }\n",
       "\n",
       "    .dataframe thead th {\n",
       "        text-align: right;\n",
       "    }\n",
       "</style>\n",
       "<table border=\"1\" class=\"dataframe\">\n",
       "  <thead>\n",
       "    <tr style=\"text-align: right;\">\n",
       "      <th></th>\n",
       "      <th>element</th>\n",
       "      <th>instrument</th>\n",
       "      <th>atmosphere</th>\n",
       "      <th>num_range</th>\n",
       "      <th>vector</th>\n",
       "      <th>LOB_Braga</th>\n",
       "      <th>LOB_metals</th>\n",
       "      <th>LOD_Braga</th>\n",
       "      <th>LOD_metals</th>\n",
       "      <th>LOQ_Braga</th>\n",
       "      <th>LOQ_metals</th>\n",
       "    </tr>\n",
       "  </thead>\n",
       "  <tbody>\n",
       "    <tr>\n",
       "      <th>0</th>\n",
       "      <td>Li</td>\n",
       "      <td>LANL</td>\n",
       "      <td>Mars</td>\n",
       "      <td>0-750</td>\n",
       "      <td>22611.808712</td>\n",
       "      <td>9.139235</td>\n",
       "      <td>3.420503</td>\n",
       "      <td>18.334029</td>\n",
       "      <td>6.8618</td>\n",
       "      <td>55.557662</td>\n",
       "      <td>20.793332</td>\n",
       "    </tr>\n",
       "    <tr>\n",
       "      <th>1</th>\n",
       "      <td>MnO</td>\n",
       "      <td>LANL</td>\n",
       "      <td>Mars</td>\n",
       "      <td>0-750</td>\n",
       "      <td>5.756295</td>\n",
       "      <td>0.002327</td>\n",
       "      <td>0.000871</td>\n",
       "      <td>0.004667</td>\n",
       "      <td>0.001747</td>\n",
       "      <td>0.014143</td>\n",
       "      <td>0.005293</td>\n",
       "    </tr>\n",
       "    <tr>\n",
       "      <th>2</th>\n",
       "      <td>Na2O</td>\n",
       "      <td>LANL</td>\n",
       "      <td>Mars</td>\n",
       "      <td>0-750</td>\n",
       "      <td>127.19417</td>\n",
       "      <td>0.051409</td>\n",
       "      <td>0.019241</td>\n",
       "      <td>0.103131</td>\n",
       "      <td>0.038598</td>\n",
       "      <td>0.312519</td>\n",
       "      <td>0.116965</td>\n",
       "    </tr>\n",
       "    <tr>\n",
       "      <th>3</th>\n",
       "      <td>Ni</td>\n",
       "      <td>LANL</td>\n",
       "      <td>Mars</td>\n",
       "      <td>0-750</td>\n",
       "      <td>9851.998094</td>\n",
       "      <td>3.981978</td>\n",
       "      <td>1.490318</td>\n",
       "      <td>7.988163</td>\n",
       "      <td>2.989696</td>\n",
       "      <td>24.206555</td>\n",
       "      <td>9.059685</td>\n",
       "    </tr>\n",
       "    <tr>\n",
       "      <th>4</th>\n",
       "      <td>Pb</td>\n",
       "      <td>LANL</td>\n",
       "      <td>Mars</td>\n",
       "      <td>0-750</td>\n",
       "      <td>544.969803</td>\n",
       "      <td>0.220266</td>\n",
       "      <td>0.082438</td>\n",
       "      <td>0.441871</td>\n",
       "      <td>0.165377</td>\n",
       "      <td>1.339002</td>\n",
       "      <td>0.501142</td>\n",
       "    </tr>\n",
       "    <tr>\n",
       "      <th>5</th>\n",
       "      <td>Rb</td>\n",
       "      <td>LANL</td>\n",
       "      <td>Mars</td>\n",
       "      <td>0-750</td>\n",
       "      <td>10578.843708</td>\n",
       "      <td>4.275755</td>\n",
       "      <td>1.600269</td>\n",
       "      <td>8.577501</td>\n",
       "      <td>3.210265</td>\n",
       "      <td>25.992429</td>\n",
       "      <td>9.728077</td>\n",
       "    </tr>\n",
       "    <tr>\n",
       "      <th>6</th>\n",
       "      <td>SiO2</td>\n",
       "      <td>LANL</td>\n",
       "      <td>Mars</td>\n",
       "      <td>0-750</td>\n",
       "      <td>7888.620015</td>\n",
       "      <td>3.188421</td>\n",
       "      <td>1.193317</td>\n",
       "      <td>6.396224</td>\n",
       "      <td>2.393888</td>\n",
       "      <td>19.382496</td>\n",
       "      <td>7.254205</td>\n",
       "    </tr>\n",
       "    <tr>\n",
       "      <th>7</th>\n",
       "      <td>Sr</td>\n",
       "      <td>LANL</td>\n",
       "      <td>Mars</td>\n",
       "      <td>0-750</td>\n",
       "      <td>130391.36114</td>\n",
       "      <td>52.701549</td>\n",
       "      <td>19.724387</td>\n",
       "      <td>105.723473</td>\n",
       "      <td>39.568679</td>\n",
       "      <td>320.374159</td>\n",
       "      <td>119.905087</td>\n",
       "    </tr>\n",
       "    <tr>\n",
       "      <th>8</th>\n",
       "      <td>Zn</td>\n",
       "      <td>LANL</td>\n",
       "      <td>Mars</td>\n",
       "      <td>0-750</td>\n",
       "      <td>9070.461655</td>\n",
       "      <td>3.666097</td>\n",
       "      <td>1.372095</td>\n",
       "      <td>7.35448</td>\n",
       "      <td>2.75253</td>\n",
       "      <td>22.286304</td>\n",
       "      <td>8.341001</td>\n",
       "    </tr>\n",
       "    <tr>\n",
       "      <th>9</th>\n",
       "      <td>Li</td>\n",
       "      <td>LANL</td>\n",
       "      <td>Mars</td>\n",
       "      <td>250-1000</td>\n",
       "      <td>22791.605649</td>\n",
       "      <td>9.211906</td>\n",
       "      <td>3.447701</td>\n",
       "      <td>18.479811</td>\n",
       "      <td>6.916361</td>\n",
       "      <td>55.999427</td>\n",
       "      <td>20.95867</td>\n",
       "    </tr>\n",
       "    <tr>\n",
       "      <th>10</th>\n",
       "      <td>MnO</td>\n",
       "      <td>LANL</td>\n",
       "      <td>Mars</td>\n",
       "      <td>250-1000</td>\n",
       "      <td>6.508857</td>\n",
       "      <td>0.002631</td>\n",
       "      <td>0.000985</td>\n",
       "      <td>0.005277</td>\n",
       "      <td>0.001975</td>\n",
       "      <td>0.015992</td>\n",
       "      <td>0.005985</td>\n",
       "    </tr>\n",
       "    <tr>\n",
       "      <th>11</th>\n",
       "      <td>Na2O</td>\n",
       "      <td>LANL</td>\n",
       "      <td>Mars</td>\n",
       "      <td>250-1000</td>\n",
       "      <td>139.356633</td>\n",
       "      <td>0.056325</td>\n",
       "      <td>0.021081</td>\n",
       "      <td>0.112993</td>\n",
       "      <td>0.042289</td>\n",
       "      <td>0.342402</td>\n",
       "      <td>0.128149</td>\n",
       "    </tr>\n",
       "    <tr>\n",
       "      <th>12</th>\n",
       "      <td>Ni</td>\n",
       "      <td>LANL</td>\n",
       "      <td>Mars</td>\n",
       "      <td>250-1000</td>\n",
       "      <td>6555.697404</td>\n",
       "      <td>2.64968</td>\n",
       "      <td>0.991685</td>\n",
       "      <td>5.315468</td>\n",
       "      <td>1.989398</td>\n",
       "      <td>16.107478</td>\n",
       "      <td>6.028478</td>\n",
       "    </tr>\n",
       "    <tr>\n",
       "      <th>13</th>\n",
       "      <td>Pb</td>\n",
       "      <td>LANL</td>\n",
       "      <td>Mars</td>\n",
       "      <td>250-1000</td>\n",
       "      <td>932.453539</td>\n",
       "      <td>0.376879</td>\n",
       "      <td>0.141053</td>\n",
       "      <td>0.756049</td>\n",
       "      <td>0.282963</td>\n",
       "      <td>2.291057</td>\n",
       "      <td>0.857464</td>\n",
       "    </tr>\n",
       "    <tr>\n",
       "      <th>14</th>\n",
       "      <td>Rb</td>\n",
       "      <td>LANL</td>\n",
       "      <td>Mars</td>\n",
       "      <td>250-1000</td>\n",
       "      <td>4578.040971</td>\n",
       "      <td>1.850352</td>\n",
       "      <td>0.692523</td>\n",
       "      <td>3.711951</td>\n",
       "      <td>1.389256</td>\n",
       "      <td>11.248337</td>\n",
       "      <td>4.209868</td>\n",
       "    </tr>\n",
       "    <tr>\n",
       "      <th>15</th>\n",
       "      <td>SiO2</td>\n",
       "      <td>LANL</td>\n",
       "      <td>Mars</td>\n",
       "      <td>250-1000</td>\n",
       "      <td>6311.901011</td>\n",
       "      <td>2.551143</td>\n",
       "      <td>0.954805</td>\n",
       "      <td>5.117794</td>\n",
       "      <td>1.915415</td>\n",
       "      <td>15.508466</td>\n",
       "      <td>5.804288</td>\n",
       "    </tr>\n",
       "    <tr>\n",
       "      <th>16</th>\n",
       "      <td>Sr</td>\n",
       "      <td>LANL</td>\n",
       "      <td>Mars</td>\n",
       "      <td>250-1000</td>\n",
       "      <td>155661.441953</td>\n",
       "      <td>62.915204</td>\n",
       "      <td>23.547009</td>\n",
       "      <td>126.212872</td>\n",
       "      <td>47.23716</td>\n",
       "      <td>382.463249</td>\n",
       "      <td>143.142909</td>\n",
       "    </tr>\n",
       "    <tr>\n",
       "      <th>17</th>\n",
       "      <td>Zn</td>\n",
       "      <td>LANL</td>\n",
       "      <td>Mars</td>\n",
       "      <td>250-1000</td>\n",
       "      <td>17189.66734</td>\n",
       "      <td>6.947716</td>\n",
       "      <td>2.600292</td>\n",
       "      <td>13.937667</td>\n",
       "      <td>5.216392</td>\n",
       "      <td>42.235353</td>\n",
       "      <td>15.807248</td>\n",
       "    </tr>\n",
       "  </tbody>\n",
       "</table>\n",
       "</div>"
      ],
      "text/plain": [
       "   element instrument atmosphere num_range         vector  LOB_Braga  \\\n",
       "0       Li       LANL       Mars     0-750   22611.808712   9.139235   \n",
       "1      MnO       LANL       Mars     0-750       5.756295   0.002327   \n",
       "2     Na2O       LANL       Mars     0-750      127.19417   0.051409   \n",
       "3       Ni       LANL       Mars     0-750    9851.998094   3.981978   \n",
       "4       Pb       LANL       Mars     0-750     544.969803   0.220266   \n",
       "5       Rb       LANL       Mars     0-750   10578.843708   4.275755   \n",
       "6     SiO2       LANL       Mars     0-750    7888.620015   3.188421   \n",
       "7       Sr       LANL       Mars     0-750   130391.36114  52.701549   \n",
       "8       Zn       LANL       Mars     0-750    9070.461655   3.666097   \n",
       "9       Li       LANL       Mars  250-1000   22791.605649   9.211906   \n",
       "10     MnO       LANL       Mars  250-1000       6.508857   0.002631   \n",
       "11    Na2O       LANL       Mars  250-1000     139.356633   0.056325   \n",
       "12      Ni       LANL       Mars  250-1000    6555.697404    2.64968   \n",
       "13      Pb       LANL       Mars  250-1000     932.453539   0.376879   \n",
       "14      Rb       LANL       Mars  250-1000    4578.040971   1.850352   \n",
       "15    SiO2       LANL       Mars  250-1000    6311.901011   2.551143   \n",
       "16      Sr       LANL       Mars  250-1000  155661.441953  62.915204   \n",
       "17      Zn       LANL       Mars  250-1000    17189.66734   6.947716   \n",
       "\n",
       "   LOB_metals   LOD_Braga LOD_metals   LOQ_Braga  LOQ_metals  \n",
       "0    3.420503   18.334029     6.8618   55.557662   20.793332  \n",
       "1    0.000871    0.004667   0.001747    0.014143    0.005293  \n",
       "2    0.019241    0.103131   0.038598    0.312519    0.116965  \n",
       "3    1.490318    7.988163   2.989696   24.206555    9.059685  \n",
       "4    0.082438    0.441871   0.165377    1.339002    0.501142  \n",
       "5    1.600269    8.577501   3.210265   25.992429    9.728077  \n",
       "6    1.193317    6.396224   2.393888   19.382496    7.254205  \n",
       "7   19.724387  105.723473  39.568679  320.374159  119.905087  \n",
       "8    1.372095     7.35448    2.75253   22.286304    8.341001  \n",
       "9    3.447701   18.479811   6.916361   55.999427    20.95867  \n",
       "10   0.000985    0.005277   0.001975    0.015992    0.005985  \n",
       "11   0.021081    0.112993   0.042289    0.342402    0.128149  \n",
       "12   0.991685    5.315468   1.989398   16.107478    6.028478  \n",
       "13   0.141053    0.756049   0.282963    2.291057    0.857464  \n",
       "14   0.692523    3.711951   1.389256   11.248337    4.209868  \n",
       "15   0.954805    5.117794   1.915415   15.508466    5.804288  \n",
       "16  23.547009  126.212872   47.23716  382.463249  143.142909  \n",
       "17   2.600292   13.937667   5.216392   42.235353   15.807248  "
      ]
     },
     "metadata": {},
     "output_type": "display_data"
    }
   ],
   "source": [
    "full_table = full_table.append(temp).reset_index(drop=True)\n",
    "# drop unit info\n",
    "full_table.element = full_table.apply(lambda row: row.element.split()[0], axis = 1)\n",
    "display(full_table)"
   ]
  },
  {
   "cell_type": "markdown",
   "id": "15fc361f",
   "metadata": {},
   "source": [
    "### Export full table"
   ]
  },
  {
   "cell_type": "code",
   "execution_count": 44,
   "id": "38833028",
   "metadata": {},
   "outputs": [],
   "source": [
    "epath = \"C:\\\\Users\\\\ytsma22c\\\\Google Drive\\\\Misc Work\\\\LOD paper\\\\LOD_calcs.csv\"\n",
    "full_table.to_csv(epath, index=False)"
   ]
  },
  {
   "cell_type": "code",
   "execution_count": null,
   "id": "35838d55",
   "metadata": {},
   "outputs": [],
   "source": []
  }
 ],
 "metadata": {
  "kernelspec": {
   "display_name": "Python 3",
   "language": "python",
   "name": "python3"
  },
  "language_info": {
   "codemirror_mode": {
    "name": "ipython",
    "version": 3
   },
   "file_extension": ".py",
   "mimetype": "text/x-python",
   "name": "python",
   "nbconvert_exporter": "python",
   "pygments_lexer": "ipython3",
   "version": "3.8.8"
  }
 },
 "nbformat": 4,
 "nbformat_minor": 5
}
