{
 "cells": [
  {
   "cell_type": "markdown",
   "id": "3d039bd6",
   "metadata": {},
   "source": [
    "Didn't save source coefficient or test prediction files for the ChemLIBS models (inputted into sheets right away), so if I want to run those here I'll need to redownload them."
   ]
  },
  {
   "cell_type": "code",
   "execution_count": 1,
   "id": "5175712d",
   "metadata": {},
   "outputs": [],
   "source": [
    "import os\n",
    "import pandas as pd\n",
    "import numpy as np\n",
    "from tqdm.notebook import tqdm"
   ]
  },
  {
   "cell_type": "code",
   "execution_count": 2,
   "id": "59e6aa62",
   "metadata": {},
   "outputs": [],
   "source": [
    "# make table to hold vectors\n",
    "full_table = pd.DataFrame({\n",
    "    'element' : [],\n",
    "    'instrument' : [],\n",
    "    'atmosphere' : [],\n",
    "    'num_range' : [],\n",
    "    'vector' : [],\n",
    "    'LOB_Braga' : [],\n",
    "    'LOB_metals' : [],\n",
    "    'LOD_Braga' : [],\n",
    "    'LOD_metals' : [],\n",
    "    'LOQ_Braga' : [],\n",
    "    'LOQ_metals' : []\n",
    "})"
   ]
  },
  {
   "cell_type": "markdown",
   "id": "33a89433",
   "metadata": {},
   "source": [
    "# \\*\\*\\*Start here with a new calculation\\*\\*\\*"
   ]
  },
  {
   "cell_type": "markdown",
   "id": "6b86f180",
   "metadata": {},
   "source": [
    "## Calculate regression vectors"
   ]
  },
  {
   "cell_type": "markdown",
   "id": "e2c7be3c",
   "metadata": {},
   "source": [
    "Data should be in a `XX_coeffs.csv` format within folders separated by random number region (0-750 or 250-1000)\n",
    "\n",
    "- **LANL 0-750:** C:\\\\Users\\\\ytsma22c\\\\Google Drive\\\\Misc Work\\\\LOD paper\\\\LANL calculations\\\\models\\\\0-750\\\\\n",
    "- **LANL 250-1000:** C:\\\\Users\\\\ytsma22c\\\\Google Drive\\\\Misc Work\\\\LOD paper\\\\LANL calculations\\\\models\\\\250-1000\\\\"
   ]
  },
  {
   "cell_type": "markdown",
   "id": "c5b608eb",
   "metadata": {},
   "source": [
    "#### Get data information"
   ]
  },
  {
   "cell_type": "code",
   "execution_count": 12,
   "id": "c2dd7e6d",
   "metadata": {},
   "outputs": [
    {
     "name": "stdout",
     "output_type": "stream",
     "text": [
      "What instrument was the data collected on? LANL\n",
      "What atmosphere was the data collected under? Mars\n",
      "What range of random numbers were the models trained on? (0-750 or 250-1000)250-1000\n",
      "Folder path containing models:C:\\Users\\ytsma22c\\Google Drive\\Misc Work\\LOD paper\\LANL calculations\\models\\250-1000\\\n"
     ]
    }
   ],
   "source": [
    "instrument = input(\"What instrument was the data collected on? \")\n",
    "atm = input(\"What atmosphere was the data collected under? \")\n",
    "num_range = input(\"What range of random numbers were the models trained on? (0-750 or 250-1000)\")\n",
    "folder = input('Folder path containing models:')\n",
    "\n",
    "coefflist = os.listdir(folder)\n",
    "coeffs = []"
   ]
  },
  {
   "cell_type": "markdown",
   "id": "8b67f276",
   "metadata": {},
   "source": [
    "#### Read in model coefficients"
   ]
  },
  {
   "cell_type": "code",
   "execution_count": 13,
   "id": "2e136a34",
   "metadata": {},
   "outputs": [
    {
     "name": "stdout",
     "output_type": "stream",
     "text": [
      "Reading in models...\n"
     ]
    },
    {
     "data": {
      "application/vnd.jupyter.widget-view+json": {
       "model_id": "28f475a855a1441ea6444f48f4e97997",
       "version_major": 2,
       "version_minor": 0
      },
      "text/plain": [
       "  0%|          | 0/28 [00:00<?, ?it/s]"
      ]
     },
     "metadata": {},
     "output_type": "display_data"
    }
   ],
   "source": [
    "print(\"Reading in models...\")\n",
    "for file in tqdm(coefflist):\n",
    "    if \"_coeff\" in file:\n",
    "        #get path name        \n",
    "        path = (folder + file)\n",
    "        #read in file\n",
    "        data = pd.read_csv(path, skiprows = [0])\n",
    "        #merge together data\n",
    "        coeffs.append(data)\n",
    "\n",
    "# convert to dataframe\n",
    "coeffs = pd.concat(coeffs).T\n",
    "coeffs.columns = coeffs.iloc[0]\n",
    "coeffs = coeffs.drop(coeffs.index[0])"
   ]
  },
  {
   "cell_type": "markdown",
   "id": "ae9342ac",
   "metadata": {},
   "source": [
    "#### Calculate regression vectors"
   ]
  },
  {
   "cell_type": "code",
   "execution_count": 14,
   "id": "c6059ad1",
   "metadata": {},
   "outputs": [],
   "source": [
    "#square root of sum of squares\n",
    "vectors = coeffs.pow(2).sum().pow(.5)"
   ]
  },
  {
   "cell_type": "code",
   "execution_count": 15,
   "id": "c702cced",
   "metadata": {},
   "outputs": [
    {
     "data": {
      "text/plain": [
       "wavelength\n",
       "Li       17390.541725\n",
       "MnO          94.16936\n",
       "Na2O       222.684066\n",
       "Ni        2613.520623\n",
       "Pb         389.004579\n",
       "Rb        3630.195718\n",
       "SiO2       5296.17594\n",
       "Sr      143705.565467\n",
       "Zn        5094.189508\n",
       "dtype: object"
      ]
     },
     "execution_count": 15,
     "metadata": {},
     "output_type": "execute_result"
    }
   ],
   "source": [
    "vectors"
   ]
  },
  {
   "cell_type": "markdown",
   "id": "3b13ab6e",
   "metadata": {},
   "source": [
    "#### Assemble table"
   ]
  },
  {
   "cell_type": "code",
   "execution_count": 16,
   "id": "83e5a7ce",
   "metadata": {},
   "outputs": [],
   "source": [
    "# add data to table\n",
    "vals = vectors\n",
    "elem = coeffs.columns\n",
    "instr = [instrument] * len(vectors)\n",
    "atmos = [atm] * len(vectors)\n",
    "num = [num_range] * len(vectors)\n",
    "\n",
    "temp = pd.DataFrame({'element' : elem,\n",
    "                     'instrument' : instr,\n",
    "                     'atmosphere' : atmos,\n",
    "                     'num_range' : num,\n",
    "                     'vector' : vals\n",
    "}).reset_index(drop = True)"
   ]
  },
  {
   "cell_type": "markdown",
   "id": "af1c58a9",
   "metadata": {},
   "source": [
    "## Calculate LOB, LOD, LOQ\n",
    "\n",
    "- LOB = 1.645 * stdev * vector\n",
    "- LOD = 3.3 * stdev * vector\n",
    "- LOQ = 10 * stdev * vector\n",
    "\n",
    "Currently just using the pre-calculated `standard deviation` but can easily make a code for that too. The files just aren't in the best format for LANL right now"
   ]
  },
  {
   "cell_type": "markdown",
   "id": "294cfe6e",
   "metadata": {},
   "source": [
    "#### Assign standard deviation based on instrument and atmosphere"
   ]
  },
  {
   "cell_type": "code",
   "execution_count": 17,
   "id": "c0dfcf93",
   "metadata": {
    "scrolled": true
   },
   "outputs": [],
   "source": [
    "if instrument == 'LANL':\n",
    "    braga =  0.000245701982436336\n",
    "    metals = 0.0000919578459982072\n",
    "    \n",
    "if instrument == 'ChemLIBS':\n",
    "    if atm == 'Mars':\n",
    "        braga = 0.00028197645372017\n",
    "        metals = 0.000117639483634021\n",
    "        \n",
    "    elif atm == 'Earth':\n",
    "        braga = 0.000444867993101603\n",
    "        metals = 0.0000931716553399781\n",
    "    \n",
    "    else:\n",
    "        braga = 0.000417553099169204\n",
    "        metals = 0.000231951753003813"
   ]
  },
  {
   "cell_type": "code",
   "execution_count": 18,
   "id": "12fc25f2",
   "metadata": {},
   "outputs": [],
   "source": [
    "temp['LOB_Braga'] = 1.645 * braga * temp['vector']\n",
    "temp['LOB_metals'] = 1.645 * metals * temp['vector']\n",
    "temp['LOD_Braga'] = 3.3 * braga * temp['vector']\n",
    "temp['LOD_metals'] = 3.3 * metals * temp['vector']\n",
    "temp['LOQ_Braga'] = 10 * braga * temp['vector']\n",
    "temp['LOQ_metals'] = 10 * metals * temp['vector']"
   ]
  },
  {
   "cell_type": "markdown",
   "id": "da9a23de",
   "metadata": {},
   "source": [
    "### Add data to full table"
   ]
  },
  {
   "cell_type": "code",
   "execution_count": 19,
   "id": "12cb0e8f",
   "metadata": {},
   "outputs": [
    {
     "data": {
      "text/html": [
       "<div>\n",
       "<style scoped>\n",
       "    .dataframe tbody tr th:only-of-type {\n",
       "        vertical-align: middle;\n",
       "    }\n",
       "\n",
       "    .dataframe tbody tr th {\n",
       "        vertical-align: top;\n",
       "    }\n",
       "\n",
       "    .dataframe thead th {\n",
       "        text-align: right;\n",
       "    }\n",
       "</style>\n",
       "<table border=\"1\" class=\"dataframe\">\n",
       "  <thead>\n",
       "    <tr style=\"text-align: right;\">\n",
       "      <th></th>\n",
       "      <th>element</th>\n",
       "      <th>instrument</th>\n",
       "      <th>atmosphere</th>\n",
       "      <th>num_range</th>\n",
       "      <th>vector</th>\n",
       "      <th>LOB_Braga</th>\n",
       "      <th>LOB_metals</th>\n",
       "      <th>LOD_Braga</th>\n",
       "      <th>LOD_metals</th>\n",
       "      <th>LOQ_Braga</th>\n",
       "      <th>LOQ_metals</th>\n",
       "    </tr>\n",
       "  </thead>\n",
       "  <tbody>\n",
       "    <tr>\n",
       "      <th>0</th>\n",
       "      <td>Li</td>\n",
       "      <td>LANL</td>\n",
       "      <td>Mars</td>\n",
       "      <td>0-750</td>\n",
       "      <td>16847.896015</td>\n",
       "      <td>6.809579</td>\n",
       "      <td>2.548592</td>\n",
       "      <td>13.660553</td>\n",
       "      <td>5.112678</td>\n",
       "      <td>41.395615</td>\n",
       "      <td>15.492962</td>\n",
       "    </tr>\n",
       "    <tr>\n",
       "      <th>1</th>\n",
       "      <td>MnO</td>\n",
       "      <td>LANL</td>\n",
       "      <td>Mars</td>\n",
       "      <td>0-750</td>\n",
       "      <td>105.917171</td>\n",
       "      <td>0.04281</td>\n",
       "      <td>0.016022</td>\n",
       "      <td>0.085879</td>\n",
       "      <td>0.032142</td>\n",
       "      <td>0.260241</td>\n",
       "      <td>0.097399</td>\n",
       "    </tr>\n",
       "    <tr>\n",
       "      <th>2</th>\n",
       "      <td>Na2O</td>\n",
       "      <td>LANL</td>\n",
       "      <td>Mars</td>\n",
       "      <td>0-750</td>\n",
       "      <td>87.811505</td>\n",
       "      <td>0.035492</td>\n",
       "      <td>0.013283</td>\n",
       "      <td>0.071199</td>\n",
       "      <td>0.026647</td>\n",
       "      <td>0.215755</td>\n",
       "      <td>0.08075</td>\n",
       "    </tr>\n",
       "    <tr>\n",
       "      <th>3</th>\n",
       "      <td>Ni</td>\n",
       "      <td>LANL</td>\n",
       "      <td>Mars</td>\n",
       "      <td>0-750</td>\n",
       "      <td>9365.656646</td>\n",
       "      <td>3.785409</td>\n",
       "      <td>1.416749</td>\n",
       "      <td>7.593829</td>\n",
       "      <td>2.842111</td>\n",
       "      <td>23.011604</td>\n",
       "      <td>8.612456</td>\n",
       "    </tr>\n",
       "    <tr>\n",
       "      <th>4</th>\n",
       "      <td>Pb</td>\n",
       "      <td>LANL</td>\n",
       "      <td>Mars</td>\n",
       "      <td>0-750</td>\n",
       "      <td>545.51039</td>\n",
       "      <td>0.220484</td>\n",
       "      <td>0.08252</td>\n",
       "      <td>0.442309</td>\n",
       "      <td>0.165541</td>\n",
       "      <td>1.34033</td>\n",
       "      <td>0.50164</td>\n",
       "    </tr>\n",
       "    <tr>\n",
       "      <th>5</th>\n",
       "      <td>Rb</td>\n",
       "      <td>LANL</td>\n",
       "      <td>Mars</td>\n",
       "      <td>0-750</td>\n",
       "      <td>4130.686778</td>\n",
       "      <td>1.66954</td>\n",
       "      <td>0.624852</td>\n",
       "      <td>3.349229</td>\n",
       "      <td>1.253502</td>\n",
       "      <td>10.149179</td>\n",
       "      <td>3.798491</td>\n",
       "    </tr>\n",
       "    <tr>\n",
       "      <th>6</th>\n",
       "      <td>SiO2</td>\n",
       "      <td>LANL</td>\n",
       "      <td>Mars</td>\n",
       "      <td>0-750</td>\n",
       "      <td>6042.267236</td>\n",
       "      <td>2.442162</td>\n",
       "      <td>0.914018</td>\n",
       "      <td>4.89917</td>\n",
       "      <td>1.833592</td>\n",
       "      <td>14.84597</td>\n",
       "      <td>5.556339</td>\n",
       "    </tr>\n",
       "    <tr>\n",
       "      <th>7</th>\n",
       "      <td>Sr</td>\n",
       "      <td>LANL</td>\n",
       "      <td>Mars</td>\n",
       "      <td>0-750</td>\n",
       "      <td>136934.920031</td>\n",
       "      <td>55.346323</td>\n",
       "      <td>20.714235</td>\n",
       "      <td>111.029098</td>\n",
       "      <td>41.554393</td>\n",
       "      <td>336.451813</td>\n",
       "      <td>125.922403</td>\n",
       "    </tr>\n",
       "    <tr>\n",
       "      <th>8</th>\n",
       "      <td>Zn</td>\n",
       "      <td>LANL</td>\n",
       "      <td>Mars</td>\n",
       "      <td>0-750</td>\n",
       "      <td>2907.307083</td>\n",
       "      <td>1.175075</td>\n",
       "      <td>0.43979</td>\n",
       "      <td>2.357293</td>\n",
       "      <td>0.882254</td>\n",
       "      <td>7.143311</td>\n",
       "      <td>2.673497</td>\n",
       "    </tr>\n",
       "    <tr>\n",
       "      <th>9</th>\n",
       "      <td>Li</td>\n",
       "      <td>LANL</td>\n",
       "      <td>Mars</td>\n",
       "      <td>250-1000</td>\n",
       "      <td>17390.541725</td>\n",
       "      <td>7.028905</td>\n",
       "      <td>2.630679</td>\n",
       "      <td>14.100539</td>\n",
       "      <td>5.277349</td>\n",
       "      <td>42.728906</td>\n",
       "      <td>15.991968</td>\n",
       "    </tr>\n",
       "    <tr>\n",
       "      <th>10</th>\n",
       "      <td>MnO</td>\n",
       "      <td>LANL</td>\n",
       "      <td>Mars</td>\n",
       "      <td>250-1000</td>\n",
       "      <td>94.16936</td>\n",
       "      <td>0.038061</td>\n",
       "      <td>0.014245</td>\n",
       "      <td>0.076354</td>\n",
       "      <td>0.028577</td>\n",
       "      <td>0.231376</td>\n",
       "      <td>0.086596</td>\n",
       "    </tr>\n",
       "    <tr>\n",
       "      <th>11</th>\n",
       "      <td>Na2O</td>\n",
       "      <td>LANL</td>\n",
       "      <td>Mars</td>\n",
       "      <td>250-1000</td>\n",
       "      <td>222.684066</td>\n",
       "      <td>0.090004</td>\n",
       "      <td>0.033686</td>\n",
       "      <td>0.180556</td>\n",
       "      <td>0.067576</td>\n",
       "      <td>0.547139</td>\n",
       "      <td>0.204775</td>\n",
       "    </tr>\n",
       "    <tr>\n",
       "      <th>12</th>\n",
       "      <td>Ni</td>\n",
       "      <td>LANL</td>\n",
       "      <td>Mars</td>\n",
       "      <td>250-1000</td>\n",
       "      <td>2613.520623</td>\n",
       "      <td>1.056332</td>\n",
       "      <td>0.395349</td>\n",
       "      <td>2.119086</td>\n",
       "      <td>0.793101</td>\n",
       "      <td>6.421472</td>\n",
       "      <td>2.403337</td>\n",
       "    </tr>\n",
       "    <tr>\n",
       "      <th>13</th>\n",
       "      <td>Pb</td>\n",
       "      <td>LANL</td>\n",
       "      <td>Mars</td>\n",
       "      <td>250-1000</td>\n",
       "      <td>389.004579</td>\n",
       "      <td>0.157228</td>\n",
       "      <td>0.058845</td>\n",
       "      <td>0.315411</td>\n",
       "      <td>0.118048</td>\n",
       "      <td>0.955792</td>\n",
       "      <td>0.35772</td>\n",
       "    </tr>\n",
       "    <tr>\n",
       "      <th>14</th>\n",
       "      <td>Rb</td>\n",
       "      <td>LANL</td>\n",
       "      <td>Mars</td>\n",
       "      <td>250-1000</td>\n",
       "      <td>3630.195718</td>\n",
       "      <td>1.467252</td>\n",
       "      <td>0.549142</td>\n",
       "      <td>2.943423</td>\n",
       "      <td>1.101622</td>\n",
       "      <td>8.919463</td>\n",
       "      <td>3.33825</td>\n",
       "    </tr>\n",
       "    <tr>\n",
       "      <th>15</th>\n",
       "      <td>SiO2</td>\n",
       "      <td>LANL</td>\n",
       "      <td>Mars</td>\n",
       "      <td>250-1000</td>\n",
       "      <td>5296.17594</td>\n",
       "      <td>2.140607</td>\n",
       "      <td>0.801156</td>\n",
       "      <td>4.294227</td>\n",
       "      <td>1.607182</td>\n",
       "      <td>13.012809</td>\n",
       "      <td>4.870249</td>\n",
       "    </tr>\n",
       "    <tr>\n",
       "      <th>16</th>\n",
       "      <td>Sr</td>\n",
       "      <td>LANL</td>\n",
       "      <td>Mars</td>\n",
       "      <td>250-1000</td>\n",
       "      <td>143705.565467</td>\n",
       "      <td>58.082881</td>\n",
       "      <td>21.738435</td>\n",
       "      <td>116.51885</td>\n",
       "      <td>43.609019</td>\n",
       "      <td>353.087423</td>\n",
       "      <td>132.148543</td>\n",
       "    </tr>\n",
       "    <tr>\n",
       "      <th>17</th>\n",
       "      <td>Zn</td>\n",
       "      <td>LANL</td>\n",
       "      <td>Mars</td>\n",
       "      <td>250-1000</td>\n",
       "      <td>5094.189508</td>\n",
       "      <td>2.058968</td>\n",
       "      <td>0.770601</td>\n",
       "      <td>4.130453</td>\n",
       "      <td>1.545887</td>\n",
       "      <td>12.516525</td>\n",
       "      <td>4.684507</td>\n",
       "    </tr>\n",
       "  </tbody>\n",
       "</table>\n",
       "</div>"
      ],
      "text/plain": [
       "   element instrument atmosphere num_range         vector  LOB_Braga  \\\n",
       "0       Li       LANL       Mars     0-750   16847.896015   6.809579   \n",
       "1      MnO       LANL       Mars     0-750     105.917171    0.04281   \n",
       "2     Na2O       LANL       Mars     0-750      87.811505   0.035492   \n",
       "3       Ni       LANL       Mars     0-750    9365.656646   3.785409   \n",
       "4       Pb       LANL       Mars     0-750      545.51039   0.220484   \n",
       "5       Rb       LANL       Mars     0-750    4130.686778    1.66954   \n",
       "6     SiO2       LANL       Mars     0-750    6042.267236   2.442162   \n",
       "7       Sr       LANL       Mars     0-750  136934.920031  55.346323   \n",
       "8       Zn       LANL       Mars     0-750    2907.307083   1.175075   \n",
       "9       Li       LANL       Mars  250-1000   17390.541725   7.028905   \n",
       "10     MnO       LANL       Mars  250-1000       94.16936   0.038061   \n",
       "11    Na2O       LANL       Mars  250-1000     222.684066   0.090004   \n",
       "12      Ni       LANL       Mars  250-1000    2613.520623   1.056332   \n",
       "13      Pb       LANL       Mars  250-1000     389.004579   0.157228   \n",
       "14      Rb       LANL       Mars  250-1000    3630.195718   1.467252   \n",
       "15    SiO2       LANL       Mars  250-1000     5296.17594   2.140607   \n",
       "16      Sr       LANL       Mars  250-1000  143705.565467  58.082881   \n",
       "17      Zn       LANL       Mars  250-1000    5094.189508   2.058968   \n",
       "\n",
       "   LOB_metals   LOD_Braga LOD_metals   LOQ_Braga  LOQ_metals  \n",
       "0    2.548592   13.660553   5.112678   41.395615   15.492962  \n",
       "1    0.016022    0.085879   0.032142    0.260241    0.097399  \n",
       "2    0.013283    0.071199   0.026647    0.215755     0.08075  \n",
       "3    1.416749    7.593829   2.842111   23.011604    8.612456  \n",
       "4     0.08252    0.442309   0.165541     1.34033     0.50164  \n",
       "5    0.624852    3.349229   1.253502   10.149179    3.798491  \n",
       "6    0.914018     4.89917   1.833592    14.84597    5.556339  \n",
       "7   20.714235  111.029098  41.554393  336.451813  125.922403  \n",
       "8     0.43979    2.357293   0.882254    7.143311    2.673497  \n",
       "9    2.630679   14.100539   5.277349   42.728906   15.991968  \n",
       "10   0.014245    0.076354   0.028577    0.231376    0.086596  \n",
       "11   0.033686    0.180556   0.067576    0.547139    0.204775  \n",
       "12   0.395349    2.119086   0.793101    6.421472    2.403337  \n",
       "13   0.058845    0.315411   0.118048    0.955792     0.35772  \n",
       "14   0.549142    2.943423   1.101622    8.919463     3.33825  \n",
       "15   0.801156    4.294227   1.607182   13.012809    4.870249  \n",
       "16  21.738435   116.51885  43.609019  353.087423  132.148543  \n",
       "17   0.770601    4.130453   1.545887   12.516525    4.684507  "
      ]
     },
     "metadata": {},
     "output_type": "display_data"
    }
   ],
   "source": [
    "full_table = full_table.append(temp)\n",
    "full_table.reset_index(drop=True, inplace = True)\n",
    "display(full_table)"
   ]
  },
  {
   "cell_type": "markdown",
   "id": "15fc361f",
   "metadata": {},
   "source": [
    "### Export full vector table"
   ]
  },
  {
   "cell_type": "code",
   "execution_count": 20,
   "id": "38833028",
   "metadata": {},
   "outputs": [],
   "source": [
    "epath = \"C:\\\\Users\\\\ytsma22c\\\\Google Drive\\\\Misc Work\\\\LOD paper\\\\results.csv\"\n",
    "full_table.to_csv(epath, index=False)"
   ]
  },
  {
   "cell_type": "code",
   "execution_count": null,
   "id": "35838d55",
   "metadata": {},
   "outputs": [],
   "source": []
  }
 ],
 "metadata": {
  "kernelspec": {
   "display_name": "Python 3",
   "language": "python",
   "name": "python3"
  },
  "language_info": {
   "codemirror_mode": {
    "name": "ipython",
    "version": 3
   },
   "file_extension": ".py",
   "mimetype": "text/x-python",
   "name": "python",
   "nbconvert_exporter": "python",
   "pygments_lexer": "ipython3",
   "version": "3.8.8"
  }
 },
 "nbformat": 4,
 "nbformat_minor": 5
}
