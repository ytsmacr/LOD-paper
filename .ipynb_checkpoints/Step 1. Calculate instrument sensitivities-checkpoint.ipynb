{
 "cells": [
  {
   "cell_type": "code",
   "execution_count": 10,
   "id": "59388e33",
   "metadata": {},
   "outputs": [],
   "source": [
    "import pandas as pd\n",
    "from tqdm.notebook import tqdm\n",
    "import numpy as np\n",
    "import os\n",
    "\n",
    "fp = \"G:\\\\My Drive\\\\Darby Work\\\\Ytsma and Dyar 2021 (LOD paper)\\\\\""
   ]
  },
  {
   "cell_type": "markdown",
   "id": "ba9a26a0",
   "metadata": {},
   "source": [
    "### Braga method"
   ]
  },
  {
   "cell_type": "code",
   "execution_count": 2,
   "id": "50151b7b",
   "metadata": {},
   "outputs": [],
   "source": [
    "# define blank/noise regions in ChemLIBS and ChemCam spectra\n",
    "blank_braga = pd.read_csv(fp + \"figures\\\\braga_noise_regions.csv\") \n",
    "\n",
    "# import all spectra\n",
    "cl_earth = pd.read_csv(fp + \"CL_all_Earth_spectra.csv\")\n",
    "cl_mars = pd.read_csv(fp + \"CL_all_Mars_spectra.csv\")\n",
    "cl_vacuum = pd.read_csv(fp + \"CL_all_Vacuum_spectra.csv\")\n",
    "cc_mars = pd.read_csv(fp + \"CC_all_Mars_spectra.csv\")"
   ]
  },
  {
   "cell_type": "code",
   "execution_count": 3,
   "id": "ded23c24",
   "metadata": {},
   "outputs": [
    {
     "data": {
      "application/vnd.jupyter.widget-view+json": {
       "model_id": "c3726ea46c074093a6dbf93042284287",
       "version_major": 2,
       "version_minor": 0
      },
      "text/plain": [
       "  0%|          | 0/5485 [00:00<?, ?it/s]"
      ]
     },
     "metadata": {},
     "output_type": "display_data"
    },
    {
     "data": {
      "application/vnd.jupyter.widget-view+json": {
       "model_id": "582117de35314d699e75a92bd788b009",
       "version_major": 2,
       "version_minor": 0
      },
      "text/plain": [
       "  0%|          | 0/5485 [00:00<?, ?it/s]"
      ]
     },
     "metadata": {},
     "output_type": "display_data"
    },
    {
     "data": {
      "application/vnd.jupyter.widget-view+json": {
       "model_id": "293029fe6f354e939ad0e44e18697199",
       "version_major": 2,
       "version_minor": 0
      },
      "text/plain": [
       "  0%|          | 0/5485 [00:00<?, ?it/s]"
      ]
     },
     "metadata": {},
     "output_type": "display_data"
    },
    {
     "data": {
      "application/vnd.jupyter.widget-view+json": {
       "model_id": "254a482636984dc884af5b71b2dcadfb",
       "version_major": 2,
       "version_minor": 0
      },
      "text/plain": [
       "  0%|          | 0/5485 [00:00<?, ?it/s]"
      ]
     },
     "metadata": {},
     "output_type": "display_data"
    }
   ],
   "source": [
    "# filter regions\n",
    "df_list = [cc_mars, cl_earth, cl_mars, cl_vacuum]\n",
    "\n",
    "for df in df_list:\n",
    "    for row in tqdm(df.index):\n",
    "        nm = df['wave'][row]\n",
    "        # remove rows below first region\n",
    "        if nm < blank_braga['start'][0]:\n",
    "            df.drop(row, axis = 'index', inplace=True)\n",
    "        # remove rows after last region\n",
    "        elif nm > blank_braga['stop'][len(blank_braga)-1]:\n",
    "            df.drop(row, axis = 'index', inplace=True)\n",
    "        # remove rows between the regions\n",
    "        for region in range(len(blank_braga)-1):\n",
    "            if (nm > blank_braga['stop'][region]) & (nm < blank_braga['start'][region+1]):\n",
    "                df.drop(row, axis = 'index', inplace=True)"
   ]
  },
  {
   "cell_type": "code",
   "execution_count": 4,
   "id": "2205fab4",
   "metadata": {},
   "outputs": [],
   "source": [
    "# summarise stdev across each row, take average\n",
    "cc_mars_sens = round(cc_mars.set_index('wave').std(axis=1).mean(),9)\n",
    "cl_mars_sens = round(cl_mars.set_index('wave').std(axis=1).mean(),9)\n",
    "cl_earth_sens = round(cl_earth.set_index('wave').std(axis=1).mean(),9)\n",
    "cl_vacuum_sens = round(cl_vacuum.set_index('wave').std(axis=1).mean(),9)\n",
    "\n",
    "sens_list = [cc_mars_sens, cl_mars_sens, cl_earth_sens, cl_vacuum_sens]\n",
    "inst_list = [\"LANL\", 'ChemLIBS', 'ChemLIBS', 'ChemLIBS']\n",
    "atm_list = [\"Mars\", \"Mars\", \"Earth\", \"Vacuum\"]\n",
    "\n",
    "# make dataframe\n",
    "braga_sensitivities = pd.DataFrame({\n",
    "    \"instrument\" : inst_list,\n",
    "    \"atmosphere\" : atm_list,\n",
    "    \"sensitivity\" : sens_list\n",
    "})"
   ]
  },
  {
   "cell_type": "markdown",
   "id": "5e43f968",
   "metadata": {},
   "source": [
    "### Metals method\n",
    "#### ChemLIBS"
   ]
  },
  {
   "cell_type": "code",
   "execution_count": 5,
   "id": "f73b75cf",
   "metadata": {},
   "outputs": [],
   "source": [
    "cl_data = pd.read_excel(fp + \"ChemLIBS calculations\\\\background_metals_030421.xlsx\", sheet_name = None)"
   ]
  },
  {
   "cell_type": "code",
   "execution_count": 8,
   "id": "c0b1777e",
   "metadata": {},
   "outputs": [],
   "source": [
    "sheet_list = np.arange(start = 1, stop = len(cl_data))\n",
    "\n",
    "element_list = []\n",
    "atm_list = []\n",
    "sens_list = []\n",
    "\n",
    "for sheet in sheet_list:\n",
    "    # get relevant info\n",
    "    name = list(cl_data.keys())[sheet]\n",
    "    element = name.split(\"_\")[0]\n",
    "    atmosphere = name.split(\"_\")[1]\n",
    "    \n",
    "    # drop unneeded columns and rows\n",
    "    cl_data[name].drop(cl_data[name].columns[[0,1]], axis=1, inplace=True)\n",
    "    cl_data[name].drop(cl_data[name].index[[0]], inplace=True)\n",
    "    \n",
    "    # calculate sensitivity\n",
    "    sensitivity = round(cl_data[name].std(axis=1).mean(),9)\n",
    "\n",
    "    # add to list\n",
    "    element_list.append(element)\n",
    "    atm_list.append(atmosphere)\n",
    "    sens_list.append(sensitivity)\n",
    "\n",
    "# make dataframe of all results\n",
    "mhc_sens_df = pd.DataFrame({\n",
    "    \"element\" : element_list,\n",
    "    \"atmosphere\" : atm_list,\n",
    "    \"sensitivity\" : sens_list\n",
    "})\n",
    "\n",
    "# get average for MHC metals method\n",
    "mhc_mars_metal_sens = round(mhc_sens_df[mhc_sens_df['atmosphere'] == 'Mars']['sensitivity'].mean(), 9)\n",
    "mhc_earth_metal_sens = round(mhc_sens_df[mhc_sens_df['atmosphere'] == 'Earth']['sensitivity'].mean(), 9)\n",
    "mhc_vac_metal_sens = round(mhc_sens_df[mhc_sens_df['atmosphere'] == 'Vac']['sensitivity'].mean(), 9)"
   ]
  },
  {
   "cell_type": "markdown",
   "id": "0dc9694a",
   "metadata": {},
   "source": [
    "#### LANL"
   ]
  },
  {
   "cell_type": "code",
   "execution_count": null,
   "id": "2d7bfeeb",
   "metadata": {},
   "outputs": [],
   "source": [
    "# read in LANL blank spectra\n",
    "folder = fp + \"LANL calculations\\\\metals background\\\\norm\\\\\"\n",
    "spectra_list = os.listdir(folder)[:9]\n",
    "spectra = {}\n",
    "sheet_list = [1,2,3,4]\n",
    "\n",
    "blank_list = []\n",
    "spectrum_n = []\n",
    "sens_list = []\n",
    "\n",
    "for file in spectra_list:\n",
    "    # read data\n",
    "    path = (folder + \"\\\\\" + file)\n",
    "    name = file.split(\"_\")[0] + \"_\" + file.split(\"_\")[1]\n",
    "    spectra[name] = pd.read_excel(path, sheet_name = sheet_list)\n",
    "    \n",
    "    for sheet in sheet_list:\n",
    "        # remove extra columns for when I calculated by hand\n",
    "        spectra[name][sheet].drop(spectra[name][sheet].columns[[0,1,2]], axis=1, inplace=True)\n",
    "        \n",
    "        # calculate sensitivity\n",
    "        sensitivity = round(spectra[name][sheet].std(axis=1).mean(),9)\n",
    "        \n",
    "        # add to list\n",
    "        blank_list.append(name)\n",
    "        spectrum_n.append(sheet)\n",
    "        sens_list.append(sensitivity)\n",
    "        \n",
    "# make dataframe of all results\n",
    "lanl_sens_df = pd.DataFrame({\n",
    "    \"blank\" : blank_list,\n",
    "    \"spectrum\" : spectrum_n,\n",
    "    \"sensitivity\" : sens_list\n",
    "})\n",
    "\n",
    "# get average for LANL metals method\n",
    "lanl_metal_sens = round(lanl_sens_df['sensitivity'].mean(),9)"
   ]
  },
  {
   "cell_type": "code",
   "execution_count": null,
   "id": "9dd96f99",
   "metadata": {},
   "outputs": [],
   "source": [
    "sens_list = [lanl_metal_sens, mhc_mars_metal_sens, mhc_earth_metal_sens, mhc_vac_metal_sens]\n",
    "inst_list = [\"LANL\", 'ChemLIBS', 'ChemLIBS', 'ChemLIBS']\n",
    "atm_list = [\"Mars\", \"Mars\", \"Earth\", \"Vacuum\"]\n",
    "\n",
    "# make dataframe\n",
    "metals_sensitivities = pd.DataFrame({\n",
    "    \"instrument\" : inst_list,\n",
    "    \"atmosphere\" : atm_list,\n",
    "    \"sensitivity\" : sens_list\n",
    "})"
   ]
  },
  {
   "cell_type": "markdown",
   "id": "34e5e894",
   "metadata": {},
   "source": [
    "Combine results"
   ]
  },
  {
   "cell_type": "code",
   "execution_count": null,
   "id": "63992f8c",
   "metadata": {},
   "outputs": [],
   "source": [
    "metals_sensitivities['method'] = \"metals\"\n",
    "braga_sensitivities['method'] = \"braga\"\n",
    "\n",
    "sensitivities = pd.concat([metals_sensitivities, braga_sensitivities]).reset_index(drop=True)"
   ]
  },
  {
   "cell_type": "code",
   "execution_count": null,
   "id": "0d386415",
   "metadata": {},
   "outputs": [],
   "source": [
    "sensitivities.to_csv(fp+'instrument_sensitivities.csv', index=False)"
   ]
  }
 ],
 "metadata": {
  "kernelspec": {
   "display_name": "Python 3 (ipykernel)",
   "language": "python",
   "name": "python3"
  },
  "language_info": {
   "codemirror_mode": {
    "name": "ipython",
    "version": 3
   },
   "file_extension": ".py",
   "mimetype": "text/x-python",
   "name": "python",
   "nbconvert_exporter": "python",
   "pygments_lexer": "ipython3",
   "version": "3.8.8"
  }
 },
 "nbformat": 4,
 "nbformat_minor": 5
}
