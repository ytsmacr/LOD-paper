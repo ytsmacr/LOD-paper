{
 "cells": [
  {
   "cell_type": "code",
   "execution_count": 1,
   "id": "5175712d",
   "metadata": {},
   "outputs": [
    {
     "name": "stdout",
     "output_type": "stream",
     "text": [
      "pandas version 1.3.2\n",
      "NumPy version 1.20.3\n",
      "scikit-learn version 0.24.2\n"
     ]
    }
   ],
   "source": [
    "import os\n",
    "import pandas as pd\n",
    "import numpy as np\n",
    "from tqdm.notebook import tqdm\n",
    "from sklearn.metrics import r2_score\n",
    "import sklearn\n",
    "import requests\n",
    "import re\n",
    "from io import StringIO\n",
    "\n",
    "# get versions\n",
    "print(\"pandas version\",pd.__version__)\n",
    "print(\"NumPy version\",np.__version__)\n",
    "print(\"scikit-learn version\",sklearn.__version__)\n",
    "\n",
    "fp = \"G:\\\\My Drive\\\\Darby Work\\\\Ytsma and Dyar 2021 (LOD paper)\\\\\""
   ]
  },
  {
   "cell_type": "markdown",
   "id": "aec51b8b",
   "metadata": {},
   "source": [
    "#### Compositions and reference keys"
   ]
  },
  {
   "cell_type": "code",
   "execution_count": 2,
   "id": "974ccacb",
   "metadata": {},
   "outputs": [],
   "source": [
    "# generate comps\n",
    "comps_path = fp + \"tables\\\\TableS1_sample_compositions.xlsx\"\n",
    "lanl_comps = pd.read_excel(comps_path, sheet_name = \"LANL\")\n",
    "mhc_comps = pd.read_excel(comps_path, sheet_name = \"MHC\")\n",
    "comps = pd.merge(mhc_comps, lanl_comps, how = \"outer\") # merge comps\n",
    "comps.columns = comps.columns.map(lambda x: x.split()[0])\n",
    "comps = comps.drop_duplicates(subset = 'Sample') # remove duplicates\n",
    "comps['Sample'] = comps['Sample'].astype(str)\n",
    "comps = comps.sort_values(by='Sample')\n",
    "comps = comps.replace(np.nan, \"\", regex=True)\n",
    "cols = comps.columns.drop('Sample')\n",
    "comps[cols] = comps[cols].apply(pd.to_numeric) # make columns numeric\n",
    "\n",
    "# make dictionary of spectrum names to sample names\n",
    "key_path = fp + \"ChemLIBS_spectrum_no_to_name.csv\"\n",
    "mhc_key = pd.read_csv(key_path)\n",
    "mhc_key = pd.Series(mhc_key.Sample.values, index=mhc_key.pkey).to_dict()"
   ]
  },
  {
   "cell_type": "markdown",
   "id": "325ddff1",
   "metadata": {},
   "source": [
    "## Calculate sensitivities\n",
    "### Braga method"
   ]
  },
  {
   "cell_type": "code",
   "execution_count": 3,
   "id": "f26857ef",
   "metadata": {},
   "outputs": [],
   "source": [
    "# define blank/noise regions in ChemLIBS and ChemCam spectra\n",
    "blank_braga = pd.read_csv(fp + \"figures\\\\braga_noise_regions.csv\") \n",
    "\n",
    "# import all spectra\n",
    "cl_earth = pd.read_csv(fp + \"CL_all_Earth_spectra.csv\")\n",
    "cl_mars = pd.read_csv(fp + \"CL_all_Mars_spectra.csv\")\n",
    "cl_vacuum = pd.read_csv(fp + \"CL_all_Vacuum_spectra.csv\")\n",
    "cc_mars = pd.read_csv(fp + \"CC_all_Mars_spectra.csv\")"
   ]
  },
  {
   "cell_type": "code",
   "execution_count": 4,
   "id": "f5e990aa",
   "metadata": {},
   "outputs": [
    {
     "name": "stdout",
     "output_type": "stream",
     "text": [
      "Datasets cleaned:\n"
     ]
    },
    {
     "data": {
      "application/vnd.jupyter.widget-view+json": {
       "model_id": "b7c9cb96c2cf4189b981f0acf6497af2",
       "version_major": 2,
       "version_minor": 0
      },
      "text/plain": [
       "  0%|          | 0/4 [00:00<?, ?it/s]"
      ]
     },
     "metadata": {},
     "output_type": "display_data"
    },
    {
     "name": "stdout",
     "output_type": "stream",
     "text": [
      "Rows cleaned:\n"
     ]
    },
    {
     "data": {
      "application/vnd.jupyter.widget-view+json": {
       "model_id": "98ab0c4fe31d40b69f492c96ed02dbd1",
       "version_major": 2,
       "version_minor": 0
      },
      "text/plain": [
       "  0%|          | 0/5485 [00:00<?, ?it/s]"
      ]
     },
     "metadata": {},
     "output_type": "display_data"
    },
    {
     "name": "stdout",
     "output_type": "stream",
     "text": [
      "Rows cleaned:\n"
     ]
    },
    {
     "data": {
      "application/vnd.jupyter.widget-view+json": {
       "model_id": "f3d75f849b794418ae9dea3cb4f4defa",
       "version_major": 2,
       "version_minor": 0
      },
      "text/plain": [
       "  0%|          | 0/5485 [00:00<?, ?it/s]"
      ]
     },
     "metadata": {},
     "output_type": "display_data"
    },
    {
     "name": "stdout",
     "output_type": "stream",
     "text": [
      "Rows cleaned:\n"
     ]
    },
    {
     "data": {
      "application/vnd.jupyter.widget-view+json": {
       "model_id": "8d12e6d3cdb1457aa70dc429c08995c9",
       "version_major": 2,
       "version_minor": 0
      },
      "text/plain": [
       "  0%|          | 0/5485 [00:00<?, ?it/s]"
      ]
     },
     "metadata": {},
     "output_type": "display_data"
    },
    {
     "name": "stdout",
     "output_type": "stream",
     "text": [
      "Rows cleaned:\n"
     ]
    },
    {
     "data": {
      "application/vnd.jupyter.widget-view+json": {
       "model_id": "dd68f31944f041f28e10e65e4ee5be02",
       "version_major": 2,
       "version_minor": 0
      },
      "text/plain": [
       "  0%|          | 0/5485 [00:00<?, ?it/s]"
      ]
     },
     "metadata": {},
     "output_type": "display_data"
    }
   ],
   "source": [
    "df_list = [cc_mars, cl_earth, cl_mars, cl_vacuum]\n",
    "\n",
    "print(\"Datasets cleaned:\")\n",
    "for df in tqdm(df_list):\n",
    "    print(\"Rows cleaned:\")\n",
    "    for row in tqdm(df.index):\n",
    "        nm = df['wave'][row]\n",
    "        # remove rows below first region\n",
    "        if nm < blank_braga['start'][0]:\n",
    "            df.drop(row, axis = 'index', inplace=True)\n",
    "        # remove rows after last region\n",
    "        elif nm > blank_braga['stop'][len(blank_braga)-1]:\n",
    "            df.drop(row, axis = 'index', inplace=True)\n",
    "        # remove rows between the regions\n",
    "        for region in range(len(blank_braga)-1):\n",
    "            if (nm > blank_braga['stop'][region]) & (nm < blank_braga['start'][region+1]):\n",
    "                df.drop(row, axis = 'index', inplace=True)"
   ]
  },
  {
   "cell_type": "code",
   "execution_count": 5,
   "id": "698f9683",
   "metadata": {},
   "outputs": [],
   "source": [
    "# summarise stdev across each row, take average\n",
    "cc_mars_sens = round(cc_mars.set_index('wave').std(axis=1).mean(),9)\n",
    "cl_mars_sens = round(cl_mars.set_index('wave').std(axis=1).mean(),9)\n",
    "cl_earth_sens = round(cl_earth.set_index('wave').std(axis=1).mean(),9)\n",
    "cl_vacuum_sens = round(cl_vacuum.set_index('wave').std(axis=1).mean(),9)\n",
    "\n",
    "sens_list = [cc_mars_sens, cl_mars_sens, cl_earth_sens, cl_vacuum_sens]\n",
    "inst_list = [\"LANL\", 'ChemLIBS', 'ChemLIBS', 'ChemLIBS']\n",
    "atm_list = [\"Mars\", \"Mars\", \"Earth\", \"Vacuum\"]\n",
    "\n",
    "# make dataframe\n",
    "braga_sensitivities = pd.DataFrame({\n",
    "    \"instrument\" : inst_list,\n",
    "    \"atmosphere\" : atm_list,\n",
    "    \"sensitivity\" : sens_list\n",
    "})"
   ]
  },
  {
   "cell_type": "markdown",
   "id": "daba897c",
   "metadata": {},
   "source": [
    "### Metals method\n",
    "#### LANL"
   ]
  },
  {
   "cell_type": "code",
   "execution_count": 6,
   "id": "5bbb1afb",
   "metadata": {},
   "outputs": [
    {
     "data": {
      "application/vnd.jupyter.widget-view+json": {
       "model_id": "aa4f61aa8ebf419195958222dffa0d96",
       "version_major": 2,
       "version_minor": 0
      },
      "text/plain": [
       "  0%|          | 0/9 [00:00<?, ?it/s]"
      ]
     },
     "metadata": {},
     "output_type": "display_data"
    },
    {
     "name": "stdout",
     "output_type": "stream",
     "text": [
      "Calculating for sample 0-1_TiO2\n",
      "Calculating for sample 1_TiO2\n",
      "Calculating for sample 10_TiO2\n",
      "Calculating for sample 25_TiO2\n",
      "Calculating for sample 5_TiO2\n",
      "Calculating for sample 7_TiO2\n",
      "Calculating for sample 75_TiO2\n",
      "Calculating for sample 3_TiO2\n",
      "Calculating for sample 50_TiO2\n"
     ]
    }
   ],
   "source": [
    "# read in LANL blank spectra\n",
    "folder = fp + \"LANL calculations\\\\metals background\\\\norm\\\\\"\n",
    "spectra_list = os.listdir(folder)[:9]\n",
    "spectra = {}\n",
    "sheet_list = [1,2,3,4]\n",
    "\n",
    "blank_list = []\n",
    "spectrum_n = []\n",
    "sens_list = []\n",
    "\n",
    "for file in tqdm(spectra_list):\n",
    "    # read data\n",
    "    path = (folder + \"\\\\\" + file)\n",
    "    name = file.split(\"_\")[0] + \"_\" + file.split(\"_\")[1]\n",
    "    print(\"\\rCalculating for sample\", name)\n",
    "    spectra[name] = pd.read_excel(path, sheet_name = sheet_list)\n",
    "    \n",
    "    for sheet in sheet_list:\n",
    "        # remove extra columns for when I calculated by hand\n",
    "        spectra[name][sheet].drop(spectra[name][sheet].columns[[0,1,2]], axis=1, inplace=True)\n",
    "        \n",
    "        # calculate sensitivity\n",
    "        sensitivity = round(spectra[name][sheet].std(axis=1).mean(),9)\n",
    "        \n",
    "        # add to list\n",
    "        blank_list.append(name)\n",
    "        spectrum_n.append(sheet)\n",
    "        sens_list.append(sensitivity)\n",
    "        \n",
    "# make dataframe of all results\n",
    "lanl_sens_df = pd.DataFrame({\n",
    "    \"blank\" : blank_list,\n",
    "    \"spectrum\" : spectrum_n,\n",
    "    \"sensitivity\" : sens_list\n",
    "})\n",
    "\n",
    "# get average for LANL metals method\n",
    "lanl_metal_sens = round(lanl_sens_df['sensitivity'].mean(),9)"
   ]
  },
  {
   "cell_type": "markdown",
   "id": "9f32764b",
   "metadata": {},
   "source": [
    "#### ChemLIBS"
   ]
  },
  {
   "cell_type": "code",
   "execution_count": 7,
   "id": "8ad305a7",
   "metadata": {},
   "outputs": [],
   "source": [
    "cl_data = pd.read_excel(fp + \"ChemLIBS calculations\\\\background_metals_030421.xlsx\", sheet_name = None)"
   ]
  },
  {
   "cell_type": "code",
   "execution_count": 8,
   "id": "cc691924",
   "metadata": {},
   "outputs": [],
   "source": [
    "sheet_list = np.arange(start = 1, stop = len(cl_data))\n",
    "\n",
    "element_list = []\n",
    "atm_list = []\n",
    "sens_list = []\n",
    "\n",
    "for sheet in sheet_list:\n",
    "    # get relevant info\n",
    "    name = list(cl_data.keys())[sheet]\n",
    "    element = name.split(\"_\")[0]\n",
    "    atmosphere = name.split(\"_\")[1]\n",
    "    \n",
    "    # drop unneeded columns and rows\n",
    "    cl_data[name].drop(cl_data[name].columns[[0,1]], axis=1, inplace=True)\n",
    "    cl_data[name].drop(cl_data[name].index[[0]], inplace=True)\n",
    "    \n",
    "    # calculate sensitivity\n",
    "    sensitivity = round(cl_data[name].std(axis=1).mean(),9)\n",
    "\n",
    "    # add to list\n",
    "    element_list.append(element)\n",
    "    atm_list.append(atmosphere)\n",
    "    sens_list.append(sensitivity)\n",
    "\n",
    "# make dataframe of all results\n",
    "mhc_sens_df = pd.DataFrame({\n",
    "    \"element\" : element_list,\n",
    "    \"atmosphere\" : atm_list,\n",
    "    \"sensitivity\" : sens_list\n",
    "})\n",
    "\n",
    "# get average for MHC metals method\n",
    "mhc_mars_metal_sens = round(mhc_sens_df[mhc_sens_df['atmosphere'] == 'Mars']['sensitivity'].mean(), 9)\n",
    "mhc_earth_metal_sens = round(mhc_sens_df[mhc_sens_df['atmosphere'] == 'Earth']['sensitivity'].mean(), 9)\n",
    "mhc_vac_metal_sens = round(mhc_sens_df[mhc_sens_df['atmosphere'] == 'Vac']['sensitivity'].mean(), 9)"
   ]
  },
  {
   "cell_type": "code",
   "execution_count": 9,
   "id": "17a64f78",
   "metadata": {},
   "outputs": [],
   "source": [
    "sens_list = [lanl_metal_sens, mhc_mars_metal_sens, mhc_earth_metal_sens, mhc_vac_metal_sens]\n",
    "inst_list = [\"LANL\", 'ChemLIBS', 'ChemLIBS', 'ChemLIBS']\n",
    "atm_list = [\"Mars\", \"Mars\", \"Earth\", \"Vacuum\"]\n",
    "\n",
    "# make dataframe\n",
    "metals_sensitivities = pd.DataFrame({\n",
    "    \"instrument\" : inst_list,\n",
    "    \"atmosphere\" : atm_list,\n",
    "    \"sensitivity\" : sens_list\n",
    "})"
   ]
  },
  {
   "cell_type": "code",
   "execution_count": 10,
   "id": "ba308120",
   "metadata": {},
   "outputs": [],
   "source": [
    "# combine sensitivity results\n",
    "metals_sensitivities['method'] = \"metals\"\n",
    "braga_sensitivities['method'] = \"braga\"\n",
    "\n",
    "sensitivities = pd.concat([metals_sensitivities, braga_sensitivities]).reset_index(drop=True)"
   ]
  },
  {
   "cell_type": "markdown",
   "id": "0033ca43",
   "metadata": {},
   "source": [
    "### Function to calculate LBDQs from model and instrument sensitivity"
   ]
  },
  {
   "cell_type": "code",
   "execution_count": 11,
   "id": "d0fe633d",
   "metadata": {},
   "outputs": [],
   "source": [
    "def get_lbdq(folder, file_list, braga_sens, metals_sens):\n",
    "    \n",
    "    print(\"LBDQ:\")\n",
    "    \n",
    "    coeffs = []\n",
    "\n",
    "    # read models\n",
    "    for file in tqdm(file_list):\n",
    "        if \"coeff\" in file:       \n",
    "            path = folder + file\n",
    "            data = pd.read_csv(path, skiprows = [0])\n",
    "            coeffs.append(data)\n",
    "\n",
    "    # convert to dataframe\n",
    "    coeffs = pd.concat(coeffs).T\n",
    "\n",
    "    # adapt to different element naming b/w datasets\n",
    "    if coeffs.iloc[0].str.contains('Composition:').any():\n",
    "        coeffs.columns = coeffs.iloc[0].map(lambda x: x.split(': ')[1])\n",
    "    else: coeffs.columns = coeffs.iloc[0].map(lambda x: x.split()[0])\n",
    "\n",
    "    coeffs = coeffs.drop(coeffs.index[0])\n",
    "\n",
    "    # calculate regression vectors\n",
    "    vector_list = coeffs.pow(2).sum().pow(.5)  #square root of sum of squares\n",
    "\n",
    "    # populate lists\n",
    "    elem_list = coeffs.columns\n",
    "\n",
    "\n",
    "    df = pd.DataFrame({'element' : elem_list,\n",
    "                         'vector' : vector_list\n",
    "    }).reset_index(drop = True)\n",
    "\n",
    "    # calculate values\n",
    "    types = ['LOB', 'LOD', 'LOQ']\n",
    "    factors = [1.645, 3.3, 10]\n",
    "\n",
    "    for i in range(len(types)):\n",
    "        df[types[i]+\"_Braga\"] = factors[i] * braga_sens * df['vector']\n",
    "        df[types[i]+\"_metals\"] = factors[i] * metals_sens * df['vector']\n",
    "        \n",
    "    # change col formats\n",
    "    cols = df.columns.drop('element')\n",
    "    df[cols] = df[cols].apply(pd.to_numeric)\n",
    "    df['element'] = df['element'].astype(str)\n",
    "\n",
    "    return df"
   ]
  },
  {
   "cell_type": "markdown",
   "id": "210f8856",
   "metadata": {},
   "source": [
    "### Function to calculate RMSEPs"
   ]
  },
  {
   "cell_type": "code",
   "execution_count": 15,
   "id": "b01287e4",
   "metadata": {},
   "outputs": [],
   "source": [
    "def get_rmsep(folder, file_list, lbdq):\n",
    "    \n",
    "    print(\"RMSEP:\")\n",
    "    \n",
    "    elem_list = []\n",
    "    avg_braga_list = []\n",
    "    rmsep_braga_list = []\n",
    "    r2_braga_list = []\n",
    "    avg_metal_list = []\n",
    "    rmsep_metal_list = []\n",
    "    r2_metal_list = []\n",
    "    no_comps_list = []\n",
    "    \n",
    "    for file in tqdm(file_list):\n",
    "        if \"test\" in file:       \n",
    "            path = (folder + file)\n",
    "            data = pd.read_csv(path)\n",
    "            \n",
    "            # get element\n",
    "            if \"Composition:\" in data.columns[1]:\n",
    "                element = data.columns[1].split()[1]\n",
    "            else: element = data.columns[1].split()[0]\n",
    "            elem_list.append(element)\n",
    "            \n",
    "            # format columns\n",
    "            data.columns = ['pkey', 'Actual', 'Pred']\n",
    "            data = data.drop([0])\n",
    "            data.Pred = data.Pred.astype(float)  \n",
    "            \n",
    "            # remove predictions above 100 for majors\n",
    "            if element in ['SiO2', 'MnO', 'Na2O']:\n",
    "                data = data[data.Pred < 100]\n",
    "                \n",
    "            # remove all predictions below 0\n",
    "            data = data[data.Pred > 0].reset_index(drop=True).sort_index(axis=1)\n",
    "            \n",
    "            # rename ChemLIBS Spectrum names with sample names\n",
    "            if data.pkey.str.contains('Spectrum').any():\n",
    "                data = data.replace({'pkey': mhc_key})\n",
    "            \n",
    "            # format LANL spectra names to sample names\n",
    "            else:\n",
    "                data['pkey'] = data['pkey'].map(lambda x: x.split(\"_\")[1])\n",
    "                data['pkey'] = data['pkey'].map(lambda x: str(x).upper())\n",
    "                   \n",
    "            # order columns\n",
    "            data = data[['pkey', 'Actual', 'Pred']].drop_duplicates(subset = 'pkey').sort_values(by='pkey').reset_index(drop=True)\n",
    "               \n",
    "            # subselect relevant reference values\n",
    "            ref = lbdq[lbdq.element == element].reset_index(drop=True)\n",
    "\n",
    "            # add in Actual concentrations\n",
    "            temp_comps = comps[comps.Sample.isin(data.pkey)].reset_index(drop=True) \n",
    "            # note and remove samples that don't have composition info\n",
    "            no_comps = data[~data.pkey.isin(temp_comps.Sample)]\n",
    "            if len(no_comps) > 0:\n",
    "                no_comps_list.append(list(no_comps.pkey)) # add to list\n",
    "                data = pd.concat([data, no_comps]).drop_duplicates(keep=False).reset_index(drop=True)\n",
    "            \n",
    "            data['Actual'] = temp_comps[temp_comps['Sample'] == data['pkey']][element]\n",
    "            \n",
    "            # remove NaN Acutal values....which idk why they'd be there\n",
    "            data = data.dropna()\n",
    "            \n",
    "           ###BRAGA###\n",
    "            loq_braga = ref['LOQ_Braga'].iloc[0]\n",
    "            # select just predictions above the LOQ\n",
    "            braga = data[data.Pred > loq_braga].reset_index(drop=True)\n",
    "            # get average concentration\n",
    "            avg_braga = braga['Actual'].mean()\n",
    "            avg_braga_list.append(avg_braga)\n",
    "            # get R2\n",
    "            if len(braga) > 0:\n",
    "                r2_braga = r2_score(braga.Actual, braga.Pred)\n",
    "                r2_braga_list.append(r2_braga)\n",
    "            else: r2_braga_list.append('Not enough samples')\n",
    "            # get RMSE-P\n",
    "            braga['sqerror'] = (braga.Actual - braga.Pred).pow(2)\n",
    "            rmsep_braga = braga['sqerror'].mean() ** 0.5\n",
    "            rmsep_braga_list.append(rmsep_braga)\n",
    "\n",
    "            ##METALS###\n",
    "            loq_metal = ref['LOQ_metals'].iloc[0]\n",
    "            # select just predictions above the LOQ\n",
    "            metal = data[data.Pred > loq_metal].reset_index(drop=True)\n",
    "            # get average concentration\n",
    "            avg_metal = metal['Actual'].mean()\n",
    "            avg_metal_list.append(avg_metal)\n",
    "            # get R2\n",
    "            if len(metal) > 0:\n",
    "                r2_metal = r2_score(metal.Actual, metal.Pred)\n",
    "                r2_metal_list.append(r2_metal)\n",
    "            else: r2_metal_list.append('Not enough samples')\n",
    "            # get RMSE-P\n",
    "            metal['sqerror'] = (metal.Actual - metal.Pred).pow(2)\n",
    "            rmsep_metal = metal['sqerror'].mean() ** 0.5\n",
    "            rmsep_metal_list.append(rmsep_metal)\n",
    "    \n",
    "    df = pd.DataFrame({\n",
    "        \"element\" : elem_list,\n",
    "        \"Avg_Braga\" : avg_braga_list,\n",
    "        \"Avg_metals\" : avg_metal_list,\n",
    "        \"RMSEP_Braga\" : rmsep_braga_list,\n",
    "        \"RMSEP_metals\" : rmsep_metal_list,\n",
    "        \"R2_Braga\" : r2_braga_list,\n",
    "        \"R2_metals\" : r2_metal_list\n",
    "    })\n",
    "    \n",
    "    # give list of samples without comps\n",
    "    no_comps_list = [item for sublist in no_comps_list for item in sublist]\n",
    "    no_comps_list = list(set(no_comps_list))\n",
    "    if len(no_comps_list) > 0: print(\"Sample(s)\", str(no_comps_list), \"have no composition info and were removed\")\n",
    "    \n",
    "    return df"
   ]
  },
  {
   "cell_type": "markdown",
   "id": "edf2ca4f",
   "metadata": {},
   "source": [
    "### Calculate results per environment"
   ]
  },
  {
   "cell_type": "code",
   "execution_count": 13,
   "id": "5f694b63",
   "metadata": {},
   "outputs": [],
   "source": [
    "def get_results(instrument, atmosphere, n_range):\n",
    "    \n",
    "    print('Calculating for', instrument, atmosphere, n_range)\n",
    "    \n",
    "    sens_temp = sensitivities[\n",
    "        (sensitivities['instrument'] == instrument) &\n",
    "        (sensitivities['atmosphere'] == atmosphere)\n",
    "    ]\n",
    "    \n",
    "    braga_sens = sens_temp[sensitivities['method'] == 'braga']['sensitivity']\n",
    "    \n",
    "    metals_sens = sens_temp[sensitivities['method'] == 'metals']['sensitivity']\n",
    "\n",
    "    folder = fp+instrument+\" calculations\\\\models\\\\\"+atmosphere+\"\\\\\"+n_range+\"\\\\\"\n",
    "    file_list = os.listdir(folder)\n",
    "\n",
    "    # calculate lbdq\n",
    "    lbdq = get_lbdq(folder, file_list, braga_sens, metals_sens)\n",
    "    # calculate rmsep with lbdq results\n",
    "    rmsep = get_rmsep(folder, file_list, lbdq)\n",
    "    # merge results\n",
    "    df = pd.merge(lbdq, rmsep, how='outer', on='element')\n",
    "    df.insert(loc=2, column='num_range', value=n_range)\n",
    "    # return full results\n",
    "    return df "
   ]
  },
  {
   "cell_type": "code",
   "execution_count": 19,
   "id": "49757f63",
   "metadata": {
    "scrolled": false
   },
   "outputs": [
    {
     "name": "stdout",
     "output_type": "stream",
     "text": [
      "Calculating for LANL Mars 0-750\n",
      "LBDQ:\n"
     ]
    },
    {
     "name": "stderr",
     "output_type": "stream",
     "text": [
      "C:\\Users\\ytsma22c\\AppData\\Local\\Temp/ipykernel_11428/2052006434.py:10: UserWarning: Boolean Series key will be reindexed to match DataFrame index.\n",
      "  braga_sens = sens_temp[sensitivities['method'] == 'braga']['sensitivity']\n",
      "C:\\Users\\ytsma22c\\AppData\\Local\\Temp/ipykernel_11428/2052006434.py:12: UserWarning: Boolean Series key will be reindexed to match DataFrame index.\n",
      "  metals_sens = sens_temp[sensitivities['method'] == 'metals']['sensitivity']\n"
     ]
    },
    {
     "data": {
      "application/vnd.jupyter.widget-view+json": {
       "model_id": "6613536cfa4c48be94e7cdad5e89c2cb",
       "version_major": 2,
       "version_minor": 0
      },
      "text/plain": [
       "  0%|          | 0/37 [00:00<?, ?it/s]"
      ]
     },
     "metadata": {},
     "output_type": "display_data"
    },
    {
     "name": "stdout",
     "output_type": "stream",
     "text": [
      "RMSEP:\n"
     ]
    },
    {
     "data": {
      "application/vnd.jupyter.widget-view+json": {
       "model_id": "81887f780d054c65a2862cebeb3b4991",
       "version_major": 2,
       "version_minor": 0
      },
      "text/plain": [
       "  0%|          | 0/37 [00:00<?, ?it/s]"
      ]
     },
     "metadata": {},
     "output_type": "display_data"
    },
    {
     "name": "stdout",
     "output_type": "stream",
     "text": [
      "Calculating for LANL Mars 250-1000\n",
      "LBDQ:\n"
     ]
    },
    {
     "name": "stderr",
     "output_type": "stream",
     "text": [
      "C:\\Users\\ytsma22c\\AppData\\Local\\Temp/ipykernel_11428/2052006434.py:10: UserWarning: Boolean Series key will be reindexed to match DataFrame index.\n",
      "  braga_sens = sens_temp[sensitivities['method'] == 'braga']['sensitivity']\n",
      "C:\\Users\\ytsma22c\\AppData\\Local\\Temp/ipykernel_11428/2052006434.py:12: UserWarning: Boolean Series key will be reindexed to match DataFrame index.\n",
      "  metals_sens = sens_temp[sensitivities['method'] == 'metals']['sensitivity']\n"
     ]
    },
    {
     "data": {
      "application/vnd.jupyter.widget-view+json": {
       "model_id": "1a34b1fcd5ea441ab07b4c3834730fb4",
       "version_major": 2,
       "version_minor": 0
      },
      "text/plain": [
       "  0%|          | 0/37 [00:00<?, ?it/s]"
      ]
     },
     "metadata": {},
     "output_type": "display_data"
    },
    {
     "name": "stdout",
     "output_type": "stream",
     "text": [
      "RMSEP:\n"
     ]
    },
    {
     "data": {
      "application/vnd.jupyter.widget-view+json": {
       "model_id": "cd5352ce5d5544f095e8992d0b2eec49",
       "version_major": 2,
       "version_minor": 0
      },
      "text/plain": [
       "  0%|          | 0/37 [00:00<?, ?it/s]"
      ]
     },
     "metadata": {},
     "output_type": "display_data"
    },
    {
     "name": "stdout",
     "output_type": "stream",
     "text": [
      "Calculating for ChemLIBS Mars 0-750\n",
      "LBDQ:\n"
     ]
    },
    {
     "name": "stderr",
     "output_type": "stream",
     "text": [
      "C:\\Users\\ytsma22c\\AppData\\Local\\Temp/ipykernel_11428/2052006434.py:10: UserWarning: Boolean Series key will be reindexed to match DataFrame index.\n",
      "  braga_sens = sens_temp[sensitivities['method'] == 'braga']['sensitivity']\n",
      "C:\\Users\\ytsma22c\\AppData\\Local\\Temp/ipykernel_11428/2052006434.py:12: UserWarning: Boolean Series key will be reindexed to match DataFrame index.\n",
      "  metals_sens = sens_temp[sensitivities['method'] == 'metals']['sensitivity']\n"
     ]
    },
    {
     "data": {
      "application/vnd.jupyter.widget-view+json": {
       "model_id": "3ed7b285a2c94fe69de4dc46434b51d8",
       "version_major": 2,
       "version_minor": 0
      },
      "text/plain": [
       "  0%|          | 0/27 [00:00<?, ?it/s]"
      ]
     },
     "metadata": {},
     "output_type": "display_data"
    },
    {
     "name": "stdout",
     "output_type": "stream",
     "text": [
      "RMSEP:\n"
     ]
    },
    {
     "data": {
      "application/vnd.jupyter.widget-view+json": {
       "model_id": "3cace19075474823b67151bd815a2be1",
       "version_major": 2,
       "version_minor": 0
      },
      "text/plain": [
       "  0%|          | 0/27 [00:00<?, ?it/s]"
      ]
     },
     "metadata": {},
     "output_type": "display_data"
    },
    {
     "name": "stdout",
     "output_type": "stream",
     "text": [
      "Calculating for ChemLIBS Mars 250-1000\n",
      "LBDQ:\n"
     ]
    },
    {
     "name": "stderr",
     "output_type": "stream",
     "text": [
      "C:\\Users\\ytsma22c\\AppData\\Local\\Temp/ipykernel_11428/2052006434.py:10: UserWarning: Boolean Series key will be reindexed to match DataFrame index.\n",
      "  braga_sens = sens_temp[sensitivities['method'] == 'braga']['sensitivity']\n",
      "C:\\Users\\ytsma22c\\AppData\\Local\\Temp/ipykernel_11428/2052006434.py:12: UserWarning: Boolean Series key will be reindexed to match DataFrame index.\n",
      "  metals_sens = sens_temp[sensitivities['method'] == 'metals']['sensitivity']\n"
     ]
    },
    {
     "data": {
      "application/vnd.jupyter.widget-view+json": {
       "model_id": "bca7945e33d3424395f1eee4a649fc12",
       "version_major": 2,
       "version_minor": 0
      },
      "text/plain": [
       "  0%|          | 0/27 [00:00<?, ?it/s]"
      ]
     },
     "metadata": {},
     "output_type": "display_data"
    },
    {
     "name": "stdout",
     "output_type": "stream",
     "text": [
      "RMSEP:\n"
     ]
    },
    {
     "data": {
      "application/vnd.jupyter.widget-view+json": {
       "model_id": "9e4d0b1dff2e4e82aa5aada5bd8a93a9",
       "version_major": 2,
       "version_minor": 0
      },
      "text/plain": [
       "  0%|          | 0/27 [00:00<?, ?it/s]"
      ]
     },
     "metadata": {},
     "output_type": "display_data"
    },
    {
     "name": "stdout",
     "output_type": "stream",
     "text": [
      "Calculating for ChemLIBS Earth 0-750\n",
      "LBDQ:\n"
     ]
    },
    {
     "name": "stderr",
     "output_type": "stream",
     "text": [
      "C:\\Users\\ytsma22c\\AppData\\Local\\Temp/ipykernel_11428/2052006434.py:10: UserWarning: Boolean Series key will be reindexed to match DataFrame index.\n",
      "  braga_sens = sens_temp[sensitivities['method'] == 'braga']['sensitivity']\n",
      "C:\\Users\\ytsma22c\\AppData\\Local\\Temp/ipykernel_11428/2052006434.py:12: UserWarning: Boolean Series key will be reindexed to match DataFrame index.\n",
      "  metals_sens = sens_temp[sensitivities['method'] == 'metals']['sensitivity']\n"
     ]
    },
    {
     "data": {
      "application/vnd.jupyter.widget-view+json": {
       "model_id": "60f3bd7b959a42319d803012dbc00011",
       "version_major": 2,
       "version_minor": 0
      },
      "text/plain": [
       "  0%|          | 0/27 [00:00<?, ?it/s]"
      ]
     },
     "metadata": {},
     "output_type": "display_data"
    },
    {
     "name": "stdout",
     "output_type": "stream",
     "text": [
      "RMSEP:\n"
     ]
    },
    {
     "data": {
      "application/vnd.jupyter.widget-view+json": {
       "model_id": "96e775cdf2084fc290f2b60dbe84f0bf",
       "version_major": 2,
       "version_minor": 0
      },
      "text/plain": [
       "  0%|          | 0/27 [00:00<?, ?it/s]"
      ]
     },
     "metadata": {},
     "output_type": "display_data"
    },
    {
     "name": "stdout",
     "output_type": "stream",
     "text": [
      "Sample(s) ['M6', 'TT1758D11', '33D3', 'T12CT212A', 'EP3156', 'MIX660', 'TR2660A'] have no composition info and were removed\n",
      "Calculating for ChemLIBS Earth 250-1000\n",
      "LBDQ:\n"
     ]
    },
    {
     "name": "stderr",
     "output_type": "stream",
     "text": [
      "C:\\Users\\ytsma22c\\AppData\\Local\\Temp/ipykernel_11428/2052006434.py:10: UserWarning: Boolean Series key will be reindexed to match DataFrame index.\n",
      "  braga_sens = sens_temp[sensitivities['method'] == 'braga']['sensitivity']\n",
      "C:\\Users\\ytsma22c\\AppData\\Local\\Temp/ipykernel_11428/2052006434.py:12: UserWarning: Boolean Series key will be reindexed to match DataFrame index.\n",
      "  metals_sens = sens_temp[sensitivities['method'] == 'metals']['sensitivity']\n"
     ]
    },
    {
     "data": {
      "application/vnd.jupyter.widget-view+json": {
       "model_id": "a148a7d846744980aefa5fabcf8b3f01",
       "version_major": 2,
       "version_minor": 0
      },
      "text/plain": [
       "  0%|          | 0/39 [00:00<?, ?it/s]"
      ]
     },
     "metadata": {},
     "output_type": "display_data"
    },
    {
     "name": "stdout",
     "output_type": "stream",
     "text": [
      "RMSEP:\n"
     ]
    },
    {
     "data": {
      "application/vnd.jupyter.widget-view+json": {
       "model_id": "f7eea6bd5983482094d59a63c74e77a2",
       "version_major": 2,
       "version_minor": 0
      },
      "text/plain": [
       "  0%|          | 0/39 [00:00<?, ?it/s]"
      ]
     },
     "metadata": {},
     "output_type": "display_data"
    },
    {
     "name": "stdout",
     "output_type": "stream",
     "text": [
      "Sample(s) ['6D23', 'MIX383', 'M9A4', 'T12CT1302'] have no composition info and were removed\n",
      "Calculating for ChemLIBS Vacuum 0-750\n",
      "LBDQ:\n"
     ]
    },
    {
     "name": "stderr",
     "output_type": "stream",
     "text": [
      "C:\\Users\\ytsma22c\\AppData\\Local\\Temp/ipykernel_11428/2052006434.py:10: UserWarning: Boolean Series key will be reindexed to match DataFrame index.\n",
      "  braga_sens = sens_temp[sensitivities['method'] == 'braga']['sensitivity']\n",
      "C:\\Users\\ytsma22c\\AppData\\Local\\Temp/ipykernel_11428/2052006434.py:12: UserWarning: Boolean Series key will be reindexed to match DataFrame index.\n",
      "  metals_sens = sens_temp[sensitivities['method'] == 'metals']['sensitivity']\n"
     ]
    },
    {
     "data": {
      "application/vnd.jupyter.widget-view+json": {
       "model_id": "668ce1e8dc0b4006ac7b49f4bcc480bb",
       "version_major": 2,
       "version_minor": 0
      },
      "text/plain": [
       "  0%|          | 0/27 [00:00<?, ?it/s]"
      ]
     },
     "metadata": {},
     "output_type": "display_data"
    },
    {
     "name": "stdout",
     "output_type": "stream",
     "text": [
      "RMSEP:\n"
     ]
    },
    {
     "data": {
      "application/vnd.jupyter.widget-view+json": {
       "model_id": "5809696220024f4eaec3b5a21f2f5be6",
       "version_major": 2,
       "version_minor": 0
      },
      "text/plain": [
       "  0%|          | 0/27 [00:00<?, ?it/s]"
      ]
     },
     "metadata": {},
     "output_type": "display_data"
    },
    {
     "name": "stdout",
     "output_type": "stream",
     "text": [
      "Sample(s) ['M6', 'TT1758D11', '33D3', 'T12CT212A', 'EP3156', 'MIX660', 'TR2660A'] have no composition info and were removed\n",
      "Calculating for ChemLIBS Vacuum 250-1000\n",
      "LBDQ:\n"
     ]
    },
    {
     "name": "stderr",
     "output_type": "stream",
     "text": [
      "C:\\Users\\ytsma22c\\AppData\\Local\\Temp/ipykernel_11428/2052006434.py:10: UserWarning: Boolean Series key will be reindexed to match DataFrame index.\n",
      "  braga_sens = sens_temp[sensitivities['method'] == 'braga']['sensitivity']\n",
      "C:\\Users\\ytsma22c\\AppData\\Local\\Temp/ipykernel_11428/2052006434.py:12: UserWarning: Boolean Series key will be reindexed to match DataFrame index.\n",
      "  metals_sens = sens_temp[sensitivities['method'] == 'metals']['sensitivity']\n"
     ]
    },
    {
     "data": {
      "application/vnd.jupyter.widget-view+json": {
       "model_id": "f7255db8eac9447eaa18367697037919",
       "version_major": 2,
       "version_minor": 0
      },
      "text/plain": [
       "  0%|          | 0/27 [00:00<?, ?it/s]"
      ]
     },
     "metadata": {},
     "output_type": "display_data"
    },
    {
     "name": "stdout",
     "output_type": "stream",
     "text": [
      "RMSEP:\n"
     ]
    },
    {
     "data": {
      "application/vnd.jupyter.widget-view+json": {
       "model_id": "ea693c01e51241bf8d41521741ca7284",
       "version_major": 2,
       "version_minor": 0
      },
      "text/plain": [
       "  0%|          | 0/27 [00:00<?, ?it/s]"
      ]
     },
     "metadata": {},
     "output_type": "display_data"
    },
    {
     "name": "stdout",
     "output_type": "stream",
     "text": [
      "Sample(s) ['6D23', 'MIX383', 'M9A4', 'T12CT1302'] have no composition info and were removed\n"
     ]
    }
   ],
   "source": [
    "envs = [['LANL', 'Mars'],['ChemLIBS', 'Mars'],['ChemLIBS', 'Earth'],['ChemLIBS', 'Vacuum']]\n",
    "\n",
    "for env in envs:\n",
    "    # calculate results per model\n",
    "    results_0_750 = get_results(env[0], env[1], '0-750')\n",
    "    results_250_1000 = get_results(env[0], env[1], '250-1000')\n",
    "    \n",
    "    # get aggregate results\n",
    "    detail_results = pd.concat([results_0_750, results_250_1000], ignore_index=True).drop(columns = 'vector')\n",
    "    avg = detail_results.groupby('element', as_index=False).mean()\n",
    "    stdev = detail_results.groupby('element', as_index=False).std()\n",
    "    sd_list = [i + '_sd' for i in stdev.columns[1:]]\n",
    "    sd_list.insert(0, 'element')\n",
    "    stdev.columns = sd_list\n",
    "    avg_results = pd.merge(avg, stdev, how='outer',on='element')\n",
    "    \n",
    "    # add environment information\n",
    "    detail_results.insert(loc=1, column='instrument', value=env[0])\n",
    "    detail_results.insert(loc=2, column='atmosphere', value=env[1])\n",
    "    avg_results.insert(loc=1, column='instrument', value=env[0])\n",
    "    avg_results.insert(loc=2, column='atmosphere', value=env[1])\n",
    "    \n",
    "    # update full table\n",
    "    full_avg_results = avg_results if env == envs[0] else pd.concat([full_avg_results, avg_results], ignore_index=True)\n",
    "    full_detail_results = detail_results if env == envs[0] else pd.concat([full_detail_results, detail_results], ignore_index=True)"
   ]
  },
  {
   "cell_type": "markdown",
   "id": "9d6ea8f7",
   "metadata": {},
   "source": [
    "### Export"
   ]
  },
  {
   "cell_type": "code",
   "execution_count": null,
   "id": "38833028",
   "metadata": {},
   "outputs": [],
   "source": [
    "full_path = fp + \"averaged_LOD_RMSEP_results.csv\"\n",
    "detail_path = fp + \"detailed_LOD_RMSEP_results.csv\"\n",
    "full_avg_results.to_csv(full_path, index=False)\n",
    "full_detail_results.to_csv(detail_path, index=False)"
   ]
  }
 ],
 "metadata": {
  "kernelspec": {
   "display_name": "Python 3 (ipykernel)",
   "language": "python",
   "name": "python3"
  },
  "language_info": {
   "codemirror_mode": {
    "name": "ipython",
    "version": 3
   },
   "file_extension": ".py",
   "mimetype": "text/x-python",
   "name": "python",
   "nbconvert_exporter": "python",
   "pygments_lexer": "ipython3",
   "version": "3.8.8"
  }
 },
 "nbformat": 4,
 "nbformat_minor": 5
}
