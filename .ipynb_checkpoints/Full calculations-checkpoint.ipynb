{
 "cells": [
  {
   "cell_type": "code",
   "execution_count": 1,
   "id": "5175712d",
   "metadata": {},
   "outputs": [],
   "source": [
    "import pandas as pd\n",
    "from LOD_paper_tools import *\n",
    "from tqdm.notebook import tqdm\n",
    "\n",
    "fp = \"G:\\\\My Drive\\\\Darby Work\\\\Ytsma and Dyar 2021 (LOD paper)\\\\\""
   ]
  },
  {
   "cell_type": "markdown",
   "id": "aec51b8b",
   "metadata": {},
   "source": [
    "#### Compositions and reference keys"
   ]
  },
  {
   "cell_type": "code",
   "execution_count": 2,
   "id": "974ccacb",
   "metadata": {},
   "outputs": [],
   "source": [
    "# generate comps\n",
    "comps_path = fp + \"tables\\\\TableS1_sample_compositions.xlsx\"\n",
    "lanl_comps = pd.read_excel(comps_path, sheet_name = \"LANL\")\n",
    "mhc_comps = pd.read_excel(comps_path, sheet_name = \"MHC\")\n",
    "comps = pd.merge(mhc_comps, lanl_comps, how = \"outer\") # merge comps\n",
    "comps.columns = comps.columns.map(lambda x: x.split()[0])\n",
    "comps = comps.drop_duplicates(subset = 'Sample') # remove duplicates\n",
    "comps['Sample'] = comps['Sample'].astype(str)\n",
    "comps = comps.sort_values(by='Sample')\n",
    "comps = comps.replace(np.nan, \"\", regex=True)\n",
    "cols = comps.columns.drop('Sample')\n",
    "comps[cols] = comps[cols].apply(pd.to_numeric) # make columns numeric\n",
    "\n",
    "# make dictionary of spectrum names to sample names\n",
    "key_path = fp + \"ChemLIBS_spectrum_no_to_name.csv\"\n",
    "mhc_key = pd.read_csv(key_path)\n",
    "mhc_key = pd.Series(mhc_key.Sample.values, index=mhc_key.pkey).to_dict()"
   ]
  },
  {
   "cell_type": "code",
   "execution_count": 11,
   "id": "49757f63",
   "metadata": {
    "scrolled": false
   },
   "outputs": [
    {
     "name": "stderr",
     "output_type": "stream",
     "text": [
      "C:\\Users\\ytsma22c\\Documents\\GitHub\\LOD-paper\\LOD_paper_tools.py:198: UserWarning: Boolean Series key will be reindexed to match DataFrame index.\n",
      "  braga_sens = sens_temp[sensitivities['method'] == 'braga']['sensitivity']\n",
      "C:\\Users\\ytsma22c\\Documents\\GitHub\\LOD-paper\\LOD_paper_tools.py:200: UserWarning: Boolean Series key will be reindexed to match DataFrame index.\n",
      "  metals_sens = sens_temp[sensitivities['method'] == 'metals']['sensitivity']\n"
     ]
    },
    {
     "name": "stdout",
     "output_type": "stream",
     "text": [
      "Calculating for LANL Mars 0-750\n",
      "LBDQ:\n"
     ]
    },
    {
     "name": "stderr",
     "output_type": "stream",
     "text": [
      "100%|██████████████████████████████████████████████████████████████████████████████████| 38/38 [00:04<00:00,  9.07it/s]\n"
     ]
    },
    {
     "name": "stdout",
     "output_type": "stream",
     "text": [
      "RMSEP:\n"
     ]
    },
    {
     "name": "stderr",
     "output_type": "stream",
     "text": [
      "100%|█████████████████████████████████████████████████████████████████████████████████| 38/38 [00:00<00:00, 188.13it/s]\n"
     ]
    },
    {
     "name": "stdout",
     "output_type": "stream",
     "text": [
      "Calculating for LANL Mars 250-1000\n",
      "LBDQ:\n"
     ]
    },
    {
     "name": "stderr",
     "output_type": "stream",
     "text": [
      "100%|██████████████████████████████████████████████████████████████████████████████████| 38/38 [00:04<00:00,  9.09it/s]\n"
     ]
    },
    {
     "name": "stdout",
     "output_type": "stream",
     "text": [
      "RMSEP:\n"
     ]
    },
    {
     "name": "stderr",
     "output_type": "stream",
     "text": [
      "100%|█████████████████████████████████████████████████████████████████████████████████| 38/38 [00:00<00:00, 176.74it/s]\n"
     ]
    },
    {
     "name": "stdout",
     "output_type": "stream",
     "text": [
      "Calculating for ChemLIBS Mars 0-750\n",
      "LBDQ:\n"
     ]
    },
    {
     "name": "stderr",
     "output_type": "stream",
     "text": [
      "100%|██████████████████████████████████████████████████████████████████████████████████| 28/28 [00:04<00:00,  6.68it/s]\n"
     ]
    },
    {
     "name": "stdout",
     "output_type": "stream",
     "text": [
      "RMSEP:\n"
     ]
    },
    {
     "name": "stderr",
     "output_type": "stream",
     "text": [
      " 32%|██████████████████████████▎                                                       | 9/28 [00:00<00:00, 600.18it/s]\n"
     ]
    },
    {
     "ename": "NameError",
     "evalue": "name 'mhc_key' is not defined",
     "output_type": "error",
     "traceback": [
      "\u001b[1;31m---------------------------------------------------------------------------\u001b[0m",
      "\u001b[1;31mNameError\u001b[0m                                 Traceback (most recent call last)",
      "\u001b[1;32m~\\AppData\\Local\\Temp/ipykernel_13640/4025783484.py\u001b[0m in \u001b[0;36m<module>\u001b[1;34m\u001b[0m\n\u001b[0;32m      3\u001b[0m \u001b[1;32mfor\u001b[0m \u001b[0menv\u001b[0m \u001b[1;32min\u001b[0m \u001b[0menvs\u001b[0m\u001b[1;33m:\u001b[0m\u001b[1;33m\u001b[0m\u001b[1;33m\u001b[0m\u001b[0m\n\u001b[0;32m      4\u001b[0m     \u001b[1;31m# calculate results per model\u001b[0m\u001b[1;33m\u001b[0m\u001b[1;33m\u001b[0m\u001b[1;33m\u001b[0m\u001b[0m\n\u001b[1;32m----> 5\u001b[1;33m     \u001b[0mresults_0_750\u001b[0m \u001b[1;33m=\u001b[0m \u001b[0mget_results\u001b[0m\u001b[1;33m(\u001b[0m\u001b[0msensitivities\u001b[0m\u001b[1;33m,\u001b[0m \u001b[0menv\u001b[0m\u001b[1;33m[\u001b[0m\u001b[1;36m0\u001b[0m\u001b[1;33m]\u001b[0m\u001b[1;33m,\u001b[0m \u001b[0menv\u001b[0m\u001b[1;33m[\u001b[0m\u001b[1;36m1\u001b[0m\u001b[1;33m]\u001b[0m\u001b[1;33m,\u001b[0m \u001b[1;34m'0-750'\u001b[0m\u001b[1;33m,\u001b[0m \u001b[0mcomps\u001b[0m\u001b[1;33m)\u001b[0m\u001b[1;33m\u001b[0m\u001b[1;33m\u001b[0m\u001b[0m\n\u001b[0m\u001b[0;32m      6\u001b[0m     \u001b[0mresults_250_1000\u001b[0m \u001b[1;33m=\u001b[0m \u001b[0mget_results\u001b[0m\u001b[1;33m(\u001b[0m\u001b[0msensitivities\u001b[0m\u001b[1;33m,\u001b[0m \u001b[0menv\u001b[0m\u001b[1;33m[\u001b[0m\u001b[1;36m0\u001b[0m\u001b[1;33m]\u001b[0m\u001b[1;33m,\u001b[0m \u001b[0menv\u001b[0m\u001b[1;33m[\u001b[0m\u001b[1;36m1\u001b[0m\u001b[1;33m]\u001b[0m\u001b[1;33m,\u001b[0m \u001b[1;34m'250-1000'\u001b[0m\u001b[1;33m,\u001b[0m \u001b[0mcomps\u001b[0m\u001b[1;33m)\u001b[0m\u001b[1;33m\u001b[0m\u001b[1;33m\u001b[0m\u001b[0m\n\u001b[0;32m      7\u001b[0m \u001b[1;33m\u001b[0m\u001b[0m\n",
      "\u001b[1;32m~\\Documents\\GitHub\\LOD-paper\\LOD_paper_tools.py\u001b[0m in \u001b[0;36mget_results\u001b[1;34m(sensitivities, instrument, atmosphere, n_range, comps)\u001b[0m\n\u001b[0;32m    207\u001b[0m \u001b[1;33m\u001b[0m\u001b[0m\n\u001b[0;32m    208\u001b[0m     \u001b[1;31m# calculate rmsep with lbdq results\u001b[0m\u001b[1;33m\u001b[0m\u001b[1;33m\u001b[0m\u001b[1;33m\u001b[0m\u001b[0m\n\u001b[1;32m--> 209\u001b[1;33m     \u001b[0mrmsep\u001b[0m \u001b[1;33m=\u001b[0m \u001b[0mget_rmsep\u001b[0m\u001b[1;33m(\u001b[0m\u001b[0mfolder\u001b[0m\u001b[1;33m,\u001b[0m \u001b[0mfile_list\u001b[0m\u001b[1;33m,\u001b[0m \u001b[0mlbdq\u001b[0m\u001b[1;33m,\u001b[0m \u001b[0mcomps\u001b[0m\u001b[1;33m)\u001b[0m\u001b[1;33m\u001b[0m\u001b[1;33m\u001b[0m\u001b[0m\n\u001b[0m\u001b[0;32m    210\u001b[0m \u001b[1;33m\u001b[0m\u001b[0m\n\u001b[0;32m    211\u001b[0m     \u001b[1;31m# merge results\u001b[0m\u001b[1;33m\u001b[0m\u001b[1;33m\u001b[0m\u001b[1;33m\u001b[0m\u001b[0m\n",
      "\u001b[1;32m~\\Documents\\GitHub\\LOD-paper\\LOD_paper_tools.py\u001b[0m in \u001b[0;36mget_rmsep\u001b[1;34m(folder, file_list, lbdq, comps)\u001b[0m\n\u001b[0;32m    106\u001b[0m             \u001b[1;31m# rename ChemLIBS Spectrum names with sample names\u001b[0m\u001b[1;33m\u001b[0m\u001b[1;33m\u001b[0m\u001b[1;33m\u001b[0m\u001b[0m\n\u001b[0;32m    107\u001b[0m             \u001b[1;32mif\u001b[0m \u001b[0mdata\u001b[0m\u001b[1;33m.\u001b[0m\u001b[0mpkey\u001b[0m\u001b[1;33m.\u001b[0m\u001b[0mstr\u001b[0m\u001b[1;33m.\u001b[0m\u001b[0mcontains\u001b[0m\u001b[1;33m(\u001b[0m\u001b[1;34m'Spectrum'\u001b[0m\u001b[1;33m)\u001b[0m\u001b[1;33m.\u001b[0m\u001b[0many\u001b[0m\u001b[1;33m(\u001b[0m\u001b[1;33m)\u001b[0m\u001b[1;33m:\u001b[0m\u001b[1;33m\u001b[0m\u001b[1;33m\u001b[0m\u001b[0m\n\u001b[1;32m--> 108\u001b[1;33m                 \u001b[0mdata\u001b[0m \u001b[1;33m=\u001b[0m \u001b[0mdata\u001b[0m\u001b[1;33m.\u001b[0m\u001b[0mreplace\u001b[0m\u001b[1;33m(\u001b[0m\u001b[1;33m{\u001b[0m\u001b[1;34m'pkey'\u001b[0m\u001b[1;33m:\u001b[0m \u001b[0mmhc_key\u001b[0m\u001b[1;33m}\u001b[0m\u001b[1;33m)\u001b[0m\u001b[1;33m\u001b[0m\u001b[1;33m\u001b[0m\u001b[0m\n\u001b[0m\u001b[0;32m    109\u001b[0m \u001b[1;33m\u001b[0m\u001b[0m\n\u001b[0;32m    110\u001b[0m             \u001b[1;31m# format LANL spectra names to sample names\u001b[0m\u001b[1;33m\u001b[0m\u001b[1;33m\u001b[0m\u001b[1;33m\u001b[0m\u001b[0m\n",
      "\u001b[1;31mNameError\u001b[0m: name 'mhc_key' is not defined"
     ]
    }
   ],
   "source": [
    "envs = [['LANL', 'Mars'],['ChemLIBS', 'Mars'],['ChemLIBS', 'Earth'],['ChemLIBS', 'Vacuum']]\n",
    "\n",
    "for env in envs:\n",
    "    # calculate results per model\n",
    "    results_0_750 = get_results(sensitivities, env[0], env[1], '0-750', comps)\n",
    "    results_250_1000 = get_results(sensitivities, env[0], env[1], '250-1000', comps)\n",
    "    \n",
    "    # get aggregate results\n",
    "    detail_results = pd.concat([results_0_750, results_250_1000], ignore_index=True).drop(columns = 'vector')\n",
    "    avg = detail_results.groupby('element', as_index=False).mean()\n",
    "    stdev = detail_results.groupby('element', as_index=False).std()\n",
    "    sd_list = [i + '_sd' for i in stdev.columns[1:]]\n",
    "    sd_list.insert(0, 'element')\n",
    "    stdev.columns = sd_list\n",
    "    avg_results = pd.merge(avg, stdev, how='outer',on='element')\n",
    "    \n",
    "    # add environment information\n",
    "    detail_results.insert(loc=1, column='instrument', value=env[0])\n",
    "    detail_results.insert(loc=2, column='atmosphere', value=env[1])\n",
    "    avg_results.insert(loc=1, column='instrument', value=env[0])\n",
    "    avg_results.insert(loc=2, column='atmosphere', value=env[1])\n",
    "    \n",
    "    # update full table\n",
    "    full_avg_results = avg_results if env == envs[0] else pd.concat([full_avg_results, avg_results], ignore_index=True)\n",
    "    full_detail_results = detail_results if env == envs[0] else pd.concat([full_detail_results, detail_results], ignore_index=True)"
   ]
  },
  {
   "cell_type": "markdown",
   "id": "9d6ea8f7",
   "metadata": {},
   "source": [
    "### Export"
   ]
  },
  {
   "cell_type": "code",
   "execution_count": null,
   "id": "38833028",
   "metadata": {},
   "outputs": [],
   "source": [
    "full_path = fp + \"averaged_LOD_RMSEP_results_011222.csv\"\n",
    "detail_path = fp + \"detailed_LOD_RMSEP_results_011222.csv\"\n",
    "full_avg_results.to_csv(full_path, index=False)\n",
    "full_detail_results.to_csv(detail_path, index=False)"
   ]
  }
 ],
 "metadata": {
  "kernelspec": {
   "display_name": "Python 3 (ipykernel)",
   "language": "python",
   "name": "python3"
  },
  "language_info": {
   "codemirror_mode": {
    "name": "ipython",
    "version": 3
   },
   "file_extension": ".py",
   "mimetype": "text/x-python",
   "name": "python",
   "nbconvert_exporter": "python",
   "pygments_lexer": "ipython3",
   "version": "3.8.8"
  }
 },
 "nbformat": 4,
 "nbformat_minor": 5
}
