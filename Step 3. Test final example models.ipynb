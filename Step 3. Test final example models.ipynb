{
 "cells": [
  {
   "cell_type": "code",
   "execution_count": 37,
   "id": "e7221d39",
   "metadata": {},
   "outputs": [],
   "source": [
    "import pandas as pd\n",
    "import numpy as np\n",
    "import pickle\n",
    "from tqdm.notebook import tqdm\n",
    "from matplotlib import pyplot as plt\n",
    "\n",
    "# model\n",
    "from sklearn.cross_decomposition import PLSRegression\n",
    "\n",
    "# math\n",
    "from sklearn.model_selection import cross_val_score\n",
    "from sklearn.metrics import mean_squared_error\n",
    "from math import sqrt, isnan\n",
    "from sklearn.metrics import r2_score\n",
    "\n",
    "fp = \"G:\\\\My Drive\\\\Darby Work\\\\Ytsma and Dyar 2021 (LOD paper)\\\\\""
   ]
  },
  {
   "cell_type": "markdown",
   "id": "f356fc16",
   "metadata": {},
   "source": [
    "Use 0-750 model, ChemLIBS instrument, Mars atmosphere, IQR outliers, Braga sensitivity.\n",
    "#### Compositions"
   ]
  },
  {
   "cell_type": "code",
   "execution_count": 20,
   "id": "036b3c7f",
   "metadata": {},
   "outputs": [],
   "source": [
    "comps = pd.read_csv(fp+'tables\\\\TableS1_MHC_sample_compositions.csv')\n",
    "# filter for test samples (random number > 750)\n",
    "comps = comps[comps['Random Number']>750].drop(columns='Random Number').reset_index(drop=True)"
   ]
  },
  {
   "cell_type": "markdown",
   "id": "d4c96558",
   "metadata": {},
   "source": [
    "#### LOQs"
   ]
  },
  {
   "cell_type": "code",
   "execution_count": 25,
   "id": "d754e0e3",
   "metadata": {},
   "outputs": [],
   "source": [
    "loqs = pd.read_csv(fp+'train_results.csv')\n",
    "loqs = loqs[(loqs.num_range=='0-750')&\n",
    "            (loqs.normalization=='norm3')&\n",
    "            (loqs.outlier_defn=='iqr_q3')&\n",
    "            (loqs.atmosphere=='Mars')&\n",
    "            (loqs.instrument=='CL')&\n",
    "            (loqs.sens_method=='braga')]\n",
    "loqs = dict(zip(loqs.element, loqs.loq))"
   ]
  },
  {
   "cell_type": "markdown",
   "id": "49e8b4d9",
   "metadata": {},
   "source": [
    "#### IQR outlier limits"
   ]
  },
  {
   "cell_type": "code",
   "execution_count": 19,
   "id": "5108d126",
   "metadata": {},
   "outputs": [],
   "source": [
    "outlier_limits = pd.read_csv('Z:\\\\Millennium Set\\\\NEW_OUTLIER_LIMITS.csv')\n",
    "outlier_limits = dict(zip(outlier_limits.element, outlier_limits.iqr_q3_outlier_limit))"
   ]
  },
  {
   "cell_type": "markdown",
   "id": "aa684854",
   "metadata": {},
   "source": [
    "#### Spectra"
   ]
  },
  {
   "cell_type": "code",
   "execution_count": 6,
   "id": "2e1d2fdd",
   "metadata": {},
   "outputs": [],
   "source": [
    "spectra = pd.read_csv(fp+'datasets\\\\CL_Mars_norm3_spectra_matched.csv')"
   ]
  },
  {
   "cell_type": "markdown",
   "id": "0ad99488",
   "metadata": {},
   "source": [
    "### Test models"
   ]
  },
  {
   "cell_type": "code",
   "execution_count": 33,
   "id": "90953460",
   "metadata": {},
   "outputs": [],
   "source": [
    "# make dictionary of 'Actual' uncertainties\n",
    "unc_path = fp + \"BureauVeritasuncertainties_forpaper.csv\"\n",
    "uncert = pd.read_csv(unc_path)\n",
    "uncert = pd.Series(uncert.uncertainty.values, index=uncert.element).to_dict()"
   ]
  },
  {
   "cell_type": "code",
   "execution_count": 49,
   "id": "d007d573",
   "metadata": {},
   "outputs": [],
   "source": [
    "n_all_list = []\n",
    "n_loq_list = []\n",
    "rmsep_all_list = []\n",
    "rmsep_loq_list = []\n",
    "r2_all_list = []\n",
    "r2_loq_list = []\n",
    "elem_list = []\n",
    "loq_list = []\n",
    "n_range_list = []\n",
    "\n",
    "for n_range in ['0-750', '250-1000']:\n",
    "    for elem_col in comps.columns[1:]:\n",
    "\n",
    "        element = elem_col.split()[0]\n",
    "        out_lim = outlier_limits[element]\n",
    "\n",
    "        # get model\n",
    "        model = pickle.load(open(fp+'python_models\\\\norm3\\\\CL_Mars\\\\'+n_range+'\\\\iqr_q3\\\\'+element+'_model.asc', 'rb'))\n",
    "\n",
    "        # get test samples\n",
    "        if isnan(out_lim):\n",
    "            test_comps = comps[~comps[elem_col].isna()].reset_index(drop=True)[['Sample Name', elem_col]]\n",
    "        else:\n",
    "            test_comps = comps[comps[elem_col] <= out_lim].reset_index(drop=True)[['Sample Name', elem_col]]\n",
    "\n",
    "        test_names = test_comps['Sample Name']\n",
    "        y_test = test_comps[elem_col]\n",
    "        X_test = spectra[test_names].copy(deep=True)\n",
    "\n",
    "        spec_list = []\n",
    "        for column in X_test.columns:\n",
    "            spectrum = list(X_test[column])\n",
    "            spec_list.append(spectrum)\n",
    "        X_test = np.array(spec_list)\n",
    "\n",
    "        # run predictions\n",
    "        test_pred = model.predict(X_test)\n",
    "\n",
    "        test_pred_true = pd.DataFrame({\n",
    "            'sample' : test_names,\n",
    "            'actual' : y_test,\n",
    "            'pred' : test_pred.flatten().tolist()\n",
    "        })\n",
    "\n",
    "        if len(element) > 2:\n",
    "            # remove any above 100 wt%\n",
    "            test_pred_true = test_pred_true[(test_pred_true.pred < 100)].copy(deep=True)\n",
    "        # remove below zero\n",
    "        test_pred_true = test_pred_true[(test_pred_true.pred >= 0)].copy(deep=True)\n",
    "\n",
    "        # Get info for all\n",
    "        n_all = len(test_pred_true)\n",
    "        # get RMSE-P\n",
    "        rmsep_all = sqrt(mean_squared_error(test_pred_true.actual, test_pred_true.pred))\n",
    "        # get R2\n",
    "        r2_all = r2_score(test_pred_true.actual,test_pred_true.pred)\n",
    "        # adjusted r2\n",
    "        adj_r2_all = 1 - (1-r2_all)*(len(test_pred_true) - 1) / (len(test_pred_true) - (test_pred_true.shape[1] - 1) - 1)\n",
    "\n",
    "        # Remove below LOQ\n",
    "        loq = loqs[element]\n",
    "        temp = test_pred_true[test_pred_true.pred >= loq].copy(deep=True).reset_index(drop=True)\n",
    "        n_loq = len(temp)\n",
    "        # get RMSE-P\n",
    "        rmsep_loq = sqrt(mean_squared_error(temp.actual, temp.pred))\n",
    "        # get R2\n",
    "        r2_loq = r2_score(temp.actual,temp.pred)\n",
    "        # adjusted r2\n",
    "        adj_r2_loq = 1 - (1-r2_loq)*(len(temp) - 1) / (len(temp) - (temp.shape[1] - 1) - 1)\n",
    "\n",
    "        elem_list.append(element)\n",
    "        n_range_list.append(n_range)\n",
    "        loq_list.append(loq)\n",
    "        n_all_list.append(n_all)\n",
    "        n_loq_list.append(n_loq)\n",
    "        rmsep_all_list.append(rmsep_all)\n",
    "        rmsep_loq_list.append(rmsep_loq)\n",
    "        r2_all_list.append(adj_r2_all)\n",
    "        r2_loq_list.append(adj_r2_loq)\n",
    "        \n",
    "        if n_range == '0-750':\n",
    "            #-----------MAKE PLOT-----------#\n",
    "            xlab = \"True \"+elem_col\n",
    "            ylab = \"Predicted \"+elem_col\n",
    "            xdata = test_pred_true.actual\n",
    "            ydata = test_pred_true.pred\n",
    "            xerr = uncert[element]\n",
    "\n",
    "            ddash = (0, (10, 2))\n",
    "            c_p = \"black\"\n",
    "            c_g = \"darkgrey\"\n",
    "            c_e = \"#bfbfbf\"\n",
    "            linew = 0.5\n",
    "            line_c = 'white'\n",
    "            lwidth = 1.5\n",
    "            cap = 2.5\n",
    "            xsize = 20\n",
    "            klen = 5\n",
    "            tsize = 16\n",
    "\n",
    "            fig, ax = plt.subplots(1, figsize = (6,6))\n",
    "            # plot data\n",
    "            ax.scatter(xdata, ydata, c=c_p, linewidth = linew, edgecolors = line_c, zorder=2)\n",
    "            # error bars\n",
    "            ax.errorbar(x=xdata, y=ydata, c=c_e, xerr=xerr, fmt = '.', capsize=cap, zorder=1)\n",
    "            # 1:1 line\n",
    "            y_bot, y_top = plt.ylim() # get current auto-axes\n",
    "            x_bot, x_top = plt.xlim()\n",
    "            # make sure LOQ not below edge\n",
    "            top = max(y_top, x_top, loq+(0.1*loq))\n",
    "            bot = min(y_bot, x_bot, 0)\n",
    "            plt.xlim(x_bot, x_top) # reset to original axes\n",
    "            plt.ylim(y_bot, y_top)\n",
    "            one_one = ax.plot([bot,top], [bot,top], c=c_p, linewidth=lwidth, linestyle = ddash, label = \"1:1\")\n",
    "\n",
    "            # plot lines\n",
    "            zero = ax.axhline(y=0, xmin=0, xmax=1, c=c_p, linewidth=1)\n",
    "            loq_line = ax.axhline(y=loq, xmin = 0, xmax = 1, c='darkred', linewidth=lwidth, label = \"LOQ\")\n",
    "\n",
    "            # format\n",
    "            ax.set_xlabel(xlab, fontsize = xsize)\n",
    "            ax.set_ylabel(ylab, fontsize = xsize)\n",
    "            ax.tick_params(length=klen, labelsize=tsize)\n",
    "\n",
    "            plt.tight_layout()\n",
    "            plt.savefig(fp + \"figures\\\\test pred true\\\\\"+element+\"_pred_true.eps\", dpi=600)\n",
    "            plt.close(fig)\n",
    "    \n",
    "results = pd.DataFrame({\n",
    "    'element':elem_list,\n",
    "    'n_range':n_range_list,\n",
    "    'loq':loq_list,\n",
    "    'n_all':n_all_list,\n",
    "    'n_loq':n_loq_list,\n",
    "    'rmsep_all':rmsep_all_list,\n",
    "    'rmsep_loq':rmsep_loq_list,\n",
    "    'adj_r2_all':r2_all_list,\n",
    "    'adj_r2_loq':r2_loq_list\n",
    "})\n",
    "\n",
    "results.to_csv(fp+'test_results.csv', index=False)"
   ]
  },
  {
   "cell_type": "code",
   "execution_count": 71,
   "id": "f2d45c02",
   "metadata": {},
   "outputs": [],
   "source": [
    "r = results.groupby(['element'], as_index=False)\n",
    "avg = r.mean()\n",
    "std = r.std()\n",
    "sd_list = [i + '_sd' for i in std.columns[2:]]\n",
    "sd_list.insert(0, 'element')\n",
    "sd_list.insert(1, 'loq')\n",
    "std.columns = sd_list\n",
    "std.drop(columns='loq', inplace=True)\n",
    "avg_results = pd.merge(avg, std)\n",
    "avg_results.to_csv(fp+'average_test_results.csv', index=False)"
   ]
  }
 ],
 "metadata": {
  "kernelspec": {
   "display_name": "Python 3 (ipykernel)",
   "language": "python",
   "name": "python3"
  },
  "language_info": {
   "codemirror_mode": {
    "name": "ipython",
    "version": 3
   },
   "file_extension": ".py",
   "mimetype": "text/x-python",
   "name": "python",
   "nbconvert_exporter": "python",
   "pygments_lexer": "ipython3",
   "version": "3.8.8"
  }
 },
 "nbformat": 4,
 "nbformat_minor": 5
}
