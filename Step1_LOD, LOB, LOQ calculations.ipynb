{
 "cells": [
  {
   "cell_type": "code",
   "execution_count": 50,
   "id": "5175712d",
   "metadata": {},
   "outputs": [],
   "source": [
    "import os\n",
    "import pandas as pd\n",
    "import numpy as np\n",
    "from tqdm.notebook import tqdm"
   ]
  },
  {
   "cell_type": "code",
   "execution_count": 51,
   "id": "9d50eb60",
   "metadata": {},
   "outputs": [],
   "source": [
    "# make dictionary of sensitivity values per environment\n",
    "sensitivity = {'LANL':{'Mars':{'braga':0.000245701982436336, 'metals':0.0000919578459982072}},\n",
    "               'ChemLIBS':{'Mars':{'braga':0.00028197645372017, 'metals':0.000117639483634021},\n",
    "               'Earth':{'braga':0.000444867993101603, 'metals':0.0000931716553399781},\n",
    "               'Vacuum':{'braga':0.000417553099169204, 'metals':0.000231951753003813}}}"
   ]
  },
  {
   "cell_type": "code",
   "execution_count": 52,
   "id": "5f694b63",
   "metadata": {},
   "outputs": [],
   "source": [
    "# make function that returns values per environment\n",
    "def get_results(instrument, atmosphere):\n",
    "    \n",
    "    braga_sens = sensitivity[instrument][atmosphere]['braga']\n",
    "    metals_sens = sensitivity[instrument][atmosphere]['metals']\n",
    "    \n",
    "    for n_range in ['0-750', '250-1000']:\n",
    "        print('Calculating', instrument, atmosphere, n_range, \"values\")\n",
    "        folder = \"C:\\\\Users\\\\ytsma22c\\\\Google Drive\\\\Darby Work\\\\LOD paper\\\\\"+instrument+\" calculations\\\\models\\\\\"+atmosphere+\"\\\\\"+n_range+\"\\\\\"\n",
    "        coefflist = os.listdir(folder)\n",
    "        coeffs = []\n",
    "\n",
    "        # read models\n",
    "        for file in tqdm(coefflist):\n",
    "            if \"coeff\" in file:       \n",
    "                path = folder + file\n",
    "                data = pd.read_csv(path, skiprows = [0])\n",
    "                coeffs.append(data)\n",
    "\n",
    "        # convert to dataframe\n",
    "        coeffs = pd.concat(coeffs).T\n",
    "        \n",
    "        # adapt ot different element naming b/w datasets\n",
    "        if instrument == 'ChemLIBS':\n",
    "            coeffs.columns = coeffs.iloc[0].map(lambda x: x.split(':')[1])\n",
    "        else: coeffs.columns = coeffs.iloc[0].map(lambda x: x.split()[0])\n",
    "            \n",
    "        coeffs = coeffs.drop(coeffs.index[0])\n",
    "\n",
    "        # calculate regression vectors\n",
    "        vector_list = coeffs.pow(2).sum().pow(.5)  #square root of sum of squares\n",
    "\n",
    "        # populate lists\n",
    "        elem_list = coeffs.columns\n",
    "        instr_list = [instrument] * len(vector_list)\n",
    "        atm_list = [atmosphere] * len(vector_list)\n",
    "        range_list = [n_range] * len(vector_list)\n",
    "\n",
    "        temp = pd.DataFrame({'element' : elem_list,\n",
    "                             'instrument' : instr_list,\n",
    "                             'atmosphere' : atm_list,\n",
    "                             'num_range' : range_list,\n",
    "                             'vector' : vector_list\n",
    "        }).reset_index(drop = True)\n",
    "\n",
    "        # calculate values\n",
    "        types = ['LOB', 'LOD', 'LOQ']\n",
    "        factors = [1.645, 3.3, 10]\n",
    "        \n",
    "        for i in range(len(types)):\n",
    "            temp[types[i]+\"_Braga\"] = factors[i] * braga_sens * temp['vector']\n",
    "            temp[types[i]+\"_metals\"] = factors[i] * metals_sens * temp['vector']\n",
    "        \n",
    "        df = temp if n_range == '0-750' else pd.concat([df, temp])\n",
    "\n",
    "    # return table\n",
    "    return df"
   ]
  },
  {
   "cell_type": "code",
   "execution_count": null,
   "id": "d67de450",
   "metadata": {},
   "outputs": [],
   "source": []
  },
  {
   "cell_type": "code",
   "execution_count": null,
   "id": "cc8a88f4",
   "metadata": {},
   "outputs": [],
   "source": []
  },
  {
   "cell_type": "code",
   "execution_count": 53,
   "id": "49757f63",
   "metadata": {},
   "outputs": [
    {
     "name": "stdout",
     "output_type": "stream",
     "text": [
      "Calculating ChemLIBS Mars 0-750 values\n"
     ]
    },
    {
     "data": {
      "application/vnd.jupyter.widget-view+json": {
       "model_id": "812d888e8aa649cca3306f4be3aaab12",
       "version_major": 2,
       "version_minor": 0
      },
      "text/plain": [
       "  0%|          | 0/28 [00:00<?, ?it/s]"
      ]
     },
     "metadata": {},
     "output_type": "display_data"
    },
    {
     "name": "stdout",
     "output_type": "stream",
     "text": [
      "Calculating ChemLIBS Mars 250-1000 values\n"
     ]
    },
    {
     "data": {
      "application/vnd.jupyter.widget-view+json": {
       "model_id": "081dbb380e94489dbc949343a1a3fd60",
       "version_major": 2,
       "version_minor": 0
      },
      "text/plain": [
       "  0%|          | 0/28 [00:00<?, ?it/s]"
      ]
     },
     "metadata": {},
     "output_type": "display_data"
    },
    {
     "name": "stdout",
     "output_type": "stream",
     "text": [
      "Calculating ChemLIBS Earth 0-750 values\n"
     ]
    },
    {
     "data": {
      "application/vnd.jupyter.widget-view+json": {
       "model_id": "7a7d3d3180b442bda0580ee58a6e29c5",
       "version_major": 2,
       "version_minor": 0
      },
      "text/plain": [
       "  0%|          | 0/28 [00:00<?, ?it/s]"
      ]
     },
     "metadata": {},
     "output_type": "display_data"
    },
    {
     "name": "stdout",
     "output_type": "stream",
     "text": [
      "Calculating ChemLIBS Earth 250-1000 values\n"
     ]
    },
    {
     "data": {
      "application/vnd.jupyter.widget-view+json": {
       "model_id": "4551f4c555c8416993b9b5ff0230a146",
       "version_major": 2,
       "version_minor": 0
      },
      "text/plain": [
       "  0%|          | 0/28 [00:00<?, ?it/s]"
      ]
     },
     "metadata": {},
     "output_type": "display_data"
    },
    {
     "name": "stdout",
     "output_type": "stream",
     "text": [
      "Calculating ChemLIBS Vacuum 0-750 values\n"
     ]
    },
    {
     "data": {
      "application/vnd.jupyter.widget-view+json": {
       "model_id": "aa3d15c0e31c4aacaf820756fad9b68a",
       "version_major": 2,
       "version_minor": 0
      },
      "text/plain": [
       "  0%|          | 0/28 [00:00<?, ?it/s]"
      ]
     },
     "metadata": {},
     "output_type": "display_data"
    },
    {
     "name": "stdout",
     "output_type": "stream",
     "text": [
      "Calculating ChemLIBS Vacuum 250-1000 values\n"
     ]
    },
    {
     "data": {
      "application/vnd.jupyter.widget-view+json": {
       "model_id": "bc9476189f314185a8e6be69af5318d2",
       "version_major": 2,
       "version_minor": 0
      },
      "text/plain": [
       "  0%|          | 0/28 [00:00<?, ?it/s]"
      ]
     },
     "metadata": {},
     "output_type": "display_data"
    },
    {
     "name": "stdout",
     "output_type": "stream",
     "text": [
      "Calculating LANL Mars 0-750 values\n"
     ]
    },
    {
     "data": {
      "application/vnd.jupyter.widget-view+json": {
       "model_id": "97dc558481d6412ba67d42eef6af1c3a",
       "version_major": 2,
       "version_minor": 0
      },
      "text/plain": [
       "  0%|          | 0/37 [00:00<?, ?it/s]"
      ]
     },
     "metadata": {},
     "output_type": "display_data"
    },
    {
     "name": "stdout",
     "output_type": "stream",
     "text": [
      "Calculating LANL Mars 250-1000 values\n"
     ]
    },
    {
     "data": {
      "application/vnd.jupyter.widget-view+json": {
       "model_id": "5e643d13ac4e492daeef61a746085649",
       "version_major": 2,
       "version_minor": 0
      },
      "text/plain": [
       "  0%|          | 0/37 [00:00<?, ?it/s]"
      ]
     },
     "metadata": {},
     "output_type": "display_data"
    },
    {
     "data": {
      "text/html": [
       "<div>\n",
       "<style scoped>\n",
       "    .dataframe tbody tr th:only-of-type {\n",
       "        vertical-align: middle;\n",
       "    }\n",
       "\n",
       "    .dataframe tbody tr th {\n",
       "        vertical-align: top;\n",
       "    }\n",
       "\n",
       "    .dataframe thead th {\n",
       "        text-align: right;\n",
       "    }\n",
       "</style>\n",
       "<table border=\"1\" class=\"dataframe\">\n",
       "  <thead>\n",
       "    <tr style=\"text-align: right;\">\n",
       "      <th></th>\n",
       "      <th>element</th>\n",
       "      <th>instrument</th>\n",
       "      <th>atmosphere</th>\n",
       "      <th>num_range</th>\n",
       "      <th>vector</th>\n",
       "      <th>LOB_Braga</th>\n",
       "      <th>LOB_metals</th>\n",
       "      <th>LOD_Braga</th>\n",
       "      <th>LOD_metals</th>\n",
       "      <th>LOQ_Braga</th>\n",
       "      <th>LOQ_metals</th>\n",
       "    </tr>\n",
       "  </thead>\n",
       "  <tbody>\n",
       "    <tr>\n",
       "      <th>0</th>\n",
       "      <td>Li</td>\n",
       "      <td>ChemLIBS</td>\n",
       "      <td>Mars</td>\n",
       "      <td>0-750</td>\n",
       "      <td>8164.69898</td>\n",
       "      <td>3.787206</td>\n",
       "      <td>1.580008</td>\n",
       "      <td>7.597434</td>\n",
       "      <td>3.16962</td>\n",
       "      <td>23.022529</td>\n",
       "      <td>9.60491</td>\n",
       "    </tr>\n",
       "    <tr>\n",
       "      <th>1</th>\n",
       "      <td>MnO</td>\n",
       "      <td>ChemLIBS</td>\n",
       "      <td>Mars</td>\n",
       "      <td>0-750</td>\n",
       "      <td>260.473316</td>\n",
       "      <td>0.120821</td>\n",
       "      <td>0.050406</td>\n",
       "      <td>0.242376</td>\n",
       "      <td>0.101118</td>\n",
       "      <td>0.734473</td>\n",
       "      <td>0.306419</td>\n",
       "    </tr>\n",
       "    <tr>\n",
       "      <th>2</th>\n",
       "      <td>Na2O</td>\n",
       "      <td>ChemLIBS</td>\n",
       "      <td>Mars</td>\n",
       "      <td>0-750</td>\n",
       "      <td>826.045923</td>\n",
       "      <td>0.383162</td>\n",
       "      <td>0.159854</td>\n",
       "      <td>0.768654</td>\n",
       "      <td>0.32068</td>\n",
       "      <td>2.329255</td>\n",
       "      <td>0.971756</td>\n",
       "    </tr>\n",
       "    <tr>\n",
       "      <th>3</th>\n",
       "      <td>Ni</td>\n",
       "      <td>ChemLIBS</td>\n",
       "      <td>Mars</td>\n",
       "      <td>0-750</td>\n",
       "      <td>15529.825718</td>\n",
       "      <td>7.203529</td>\n",
       "      <td>3.005285</td>\n",
       "      <td>14.450849</td>\n",
       "      <td>6.028838</td>\n",
       "      <td>43.790452</td>\n",
       "      <td>18.269207</td>\n",
       "    </tr>\n",
       "    <tr>\n",
       "      <th>4</th>\n",
       "      <td>Pb</td>\n",
       "      <td>ChemLIBS</td>\n",
       "      <td>Mars</td>\n",
       "      <td>0-750</td>\n",
       "      <td>880.090905</td>\n",
       "      <td>0.408231</td>\n",
       "      <td>0.170313</td>\n",
       "      <td>0.818944</td>\n",
       "      <td>0.34166</td>\n",
       "      <td>2.481649</td>\n",
       "      <td>1.035334</td>\n",
       "    </tr>\n",
       "    <tr>\n",
       "      <th>...</th>\n",
       "      <td>...</td>\n",
       "      <td>...</td>\n",
       "      <td>...</td>\n",
       "      <td>...</td>\n",
       "      <td>...</td>\n",
       "      <td>...</td>\n",
       "      <td>...</td>\n",
       "      <td>...</td>\n",
       "      <td>...</td>\n",
       "      <td>...</td>\n",
       "      <td>...</td>\n",
       "    </tr>\n",
       "    <tr>\n",
       "      <th>67</th>\n",
       "      <td>Pb</td>\n",
       "      <td>LANL</td>\n",
       "      <td>Mars</td>\n",
       "      <td>250-1000</td>\n",
       "      <td>520.481655</td>\n",
       "      <td>0.210368</td>\n",
       "      <td>0.078734</td>\n",
       "      <td>0.422015</td>\n",
       "      <td>0.157946</td>\n",
       "      <td>1.278834</td>\n",
       "      <td>0.478624</td>\n",
       "    </tr>\n",
       "    <tr>\n",
       "      <th>68</th>\n",
       "      <td>Rb</td>\n",
       "      <td>LANL</td>\n",
       "      <td>Mars</td>\n",
       "      <td>250-1000</td>\n",
       "      <td>7499.395355</td>\n",
       "      <td>3.031104</td>\n",
       "      <td>1.134438</td>\n",
       "      <td>6.080634</td>\n",
       "      <td>2.275773</td>\n",
       "      <td>18.426163</td>\n",
       "      <td>6.896282</td>\n",
       "    </tr>\n",
       "    <tr>\n",
       "      <th>69</th>\n",
       "      <td>SiO2</td>\n",
       "      <td>LANL</td>\n",
       "      <td>Mars</td>\n",
       "      <td>250-1000</td>\n",
       "      <td>8542.342845</td>\n",
       "      <td>3.452642</td>\n",
       "      <td>1.292206</td>\n",
       "      <td>6.926273</td>\n",
       "      <td>2.592267</td>\n",
       "      <td>20.988706</td>\n",
       "      <td>7.855354</td>\n",
       "    </tr>\n",
       "    <tr>\n",
       "      <th>70</th>\n",
       "      <td>Sr</td>\n",
       "      <td>LANL</td>\n",
       "      <td>Mars</td>\n",
       "      <td>250-1000</td>\n",
       "      <td>111411.378542</td>\n",
       "      <td>45.030224</td>\n",
       "      <td>16.853272</td>\n",
       "      <td>90.334189</td>\n",
       "      <td>33.808996</td>\n",
       "      <td>273.739966</td>\n",
       "      <td>102.451504</td>\n",
       "    </tr>\n",
       "    <tr>\n",
       "      <th>71</th>\n",
       "      <td>Zn</td>\n",
       "      <td>LANL</td>\n",
       "      <td>Mars</td>\n",
       "      <td>250-1000</td>\n",
       "      <td>14459.090656</td>\n",
       "      <td>5.844072</td>\n",
       "      <td>2.187236</td>\n",
       "      <td>11.72367</td>\n",
       "      <td>4.387769</td>\n",
       "      <td>35.526272</td>\n",
       "      <td>13.296268</td>\n",
       "    </tr>\n",
       "  </tbody>\n",
       "</table>\n",
       "<p>72 rows × 11 columns</p>\n",
       "</div>"
      ],
      "text/plain": [
       "   element instrument atmosphere num_range         vector  LOB_Braga  \\\n",
       "0       Li   ChemLIBS       Mars     0-750     8164.69898   3.787206   \n",
       "1      MnO   ChemLIBS       Mars     0-750     260.473316   0.120821   \n",
       "2     Na2O   ChemLIBS       Mars     0-750     826.045923   0.383162   \n",
       "3       Ni   ChemLIBS       Mars     0-750   15529.825718   7.203529   \n",
       "4       Pb   ChemLIBS       Mars     0-750     880.090905   0.408231   \n",
       "..     ...        ...        ...       ...            ...        ...   \n",
       "67      Pb       LANL       Mars  250-1000     520.481655   0.210368   \n",
       "68      Rb       LANL       Mars  250-1000    7499.395355   3.031104   \n",
       "69    SiO2       LANL       Mars  250-1000    8542.342845   3.452642   \n",
       "70      Sr       LANL       Mars  250-1000  111411.378542  45.030224   \n",
       "71      Zn       LANL       Mars  250-1000   14459.090656   5.844072   \n",
       "\n",
       "   LOB_metals  LOD_Braga LOD_metals   LOQ_Braga  LOQ_metals  \n",
       "0    1.580008   7.597434    3.16962   23.022529     9.60491  \n",
       "1    0.050406   0.242376   0.101118    0.734473    0.306419  \n",
       "2    0.159854   0.768654    0.32068    2.329255    0.971756  \n",
       "3    3.005285  14.450849   6.028838   43.790452   18.269207  \n",
       "4    0.170313   0.818944    0.34166    2.481649    1.035334  \n",
       "..        ...        ...        ...         ...         ...  \n",
       "67   0.078734   0.422015   0.157946    1.278834    0.478624  \n",
       "68   1.134438   6.080634   2.275773   18.426163    6.896282  \n",
       "69   1.292206   6.926273   2.592267   20.988706    7.855354  \n",
       "70  16.853272  90.334189  33.808996  273.739966  102.451504  \n",
       "71   2.187236   11.72367   4.387769   35.526272   13.296268  \n",
       "\n",
       "[72 rows x 11 columns]"
      ]
     },
     "metadata": {},
     "output_type": "display_data"
    }
   ],
   "source": [
    "envs = [['ChemLIBS', 'Mars'], ['ChemLIBS', 'Earth'], ['ChemLIBS', 'Vacuum'], ['LANL', 'Mars']]\n",
    "\n",
    "for env in envs:\n",
    "    results = get_results(env[0], env[1])\n",
    "    full_results = results if env == envs[0] else pd.concat[full_results, results].reset_index(drop=True)\n",
    "    \n",
    "display(full_results)"
   ]
  },
  {
   "cell_type": "code",
   "execution_count": null,
   "id": "2c977241",
   "metadata": {},
   "outputs": [],
   "source": []
  },
  {
   "cell_type": "code",
   "execution_count": null,
   "id": "d5a4a1b2",
   "metadata": {},
   "outputs": [],
   "source": []
  },
  {
   "cell_type": "code",
   "execution_count": null,
   "id": "2b2fc930",
   "metadata": {},
   "outputs": [],
   "source": []
  },
  {
   "cell_type": "code",
   "execution_count": null,
   "id": "35838d55",
   "metadata": {},
   "outputs": [],
   "source": []
  },
  {
   "cell_type": "code",
   "execution_count": 54,
   "id": "38833028",
   "metadata": {},
   "outputs": [],
   "source": [
    "# export\n",
    "#epath = \"C:\\\\Users\\\\ytsma22c\\\\Google Drive\\\\Darby Work\\\\LOD paper\\\\LOD_calcs.csv\"\n",
    "#full_results.to_csv(epath, index=False)"
   ]
  }
 ],
 "metadata": {
  "kernelspec": {
   "display_name": "Python 3",
   "language": "python",
   "name": "python3"
  },
  "language_info": {
   "codemirror_mode": {
    "name": "ipython",
    "version": 3
   },
   "file_extension": ".py",
   "mimetype": "text/x-python",
   "name": "python",
   "nbconvert_exporter": "python",
   "pygments_lexer": "ipython3",
   "version": "3.8.8"
  }
 },
 "nbformat": 4,
 "nbformat_minor": 5
}
