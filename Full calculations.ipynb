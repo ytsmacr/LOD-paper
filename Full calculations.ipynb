{
 "cells": [
  {
   "cell_type": "code",
   "execution_count": 158,
   "id": "5175712d",
   "metadata": {},
   "outputs": [],
   "source": [
    "import os\n",
    "import pandas as pd\n",
    "import numpy as np\n",
    "from tqdm.notebook import tqdm\n",
    "from sklearn.metrics import r2_score"
   ]
  },
  {
   "cell_type": "code",
   "execution_count": 3,
   "id": "9d50eb60",
   "metadata": {},
   "outputs": [],
   "source": [
    "# THIS CAN BE TURNED INTO ITS OWN FUNCTION\n",
    "# make dictionary of sensitivity values per environment\n",
    "sensitivity = {'LANL':{'Mars':{'braga':0.000245701982436336, 'metals':0.0000919578459982072}},\n",
    "               'ChemLIBS':{'Mars':{'braga':0.00028197645372017, 'metals':0.000117639483634021},\n",
    "               'Earth':{'braga':0.000444867993101603, 'metals':0.0000931716553399781},\n",
    "               'Vacuum':{'braga':0.000417553099169204, 'metals':0.000231951753003813}}}"
   ]
  },
  {
   "cell_type": "code",
   "execution_count": 296,
   "id": "d0fe633d",
   "metadata": {},
   "outputs": [],
   "source": [
    "def get_lbdq(folder, file_list, braga_sens, metals_sens):\n",
    "    \n",
    "    print(\"LBDQ:\")\n",
    "    \n",
    "    coeffs = []\n",
    "\n",
    "    # read models\n",
    "    for file in tqdm(file_list):\n",
    "        if \"coeff\" in file:       \n",
    "            path = folder + file\n",
    "            data = pd.read_csv(path, skiprows = [0])\n",
    "            coeffs.append(data)\n",
    "\n",
    "    # convert to dataframe\n",
    "    coeffs = pd.concat(coeffs).T\n",
    "\n",
    "    # adapt ot different element naming b/w datasets\n",
    "    if coeffs.iloc[0].str.contains('Composition:').any():\n",
    "        coeffs.columns = coeffs.iloc[0].map(lambda x: x.split(': ')[1])\n",
    "    else: coeffs.columns = coeffs.iloc[0].map(lambda x: x.split()[0])\n",
    "\n",
    "    coeffs = coeffs.drop(coeffs.index[0])\n",
    "\n",
    "    # calculate regression vectors\n",
    "    vector_list = coeffs.pow(2).sum().pow(.5)  #square root of sum of squares\n",
    "\n",
    "    # populate lists\n",
    "    elem_list = coeffs.columns\n",
    "\n",
    "\n",
    "    df = pd.DataFrame({'element' : elem_list,\n",
    "                         'vector' : vector_list\n",
    "    }).reset_index(drop = True)\n",
    "\n",
    "    # calculate values\n",
    "    types = ['LOB', 'LOD', 'LOQ']\n",
    "    factors = [1.645, 3.3, 10]\n",
    "\n",
    "    for i in range(len(types)):\n",
    "        df[types[i]+\"_Braga\"] = factors[i] * braga_sens * df['vector']\n",
    "        df[types[i]+\"_metals\"] = factors[i] * metals_sens * df['vector']\n",
    "        \n",
    "    # change col formats\n",
    "    cols = df.columns.drop('element')\n",
    "    df[cols] = df[cols].apply(pd.to_numeric)\n",
    "    df['element'] = df['element'].astype(str)\n",
    "\n",
    "    return df"
   ]
  },
  {
   "cell_type": "code",
   "execution_count": 350,
   "id": "974ccacb",
   "metadata": {},
   "outputs": [],
   "source": [
    "# generate comps\n",
    "comps_path = \"C:\\\\Users\\\\ytsma22c\\\\Google Drive\\\\Darby Work\\\\LOD paper\\\\tables\\\\TableS1_sample_compositions.xlsx\"\n",
    "lanl_comps = pd.read_excel(comps_path, sheet_name = \"LANL\")\n",
    "mhc_comps = pd.read_excel(comps_path, sheet_name = \"MHC\")\n",
    "comps = pd.merge(mhc_comps, lanl_comps, how = \"outer\")\n",
    "comps.columns = comps.columns.map(lambda x: x.split()[0])\n",
    "comps = comps.drop_duplicates(subset = 'Sample')\n",
    "comps['Sample'] = comps['Sample'].astype(str)\n",
    "comps = comps.sort_values(by='Sample')\n",
    "comps = comps.replace(np.nan, \"\", regex=True)\n",
    "cols = comps.columns.drop('Sample')\n",
    "comps[cols] = comps[cols].apply(pd.to_numeric)\n",
    "\n",
    "# make dictionary of spectrum names to sample names\n",
    "key_path = \"C:\\\\Users\\\\ytsma22c\\\\Google Drive\\\\Darby Work\\\\LOD paper\\\\ChemLIBS_spectrum_no_to_name.csv\"\n",
    "mhc_key = pd.read_csv(key_path)\n",
    "mhc_key = pd.Series(mhc_key.Sample.values, index=mhc_key.pkey).to_dict()"
   ]
  },
  {
   "cell_type": "code",
   "execution_count": 366,
   "id": "b01287e4",
   "metadata": {},
   "outputs": [],
   "source": [
    "def get_rmsep(folder, file_list, comps, lbdq):\n",
    "    \n",
    "    print(\"RMSEP:\")\n",
    "    \n",
    "    elem_list = []\n",
    "    avg_braga_list = []\n",
    "    rmsep_braga_list = []\n",
    "    r2_braga_list = []\n",
    "    avg_metal_list = []\n",
    "    rmsep_metal_list = []\n",
    "    r2_metal_list = []\n",
    "    \n",
    "    for file in tqdm(file_list):\n",
    "        if \"test\" in file:       \n",
    "            path = (folder + file)\n",
    "            data = pd.read_csv(path)\n",
    "            \n",
    "            # get element\n",
    "            if \"Composition:\" in data.columns[1]:\n",
    "                element = data.columns[1].split()[1]\n",
    "            else: element = data.columns[1].split()[0]\n",
    "            elem_list.append(element)\n",
    "            \n",
    "            # format columns\n",
    "            data.columns = ['pkey', 'Actual', 'Pred']\n",
    "            data = data.drop([0])\n",
    "            data.Pred = data.Pred.astype(float)  \n",
    "            \n",
    "            # remove predictions above 100 for majors\n",
    "            if element in ['SiO2', 'MnO', 'Na2O']:\n",
    "                data = data[data.Pred < 100]\n",
    "                \n",
    "            # remove all predictions below 0\n",
    "            data = data[data.Pred > 0].reset_index(drop=True).sort_index(axis=1)\n",
    "            \n",
    "            # rename ChemLIBS Spectrum names with sample names\n",
    "            if data.pkey.str.contains('Spectrum').any():\n",
    "                data = data.replace({'pkey': mhc_key})\n",
    "            \n",
    "            # format LANL spectra names to sample names\n",
    "            else:\n",
    "                data['pkey'] = data['pkey'].map(lambda x: x.split(\"_\")[1])\n",
    "                data['pkey'] = data['pkey'].map(lambda x: str(x).upper())\n",
    "                \n",
    "            \n",
    "            # order columns\n",
    "            data = data[['pkey', 'Actual', 'Pred']].drop_duplicates(subset = 'pkey').sort_values(by='pkey').reset_index(drop=True)\n",
    "               \n",
    "            # subselect relevant reference values\n",
    "            ref = lbdq[lbdq.element == element].reset_index(drop=True)\n",
    "\n",
    "            # add in Actual concentrations\n",
    "            temp_comps = comps[comps.Sample.isin(data.pkey)].reset_index(drop=True)         \n",
    "            print(data[~data.pkey.isin(comps.Sample)])\n",
    "                \n",
    "            '''            data['Actual'] = temp_comps[temp_comps['Sample'] == data['pkey']][element]\n",
    "            # remove any that happen to have NA for Actual (though why they would idk...)\n",
    "            data = data.dropna()\n",
    "            \n",
    "           ###BRAGA###\n",
    "            loq_braga = ref['LOQ_Braga'].iloc[0]\n",
    "            # select just predictions above the LOQ\n",
    "            braga = data[data.Pred > loq_braga].reset_index(drop=True)\n",
    "            # get average concentration\n",
    "            avg_braga = braga['Actual'].mean()\n",
    "            avg_braga_list.append(avg_braga)\n",
    "            # get R2\n",
    "            r2_braga = r2_score(braga.Actual, braga.Pred)\n",
    "            r2_braga_list.append(r2_braga)\n",
    "            # get RMSE-P\n",
    "            braga['sqerror'] = (braga.Actual - braga.Pred).pow(2)\n",
    "            rmsep_braga = braga['sqerror'].mean() ** 0.5\n",
    "            rmsep_braga_list.append(rmsep_braga)\n",
    "\n",
    "            ##METALS###\n",
    "            loq_metal = ref['LOQ_metals'].iloc[0]\n",
    "            # select just predictions above the LOQ\n",
    "            metal = data[data.Pred > loq_metal].reset_index(drop=True)\n",
    "            # get average concentration\n",
    "            avg_metal = metal['Actual'].mean()\n",
    "            avg_metal_list.append(avg_metal)\n",
    "            # get R2\n",
    "            r2_metal = r2_score(metal.Actual, metal.Pred)\n",
    "            r2_metal_list.append(r2_metal)\n",
    "            # get RMSE-P\n",
    "            metal['sqerror'] = (metal.Actual - metal.Pred).pow(2)\n",
    "            rmsep_metal = metal['sqerror'].mean() ** 0.5\n",
    "            rmsep_metal_list.append(rmsep_metal)\n",
    "    \n",
    "    df = pd.DataFrame({\n",
    "        \"element\" : elem_list,\n",
    "        \"Avg_Braga\" : avg_braga_list,\n",
    "        \"Avg_metals\" : avg_metal_list,\n",
    "        \"RMSEP_Braga\" : rmsep_braga_list,\n",
    "        \"RMSEP_metals\" : rmsep_metal_list,\n",
    "        \"R2_Braga\" : r2_braga_list,\n",
    "        \"R2_metals\" : r2_metal_list\n",
    "    })\n",
    "    \n",
    "    return df '''"
   ]
  },
  {
   "cell_type": "code",
   "execution_count": 367,
   "id": "5f694b63",
   "metadata": {},
   "outputs": [
    {
     "data": {
      "text/plain": [
       "\"    df = pd.merge(lbdq, rmsep, how='outer', on='element')\\n    df.insert(loc=2, column='num_range', value=n_range)\\n    # return full results\\n    return df \""
      ]
     },
     "execution_count": 367,
     "metadata": {},
     "output_type": "execute_result"
    }
   ],
   "source": [
    "# make function that returns values per environment\n",
    "def get_results(instrument, atmosphere, n_range):\n",
    "    \n",
    "    print('Calculating for', instrument, atmosphere, n_range)\n",
    "    \n",
    "    braga_sens = sensitivity[instrument][atmosphere]['braga']\n",
    "    metals_sens = sensitivity[instrument][atmosphere]['metals']\n",
    "\n",
    "    folder = \"C:\\\\Users\\\\ytsma22c\\\\Google Drive\\\\Darby Work\\\\LOD paper\\\\\"+instrument+\" calculations\\\\models\\\\\"+atmosphere+\"\\\\\"+n_range+\"\\\\\"\n",
    "    file_list = os.listdir(folder)\n",
    "\n",
    "    # calculate lbdq\n",
    "    lbdq = get_lbdq(folder, file_list, braga_sens, metals_sens)\n",
    "    # calculate rmsep with lbdq results\n",
    "    rmsep = get_rmsep(folder, file_list, comps, lbdq)\n",
    "    # merge results\n",
    "'''    df = pd.merge(lbdq, rmsep, how='outer', on='element')\n",
    "    df.insert(loc=2, column='num_range', value=n_range)\n",
    "    # return full results\n",
    "    return df '''"
   ]
  },
  {
   "cell_type": "code",
   "execution_count": 368,
   "id": "49757f63",
   "metadata": {
    "scrolled": false
   },
   "outputs": [
    {
     "name": "stdout",
     "output_type": "stream",
     "text": [
      "Calculating for ChemLIBS Earth 0-750\n",
      "LBDQ:\n"
     ]
    },
    {
     "data": {
      "application/vnd.jupyter.widget-view+json": {
       "model_id": "fb69eef9647c436981ca76b579b887fe",
       "version_major": 2,
       "version_minor": 0
      },
      "text/plain": [
       "  0%|          | 0/28 [00:00<?, ?it/s]"
      ]
     },
     "metadata": {},
     "output_type": "display_data"
    },
    {
     "name": "stdout",
     "output_type": "stream",
     "text": [
      "RMSEP:\n"
     ]
    },
    {
     "data": {
      "application/vnd.jupyter.widget-view+json": {
       "model_id": "ceaa81a58d4042d59b7b555e7020788f",
       "version_major": 2,
       "version_minor": 0
      },
      "text/plain": [
       "  0%|          | 0/28 [00:00<?, ?it/s]"
      ]
     },
     "metadata": {},
     "output_type": "display_data"
    },
    {
     "name": "stdout",
     "output_type": "stream",
     "text": [
      "Empty DataFrame\n",
      "Columns: [pkey, Actual, Pred]\n",
      "Index: []\n",
      "          pkey Actual      Pred\n",
      "28        33D3    NaN  0.234002\n",
      "122     EP3156    NaN  0.193488\n",
      "298         M6    NaN  0.080389\n",
      "385     MIX660    NaN  0.206158\n",
      "550  T12CT212A    NaN  0.115448\n",
      "554    TR2660A    NaN  0.188664\n",
      "562  TT1758D11    NaN  0.180110\n",
      "          pkey Actual      Pred\n",
      "31        33D3    NaN  3.305750\n",
      "138     EP3156    NaN  0.607284\n",
      "319         M6    NaN  0.684011\n",
      "416     MIX660    NaN  1.831700\n",
      "606  T12CT212A    NaN  4.311690\n",
      "611    TR2660A    NaN  4.162760\n",
      "621  TT1758D11    NaN  2.238130\n",
      "          pkey Actual     Pred\n",
      "19        33D3    NaN  82.7546\n",
      "279     MIX660    NaN  40.0420\n",
      "424  T12CT212A    NaN  21.9015\n",
      "428  TT1758D11    NaN  68.8412\n",
      "          pkey Actual      Pred\n",
      "86      EP3156    NaN   4.19165\n",
      "220         M6    NaN  12.83380\n",
      "317     MIX660    NaN   5.38423\n",
      "498  T12CT212A    NaN  31.03660\n",
      "502    TR2660A    NaN  19.59100\n",
      "          pkey Actual      Pred\n",
      "26        33D3    NaN    4.2012\n",
      "221         M6    NaN   46.8297\n",
      "313     MIX660    NaN   41.8143\n",
      "477  T12CT212A    NaN  122.3600\n",
      "479    TR2660A    NaN  124.3760\n",
      "          pkey Actual     Pred\n",
      "31        33D3    NaN  50.8653\n",
      "140     EP3156    NaN  41.2430\n",
      "326         M6    NaN  46.4552\n",
      "428     MIX660    NaN  47.8096\n",
      "625  T12CT212A    NaN  71.6608\n",
      "630    TR2660A    NaN  57.6561\n",
      "640  TT1758D11    NaN  49.7343\n",
      "          pkey Actual     Pred\n",
      "27        33D3    NaN  191.477\n",
      "116     EP3156    NaN  105.068\n",
      "337     MIX660    NaN  199.785\n",
      "512  T12CT212A    NaN  172.341\n",
      "516    TR2660A    NaN  237.806\n",
      "526  TT1758D11    NaN  195.412\n",
      "          pkey Actual      Pred\n",
      "31        33D3    NaN   90.0666\n",
      "272         M6    NaN  130.0420\n",
      "360     MIX660    NaN   96.8620\n",
      "537  T12CT212A    NaN   29.9707\n",
      "539    TR2660A    NaN   53.0361\n",
      "549  TT1758D11    NaN  105.6860\n",
      "Calculating for ChemLIBS Earth 250-1000\n",
      "LBDQ:\n"
     ]
    },
    {
     "data": {
      "application/vnd.jupyter.widget-view+json": {
       "model_id": "1066d4ae8dc84bd5959f208d466eac02",
       "version_major": 2,
       "version_minor": 0
      },
      "text/plain": [
       "  0%|          | 0/28 [00:00<?, ?it/s]"
      ]
     },
     "metadata": {},
     "output_type": "display_data"
    },
    {
     "name": "stdout",
     "output_type": "stream",
     "text": [
      "RMSEP:\n"
     ]
    },
    {
     "data": {
      "application/vnd.jupyter.widget-view+json": {
       "model_id": "536ad90427fd472db42efaf7900c42e4",
       "version_major": 2,
       "version_minor": 0
      },
      "text/plain": [
       "  0%|          | 0/28 [00:00<?, ?it/s]"
      ]
     },
     "metadata": {},
     "output_type": "display_data"
    },
    {
     "name": "stdout",
     "output_type": "stream",
     "text": [
      "      pkey Actual    Pred\n",
      "63  MIX383    NaN  6.7914\n",
      "          pkey Actual      Pred\n",
      "40        6D23    NaN  0.238758\n",
      "275       M9A4    NaN  0.125010\n",
      "317     MIX383    NaN  0.198821\n",
      "485  T12CT1302    NaN  0.109619\n",
      "          pkey Actual      Pred\n",
      "44        6D23    NaN  2.637810\n",
      "309       M9A4    NaN  0.126869\n",
      "359     MIX383    NaN  2.208550\n",
      "571  T12CT1302    NaN  4.741970\n",
      "       pkey Actual     Pred\n",
      "33     6D23    NaN  77.1309\n",
      "229  MIX383    NaN  29.1350\n",
      "          pkey Actual      Pred\n",
      "206       M9A4    NaN  11.87620\n",
      "259     MIX383    NaN   9.50808\n",
      "459  T12CT1302    NaN  21.71090\n",
      "          pkey Actual       Pred\n",
      "32        6D23    NaN    7.40427\n",
      "229       M9A4    NaN   37.75310\n",
      "273     MIX383    NaN   16.12250\n",
      "449  T12CT1302    NaN  218.71800\n",
      "          pkey Actual     Pred\n",
      "44        6D23    NaN  47.5516\n",
      "311       M9A4    NaN  43.0846\n",
      "366     MIX383    NaN  53.9591\n",
      "584  T12CT1302    NaN  68.7335\n",
      "          pkey Actual     Pred\n",
      "40        6D23    NaN  197.548\n",
      "277     MIX383    NaN  259.444\n",
      "449  T12CT1302    NaN  132.696\n",
      "          pkey Actual      Pred\n",
      "42        6D23    NaN  118.9560\n",
      "260       M9A4    NaN   88.7877\n",
      "306     MIX383    NaN   77.7656\n",
      "492  T12CT1302    NaN   38.3693\n"
     ]
    },
    {
     "ename": "ValueError",
     "evalue": "All objects passed were None",
     "output_type": "error",
     "traceback": [
      "\u001b[1;31m---------------------------------------------------------------------------\u001b[0m",
      "\u001b[1;31mValueError\u001b[0m                                Traceback (most recent call last)",
      "\u001b[1;32m<ipython-input-368-023b271c251b>\u001b[0m in \u001b[0;36m<module>\u001b[1;34m\u001b[0m\n\u001b[0;32m     14\u001b[0m \u001b[1;33m\u001b[0m\u001b[0m\n\u001b[0;32m     15\u001b[0m     \u001b[1;31m# get aggregate results\u001b[0m\u001b[1;33m\u001b[0m\u001b[1;33m\u001b[0m\u001b[1;33m\u001b[0m\u001b[0m\n\u001b[1;32m---> 16\u001b[1;33m     \u001b[0mresults\u001b[0m \u001b[1;33m=\u001b[0m \u001b[0mpd\u001b[0m\u001b[1;33m.\u001b[0m\u001b[0mconcat\u001b[0m\u001b[1;33m(\u001b[0m\u001b[1;33m[\u001b[0m\u001b[0mresults_0_750\u001b[0m\u001b[1;33m,\u001b[0m \u001b[0mresults_250_1000\u001b[0m\u001b[1;33m]\u001b[0m\u001b[1;33m,\u001b[0m \u001b[0mignore_index\u001b[0m\u001b[1;33m=\u001b[0m\u001b[1;32mTrue\u001b[0m\u001b[1;33m)\u001b[0m\u001b[1;33m.\u001b[0m\u001b[0mdrop\u001b[0m\u001b[1;33m(\u001b[0m\u001b[0mcolumns\u001b[0m \u001b[1;33m=\u001b[0m \u001b[1;34m'vector'\u001b[0m\u001b[1;33m)\u001b[0m\u001b[1;33m\u001b[0m\u001b[1;33m\u001b[0m\u001b[0m\n\u001b[0m\u001b[0;32m     17\u001b[0m     \u001b[0mavg\u001b[0m \u001b[1;33m=\u001b[0m \u001b[0mresults\u001b[0m\u001b[1;33m.\u001b[0m\u001b[0mgroupby\u001b[0m\u001b[1;33m(\u001b[0m\u001b[1;34m'element'\u001b[0m\u001b[1;33m,\u001b[0m \u001b[0mas_index\u001b[0m\u001b[1;33m=\u001b[0m\u001b[1;32mFalse\u001b[0m\u001b[1;33m)\u001b[0m\u001b[1;33m.\u001b[0m\u001b[0mmean\u001b[0m\u001b[1;33m(\u001b[0m\u001b[1;33m)\u001b[0m\u001b[1;33m\u001b[0m\u001b[1;33m\u001b[0m\u001b[0m\n\u001b[0;32m     18\u001b[0m     \u001b[0mstdev\u001b[0m \u001b[1;33m=\u001b[0m \u001b[0mresults\u001b[0m\u001b[1;33m.\u001b[0m\u001b[0mgroupby\u001b[0m\u001b[1;33m(\u001b[0m\u001b[1;34m'element'\u001b[0m\u001b[1;33m,\u001b[0m \u001b[0mas_index\u001b[0m\u001b[1;33m=\u001b[0m\u001b[1;32mFalse\u001b[0m\u001b[1;33m)\u001b[0m\u001b[1;33m.\u001b[0m\u001b[0mstd\u001b[0m\u001b[1;33m(\u001b[0m\u001b[1;33m)\u001b[0m\u001b[1;33m\u001b[0m\u001b[1;33m\u001b[0m\u001b[0m\n",
      "\u001b[1;32m~\\Anaconda3\\lib\\site-packages\\pandas\\core\\reshape\\concat.py\u001b[0m in \u001b[0;36mconcat\u001b[1;34m(objs, axis, join, ignore_index, keys, levels, names, verify_integrity, sort, copy)\u001b[0m\n\u001b[0;32m    283\u001b[0m     \u001b[0mValueError\u001b[0m\u001b[1;33m:\u001b[0m \u001b[0mIndexes\u001b[0m \u001b[0mhave\u001b[0m \u001b[0moverlapping\u001b[0m \u001b[0mvalues\u001b[0m\u001b[1;33m:\u001b[0m \u001b[1;33m[\u001b[0m\u001b[1;34m'a'\u001b[0m\u001b[1;33m]\u001b[0m\u001b[1;33m\u001b[0m\u001b[1;33m\u001b[0m\u001b[0m\n\u001b[0;32m    284\u001b[0m     \"\"\"\n\u001b[1;32m--> 285\u001b[1;33m     op = _Concatenator(\n\u001b[0m\u001b[0;32m    286\u001b[0m         \u001b[0mobjs\u001b[0m\u001b[1;33m,\u001b[0m\u001b[1;33m\u001b[0m\u001b[1;33m\u001b[0m\u001b[0m\n\u001b[0;32m    287\u001b[0m         \u001b[0maxis\u001b[0m\u001b[1;33m=\u001b[0m\u001b[0maxis\u001b[0m\u001b[1;33m,\u001b[0m\u001b[1;33m\u001b[0m\u001b[1;33m\u001b[0m\u001b[0m\n",
      "\u001b[1;32m~\\Anaconda3\\lib\\site-packages\\pandas\\core\\reshape\\concat.py\u001b[0m in \u001b[0;36m__init__\u001b[1;34m(self, objs, axis, join, keys, levels, names, ignore_index, verify_integrity, copy, sort)\u001b[0m\n\u001b[0;32m    358\u001b[0m \u001b[1;33m\u001b[0m\u001b[0m\n\u001b[0;32m    359\u001b[0m         \u001b[1;32mif\u001b[0m \u001b[0mlen\u001b[0m\u001b[1;33m(\u001b[0m\u001b[0mobjs\u001b[0m\u001b[1;33m)\u001b[0m \u001b[1;33m==\u001b[0m \u001b[1;36m0\u001b[0m\u001b[1;33m:\u001b[0m\u001b[1;33m\u001b[0m\u001b[1;33m\u001b[0m\u001b[0m\n\u001b[1;32m--> 360\u001b[1;33m             \u001b[1;32mraise\u001b[0m \u001b[0mValueError\u001b[0m\u001b[1;33m(\u001b[0m\u001b[1;34m\"All objects passed were None\"\u001b[0m\u001b[1;33m)\u001b[0m\u001b[1;33m\u001b[0m\u001b[1;33m\u001b[0m\u001b[0m\n\u001b[0m\u001b[0;32m    361\u001b[0m \u001b[1;33m\u001b[0m\u001b[0m\n\u001b[0;32m    362\u001b[0m         \u001b[1;31m# consolidate data & figure out what our result ndim is going to be\u001b[0m\u001b[1;33m\u001b[0m\u001b[1;33m\u001b[0m\u001b[1;33m\u001b[0m\u001b[0m\n",
      "\u001b[1;31mValueError\u001b[0m: All objects passed were None"
     ]
    }
   ],
   "source": [
    "envs = [['ChemLIBS', 'Earth']]\n",
    "\n",
    "#, ['ChemLIBS', 'Vacuum'], \n",
    "\n",
    "\n",
    "# WORK\n",
    "# ['ChemLIBS', 'Mars'], ['LANL', 'Mars']\n",
    "\n",
    "\n",
    "for env in envs:\n",
    "    # calculate results per model\n",
    "    results_0_750 = get_results(env[0], env[1], '0-750')\n",
    "    results_250_1000 = get_results(env[0], env[1], '250-1000')\n",
    "    \n",
    "    # get aggregate results\n",
    "    results = pd.concat([results_0_750, results_250_1000], ignore_index=True).drop(columns = 'vector')\n",
    "    avg = results.groupby('element', as_index=False).mean()\n",
    "    stdev = results.groupby('element', as_index=False).std()\n",
    "    sd_list = [i + '_sd' for i in stdev.columns[1:]]\n",
    "    sd_list.insert(0, 'element')\n",
    "    stdev.columns = sd_list\n",
    "    results = pd.merge(avg, stdev, how='outer',on='element')\n",
    "    \n",
    "    # add environment information\n",
    "    results.insert(loc=1, column='instrument', value=env[0])\n",
    "    results.insert(loc=2, column='atmosphere', value=env[1])\n",
    "    \n",
    "    # update full table\n",
    "    full_results = results if env == envs[0] else pd.concat([full_results, results], ignore_index=True)\n",
    "\n",
    "display(full_results)"
   ]
  },
  {
   "cell_type": "code",
   "execution_count": null,
   "id": "ac86f127",
   "metadata": {},
   "outputs": [],
   "source": []
  },
  {
   "cell_type": "code",
   "execution_count": null,
   "id": "35838d55",
   "metadata": {},
   "outputs": [],
   "source": []
  },
  {
   "cell_type": "code",
   "execution_count": 54,
   "id": "38833028",
   "metadata": {},
   "outputs": [],
   "source": [
    "# export\n",
    "#epath = \"C:\\\\Users\\\\ytsma22c\\\\Google Drive\\\\Darby Work\\\\LOD paper\\\\LOD_calcs.csv\"\n",
    "#full_results.to_csv(epath, index=False)"
   ]
  }
 ],
 "metadata": {
  "kernelspec": {
   "display_name": "Python 3",
   "language": "python",
   "name": "python3"
  },
  "language_info": {
   "codemirror_mode": {
    "name": "ipython",
    "version": 3
   },
   "file_extension": ".py",
   "mimetype": "text/x-python",
   "name": "python",
   "nbconvert_exporter": "python",
   "pygments_lexer": "ipython3",
   "version": "3.8.8"
  }
 },
 "nbformat": 4,
 "nbformat_minor": 5
}
