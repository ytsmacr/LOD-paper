{
 "cells": [
  {
   "cell_type": "code",
   "execution_count": 3,
   "id": "5175712d",
   "metadata": {},
   "outputs": [],
   "source": [
    "import os\n",
    "import pandas as pd\n",
    "import numpy as np\n",
    "from tqdm.notebook import tqdm\n",
    "from sklearn.metrics import r2_score"
   ]
  },
  {
   "cell_type": "code",
   "execution_count": 6,
   "id": "974ccacb",
   "metadata": {},
   "outputs": [],
   "source": [
    "# generate comps\n",
    "comps_path = \"C:\\\\Users\\\\ytsma22c\\\\Google Drive\\\\Darby Work\\\\LOD paper\\\\tables\\\\TableS1_sample_compositions.xlsx\"\n",
    "lanl_comps = pd.read_excel(comps_path, sheet_name = \"LANL\")\n",
    "mhc_comps = pd.read_excel(comps_path, sheet_name = \"MHC\")\n",
    "comps = pd.merge(mhc_comps, lanl_comps, how = \"outer\") # merge comps\n",
    "comps.columns = comps.columns.map(lambda x: x.split()[0])\n",
    "comps = comps.drop_duplicates(subset = 'Sample') # remove duplicates\n",
    "comps['Sample'] = comps['Sample'].astype(str)\n",
    "comps = comps.sort_values(by='Sample')\n",
    "comps = comps.replace(np.nan, \"\", regex=True)\n",
    "cols = comps.columns.drop('Sample')\n",
    "comps[cols] = comps[cols].apply(pd.to_numeric) # make columns numeric\n",
    "\n",
    "# make dictionary of spectrum names to sample names\n",
    "key_path = \"C:\\\\Users\\\\ytsma22c\\\\Google Drive\\\\Darby Work\\\\LOD paper\\\\ChemLIBS_spectrum_no_to_name.csv\"\n",
    "mhc_key = pd.read_csv(key_path)\n",
    "mhc_key = pd.Series(mhc_key.Sample.values, index=mhc_key.pkey).to_dict()"
   ]
  },
  {
   "cell_type": "code",
   "execution_count": 4,
   "id": "9d50eb60",
   "metadata": {},
   "outputs": [],
   "source": [
    "# THIS CAN BE TURNED INTO ITS OWN FUNCTION\n",
    "# make dictionary of sensitivity values per environment\n",
    "sensitivity = {'LANL':{'Mars':{'braga':0.000245701982436336, 'metals':0.0000919578459982072}},\n",
    "               'ChemLIBS':{'Mars':{'braga':0.00028197645372017, 'metals':0.000117639483634021},\n",
    "               'Earth':{'braga':0.000444867993101603, 'metals':0.0000931716553399781},\n",
    "               'Vacuum':{'braga':0.000417553099169204, 'metals':0.000231951753003813}}}"
   ]
  },
  {
   "cell_type": "code",
   "execution_count": 5,
   "id": "d0fe633d",
   "metadata": {},
   "outputs": [],
   "source": [
    "# function that calculates LBDQs from model and instrument sensitivity\n",
    "def get_lbdq(folder, file_list, braga_sens, metals_sens):\n",
    "    \n",
    "    print(\"LBDQ:\")\n",
    "    \n",
    "    coeffs = []\n",
    "\n",
    "    # read models\n",
    "    for file in tqdm(file_list):\n",
    "        if \"coeff\" in file:       \n",
    "            path = folder + file\n",
    "            data = pd.read_csv(path, skiprows = [0])\n",
    "            coeffs.append(data)\n",
    "\n",
    "    # convert to dataframe\n",
    "    coeffs = pd.concat(coeffs).T\n",
    "\n",
    "    # adapt ot different element naming b/w datasets\n",
    "    if coeffs.iloc[0].str.contains('Composition:').any():\n",
    "        coeffs.columns = coeffs.iloc[0].map(lambda x: x.split(': ')[1])\n",
    "    else: coeffs.columns = coeffs.iloc[0].map(lambda x: x.split()[0])\n",
    "\n",
    "    coeffs = coeffs.drop(coeffs.index[0])\n",
    "\n",
    "    # calculate regression vectors\n",
    "    vector_list = coeffs.pow(2).sum().pow(.5)  #square root of sum of squares\n",
    "\n",
    "    # populate lists\n",
    "    elem_list = coeffs.columns\n",
    "\n",
    "\n",
    "    df = pd.DataFrame({'element' : elem_list,\n",
    "                         'vector' : vector_list\n",
    "    }).reset_index(drop = True)\n",
    "\n",
    "    # calculate values\n",
    "    types = ['LOB', 'LOD', 'LOQ']\n",
    "    factors = [1.645, 3.3, 10]\n",
    "\n",
    "    for i in range(len(types)):\n",
    "        df[types[i]+\"_Braga\"] = factors[i] * braga_sens * df['vector']\n",
    "        df[types[i]+\"_metals\"] = factors[i] * metals_sens * df['vector']\n",
    "        \n",
    "    # change col formats\n",
    "    cols = df.columns.drop('element')\n",
    "    df[cols] = df[cols].apply(pd.to_numeric)\n",
    "    df['element'] = df['element'].astype(str)\n",
    "\n",
    "    return df"
   ]
  },
  {
   "cell_type": "code",
   "execution_count": 40,
   "id": "b01287e4",
   "metadata": {},
   "outputs": [],
   "source": [
    "# function that calculates RMSEPs\n",
    "def get_rmsep(folder, file_list, comps, lbdq):\n",
    "    \n",
    "    print(\"RMSEP:\")\n",
    "    \n",
    "    elem_list = []\n",
    "    avg_braga_list = []\n",
    "    rmsep_braga_list = []\n",
    "    r2_braga_list = []\n",
    "    avg_metal_list = []\n",
    "    rmsep_metal_list = []\n",
    "    r2_metal_list = []\n",
    "    no_comps_list = []\n",
    "    \n",
    "    for file in tqdm(file_list):\n",
    "        if \"test\" in file:       \n",
    "            path = (folder + file)\n",
    "            data = pd.read_csv(path)\n",
    "            \n",
    "            # get element\n",
    "            if \"Composition:\" in data.columns[1]:\n",
    "                element = data.columns[1].split()[1]\n",
    "            else: element = data.columns[1].split()[0]\n",
    "            elem_list.append(element)\n",
    "            \n",
    "            # format columns\n",
    "            data.columns = ['pkey', 'Actual', 'Pred']\n",
    "            data = data.drop([0])\n",
    "            data.Pred = data.Pred.astype(float)  \n",
    "            \n",
    "            # remove predictions above 100 for majors\n",
    "            if element in ['SiO2', 'MnO', 'Na2O']:\n",
    "                data = data[data.Pred < 100]\n",
    "                \n",
    "            # remove all predictions below 0\n",
    "            data = data[data.Pred > 0].reset_index(drop=True).sort_index(axis=1)\n",
    "            \n",
    "            # rename ChemLIBS Spectrum names with sample names\n",
    "            if data.pkey.str.contains('Spectrum').any():\n",
    "                data = data.replace({'pkey': mhc_key})\n",
    "            \n",
    "            # format LANL spectra names to sample names\n",
    "            else:\n",
    "                data['pkey'] = data['pkey'].map(lambda x: x.split(\"_\")[1])\n",
    "                data['pkey'] = data['pkey'].map(lambda x: str(x).upper())\n",
    "                   \n",
    "            # order columns\n",
    "            data = data[['pkey', 'Actual', 'Pred']].drop_duplicates(subset = 'pkey').sort_values(by='pkey').reset_index(drop=True)\n",
    "               \n",
    "            # subselect relevant reference values\n",
    "            ref = lbdq[lbdq.element == element].reset_index(drop=True)\n",
    "\n",
    "            # add in Actual concentrations\n",
    "            temp_comps = comps[comps.Sample.isin(data.pkey)].reset_index(drop=True) \n",
    "            # note and remove samples that don't have composition info\n",
    "            no_comps = data[~data.pkey.isin(temp_comps.Sample)]\n",
    "            if len(no_comps) > 0:\n",
    "                no_comps_list.append(list(no_comps.pkey)) # add to list\n",
    "                data = pd.concat([data, no_comps]).drop_duplicates(keep=False).reset_index(drop=True)\n",
    "            \n",
    "            data['Actual'] = temp_comps[temp_comps['Sample'] == data['pkey']][element]\n",
    "            \n",
    "            # remove NaN Acutal values....which idk why they'd be there\n",
    "            data = data.dropna()\n",
    "            \n",
    "           ###BRAGA###\n",
    "            loq_braga = ref['LOQ_Braga'].iloc[0]\n",
    "            # select just predictions above the LOQ\n",
    "            braga = data[data.Pred > loq_braga].reset_index(drop=True)\n",
    "            # get average concentration\n",
    "            avg_braga = braga['Actual'].mean()\n",
    "            avg_braga_list.append(avg_braga)\n",
    "            # get R2\n",
    "            r2_braga = r2_score(braga.Actual, braga.Pred)\n",
    "            r2_braga_list.append(r2_braga)\n",
    "            # get RMSE-P\n",
    "            braga['sqerror'] = (braga.Actual - braga.Pred).pow(2)\n",
    "            rmsep_braga = braga['sqerror'].mean() ** 0.5\n",
    "            rmsep_braga_list.append(rmsep_braga)\n",
    "\n",
    "            ##METALS###\n",
    "            loq_metal = ref['LOQ_metals'].iloc[0]\n",
    "            # select just predictions above the LOQ\n",
    "            metal = data[data.Pred > loq_metal].reset_index(drop=True)\n",
    "            # get average concentration\n",
    "            avg_metal = metal['Actual'].mean()\n",
    "            avg_metal_list.append(avg_metal)\n",
    "            # get R2\n",
    "            r2_metal = r2_score(metal.Actual, metal.Pred)\n",
    "            r2_metal_list.append(r2_metal)\n",
    "            # get RMSE-P\n",
    "            metal['sqerror'] = (metal.Actual - metal.Pred).pow(2)\n",
    "            rmsep_metal = metal['sqerror'].mean() ** 0.5\n",
    "            rmsep_metal_list.append(rmsep_metal)\n",
    "    \n",
    "    df = pd.DataFrame({\n",
    "        \"element\" : elem_list,\n",
    "        \"Avg_Braga\" : avg_braga_list,\n",
    "        \"Avg_metals\" : avg_metal_list,\n",
    "        \"RMSEP_Braga\" : rmsep_braga_list,\n",
    "        \"RMSEP_metals\" : rmsep_metal_list,\n",
    "        \"R2_Braga\" : r2_braga_list,\n",
    "        \"R2_metals\" : r2_metal_list\n",
    "    })\n",
    "    \n",
    "    # give list of samples without comps\n",
    "    no_comps_list = [item for sublist in no_comps_list for item in sublist]\n",
    "    no_comps_list = list(set(no_comps_list))\n",
    "    if len(no_comps_list) > 0: print(\"Sample(s)\", str(no_comps_list), \"have no composition info and were removed\")\n",
    "    \n",
    "    return df"
   ]
  },
  {
   "cell_type": "code",
   "execution_count": 17,
   "id": "5f694b63",
   "metadata": {},
   "outputs": [],
   "source": [
    "# function that returns values per environment\n",
    "def get_results(instrument, atmosphere, n_range):\n",
    "    \n",
    "    print('Calculating for', instrument, atmosphere, n_range)\n",
    "    \n",
    "    braga_sens = sensitivity[instrument][atmosphere]['braga']\n",
    "    metals_sens = sensitivity[instrument][atmosphere]['metals']\n",
    "\n",
    "    folder = \"C:\\\\Users\\\\ytsma22c\\\\Google Drive\\\\Darby Work\\\\LOD paper\\\\\"+instrument+\" calculations\\\\models\\\\\"+atmosphere+\"\\\\\"+n_range+\"\\\\\"\n",
    "    file_list = os.listdir(folder)\n",
    "\n",
    "    # calculate lbdq\n",
    "    lbdq = get_lbdq(folder, file_list, braga_sens, metals_sens)\n",
    "    # calculate rmsep with lbdq results\n",
    "    rmsep = get_rmsep(folder, file_list, comps, lbdq)\n",
    "    # merge results\n",
    "    df = pd.merge(lbdq, rmsep, how='outer', on='element')\n",
    "    df.insert(loc=2, column='num_range', value=n_range)\n",
    "    # return full results\n",
    "    return df "
   ]
  },
  {
   "cell_type": "code",
   "execution_count": 46,
   "id": "49757f63",
   "metadata": {
    "scrolled": false
   },
   "outputs": [
    {
     "name": "stdout",
     "output_type": "stream",
     "text": [
      "Calculating for LANL Mars 0-750\n",
      "LBDQ:\n"
     ]
    },
    {
     "data": {
      "application/vnd.jupyter.widget-view+json": {
       "model_id": "d655fed8e3474c40996f3b753ef5079b",
       "version_major": 2,
       "version_minor": 0
      },
      "text/plain": [
       "  0%|          | 0/37 [00:00<?, ?it/s]"
      ]
     },
     "metadata": {},
     "output_type": "display_data"
    },
    {
     "name": "stdout",
     "output_type": "stream",
     "text": [
      "RMSEP:\n"
     ]
    },
    {
     "data": {
      "application/vnd.jupyter.widget-view+json": {
       "model_id": "1a11adbc9a6f47dead279bff9bbd4ce2",
       "version_major": 2,
       "version_minor": 0
      },
      "text/plain": [
       "  0%|          | 0/37 [00:00<?, ?it/s]"
      ]
     },
     "metadata": {},
     "output_type": "display_data"
    },
    {
     "name": "stdout",
     "output_type": "stream",
     "text": [
      "Calculating for LANL Mars 250-1000\n",
      "LBDQ:\n"
     ]
    },
    {
     "data": {
      "application/vnd.jupyter.widget-view+json": {
       "model_id": "33a0df2fc14a4fde9c65a4e028b1e6ab",
       "version_major": 2,
       "version_minor": 0
      },
      "text/plain": [
       "  0%|          | 0/37 [00:00<?, ?it/s]"
      ]
     },
     "metadata": {},
     "output_type": "display_data"
    },
    {
     "name": "stdout",
     "output_type": "stream",
     "text": [
      "RMSEP:\n"
     ]
    },
    {
     "data": {
      "application/vnd.jupyter.widget-view+json": {
       "model_id": "3116cc49db364269ab7078b71ea4c73c",
       "version_major": 2,
       "version_minor": 0
      },
      "text/plain": [
       "  0%|          | 0/37 [00:00<?, ?it/s]"
      ]
     },
     "metadata": {},
     "output_type": "display_data"
    },
    {
     "name": "stdout",
     "output_type": "stream",
     "text": [
      "Calculating for ChemLIBS Mars 0-750\n",
      "LBDQ:\n"
     ]
    },
    {
     "name": "stderr",
     "output_type": "stream",
     "text": [
      "C:\\Users\\ytsma22c\\Anaconda3\\lib\\site-packages\\sklearn\\metrics\\_regression.py:682: UndefinedMetricWarning: R^2 score is not well-defined with less than two samples.\n",
      "  warnings.warn(msg, UndefinedMetricWarning)\n"
     ]
    },
    {
     "data": {
      "application/vnd.jupyter.widget-view+json": {
       "model_id": "9863e65762b542e6994e7c17ee628368",
       "version_major": 2,
       "version_minor": 0
      },
      "text/plain": [
       "  0%|          | 0/28 [00:00<?, ?it/s]"
      ]
     },
     "metadata": {},
     "output_type": "display_data"
    },
    {
     "name": "stdout",
     "output_type": "stream",
     "text": [
      "RMSEP:\n"
     ]
    },
    {
     "data": {
      "application/vnd.jupyter.widget-view+json": {
       "model_id": "2fd4dcd3e32b4c05884c93b547384001",
       "version_major": 2,
       "version_minor": 0
      },
      "text/plain": [
       "  0%|          | 0/28 [00:00<?, ?it/s]"
      ]
     },
     "metadata": {},
     "output_type": "display_data"
    },
    {
     "name": "stdout",
     "output_type": "stream",
     "text": [
      "Calculating for ChemLIBS Mars 250-1000\n",
      "LBDQ:\n"
     ]
    },
    {
     "data": {
      "application/vnd.jupyter.widget-view+json": {
       "model_id": "84340ab1670c4712a5bde2b6d4933d7e",
       "version_major": 2,
       "version_minor": 0
      },
      "text/plain": [
       "  0%|          | 0/28 [00:00<?, ?it/s]"
      ]
     },
     "metadata": {},
     "output_type": "display_data"
    },
    {
     "name": "stdout",
     "output_type": "stream",
     "text": [
      "RMSEP:\n"
     ]
    },
    {
     "data": {
      "application/vnd.jupyter.widget-view+json": {
       "model_id": "e2debaa53ada43f9b3db627a48d4e6d7",
       "version_major": 2,
       "version_minor": 0
      },
      "text/plain": [
       "  0%|          | 0/28 [00:00<?, ?it/s]"
      ]
     },
     "metadata": {},
     "output_type": "display_data"
    },
    {
     "name": "stdout",
     "output_type": "stream",
     "text": [
      "Calculating for ChemLIBS Earth 0-750\n",
      "LBDQ:\n"
     ]
    },
    {
     "data": {
      "application/vnd.jupyter.widget-view+json": {
       "model_id": "b3dc0097eafb4f99a17e3aef889afd89",
       "version_major": 2,
       "version_minor": 0
      },
      "text/plain": [
       "  0%|          | 0/28 [00:00<?, ?it/s]"
      ]
     },
     "metadata": {},
     "output_type": "display_data"
    },
    {
     "name": "stdout",
     "output_type": "stream",
     "text": [
      "RMSEP:\n"
     ]
    },
    {
     "data": {
      "application/vnd.jupyter.widget-view+json": {
       "model_id": "5ed7e2eac63b4d50bcb3d15a7fce3dca",
       "version_major": 2,
       "version_minor": 0
      },
      "text/plain": [
       "  0%|          | 0/28 [00:00<?, ?it/s]"
      ]
     },
     "metadata": {},
     "output_type": "display_data"
    },
    {
     "name": "stdout",
     "output_type": "stream",
     "text": [
      "Sample(s) ['M6', 'TR2660A', '33D3', 'TT1758D11', 'MIX660', 'EP3156', 'T12CT212A'] have no composition info and were removed\n",
      "Calculating for ChemLIBS Earth 250-1000\n",
      "LBDQ:\n"
     ]
    },
    {
     "data": {
      "application/vnd.jupyter.widget-view+json": {
       "model_id": "4dadad0dda854bd6b55363ddb562f3a8",
       "version_major": 2,
       "version_minor": 0
      },
      "text/plain": [
       "  0%|          | 0/28 [00:00<?, ?it/s]"
      ]
     },
     "metadata": {},
     "output_type": "display_data"
    },
    {
     "name": "stdout",
     "output_type": "stream",
     "text": [
      "RMSEP:\n"
     ]
    },
    {
     "data": {
      "application/vnd.jupyter.widget-view+json": {
       "model_id": "8487668735364e35b3cdc9eb2041569a",
       "version_major": 2,
       "version_minor": 0
      },
      "text/plain": [
       "  0%|          | 0/28 [00:00<?, ?it/s]"
      ]
     },
     "metadata": {},
     "output_type": "display_data"
    },
    {
     "name": "stdout",
     "output_type": "stream",
     "text": [
      "Sample(s) ['M9A4', 'MIX383', '6D23', 'T12CT1302'] have no composition info and were removed\n",
      "Calculating for ChemLIBS Vacuum 0-750\n",
      "LBDQ:\n"
     ]
    },
    {
     "data": {
      "application/vnd.jupyter.widget-view+json": {
       "model_id": "2f60cc00679e4503becdfd532b6b8db3",
       "version_major": 2,
       "version_minor": 0
      },
      "text/plain": [
       "  0%|          | 0/28 [00:00<?, ?it/s]"
      ]
     },
     "metadata": {},
     "output_type": "display_data"
    },
    {
     "name": "stdout",
     "output_type": "stream",
     "text": [
      "RMSEP:\n"
     ]
    },
    {
     "data": {
      "application/vnd.jupyter.widget-view+json": {
       "model_id": "d9eaa1c1705946b788c0935212b8533f",
       "version_major": 2,
       "version_minor": 0
      },
      "text/plain": [
       "  0%|          | 0/28 [00:00<?, ?it/s]"
      ]
     },
     "metadata": {},
     "output_type": "display_data"
    },
    {
     "name": "stdout",
     "output_type": "stream",
     "text": [
      "Sample(s) ['M6', 'TR2660A', '33D3', 'TT1758D11', 'MIX660', 'EP3156', 'T12CT212A'] have no composition info and were removed\n",
      "Calculating for ChemLIBS Vacuum 250-1000\n",
      "LBDQ:\n"
     ]
    },
    {
     "data": {
      "application/vnd.jupyter.widget-view+json": {
       "model_id": "212c968fb1ac443d89a3d4a2f63c8d5e",
       "version_major": 2,
       "version_minor": 0
      },
      "text/plain": [
       "  0%|          | 0/28 [00:00<?, ?it/s]"
      ]
     },
     "metadata": {},
     "output_type": "display_data"
    },
    {
     "name": "stdout",
     "output_type": "stream",
     "text": [
      "RMSEP:\n"
     ]
    },
    {
     "data": {
      "application/vnd.jupyter.widget-view+json": {
       "model_id": "04e250e6e4c2487294cdb09c98cbd23e",
       "version_major": 2,
       "version_minor": 0
      },
      "text/plain": [
       "  0%|          | 0/28 [00:00<?, ?it/s]"
      ]
     },
     "metadata": {},
     "output_type": "display_data"
    },
    {
     "name": "stdout",
     "output_type": "stream",
     "text": [
      "Sample(s) ['M9A4', 'MIX383', '6D23', 'T12CT1302'] have no composition info and were removed\n"
     ]
    }
   ],
   "source": [
    "envs = [['LANL', 'Mars'],['ChemLIBS', 'Mars'],['ChemLIBS', 'Earth'],['ChemLIBS', 'Vacuum']]\n",
    "\n",
    "for env in envs:\n",
    "    # calculate results per model\n",
    "    results_0_750 = get_results(env[0], env[1], '0-750')\n",
    "    results_250_1000 = get_results(env[0], env[1], '250-1000')\n",
    "    \n",
    "    # get aggregate results\n",
    "    detail_results = pd.concat([results_0_750, results_250_1000], ignore_index=True).drop(columns = 'vector')\n",
    "    avg = results.groupby('element', as_index=False).mean()\n",
    "    stdev = results.groupby('element', as_index=False).std()\n",
    "    sd_list = [i + '_sd' for i in stdev.columns[1:]]\n",
    "    sd_list.insert(0, 'element')\n",
    "    stdev.columns = sd_list\n",
    "    avg_results = pd.merge(avg, stdev, how='outer',on='element')\n",
    "    \n",
    "    # add environment information\n",
    "    detail_results.insert(loc=1, column='instrument', value=env[0])\n",
    "    detail_results.insert(loc=2, column='atmosphere', value=env[1])\n",
    "    avg_results.insert(loc=1, column='instrument', value=env[0])\n",
    "    avg_results.insert(loc=2, column='atmosphere', value=env[1])\n",
    "    \n",
    "    # update full table\n",
    "    full_avg_results = avg_results if env == envs[0] else pd.concat([full_results, results], ignore_index=True)\n",
    "    full_detail_results = detail_results if env == envs[0] else pd.concat([full_detail_results, detail_results], ignore_index=True)"
   ]
  },
  {
   "cell_type": "code",
   "execution_count": 47,
   "id": "38833028",
   "metadata": {},
   "outputs": [],
   "source": [
    "# export\n",
    "full_path = \"C:\\\\Users\\\\ytsma22c\\\\Google Drive\\\\Darby Work\\\\LOD paper\\\\averaged_LOD_RMSEP_results.csv\"\n",
    "detail_path = \"C:\\\\Users\\\\ytsma22c\\\\Google Drive\\\\Darby Work\\\\LOD paper\\\\detailed_LOD_RMSEP_results.csv\"\n",
    "full_avg_results.to_csv(full_path, index=False)\n",
    "full_detail_results.to_csv(detail_path, index=False)"
   ]
  }
 ],
 "metadata": {
  "kernelspec": {
   "display_name": "Python 3",
   "language": "python",
   "name": "python3"
  },
  "language_info": {
   "codemirror_mode": {
    "name": "ipython",
    "version": 3
   },
   "file_extension": ".py",
   "mimetype": "text/x-python",
   "name": "python",
   "nbconvert_exporter": "python",
   "pygments_lexer": "ipython3",
   "version": "3.8.8"
  }
 },
 "nbformat": 4,
 "nbformat_minor": 5
}
