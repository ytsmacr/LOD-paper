{
 "cells": [
  {
   "cell_type": "code",
   "execution_count": 11,
   "id": "59388e33",
   "metadata": {},
   "outputs": [],
   "source": [
    "import pandas as pd\n",
    "from tqdm.notebook import tqdm\n",
    "import numpy as np\n",
    "import os\n",
    "from statistics import mean\n",
    "\n",
    "fp = \"G:\\\\My Drive\\\\Darby Work\\\\Ytsma and Dyar 2021 (LOD paper)\\\\\""
   ]
  },
  {
   "cell_type": "markdown",
   "id": "ba9a26a0",
   "metadata": {},
   "source": [
    "### Braga method"
   ]
  },
  {
   "cell_type": "code",
   "execution_count": 15,
   "id": "50151b7b",
   "metadata": {},
   "outputs": [],
   "source": [
    "# define blank/noise regions in ChemLIBS and ChemCam spectra\n",
    "blank_braga = pd.read_csv(fp + \"figures\\\\braga_noise_regions.csv\") \n",
    "\n",
    "# import all spectra\n",
    "dp = fp + 'datasets//'\n",
    "cc_mars = pd.read_csv(dp+'CC_norm3_spectra.csv')\n",
    "cc_mars_unnorm = pd.read_csv(dp+'CC_unnorm_spectra.csv')\n",
    "cl_mars = pd.read_csv(dp+'CL_Mars_norm3_spectra_matched.csv')\n",
    "cl_earth = pd.read_csv(dp+'CL_Earth_norm3_spectra_matched.csv')\n",
    "cl_vac = pd.read_csv(dp+'CL_Vacuum_norm3_spectra_matched.csv')\n",
    "cl_mars_unnorm = pd.read_csv(dp+'CL_Mars_unnorm_spectra_matched.csv')\n",
    "cl_earth_unnorm = pd.read_csv(dp+'CL_Earth_unnorm_spectra_matched.csv')\n",
    "cl_vac_unnorm = pd.read_csv(dp+'CL_Vacuum_unnorm_spectra_matched.csv')"
   ]
  },
  {
   "cell_type": "code",
   "execution_count": 16,
   "id": "ded23c24",
   "metadata": {},
   "outputs": [
    {
     "data": {
      "application/vnd.jupyter.widget-view+json": {
       "model_id": "be257c1a146a4346afa708f69acb1cde",
       "version_major": 2,
       "version_minor": 0
      },
      "text/plain": [
       "  0%|          | 0/8 [00:00<?, ?it/s]"
      ]
     },
     "metadata": {},
     "output_type": "display_data"
    },
    {
     "data": {
      "application/vnd.jupyter.widget-view+json": {
       "model_id": "",
       "version_major": 2,
       "version_minor": 0
      },
      "text/plain": [
       "  0%|          | 0/5483 [00:00<?, ?it/s]"
      ]
     },
     "metadata": {},
     "output_type": "display_data"
    },
    {
     "data": {
      "application/vnd.jupyter.widget-view+json": {
       "model_id": "",
       "version_major": 2,
       "version_minor": 0
      },
      "text/plain": [
       "  0%|          | 0/5483 [00:00<?, ?it/s]"
      ]
     },
     "metadata": {},
     "output_type": "display_data"
    },
    {
     "data": {
      "application/vnd.jupyter.widget-view+json": {
       "model_id": "",
       "version_major": 2,
       "version_minor": 0
      },
      "text/plain": [
       "  0%|          | 0/5483 [00:00<?, ?it/s]"
      ]
     },
     "metadata": {},
     "output_type": "display_data"
    },
    {
     "data": {
      "application/vnd.jupyter.widget-view+json": {
       "model_id": "",
       "version_major": 2,
       "version_minor": 0
      },
      "text/plain": [
       "  0%|          | 0/5483 [00:00<?, ?it/s]"
      ]
     },
     "metadata": {},
     "output_type": "display_data"
    },
    {
     "data": {
      "application/vnd.jupyter.widget-view+json": {
       "model_id": "",
       "version_major": 2,
       "version_minor": 0
      },
      "text/plain": [
       "  0%|          | 0/5483 [00:00<?, ?it/s]"
      ]
     },
     "metadata": {},
     "output_type": "display_data"
    },
    {
     "data": {
      "application/vnd.jupyter.widget-view+json": {
       "model_id": "",
       "version_major": 2,
       "version_minor": 0
      },
      "text/plain": [
       "  0%|          | 0/5483 [00:00<?, ?it/s]"
      ]
     },
     "metadata": {},
     "output_type": "display_data"
    },
    {
     "data": {
      "application/vnd.jupyter.widget-view+json": {
       "model_id": "",
       "version_major": 2,
       "version_minor": 0
      },
      "text/plain": [
       "  0%|          | 0/5483 [00:00<?, ?it/s]"
      ]
     },
     "metadata": {},
     "output_type": "display_data"
    },
    {
     "data": {
      "application/vnd.jupyter.widget-view+json": {
       "model_id": "",
       "version_major": 2,
       "version_minor": 0
      },
      "text/plain": [
       "  0%|          | 0/5483 [00:00<?, ?it/s]"
      ]
     },
     "metadata": {},
     "output_type": "display_data"
    }
   ],
   "source": [
    "# filter regions\n",
    "df_list = [cc_mars, cc_mars_unnorm, cl_earth, cl_mars, cl_vac, cl_earth_unnorm, cl_mars_unnorm, cl_vac_unnorm]\n",
    "\n",
    "for df in tqdm(df_list):\n",
    "    for row in tqdm(df.index, leave=False):\n",
    "        nm = df['wave'][row]\n",
    "        # remove rows below first region\n",
    "        if nm < blank_braga['start'][0]:\n",
    "            df.drop(row, axis = 'index', inplace=True)\n",
    "        # remove rows after last region\n",
    "        elif nm > blank_braga['stop'][len(blank_braga)-1]:\n",
    "            df.drop(row, axis = 'index', inplace=True)\n",
    "        # remove rows between the regions\n",
    "        for region in range(len(blank_braga)-1):\n",
    "            if (nm > blank_braga['stop'][region]) & (nm < blank_braga['start'][region+1]):\n",
    "                df.drop(row, axis = 'index', inplace=True)"
   ]
  },
  {
   "cell_type": "code",
   "execution_count": 29,
   "id": "a665bef5",
   "metadata": {},
   "outputs": [],
   "source": [
    "# redefine with updated dfs\n",
    "df_list = [cc_mars, cc_mars_unnorm, cl_earth, cl_mars, cl_vac, cl_earth_unnorm, cl_mars_unnorm, cl_vac_unnorm]\n",
    "inst_list = ['CC', 'CC', 'CL', 'CL', 'CL', 'CL', 'CL', 'CL']\n",
    "atm_list = [\"Mars\", \"Mars\", \"Earth\", \"Mars\", \"Vacuum\", \"Earth\", \"Mars\", \"Vacuum\"]\n",
    "norm_list = ['norm3', 'unnorm', 'norm3', 'norm3', 'norm3', 'unnorm', 'unnorm', 'unnorm']"
   ]
  },
  {
   "cell_type": "code",
   "execution_count": 30,
   "id": "2205fab4",
   "metadata": {},
   "outputs": [],
   "source": [
    "# summarise stdev across each row, take average\n",
    "sens_list = []\n",
    "for df in df_list:\n",
    "    sens = round(df.set_index('wave').std(axis=1).mean(),9)\n",
    "    sens_list.append(sens)\n",
    "\n",
    "# make dataframe\n",
    "braga_sensitivities = pd.DataFrame({\n",
    "    \"instrument\" : inst_list,\n",
    "    \"normalization\" : norm_list,\n",
    "    \"atmosphere\" : atm_list,\n",
    "    \"sensitivity\" : sens_list\n",
    "})"
   ]
  },
  {
   "cell_type": "markdown",
   "id": "5e43f968",
   "metadata": {},
   "source": [
    "### Metals method\n",
    "#### ChemLIBS"
   ]
  },
  {
   "cell_type": "code",
   "execution_count": 19,
   "id": "830a633f",
   "metadata": {},
   "outputs": [],
   "source": [
    "sp = dp + 'sensitivity//'\n",
    "earth_meta = pd.read_csv(sp+'metals_Earth_meta.csv')\n",
    "mars_meta = pd.read_csv(sp+'metals_Mars_meta.csv')\n",
    "vac_meta = pd.read_csv(sp+'metals_Vacuum_meta.csv')\n",
    "\n",
    "earth_unnorm = pd.read_csv(sp+'metals_Earth_unnorm.csv')\n",
    "mars_unnorm = pd.read_csv(sp+'metals_Mars_unnorm.csv')\n",
    "vac_unnorm = pd.read_csv(sp+'metals_Vacuum_unnorm.csv')\n",
    "earth_norm3 = pd.read_csv(sp+'metals_Earth_norm3.csv')\n",
    "mars_norm3 = pd.read_csv(sp+'metals_Mars_norm3.csv')\n",
    "vac_norm3 = pd.read_csv(sp+'metals_Vacuum_norm3.csv')"
   ]
  },
  {
   "cell_type": "code",
   "execution_count": 20,
   "id": "9d61713c",
   "metadata": {},
   "outputs": [],
   "source": [
    "df_list = [earth_unnorm, mars_unnorm, vac_unnorm, earth_norm3, mars_norm3, vac_norm3]\n",
    "atm_list = ['Earth', 'Mars', 'Vacuum', 'Earth', 'Mars', 'Vacuum']\n",
    "norm_list = ['unnorm', 'unnorm', 'unnorm', 'norm3', 'norm3', 'norm3']\n",
    "elems = ['AL', 'CR', 'CU', 'FE', 'SN', 'V']"
   ]
  },
  {
   "cell_type": "code",
   "execution_count": 23,
   "id": "c0b1777e",
   "metadata": {},
   "outputs": [],
   "source": [
    "count = 0\n",
    "sens_list = []\n",
    "\n",
    "for df in df_list:\n",
    "    \n",
    "    atm = atm_list[count]\n",
    "    count+=1\n",
    "    \n",
    "    if atm == 'Earth':\n",
    "        meta = earth_meta\n",
    "    elif atm == 'Mars':\n",
    "        meta = mars_meta\n",
    "    elif atm == 'Vacuum':\n",
    "        meta = vac_meta\n",
    "    \n",
    "    sens = []\n",
    "    \n",
    "    for element in elems:\n",
    "        \n",
    "        spec_names = list(meta[meta['Sample Name'] == str(element+'METAL')]['pkey'])\n",
    "        spectra = df[spec_names]\n",
    "    \n",
    "        # calculate sensitivity\n",
    "        sensitivity = round(spectra.std(axis=1).mean(),9)\n",
    "        sens.append(sensitivity)\n",
    "        \n",
    "    # average results from all elements\n",
    "    sens = mean(sens)\n",
    "    sens_list.append(sens)\n",
    "\n",
    "# make dataframe of all results\n",
    "mhc_metal_sens = pd.DataFrame({\n",
    "    \"instrument\" : ['CL'] * 6,\n",
    "    \"normalization\" : norm_list,\n",
    "    \"atmosphere\" : atm_list,\n",
    "    \"sensitivity\" : sens_list\n",
    "})"
   ]
  },
  {
   "cell_type": "markdown",
   "id": "0dc9694a",
   "metadata": {},
   "source": [
    "#### LANL"
   ]
  },
  {
   "cell_type": "code",
   "execution_count": 24,
   "id": "997a296c",
   "metadata": {},
   "outputs": [],
   "source": [
    "norm_25 = pd.read_csv(sp+'25_tio2_spectra_norm3.csv')\n",
    "unnorm_25 = pd.read_csv(sp+'25_tio2_spectra_unnorm.csv')\n",
    "norm_50 = pd.read_csv(sp+'50_tio2_spectra_norm3.csv')\n",
    "unnorm_50 = pd.read_csv(sp+'50_tio2_spectra_unnorm.csv')\n",
    "norm_75 = pd.read_csv(sp+'75_tio2_spectra_norm3.csv')\n",
    "unnorm_75 = pd.read_csv(sp+'75_tio2_spectra_unnorm.csv')"
   ]
  },
  {
   "cell_type": "code",
   "execution_count": 25,
   "id": "40149e56",
   "metadata": {},
   "outputs": [],
   "source": [
    "norm_sens = []\n",
    "for df in [norm_25, norm_50, norm_75]:\n",
    "    sens = round(df.set_index('wave').std(axis=1).mean(),9)\n",
    "    norm_sens.append(sens)\n",
    "norm_sens = mean(norm_sens)\n",
    "\n",
    "unnorm_sens = []\n",
    "for df in [unnorm_25, unnorm_50, unnorm_75]:\n",
    "    sens = round(df.set_index('wave').std(axis=1).mean(),9)\n",
    "    unnorm_sens.append(sens)\n",
    "unnorm_sens = mean(unnorm_sens)\n",
    "\n",
    "lanl_metal_sens = pd.DataFrame({\n",
    "    \"instrument\" : ['CC']*2,\n",
    "    \"normalization\" : ['norm3', 'unnorm'],\n",
    "    \"atmosphere\" : ['Mars']*2,\n",
    "    \"sensitivity\" : [norm_sens, unnorm_sens]\n",
    "})"
   ]
  },
  {
   "cell_type": "markdown",
   "id": "34e5e894",
   "metadata": {},
   "source": [
    "Combine results"
   ]
  },
  {
   "cell_type": "code",
   "execution_count": 31,
   "id": "63992f8c",
   "metadata": {},
   "outputs": [],
   "source": [
    "# merge\n",
    "metals_sensitivities = pd.concat([lanl_metal_sens, mhc_metal_sens])\n",
    "\n",
    "metals_sensitivities['method'] = \"metals\"\n",
    "braga_sensitivities['method'] = \"braga\"\n",
    "\n",
    "sensitivities = pd.concat([metals_sensitivities, braga_sensitivities]).reset_index(drop=True)"
   ]
  },
  {
   "cell_type": "code",
   "execution_count": 32,
   "id": "0d386415",
   "metadata": {},
   "outputs": [],
   "source": [
    "sensitivities.to_csv(fp+'instrument_sensitivities.csv', index=False)"
   ]
  }
 ],
 "metadata": {
  "kernelspec": {
   "display_name": "Python 3 (ipykernel)",
   "language": "python",
   "name": "python3"
  },
  "language_info": {
   "codemirror_mode": {
    "name": "ipython",
    "version": 3
   },
   "file_extension": ".py",
   "mimetype": "text/x-python",
   "name": "python",
   "nbconvert_exporter": "python",
   "pygments_lexer": "ipython3",
   "version": "3.8.8"
  }
 },
 "nbformat": 4,
 "nbformat_minor": 5
}
