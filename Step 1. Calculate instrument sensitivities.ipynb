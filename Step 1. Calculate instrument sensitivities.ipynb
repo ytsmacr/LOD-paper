{
 "cells": [
  {
   "cell_type": "code",
   "execution_count": 1,
   "id": "59388e33",
   "metadata": {},
   "outputs": [],
   "source": [
    "import pandas as pd\n",
    "from tqdm.notebook import tqdm\n",
    "import numpy as np\n",
    "import os\n",
    "\n",
    "fp = \"G:\\\\My Drive\\\\Darby Work\\\\Ytsma and Dyar 2021 (LOD paper)\\\\\""
   ]
  },
  {
   "cell_type": "markdown",
   "id": "ba9a26a0",
   "metadata": {},
   "source": [
    "### Braga method"
   ]
  },
  {
   "cell_type": "code",
   "execution_count": 2,
   "id": "50151b7b",
   "metadata": {},
   "outputs": [],
   "source": [
    "# define blank/noise regions in ChemLIBS and ChemCam spectra\n",
    "blank_braga = pd.read_csv(fp + \"figures\\\\braga_noise_regions.csv\") \n",
    "\n",
    "# import all spectra\n",
    "dp = fp + 'datasets//'\n",
    "cc_mars = pd.read_csv(dp+'CC_norm3_spectra.csv')\n",
    "cc_mars_unnorm = pd.read_csv(dp+'CC_unnorm_spectra.csv')\n",
    "cl_mars = pd.read_csv(dp+'CL_Mars_norm3_spectra_matched.csv')\n",
    "cl_earth = pd.read_csv(dp+'CL_Earth_norm3_spectra_matched.csv')\n",
    "cl_vac = pd.read_csv(dp+'CL_Vacuum_norm3_spectra_matched.csv')\n",
    "cl_mars_unnorm = pd.read_csv(dp+'CL_Mars_norm3_spectra_matched.csv')\n",
    "cl_earth_unnorm = pd.read_csv(dp+'CL_Earth_norm3_spectra_matched.csv')\n",
    "cl_vac_unnorm = pd.read_csv(dp+'CL_Vacuum_norm3_spectra_matched.csv')"
   ]
  },
  {
   "cell_type": "code",
   "execution_count": null,
   "id": "ded23c24",
   "metadata": {},
   "outputs": [
    {
     "data": {
      "application/vnd.jupyter.widget-view+json": {
       "model_id": "ccece73ae2684682aa463a8887711f9d",
       "version_major": 2,
       "version_minor": 0
      },
      "text/plain": [
       "  0%|          | 0/8 [00:00<?, ?it/s]"
      ]
     },
     "metadata": {},
     "output_type": "display_data"
    },
    {
     "data": {
      "application/vnd.jupyter.widget-view+json": {
       "model_id": "",
       "version_major": 2,
       "version_minor": 0
      },
      "text/plain": [
       "  0%|          | 0/3383 [00:00<?, ?it/s]"
      ]
     },
     "metadata": {},
     "output_type": "display_data"
    },
    {
     "data": {
      "application/vnd.jupyter.widget-view+json": {
       "model_id": "",
       "version_major": 2,
       "version_minor": 0
      },
      "text/plain": [
       "  0%|          | 0/5483 [00:00<?, ?it/s]"
      ]
     },
     "metadata": {},
     "output_type": "display_data"
    },
    {
     "data": {
      "application/vnd.jupyter.widget-view+json": {
       "model_id": "",
       "version_major": 2,
       "version_minor": 0
      },
      "text/plain": [
       "  0%|          | 0/5483 [00:00<?, ?it/s]"
      ]
     },
     "metadata": {},
     "output_type": "display_data"
    },
    {
     "data": {
      "application/vnd.jupyter.widget-view+json": {
       "model_id": "",
       "version_major": 2,
       "version_minor": 0
      },
      "text/plain": [
       "  0%|          | 0/5483 [00:00<?, ?it/s]"
      ]
     },
     "metadata": {},
     "output_type": "display_data"
    },
    {
     "data": {
      "application/vnd.jupyter.widget-view+json": {
       "model_id": "",
       "version_major": 2,
       "version_minor": 0
      },
      "text/plain": [
       "  0%|          | 0/5483 [00:00<?, ?it/s]"
      ]
     },
     "metadata": {},
     "output_type": "display_data"
    },
    {
     "data": {
      "application/vnd.jupyter.widget-view+json": {
       "model_id": "",
       "version_major": 2,
       "version_minor": 0
      },
      "text/plain": [
       "  0%|          | 0/5483 [00:00<?, ?it/s]"
      ]
     },
     "metadata": {},
     "output_type": "display_data"
    },
    {
     "data": {
      "application/vnd.jupyter.widget-view+json": {
       "model_id": "",
       "version_major": 2,
       "version_minor": 0
      },
      "text/plain": [
       "  0%|          | 0/5483 [00:00<?, ?it/s]"
      ]
     },
     "metadata": {},
     "output_type": "display_data"
    },
    {
     "data": {
      "application/vnd.jupyter.widget-view+json": {
       "model_id": "98780b62ea4e4407b466f6a32794ae10",
       "version_major": 2,
       "version_minor": 0
      },
      "text/plain": [
       "  0%|          | 0/5483 [00:00<?, ?it/s]"
      ]
     },
     "metadata": {},
     "output_type": "display_data"
    }
   ],
   "source": [
    "# filter regions\n",
    "df_list = [cc_mars, cc_mars_unnorm, cl_earth, cl_mars, cl_vac, cl_earth_unnorm, cl_mars_unnorm, cl_vac_unnorm]\n",
    "\n",
    "for df in tqdm(df_list):\n",
    "    for row in tqdm(df.index, leave=False):\n",
    "        nm = df['wave'][row]\n",
    "        # remove rows below first region\n",
    "        if nm < blank_braga['start'][0]:\n",
    "            df.drop(row, axis = 'index', inplace=True)\n",
    "        # remove rows after last region\n",
    "        elif nm > blank_braga['stop'][len(blank_braga)-1]:\n",
    "            df.drop(row, axis = 'index', inplace=True)\n",
    "        # remove rows between the regions\n",
    "        for region in range(len(blank_braga)-1):\n",
    "            if (nm > blank_braga['stop'][region]) & (nm < blank_braga['start'][region+1]):\n",
    "                df.drop(row, axis = 'index', inplace=True)"
   ]
  },
  {
   "cell_type": "code",
   "execution_count": null,
   "id": "e9cb7d4f",
   "metadata": {},
   "outputs": [],
   "source": [
    "# redefine with updated dfs\n",
    "df_list = [cc_mars, cc_mars_unnorm, cl_earth, cl_mars, cl_vac, cl_earth_unnorm, cl_mars_unnorm, cl_vac_unnorm]\n",
    "inst_list = ['CC', 'CL', 'CL', 'CL', 'CC', 'CL', 'CL', 'CL']\n",
    "atm_list = [\"Mars\", \"Earth\", \"Mars\", \"Vacuum\", \"Mars\", \"Earth\", \"Mars\", \"Vacuum\"]\n",
    "norm_list = ['norm3', 'norm3', 'norm3', 'norm3', 'unnorm', 'unnorm', 'unnorm', 'unnorm']"
   ]
  },
  {
   "cell_type": "code",
   "execution_count": 4,
   "id": "2205fab4",
   "metadata": {},
   "outputs": [],
   "source": [
    "# summarise stdev across each row, take average\n",
    "sens_list = []\n",
    "for df in df_list:\n",
    "    sens = round(df.set_index('wave').std(axis=1).mean(),9)\n",
    "    sens_list.append(sens)\n",
    "\n",
    "# make dataframe\n",
    "braga_sensitivities = pd.DataFrame({\n",
    "    \"instrument\" : inst_list,\n",
    "    \"norm\" : norm_list,\n",
    "    \"atmosphere\" : atm_list,\n",
    "    \"sensitivity\" : sens_list\n",
    "})"
   ]
  },
  {
   "cell_type": "markdown",
   "id": "5e43f968",
   "metadata": {},
   "source": [
    "### Metals method\n",
    "#### ChemLIBS"
   ]
  },
  {
   "cell_type": "code",
   "execution_count": 5,
   "id": "f73b75cf",
   "metadata": {},
   "outputs": [],
   "source": [
    "cl_data = pd.read_excel(fp + \"ChemLIBS calculations\\\\background_metals_030421.xlsx\", sheet_name = None)"
   ]
  },
  {
   "cell_type": "code",
   "execution_count": 8,
   "id": "c0b1777e",
   "metadata": {},
   "outputs": [],
   "source": [
    "sheet_list = np.arange(start = 1, stop = len(cl_data))\n",
    "\n",
    "element_list = []\n",
    "atm_list = []\n",
    "sens_list = []\n",
    "\n",
    "for sheet in sheet_list:\n",
    "    # get relevant info\n",
    "    name = list(cl_data.keys())[sheet]\n",
    "    element = name.split(\"_\")[0]\n",
    "    atmosphere = name.split(\"_\")[1]\n",
    "    \n",
    "    # drop unneeded columns and rows\n",
    "    cl_data[name].drop(cl_data[name].columns[[0,1]], axis=1, inplace=True)\n",
    "    cl_data[name].drop(cl_data[name].index[[0]], inplace=True)\n",
    "    \n",
    "    # calculate sensitivity\n",
    "    sensitivity = round(cl_data[name].std(axis=1).mean(),9)\n",
    "\n",
    "    # add to list\n",
    "    element_list.append(element)\n",
    "    atm_list.append(atmosphere)\n",
    "    sens_list.append(sensitivity)\n",
    "\n",
    "# make dataframe of all results\n",
    "mhc_sens_df = pd.DataFrame({\n",
    "    \"element\" : element_list,\n",
    "    \"atmosphere\" : atm_list,\n",
    "    \"sensitivity\" : sens_list\n",
    "})\n",
    "\n",
    "# get average for MHC metals method\n",
    "mhc_mars_metal_sens = round(mhc_sens_df[mhc_sens_df['atmosphere'] == 'Mars']['sensitivity'].mean(), 9)\n",
    "mhc_earth_metal_sens = round(mhc_sens_df[mhc_sens_df['atmosphere'] == 'Earth']['sensitivity'].mean(), 9)\n",
    "mhc_vac_metal_sens = round(mhc_sens_df[mhc_sens_df['atmosphere'] == 'Vac']['sensitivity'].mean(), 9)"
   ]
  },
  {
   "cell_type": "markdown",
   "id": "0dc9694a",
   "metadata": {},
   "source": [
    "#### LANL"
   ]
  },
  {
   "cell_type": "code",
   "execution_count": null,
   "id": "2d7bfeeb",
   "metadata": {},
   "outputs": [],
   "source": [
    "# read in LANL blank spectra\n",
    "folder = fp + \"LANL calculations\\\\metals background\\\\norm\\\\\"\n",
    "spectra_list = os.listdir(folder)[:9]\n",
    "spectra = {}\n",
    "sheet_list = [1,2,3,4]\n",
    "\n",
    "blank_list = []\n",
    "spectrum_n = []\n",
    "sens_list = []\n",
    "\n",
    "for file in spectra_list:\n",
    "    # read data\n",
    "    path = (folder + \"\\\\\" + file)\n",
    "    name = file.split(\"_\")[0] + \"_\" + file.split(\"_\")[1]\n",
    "    spectra[name] = pd.read_excel(path, sheet_name = sheet_list)\n",
    "    \n",
    "    for sheet in sheet_list:\n",
    "        # remove extra columns for when I calculated by hand\n",
    "        spectra[name][sheet].drop(spectra[name][sheet].columns[[0,1,2]], axis=1, inplace=True)\n",
    "        \n",
    "        # calculate sensitivity\n",
    "        sensitivity = round(spectra[name][sheet].std(axis=1).mean(),9)\n",
    "        \n",
    "        # add to list\n",
    "        blank_list.append(name)\n",
    "        spectrum_n.append(sheet)\n",
    "        sens_list.append(sensitivity)\n",
    "        \n",
    "# make dataframe of all results\n",
    "lanl_sens_df = pd.DataFrame({\n",
    "    \"blank\" : blank_list,\n",
    "    \"spectrum\" : spectrum_n,\n",
    "    \"sensitivity\" : sens_list\n",
    "})\n",
    "\n",
    "# get average for LANL metals method\n",
    "lanl_metal_sens = round(lanl_sens_df['sensitivity'].mean(),9)"
   ]
  },
  {
   "cell_type": "code",
   "execution_count": null,
   "id": "9dd96f99",
   "metadata": {},
   "outputs": [],
   "source": [
    "sens_list = [lanl_metal_sens, mhc_mars_metal_sens, mhc_earth_metal_sens, mhc_vac_metal_sens]\n",
    "inst_list = [\"CC\", 'CL', 'CL', 'CL']\n",
    "atm_list = [\"Mars\", \"Mars\", \"Earth\", \"Vacuum\"]\n",
    "\n",
    "# make dataframe\n",
    "metals_sensitivities = pd.DataFrame({\n",
    "    \"instrument\" : inst_list,\n",
    "    \"atmosphere\" : atm_list,\n",
    "    \"sensitivity\" : sens_list\n",
    "})"
   ]
  },
  {
   "cell_type": "markdown",
   "id": "34e5e894",
   "metadata": {},
   "source": [
    "Combine results"
   ]
  },
  {
   "cell_type": "code",
   "execution_count": null,
   "id": "63992f8c",
   "metadata": {},
   "outputs": [],
   "source": [
    "metals_sensitivities['method'] = \"metals\"\n",
    "braga_sensitivities['method'] = \"braga\"\n",
    "\n",
    "sensitivities = pd.concat([metals_sensitivities, braga_sensitivities]).reset_index(drop=True)"
   ]
  },
  {
   "cell_type": "code",
   "execution_count": null,
   "id": "0d386415",
   "metadata": {},
   "outputs": [],
   "source": [
    "sensitivities.to_csv(fp+'instrument_sensitivities.csv', index=False)"
   ]
  }
 ],
 "metadata": {
  "kernelspec": {
   "display_name": "Python 3 (ipykernel)",
   "language": "python",
   "name": "python3"
  },
  "language_info": {
   "codemirror_mode": {
    "name": "ipython",
    "version": 3
   },
   "file_extension": ".py",
   "mimetype": "text/x-python",
   "name": "python",
   "nbconvert_exporter": "python",
   "pygments_lexer": "ipython3",
   "version": "3.8.8"
  }
 },
 "nbformat": 4,
 "nbformat_minor": 5
}
