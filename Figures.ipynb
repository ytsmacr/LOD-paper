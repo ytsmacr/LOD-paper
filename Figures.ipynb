{
 "cells": [
  {
   "cell_type": "code",
   "execution_count": 1,
   "id": "ad69e03f",
   "metadata": {},
   "outputs": [
    {
     "name": "stdout",
     "output_type": "stream",
     "text": [
      "Matplotlib version 3.3.4\n"
     ]
    }
   ],
   "source": [
    "import pandas as pd\n",
    "import numpy as np\n",
    "import matplotlib as mpl\n",
    "from matplotlib import pyplot as plt\n",
    "from matplotlib.collections import PatchCollection\n",
    "from matplotlib.patches import Rectangle\n",
    "from matplotlib.colors import to_rgba\n",
    "import os\n",
    "import sys\n",
    "from tqdm.notebook import tqdm\n",
    "\n",
    "# get version\n",
    "print(\"Matplotlib version\",mpl.__version__)\n",
    "\n",
    "mpl.rc('font', family = 'Arial')\n",
    "plt.ioff()\n",
    "# read in results\n",
    "data = pd.read_csv(\"C:\\\\Users\\\\ytsma22c\\\\Google Drive\\\\Darby Work\\\\LOD paper\\\\averaged_LOD_RMSEP_results.csv\")\n",
    "# detailed results\n",
    "detail_data = pd.read_csv(\"C:\\\\Users\\\\ytsma22c\\\\Google Drive\\\\Darby Work\\\\LOD paper\\\\detailed_LOD_RMSEP_results.csv\")"
   ]
  },
  {
   "cell_type": "markdown",
   "id": "6ff48a41",
   "metadata": {},
   "source": [
    "# Braga regions\n",
    "CADILLAC ChemLIBS"
   ]
  },
  {
   "cell_type": "code",
   "execution_count": 2,
   "id": "6c61dfff",
   "metadata": {},
   "outputs": [],
   "source": [
    "cad = pd.read_csv(\"C:\\\\Users\\\\ytsma22c\\\\Google Drive\\\\Darby Work\\\\LOD paper\\\\figures\\\\cadillac_spectra.csv\")\n",
    "peaks = pd.read_csv(\"C:\\\\Users\\\\ytsma22c\\\\Google Drive\\\\Darby Work\\\\LOD paper\\\\figures\\\\braga_peaks.csv\") \n",
    "noise = pd.read_csv(\"C:\\\\Users\\\\ytsma22c\\\\Google Drive\\\\Darby Work\\\\LOD paper\\\\figures\\\\braga_noise_regions.csv\") "
   ]
  },
  {
   "cell_type": "code",
   "execution_count": 17,
   "id": "9298ef56",
   "metadata": {},
   "outputs": [],
   "source": [
    "# plot defining things\n",
    "height = 0.052\n",
    "b_y = -.003\n",
    "box_list = []\n",
    "rcolor = '#8b8b8b'\n",
    "base='black'\n",
    "b_a =1\n",
    "alpha = 0.5\n",
    "lwidth=1\n",
    "x_data = cad['wave']\n",
    "y_data = cad['intensity']\n",
    "peak_x = peaks['peak']\n",
    "peak_y = peaks['intensity']\n",
    "peak_labs = peaks['element']\n",
    "size=70\n",
    "mark=\"*\"\n",
    "mwidth=0.5\n",
    "mcolor='goldenrod'\n",
    "c_l = 'navy'\n",
    "c_m = 'goldenrod'\n",
    "llabel = 'LANL (ChemCam)'\n",
    "mlabel = 'MHC (ChemLIBS)'\n",
    "ysize = 12\n",
    "lsize = 14\n",
    "tsize = 16\n",
    "klen = 5"
   ]
  },
  {
   "cell_type": "code",
   "execution_count": 18,
   "id": "e49bf787",
   "metadata": {
    "scrolled": false
   },
   "outputs": [
    {
     "data": {
      "image/png": "[encoded data removed]",
      "text/plain": [
       "<Figure size 576x216 with 1 Axes>"
      ]
     },
     "metadata": {
      "needs_background": "light"
     },
     "output_type": "display_data"
    }
   ],
   "source": [
    "# get width of regions\n",
    "noise['width'] = noise['stop'] - noise['start']\n",
    "\n",
    "#make rectangles\n",
    "for i in np.array(range(len(noise))):\n",
    "    x = noise['start'][i]  \n",
    "    width = noise['width'][i]\n",
    "    box_list.append(Rectangle((x, b_y), width, height))\n",
    "    \n",
    "pc = PatchCollection(box_list, edgecolor = to_rgba(rcolor, alpha), facecolor=to_rgba(rcolor, alpha))\n",
    "#pc = PatchCollection(box_list, hatch = '..')\n",
    "\n",
    "# plot it all\n",
    "fig, ax = plt.subplots(1, figsize = (8,3))\n",
    "ax.plot(x_data, y_data, color=base, linewidth = lwidth, alpha = b_a, zorder=1) #spectrum\n",
    "ax.scatter(peak_x, peak_y, facecolor = mcolor, edgecolor=base, s = size, marker = mark, linewidth = mwidth, zorder=3) # peaks\n",
    "ax.add_collection(pc) # noise regions\n",
    "ax.margins(x=0.005, y=0.0)\n",
    "ax.set_xlabel('Wavelength (nm)', fontsize=lsize)\n",
    "ax.set_ylabel('Normalized Intensity (A.U.)', fontsize = lsize)\n",
    "ax.tick_params(length=klen, labelsize=ysize)\n",
    "\n",
    "plt.tight_layout()\n",
    "#plt.savefig('C:\\\\Users\\\\ytsma22c\\\\Google Drive\\\\Darby Work\\\\LOD paper\\\\figures\\\\braga_regions.eps', dpi=600)\n",
    "plt.savefig('C:\\\\Users\\\\ytsma22c\\\\Google Drive\\\\Darby Work\\\\LOD paper\\\\figures\\\\braga_regions.jpg', dpi=600)\n",
    "plt.show()"
   ]
  },
  {
   "cell_type": "markdown",
   "id": "eab29ea7",
   "metadata": {},
   "source": [
    "# Concentration boxplots"
   ]
  },
  {
   "cell_type": "code",
   "execution_count": 62,
   "id": "fdcb7ca8",
   "metadata": {},
   "outputs": [],
   "source": [
    "comps_path = \"C:\\\\Users\\\\ytsma22c\\\\Google Drive\\\\Darby Work\\\\LOD paper\\\\tables\\\\TableS1_sample_compositions.xlsx\"\n",
    "mhc_comps = pd.read_excel(comps_path, sheet_name='MHC')\n",
    "lanl_comps = pd.read_excel(comps_path, sheet_name='LANL')\n",
    "\n",
    "# remove units\n",
    "mhc_comps.columns = mhc_comps.columns.str.strip(' (wt%)| (ppm)')\n",
    "lanl_comps.columns = lanl_comps.columns.str.strip(' (wt%)| (ppm)')\n",
    "\n",
    "# subsect into majors and minors\n",
    "majors = ('SiO2|MnO|Na2O')\n",
    "maj_mhc = mhc_comps.loc[:,mhc_comps.columns.str.contains(majors)]\n",
    "maj_lanl = lanl_comps.loc[:,lanl_comps.columns.str.contains(majors)]\n",
    "min_mhc = mhc_comps.loc[:,~mhc_comps.columns.str.contains(majors+'|Sample')]\n",
    "min_lanl = lanl_comps.loc[:,~lanl_comps.columns.str.contains(majors+'|Sample')]"
   ]
  },
  {
   "cell_type": "markdown",
   "id": "47f5f847",
   "metadata": {},
   "source": [
    "#### Prepare boxplot data and formatting"
   ]
  },
  {
   "cell_type": "code",
   "execution_count": 63,
   "id": "d4d8b91d",
   "metadata": {},
   "outputs": [],
   "source": [
    "maj_ticks = maj_mhc.columns\n",
    "min_ticks = min_mhc.columns\n",
    "\n",
    "maj_lanl_data = []\n",
    "min_lanl_data = []\n",
    "maj_mhc_data = []\n",
    "min_mhc_data = []\n",
    "\n",
    "# get outlier vals to later remove\n",
    "out_elem = ['Na2O', 'MnO', 'Li', 'Ni', 'Pb', 'Rb', 'Sr', 'Zn']\n",
    "out_vals = [15, 15, 285, 577, 219, 354, 739, 448]\n",
    "outliers = pd.DataFrame({\n",
    "        'element' : out_elem,\n",
    "        'outlier' : out_vals\n",
    "})\n",
    "\n",
    "# get data in right format\n",
    "for element in maj_ticks:\n",
    "    if element == 'SiO2':\n",
    "        maj_lanl_df = maj_lanl[element].dropna().tolist()   \n",
    "        maj_lanl_data.append(maj_lanl_df)\n",
    "        maj_mhc_df = maj_mhc[element].dropna().tolist()\n",
    "        maj_mhc_data.append(maj_mhc_df)\n",
    "    \n",
    "    else:\n",
    "        maj_lanl_df = maj_lanl[element].dropna().tolist()\n",
    "        maj_mhc_df = maj_mhc[element].dropna().tolist()\n",
    "\n",
    "        outlier = outliers[outliers['element'] == element]['outlier'].iloc[0]\n",
    "        maj_lanl_df = [i for i in maj_lanl_df if i <= outlier]\n",
    "        maj_mhc_df = [i for i in maj_mhc_df if i <= outlier]\n",
    "\n",
    "        maj_lanl_data.append(maj_lanl_df)\n",
    "        maj_mhc_data.append(maj_mhc_df)\n",
    "    \n",
    "for element in min_ticks:\n",
    "    min_lanl_df = min_lanl[element].dropna().tolist()\n",
    "    min_mhc_df = min_mhc[element].dropna().tolist()\n",
    "        \n",
    "    outlier = outliers[outliers['element'] == element]['outlier'].iloc[0]\n",
    "    min_lanl_df = [i for i in min_lanl_df if i <= outlier]\n",
    "    min_mhc_df = [i for i in min_mhc_df if i <= outlier]\n",
    "    \n",
    "    min_lanl_data.append(min_lanl_df)\n",
    "    min_mhc_data.append(min_mhc_df)\n",
    "\n",
    "def set_box_color(bp, color):\n",
    "    plt.setp(bp['boxes'], color=color)\n",
    "    plt.setp(bp['whiskers'], color=color)\n",
    "    plt.setp(bp['caps'], color=color)\n",
    "    plt.setp(bp['medians'], color=color)\n",
    "    \n",
    "# set how outlier points look\n",
    "flierprops = dict(marker='x', markeredgecolor='#c9c9c9', markersize=2)"
   ]
  },
  {
   "cell_type": "markdown",
   "id": "edef1579",
   "metadata": {},
   "source": [
    "#### Plot"
   ]
  },
  {
   "cell_type": "code",
   "execution_count": 64,
   "id": "f9882bf8",
   "metadata": {
    "scrolled": false
   },
   "outputs": [
    {
     "name": "stderr",
     "output_type": "stream",
     "text": [
      "The PostScript backend does not support transparency; partially transparent artists will be rendered opaque.\n",
      "The PostScript backend does not support transparency; partially transparent artists will be rendered opaque.\n"
     ]
    },
    {
     "data": {
      "image/png": "[encoded data removed]",
      "text/plain": [
       "<Figure size 720x288 with 2 Axes>"
      ]
     },
     "metadata": {
      "needs_background": "light"
     },
     "output_type": "display_data"
    }
   ],
   "source": [
    "fig, (major, minor) = plt.subplots(ncols = 2, figsize = (10,4),\n",
    "                                # make major one smaller\n",
    "                                gridspec_kw={'width_ratios': [1,2]})\n",
    "\n",
    "# box positions\n",
    "maj_left_pos = np.array(range(len(maj_ticks)))*2.0-0.4\n",
    "maj_right_pos = np.array(range(len(maj_ticks)))*2.0+0.4\n",
    "min_left_pos = np.array(range(len(min_ticks)))*2.0-0.4\n",
    "min_right_pos = np.array(range(len(min_ticks)))*2.0+0.4\n",
    "\n",
    "# majors\n",
    "bp_maj_lanl = major.boxplot(maj_lanl_data, flierprops=flierprops, positions = maj_left_pos, widths=0.6, showfliers=True)\n",
    "bp_maj_mhc = major.boxplot(maj_mhc_data, flierprops=flierprops, positions = maj_right_pos, widths=0.6, showfliers=True)\n",
    "set_box_color(bp_maj_lanl, c_l)\n",
    "set_box_color(bp_maj_mhc, c_m)\n",
    "\n",
    "# minors\n",
    "bp_min_lanl = minor.boxplot(min_lanl_data, flierprops=flierprops, positions = min_left_pos, widths=0.6, showfliers=True)\n",
    "bp_min_mhc = minor.boxplot(min_mhc_data, flierprops=flierprops, positions = min_right_pos, widths=0.6, showfliers=True)\n",
    "set_box_color(bp_min_lanl, c_l)\n",
    "set_box_color(bp_min_mhc, c_m)\n",
    " \n",
    "# set plot labels\n",
    "major.set_xticks(range(0, len(maj_ticks) * 2, 2))\n",
    "major.set_xticklabels(maj_ticks, fontsize=lsize)\n",
    "major.tick_params(axis = 'y', which = 'major', labelsize = ysize) \n",
    "major.set_ylabel('Concentration (wt%)', fontsize=lsize)\n",
    "major.tick_params(length=klen)\n",
    "\n",
    "minor.set_xticks(range(0, len(min_ticks) * 2, 2))\n",
    "minor.set_xticklabels(min_ticks, fontsize=lsize)\n",
    "minor.tick_params(axis = 'y', which = 'major', labelsize = ysize) \n",
    "minor.set_ylabel('Concentration (ppm)', fontsize=lsize)\n",
    "minor.tick_params(length=klen)\n",
    "\n",
    "\n",
    "plt.plot([], c=c_l, label=llabel)\n",
    "plt.plot([], c=c_m, label=mlabel)\n",
    "plt.legend(loc = 'best', fontsize=lsize)\n",
    "\n",
    "plt.tight_layout()\n",
    "plt.savefig('C:\\\\Users\\\\ytsma22c\\\\Google Drive\\\\Darby Work\\\\LOD paper\\\\figures\\\\comps_boxplot.eps')\n",
    "plt.savefig('C:\\\\Users\\\\ytsma22c\\\\Google Drive\\\\Darby Work\\\\LOD paper\\\\figures\\\\comps_boxplot.jpg')\n",
    "plt.show()"
   ]
  },
  {
   "cell_type": "markdown",
   "id": "92a21a83",
   "metadata": {},
   "source": [
    "# Braga vs. metals\n",
    "- ChemLIBS, Mars atmosphere\n",
    "- LOQ and RMSE-P"
   ]
  },
  {
   "cell_type": "code",
   "execution_count": 65,
   "id": "260536fd",
   "metadata": {},
   "outputs": [],
   "source": [
    "data1 = data[(data.instrument == \"ChemLIBS\") & (data.atmosphere == \"Mars\")].copy(deep=True)\n",
    "\n",
    "maj_list = ['MnO', 'Na2O', 'SiO2']\n",
    "maj1 = pd.DataFrame(data1[data1.element.isin(maj_list)].reset_index(drop=True))\n",
    "min1 = data1[~data1.element.isin(maj_list)].reset_index(drop=True)"
   ]
  },
  {
   "cell_type": "markdown",
   "id": "873314ca",
   "metadata": {},
   "source": [
    "### Bar plot"
   ]
  },
  {
   "cell_type": "code",
   "execution_count": 66,
   "id": "6aca1301",
   "metadata": {},
   "outputs": [],
   "source": [
    "def braga_metals(lotype):\n",
    "    \n",
    "    # define variables\n",
    "    braga = lotype + '_Braga'\n",
    "    metals = lotype + '_metals'\n",
    "    berror = lotype + '_Braga_sd'\n",
    "    merror = lotype + '_metals_sd'\n",
    "    \n",
    "    # define plot stuff\n",
    "    width = 0.2\n",
    "    c_b = '#3a2382'\n",
    "    c_m = '#f58442'\n",
    "    cap= 3\n",
    "\n",
    "    #labels\n",
    "    majlab = maj1.element\n",
    "    minlab = min1.element\n",
    "\n",
    "    # tick locations\n",
    "    majt1 = [0, 0.5, 1] \n",
    "    majt2 = [x + width for x in majt1]\n",
    "    mint1 = np.arange(0,3,step=0.5)\n",
    "    mint2 = [x + width for x in mint1]\n",
    "    majtk = [x + width/2 for x in majt1]\n",
    "    mintk = [x + width/2 for x in mint1]\n",
    "\n",
    "    # make figure\n",
    "    fig, (maj, minor) = plt.subplots(ncols = 2, figsize = (10,4),\n",
    "                                     # make major one smaller\n",
    "                                     gridspec_kw={'width_ratios': [1,2]})\n",
    "    # majors\n",
    "    major1 = maj.bar(majt1, maj1[braga], width, yerr=maj1[berror], capsize=cap, label = \"Braga\", color = c_b)\n",
    "    major2 = maj.bar(majt2, maj1[metals], width, yerr=maj1[merror], capsize=cap, label = \"metals\", color = c_m)\n",
    "    # minors\n",
    "    minor1 = minor.bar(mint1, min1[braga], width, yerr=min1[berror], capsize=cap, label = \"Braga\", color = c_b)\n",
    "    minor2 = minor.bar(mint2, min1[metals], width, yerr=min1[merror], capsize=cap, label = \"metals\", color = c_m)\n",
    "\n",
    "    # formatting\n",
    "    maj.tick_params(axis = 'y', which = 'major', labelsize = ysize,)\n",
    "    maj.tick_params(length=klen)\n",
    "    maj.set_xticks(majtk)\n",
    "    maj.set_xticklabels(majlab, fontsize = lsize)\n",
    "    maj.set_ylabel((lotype + \" (wt%)\"), fontsize = tsize)\n",
    "\n",
    "    minor.set_xticks(mintk)\n",
    "    minor.set_xticklabels(minlab, fontsize = lsize)\n",
    "    minor.set_ylabel((lotype + \" (ppm)\"), fontsize = tsize)\n",
    "    minor.tick_params(axis = 'y', which = 'major', labelsize = ysize)  \n",
    "    minor.tick_params(length=klen)\n",
    "    minor.legend(handles = [major1, major2], fontsize = lsize)\n",
    "\n",
    "    # save image\n",
    "    path = \"C:\\\\Users\\\\ytsma22c\\\\Google Drive\\\\Darby Work\\\\LOD paper\\\\figures\\\\\" + lotype + '_Braga_metals.eps'\n",
    "    path1 = \"C:\\\\Users\\\\ytsma22c\\\\Google Drive\\\\Darby Work\\\\LOD paper\\\\figures\\\\\" + lotype + '_Braga_metals.jpeg'\n",
    "    plt.savefig(path, bbox_inches=\"tight\") # save as .eps\n",
    "    plt.savefig(path1, bbox_inches=\"tight\") # save as .jpeg\n",
    "    plt.show()"
   ]
  },
  {
   "cell_type": "code",
   "execution_count": 67,
   "id": "6efce03b",
   "metadata": {
    "scrolled": false
   },
   "outputs": [
    {
     "name": "stderr",
     "output_type": "stream",
     "text": [
      "The PostScript backend does not support transparency; partially transparent artists will be rendered opaque.\n",
      "The PostScript backend does not support transparency; partially transparent artists will be rendered opaque.\n"
     ]
    },
    {
     "data": {
      "image/png": "[encoded data removed]",
      "text/plain": [
       "<Figure size 720x288 with 2 Axes>"
      ]
     },
     "metadata": {
      "needs_background": "light"
     },
     "output_type": "display_data"
    },
    {
     "name": "stderr",
     "output_type": "stream",
     "text": [
      "The PostScript backend does not support transparency; partially transparent artists will be rendered opaque.\n",
      "The PostScript backend does not support transparency; partially transparent artists will be rendered opaque.\n"
     ]
    },
    {
     "data": {
      "image/png": "[encoded data removed]",
      "text/plain": [
       "<Figure size 720x288 with 2 Axes>"
      ]
     },
     "metadata": {
      "needs_background": "light"
     },
     "output_type": "display_data"
    }
   ],
   "source": [
    "# make plots\n",
    "braga_metals(\"LOQ\")\n",
    "braga_metals(\"RMSEP\")"
   ]
  },
  {
   "cell_type": "markdown",
   "id": "a72b1cad",
   "metadata": {},
   "source": [
    "# LANL vs MHC\n",
    "- Braga\n",
    "- colors diff b/w instruments\n",
    "- add data points for RMSE-P from Clegg\n",
    "- X (RMSE) vs Y (R2) plot for CL/CC"
   ]
  },
  {
   "cell_type": "code",
   "execution_count": 68,
   "id": "c5eed70a",
   "metadata": {},
   "outputs": [],
   "source": [
    "data2 = data[data.atmosphere == \"Mars\"].copy(deep=True)\n",
    "data2['RMSEP_per'] = round(((data2.RMSEP_Braga / data2.Avg_Braga) * 100), 1)\n",
    "data2['RMSEP_sd_per'] = round(((data2.RMSEP_Braga_sd / data2.Avg_Braga) * 100), 1)\n",
    "\n",
    "maj2 = data2[data2.element.isin(maj_list)].reset_index(drop=True)\n",
    "min2 = data2[~data2.element.isin(maj_list)].reset_index(drop=True)\n",
    "ldata = data2[data2.instrument == \"LANL\"].reset_index(drop=True)\n",
    "mdata = data2[data2.instrument == \"ChemLIBS\"].reset_index(drop=True)"
   ]
  },
  {
   "cell_type": "markdown",
   "id": "dfc24ecf",
   "metadata": {},
   "source": [
    "### Bar chart"
   ]
  },
  {
   "cell_type": "code",
   "execution_count": 69,
   "id": "76ba8e66",
   "metadata": {},
   "outputs": [],
   "source": [
    "def inst_maj(inst, lotype):\n",
    "    return maj2[maj2.instrument==inst][lotype].reset_index(drop=True)\n",
    "    \n",
    "def inst_min(inst, lotype):\n",
    "    return min2[min2.instrument==inst][lotype].reset_index(drop=True)\n",
    "\n",
    "def mhc_lanl(lotype):\n",
    "    data = lotype + '_Braga'\n",
    "    error = lotype + '_Braga_sd'\n",
    "    \n",
    "    # define plot stuff\n",
    "    width = 0.2\n",
    "    ysize = 12\n",
    "    lsize = 14\n",
    "    tsize = 16\n",
    "    cap = 5\n",
    "    cl = 'ChemLIBS'\n",
    "    la = 'LANL'\n",
    "\n",
    "    #labels\n",
    "    majlab = maj1.element\n",
    "    minlab = min1.element\n",
    "\n",
    "    # tick locations\n",
    "    majt1 = [0, 0.5, 1] \n",
    "    majt2 = [x + width for x in majt1]\n",
    "    mint1 = np.arange(0,3,step=0.5)\n",
    "    mint2 = [x + width for x in mint1]\n",
    "    majtk = [x + width/2 for x in majt1]\n",
    "    mintk = [x + width/2 for x in mint1]\n",
    "\n",
    "    # make figure\n",
    "    fig, (maj, minor) = plt.subplots(ncols = 2, figsize = (10,4),\n",
    "                                     # make major one smaller\n",
    "                                     gridspec_kw={'width_ratios': [1,2]})\n",
    "\n",
    "    # majors\n",
    "    major1 = maj.bar(majt1, inst_maj(la, data), width, yerr=inst_maj(la, error), capsize=cap, label = llabel, color = c_l)\n",
    "    major2 = maj.bar(majt2, inst_maj(cl, data), width, yerr=inst_maj(cl, error), capsize=cap, label = mlabel, color = c_m)\n",
    "    # minors\n",
    "    minor1 = minor.bar(mint1, inst_min(la, data), width, yerr=inst_min(la, error), capsize=cap, label = llabel, color = c_l)\n",
    "    minor2 = minor.bar(mint2, inst_min(cl, data), width, yerr=inst_min(cl, error), capsize=cap, label = mlabel, color = c_m)\n",
    "\n",
    "    # formatting\n",
    "    maj.tick_params(axis = 'y', which = 'major', labelsize = ysize)\n",
    "    maj.tick_params(length=klen)\n",
    "    maj.set_xticks(majtk)\n",
    "    maj.set_xticklabels(majlab, fontsize = lsize)\n",
    "    maj.set_ylabel((lotype + \" (wt%)\"), fontsize = tsize)\n",
    "\n",
    "    minor.set_xticks(mintk)\n",
    "    minor.set_xticklabels(minlab, fontsize = lsize)\n",
    "    minor.set_ylabel((lotype + \" (ppm)\"), fontsize = tsize)\n",
    "    minor.tick_params(axis = 'y', which = 'major', labelsize = ysize, length=klen)  \n",
    "    minor.tick_params(length=klen)\n",
    "    minor.legend(handles = [major1, major2], fontsize = lsize)\n",
    "\n",
    "    # save image\n",
    "    path = \"C:\\\\Users\\\\ytsma22c\\\\Google Drive\\\\Darby Work\\\\LOD paper\\\\figures\\\\\" + lotype + '_LANL_MHC.eps'\n",
    "    path1 = \"C:\\\\Users\\\\ytsma22c\\\\Google Drive\\\\Darby Work\\\\LOD paper\\\\figures\\\\\" + lotype + '_LANL_MHC.jpeg'\n",
    "    plt.savefig(path, bbox_inches=\"tight\") # save as .eps\n",
    "    plt.savefig(path1, bbox_inches=\"tight\") # save as .jpeg\n",
    "    plt.show() "
   ]
  },
  {
   "cell_type": "code",
   "execution_count": 70,
   "id": "8d7647c3",
   "metadata": {
    "scrolled": false
   },
   "outputs": [
    {
     "name": "stderr",
     "output_type": "stream",
     "text": [
      "The PostScript backend does not support transparency; partially transparent artists will be rendered opaque.\n",
      "The PostScript backend does not support transparency; partially transparent artists will be rendered opaque.\n"
     ]
    },
    {
     "data": {
      "image/png": "[encoded data removed]",
      "text/plain": [
       "<Figure size 720x288 with 2 Axes>"
      ]
     },
     "metadata": {
      "needs_background": "light"
     },
     "output_type": "display_data"
    },
    {
     "name": "stderr",
     "output_type": "stream",
     "text": [
      "The PostScript backend does not support transparency; partially transparent artists will be rendered opaque.\n",
      "The PostScript backend does not support transparency; partially transparent artists will be rendered opaque.\n"
     ]
    },
    {
     "data": {
      "image/png": "[encoded data removed]",
      "text/plain": [
       "<Figure size 720x288 with 2 Axes>"
      ]
     },
     "metadata": {
      "needs_background": "light"
     },
     "output_type": "display_data"
    }
   ],
   "source": [
    "mhc_lanl('RMSEP')\n",
    "mhc_lanl('LOQ')"
   ]
  },
  {
   "cell_type": "markdown",
   "id": "73dfde1f",
   "metadata": {},
   "source": [
    "### XY plot"
   ]
  },
  {
   "cell_type": "code",
   "execution_count": 71,
   "id": "71b8362c",
   "metadata": {},
   "outputs": [
    {
     "data": {
      "image/png": "[encoded data removed]",
      "text/plain": [
       "<Figure size 1152x576 with 2 Axes>"
      ]
     },
     "metadata": {
      "needs_background": "light"
     },
     "output_type": "display_data"
    }
   ],
   "source": [
    "# def inst_compare(instrument):\n",
    "fig, (lanl, mhc) = plt.subplots(nrows=1, ncols=2, sharey=True, figsize = (16,8))\n",
    "\n",
    "#sizes\n",
    "labsize = 26\n",
    "titlesize = 28\n",
    "lwidth = 1.5\n",
    "annot = 20\n",
    "p_s = 70\n",
    "tlen=10\n",
    "cap=5\n",
    "c_e = 'grey'\n",
    "    \n",
    "lanl.scatter(x = ldata.R2_Braga, y = ldata.RMSEP_per, c=c_l, s=p_s, zorder=3)\n",
    "lanl.errorbar(x=ldata.R2_Braga, y = ldata.RMSEP_per, c=c_e, xerr=ldata.R2_Braga_sd, yerr=ldata.RMSEP_sd_per, capsize=cap, fmt='o', zorder=1)\n",
    "lanl.set_xlim(right=1.2)\n",
    "lanl.tick_params(labelsize=annot, width =lwidth, length = tlen)\n",
    "lanl.set_ylabel(\"RMSEP (% of average concentration)\", fontsize = labsize)\n",
    "lanl.set_title(llabel, fontsize = titlesize)\n",
    "lanl.axhline(y=100, xmin = 0, xmax = 1, color=\"darkred\", linewidth=lwidth, linestyle = '--')\n",
    "\n",
    "mhc.scatter(x = mdata.R2_Braga, y = mdata.RMSEP_per, c=c_m, s=p_s, zorder=4)\n",
    "mhc.errorbar(x=mdata.R2_Braga, y = mdata.RMSEP_per, c=c_e, xerr=mdata.R2_Braga_sd, yerr=mdata.RMSEP_sd_per, capsize=cap, fmt='o', zorder=2)\n",
    "mhc.set_title(mlabel, fontsize = titlesize)\n",
    "mhc.set_xlim(right=1)\n",
    "mhc.tick_params(labelsize=annot, width =lwidth, length = tlen)\n",
    "mhc.axhline(y=100, xmin = 0, xmax = 1, color=\"darkred\", linewidth=lwidth, linestyle = '--')\n",
    "\n",
    "# add labels\n",
    "for i in range(len(mdata.element)):\n",
    "    mhc.text(mdata['R2_Braga'][i]+.02, mdata['RMSEP_per'][i]-10, mdata['element'][i], fontsize=annot)\n",
    "\n",
    "for i in range(len(ldata.element)):\n",
    "    lanl.text(ldata['R2_Braga'][i]+.03, ldata['RMSEP_per'][i]-12, ldata['element'][i], fontsize=annot)\n",
    "\n",
    "# x axis label\n",
    "fig.text(0.5, 0.02, r\"$R^{2}$\", ha = \"center\", fontsize = titlesize)\n",
    "\n",
    "plt.subplots_adjust(wspace = 0, hspace =0)\n",
    "plt.setp(mhc.spines.values(), linewidth=lwidth)\n",
    "plt.setp(lanl.spines.values(), linewidth=lwidth)\n",
    "\n",
    "# save image\n",
    "path = \"C:\\\\Users\\\\ytsma22c\\\\Google Drive\\\\Darby Work\\\\LOD paper\\\\figures\\\\CC_CL_XY.eps\"\n",
    "path1 = \"C:\\\\Users\\\\ytsma22c\\\\Google Drive\\\\Darby Work\\\\LOD paper\\\\figures\\\\CC_CL_XY.jpeg\"\n",
    "plt.savefig(path, bbox_inches=\"tight\") # save as .eps\n",
    "plt.savefig(path1, bbox_inches=\"tight\") # save as .jpeg\n",
    "\n",
    "plt.show()"
   ]
  },
  {
   "cell_type": "markdown",
   "id": "10a0d8a3",
   "metadata": {},
   "source": [
    "# Atmosphere comparison\n",
    "- Braga\n",
    "- ChemLIBS\n",
    "- LOQ and RMSE-P"
   ]
  },
  {
   "cell_type": "code",
   "execution_count": 72,
   "id": "a1784c75",
   "metadata": {},
   "outputs": [],
   "source": [
    "data3 = data[data.instrument == 'ChemLIBS']\n",
    "maj3 = data3[data3.element.isin(maj_list)].reset_index(drop=True)\n",
    "min3 = data3[~data3.element.isin(maj_list)].reset_index(drop=True)"
   ]
  },
  {
   "cell_type": "code",
   "execution_count": 73,
   "id": "4d396cea",
   "metadata": {},
   "outputs": [],
   "source": [
    "def maj_atm(atm, lotype):\n",
    "    return maj3[maj3.atmosphere==atm][lotype]\n",
    "    \n",
    "def min_atm(atm, lotype):\n",
    "    return min3[min3.atmosphere==atm][lotype]\n",
    "    \n",
    "def atmosphere(lotype):\n",
    "    data = lotype + '_Braga'\n",
    "    error = lotype + '_Braga_sd'\n",
    "    \n",
    "    # define plot stuff\n",
    "    width = 0.14\n",
    "    c_m = '#a8261d'\n",
    "    c_e = '#34a9c7'\n",
    "    c_v = '#757778'\n",
    "    ysize = 12\n",
    "    lsize = 14\n",
    "    tsize = 16\n",
    "    cap = 3\n",
    "\n",
    "    #labels\n",
    "    majlab = maj3.element.unique()\n",
    "    minlab = min3.element.unique()\n",
    "\n",
    "    # tick locations\n",
    "    majt1 = [0, 0.5, 1] \n",
    "    majt2 = [x + width for x in majt1]\n",
    "    majt3 = [x + width*2 for x in majt1]\n",
    "    \n",
    "    mint1 = np.arange(0,3,step=0.5)\n",
    "    mint2 = [x + width for x in mint1]\n",
    "    mint3 = [x + width*2 for x in mint1]\n",
    "    \n",
    "    majtk = [x + width for x in majt1]\n",
    "    mintk = [x + width for x in mint1]\n",
    "\n",
    "    # make figure\n",
    "    fig, (maj, minor) = plt.subplots(ncols = 2, figsize = (10,4),\n",
    "                                     # make major one smaller\n",
    "                                     gridspec_kw={'width_ratios': [1,2]})\n",
    "    # majors\n",
    "    major1 = maj.bar(majt1, maj_atm('Mars', data), width, yerr=maj_atm('Mars', error), capsize=cap, label = \"Mars\", color = c_m)\n",
    "    major2 = maj.bar(majt2, maj_atm('Earth', data), width, yerr=maj_atm('Earth', error), capsize=cap, label = \"Earth\", color = c_e)\n",
    "    major3 = maj.bar(majt3, maj_atm('Vacuum', data), width, yerr=maj_atm('Vacuum', error), capsize=cap, label = \"Vacuum\", color = c_v)\n",
    "    # minors\n",
    "    minor1 = minor.bar(mint1, min_atm('Mars', data), width, yerr=min_atm('Mars', error), capsize=cap, label = \"Mars\", color = c_m)\n",
    "    minor2 = minor.bar(mint2, min_atm('Earth', data), width, yerr=min_atm('Earth', error), capsize=cap, label = \"Earth\", color = c_e)\n",
    "    minor3 = minor.bar(mint3, min_atm('Vacuum', data), width, yerr=min_atm('Vacuum', error), capsize=cap, label = \"Vacuum\", color = c_v)\n",
    "\n",
    "    # formatting\n",
    "    maj.tick_params(axis = 'y', which = 'major', labelsize = ysize)\n",
    "    maj.tick_params(length=klen)\n",
    "    maj.set_xticks(majtk)\n",
    "    maj.set_xticklabels(majlab, fontsize = lsize)\n",
    "    maj.set_ylabel((lotype + \" (wt%)\"), fontsize = tsize)\n",
    "\n",
    "    minor.set_xticks(mintk)\n",
    "    minor.set_xticklabels(minlab, fontsize = lsize)\n",
    "    minor.set_ylabel((lotype + \" (ppm)\"), fontsize = tsize)\n",
    "    minor.tick_params(axis = 'y', which = 'major', labelsize = ysize)  \n",
    "    minor.tick_params(length=klen)\n",
    "    minor.legend(handles = [major1, major2, major3], fontsize = lsize)\n",
    "\n",
    "    # save image\n",
    "    path = \"C:\\\\Users\\\\ytsma22c\\\\Google Drive\\\\Darby Work\\\\LOD paper\\\\figures\\\\\"+lotype+\"_atmosphere.eps\"\n",
    "    path1 = \"C:\\\\Users\\\\ytsma22c\\\\Google Drive\\\\Darby Work\\\\LOD paper\\\\figures\\\\\"+lotype+\"_atmosphere.jpeg\"\n",
    "    plt.savefig(path, bbox_inches=\"tight\") # save as .eps\n",
    "    plt.savefig(path1, bbox_inches=\"tight\") # save as .jpeg\n",
    "    \n",
    "    plt.show()"
   ]
  },
  {
   "cell_type": "code",
   "execution_count": 74,
   "id": "33f9a159",
   "metadata": {},
   "outputs": [
    {
     "name": "stderr",
     "output_type": "stream",
     "text": [
      "The PostScript backend does not support transparency; partially transparent artists will be rendered opaque.\n",
      "The PostScript backend does not support transparency; partially transparent artists will be rendered opaque.\n"
     ]
    },
    {
     "data": {
      "image/png": "[encoded data removed]",
      "text/plain": [
       "<Figure size 720x288 with 2 Axes>"
      ]
     },
     "metadata": {
      "needs_background": "light"
     },
     "output_type": "display_data"
    },
    {
     "name": "stderr",
     "output_type": "stream",
     "text": [
      "The PostScript backend does not support transparency; partially transparent artists will be rendered opaque.\n",
      "The PostScript backend does not support transparency; partially transparent artists will be rendered opaque.\n"
     ]
    },
    {
     "data": {
      "image/png": "[encoded data removed]",
      "text/plain": [
       "<Figure size 720x288 with 2 Axes>"
      ]
     },
     "metadata": {
      "needs_background": "light"
     },
     "output_type": "display_data"
    }
   ],
   "source": [
    "atmosphere('RMSEP')\n",
    "atmosphere('LOQ')"
   ]
  },
  {
   "cell_type": "markdown",
   "id": "0e9843fb",
   "metadata": {},
   "source": [
    "# All predicted vs. true and regression vector plots"
   ]
  },
  {
   "cell_type": "code",
   "execution_count": 2,
   "id": "6fe54ed1",
   "metadata": {},
   "outputs": [],
   "source": [
    "# generate comps\n",
    "comps_path = \"C:\\\\Users\\\\ytsma22c\\\\Google Drive\\\\Darby Work\\\\LOD paper\\\\tables\\\\TableS1_sample_compositions.xlsx\"\n",
    "lanl_comps = pd.read_excel(comps_path, sheet_name = \"LANL\")\n",
    "mhc_comps = pd.read_excel(comps_path, sheet_name = \"MHC\")\n",
    "comps = pd.merge(mhc_comps, lanl_comps, how = \"outer\") # merge comps\n",
    "comps.columns = comps.columns.map(lambda x: x.split()[0])\n",
    "comps = comps.drop_duplicates(subset = 'Sample') # remove duplicates\n",
    "comps['Sample'] = comps['Sample'].astype(str)\n",
    "comps = comps.sort_values(by='Sample')\n",
    "comps = comps.replace(np.nan, \"\", regex=True)\n",
    "cols = comps.columns.drop('Sample')\n",
    "comps[cols] = comps[cols].apply(pd.to_numeric) # make columns numeric\n",
    "\n",
    "# make dictionary of spectrum names to sample names\n",
    "key_path = \"C:\\\\Users\\\\ytsma22c\\\\Google Drive\\\\Darby Work\\\\LOD paper\\\\ChemLIBS_spectrum_no_to_name.csv\"\n",
    "mhc_key = pd.read_csv(key_path)\n",
    "mhc_key = pd.Series(mhc_key.Sample.values, index=mhc_key.pkey).to_dict()\n",
    "\n",
    "# make dictionary of 'Actual' uncertainties\n",
    "unc_path = \"C:\\\\Users\\\\ytsma22c\\\\Google Drive\\\\Darby Work\\\\LOD paper\\\\BureauVeritasuncertainties_forpaper.csv\"\n",
    "uncert = pd.read_csv(unc_path)\n",
    "uncert = pd.Series(uncert.uncertainty.values, index=uncert.element).to_dict()"
   ]
  },
  {
   "cell_type": "markdown",
   "id": "5d8dda25",
   "metadata": {},
   "source": [
    "#### Pred v. true\n",
    "A lot similar to get_rmsep() in Full calculations notebook"
   ]
  },
  {
   "cell_type": "code",
   "execution_count": 16,
   "id": "e23296f6",
   "metadata": {},
   "outputs": [],
   "source": [
    "def pred_true_plot(folder, file_list, data, comps, instrument, atmosphere, n_range):\n",
    "    print('Making pred/true plots')\n",
    "#-------------------------GET-DATA--------------------------#\n",
    "    for file in tqdm(file_list):\n",
    "        if \"test\" in file:\n",
    "            path = (folder + file)\n",
    "            df = pd.read_csv(path)\n",
    "\n",
    "            # get element\n",
    "            if \"Composition:\" in df.columns[1]:\n",
    "                element = df.columns[1].split()[1]\n",
    "            else: element = df.columns[1].split()[0]\n",
    "            \n",
    "            # format columns\n",
    "            df.columns = ['pkey', 'Actual', 'Pred']\n",
    "            df = df.drop([0])\n",
    "            df.Pred = df.Pred.astype(float)  \n",
    "            \n",
    "            # remove predictions above 100 for majors\n",
    "            if element in ['SiO2', 'MnO', 'Na2O']:\n",
    "                df = df[df.Pred < 100]\n",
    "            \n",
    "            # rename ChemLIBS Spectrum names with sample names\n",
    "            if df.pkey.str.contains('Spectrum').any():\n",
    "                df = df.replace({'pkey': mhc_key})\n",
    "            \n",
    "            # format LANL spectra names to sample names\n",
    "            else:\n",
    "                df['pkey'] = df['pkey'].map(lambda x: x.split(\"_\")[1])\n",
    "                df['pkey'] = df['pkey'].map(lambda x: str(x).upper())\n",
    "                \n",
    "            # order columns\n",
    "            df = df[['pkey', 'Actual', 'Pred']].drop_duplicates(subset = 'pkey').sort_values(by='pkey').reset_index(drop=True)\n",
    "               \n",
    "            # subselect relevant reference values\n",
    "            ref = detail_data[(detail_data.num_range == n_range)&(detail_data.instrument == instrument)&(detail_data.atmosphere == atmosphere)&(detail_data.element == element)].reset_index(drop=True)\n",
    "            # add in Actual concentrations\n",
    "            temp_comps = comps[comps.Sample.isin(df.pkey)].reset_index(drop=True) \n",
    "            \n",
    "            # remove samples that don't have composition info\n",
    "            no_comps = df[~df.pkey.isin(temp_comps.Sample)]\n",
    "            if len(no_comps) > 0:\n",
    "                df = pd.concat([df, no_comps]).drop_duplicates(keep=False).reset_index(drop=True)\n",
    "            \n",
    "            df['Actual'] = temp_comps[temp_comps['Sample'] == df['pkey']][element]\n",
    "            \n",
    "            # remove NaN Actual values....which idk why they'd be there\n",
    "            df = df.dropna()\n",
    "            \n",
    "            # get Braga and metals LDBQ\n",
    "            loq_b = ref['LOQ_Braga'].iloc[0]\n",
    "            lob_b = ref['LOB_Braga'].iloc[0]\n",
    "            lod_b = ref['LOD_Braga'].iloc[0]\n",
    "            loq_b = ref['LOQ_Braga'].iloc[0]\n",
    "            lob_m = ref['LOB_metals'].iloc[0]\n",
    "            lod_m = ref['LOD_metals'].iloc[0]\n",
    "            loq_m = ref['LOQ_metals'].iloc[0]\n",
    "\n",
    "#----------------------------MAKE-PLOT------------------------------#\n",
    "            path_name = instrument+\"_\"+atmosphere+\"\\\\\"\n",
    "            fig_name = element+\"_\"+n_range\n",
    "\n",
    "            xlab = \"True \"+element\n",
    "            ylab = \"Predicted \"+element\n",
    "            xdata = df.Actual\n",
    "            ydata = df.Pred\n",
    "            xerr = uncert[element] # 'Actual' uncertainty\n",
    "            yerr = ref['RMSEP_Braga'].iloc[0] # RMSEP\n",
    "            b_type = 'dotted'\n",
    "            d_type = 'dashed'\n",
    "            q_type = 'solid'\n",
    "            ddash = (0, (10, 2))\n",
    "            c_b = '#3a2382'\n",
    "            c_m = '#f58442'\n",
    "            c_p = \"black\"\n",
    "            c_g = \"darkgrey\"\n",
    "            c_e = \"#bfbfbf\"\n",
    "            linew = 0.5\n",
    "            line_c = 'white'\n",
    "            lwidth = 1.5\n",
    "            cap = 2.5\n",
    "            xsize = 20\n",
    "            klen = 5\n",
    "\n",
    "            fig, ax = plt.subplots(1, figsize = (6,6))\n",
    "            # plot data\n",
    "            ax.scatter(xdata, ydata, c=c_p, linewidth = linew, edgecolors = line_c, zorder=2)\n",
    "            # error bars\n",
    "            ax.errorbar(x=xdata, y=ydata, c=c_e, xerr=xerr, yerr=yerr, fmt = '.', capsize=cap, zorder=1)\n",
    "            # 1:1 line\n",
    "            y_bot, y_top = plt.ylim() # get current auto-axes\n",
    "            x_bot, x_top = plt.xlim()\n",
    "            # make sure LDBQ not below edge\n",
    "            top = max(y_top, x_top, loq_b+(0.1*loq_b), loq_m+(0.1*loq_m))\n",
    "            bot = min(y_bot, x_bot, 0)\n",
    "            plt.xlim(x_bot, x_top) # reset to original axes\n",
    "            plt.ylim(y_bot, y_top)\n",
    "            one_one = ax.plot([bot,top], [bot,top], c=c_p, linewidth=lwidth, linestyle = ddash, label = \"1:1\")\n",
    "\n",
    "            # plot lines\n",
    "            zero = ax.axhline(y=0, xmin=0, xmax=1, c=c_p, linewidth=1, linestyle = q_type)\n",
    "            lobb_line = ax.axhline(y=lob_b, xmin = 0, xmax = 1, c=c_b, linewidth=lwidth, linestyle = b_type, label = \"Braga LOB\")\n",
    "            lodb_line = ax.axhline(y=lod_b, xmin = 0, xmax = 1, c=c_b, linewidth=lwidth, linestyle = d_type, label = \"Braga LOD\")\n",
    "            loqb_line = ax.axhline(y=loq_b, xmin = 0, xmax = 1, c=c_b, linewidth=lwidth, linestyle = q_type, label = \"Braga LOQ\")\n",
    "            lobm_line = ax.axhline(y=lob_m, xmin = 0, xmax = 1, c=c_m, linewidth=lwidth, linestyle = b_type, label = \"Metals LOB\")\n",
    "            lodm_line = ax.axhline(y=lod_m, xmin = 0, xmax = 1, c=c_m, linewidth=lwidth, linestyle = d_type, label = \"Metals LOD\")\n",
    "            loqm_line = ax.axhline(y=loq_m, xmin = 0, xmax = 1, c=c_m, linewidth=lwidth, linestyle = q_type, label = \"Metals LOQ\")\n",
    "\n",
    "            # format\n",
    "            ax.set_xlabel(xlab, fontsize = xsize)\n",
    "            ax.set_ylabel(ylab, fontsize = xsize)\n",
    "            ax.tick_params(length=klen, labelsize=tsize)\n",
    "\n",
    "            plt.tight_layout()\n",
    "            plt.savefig(\"C:\\\\Users\\\\ytsma22c\\\\Google Drive\\\\Darby Work\\\\LOD paper\\\\figures\\\\pred_true\\\\\"+path_name+fig_name+\".eps\", dpi=600)\n",
    "            plt.savefig(\"C:\\\\Users\\\\ytsma22c\\\\Google Drive\\\\Darby Work\\\\LOD paper\\\\figures\\\\pred_true\\\\\"+path_name+fig_name+\".jpg\", dpi=600)\n",
    "            plt.close(fig)"
   ]
  },
  {
   "cell_type": "markdown",
   "id": "922dd264",
   "metadata": {},
   "source": [
    "#### Regression vector"
   ]
  },
  {
   "cell_type": "code",
   "execution_count": 7,
   "id": "e1c55524",
   "metadata": {},
   "outputs": [],
   "source": [
    "def reg_plot(folder, file_list, instrument, atmosphere, n_range):\n",
    "    print('Making regression vector plots')\n",
    "#-------------------------GET-DATA--------------------------#\n",
    "    for file in tqdm(file_list):\n",
    "        if \"coeff\" in file:\n",
    "            path = (folder + file)\n",
    "            df = pd.read_csv(path)\n",
    "    \n",
    "            # format data\n",
    "            df = df.reset_index().transpose()\n",
    "            df.columns = df.iloc[0]\n",
    "            df = df.drop(df.index[0]).reset_index(drop=True)\n",
    "\n",
    "            # get element info\n",
    "            if \"Composition:\" in df.columns[1]:\n",
    "                element = df.columns[1].split()[1]\n",
    "            else: element = df.columns[1].split()[0]\n",
    "            df.columns.values[1] = element # rename column\n",
    "\n",
    "#----------------------------MAKE-PLOT------------------------------#\n",
    "            path_name = instrument+\"_\"+atmosphere+\"\\\\\"\n",
    "            fig_name = element+\"_\"+n_range\n",
    "            \n",
    "            xdata = df['wavelength']\n",
    "            ydata = df[element]\n",
    "            c_p = 'black'\n",
    "            xlab = 'Wavelength (nm)'\n",
    "            ylab = 'Weight (A.U.)'\n",
    "            title = element+\": \"+instrument+\" \"+atmosphere+\" \"+n_range\n",
    "            xsize=20\n",
    "\n",
    "            fig, ax = plt.subplots(1, figsize = (10,6))\n",
    "            ax.plot(xdata, ydata, c = c_p)\n",
    "            ax.set_xlabel(xlab, fontsize = xsize)\n",
    "            ax.set_ylabel(ylab, fontsize = xsize)\n",
    "            ax.tick_params(length=klen, labelsize=tsize)\n",
    "            plt.title(title, fontsize=tsize)\n",
    "\n",
    "            # save\n",
    "            plt.tight_layout()\n",
    "            plt.savefig(\"C:\\\\Users\\\\ytsma22c\\\\Google Drive\\\\Darby Work\\\\LOD paper\\\\figures\\\\regression_vectors\\\\\"+path_name+fig_name+\".eps\", dpi=600)\n",
    "            plt.savefig(\"C:\\\\Users\\\\ytsma22c\\\\Google Drive\\\\Darby Work\\\\LOD paper\\\\figures\\\\regression_vectors\\\\\"+path_name+fig_name+\".jpg\", dpi=600)\n",
    "            plt.close(fig)"
   ]
  },
  {
   "cell_type": "code",
   "execution_count": 19,
   "id": "0288da78",
   "metadata": {},
   "outputs": [
    {
     "name": "stdout",
     "output_type": "stream",
     "text": [
      "Running LANL Mars 0-750\n",
      "Making pred/true plots\n"
     ]
    },
    {
     "data": {
      "application/vnd.jupyter.widget-view+json": {
       "model_id": "0d404a90944b4b328201e5ba11428ce6",
       "version_major": 2,
       "version_minor": 0
      },
      "text/plain": [
       "  0%|          | 0/37 [00:00<?, ?it/s]"
      ]
     },
     "metadata": {},
     "output_type": "display_data"
    },
    {
     "name": "stdout",
     "output_type": "stream",
     "text": [
      "Running LANL Mars 250-1000\n",
      "Making pred/true plots\n"
     ]
    },
    {
     "data": {
      "application/vnd.jupyter.widget-view+json": {
       "model_id": "d328d60d0775423c822d4ca37d93d5b3",
       "version_major": 2,
       "version_minor": 0
      },
      "text/plain": [
       "  0%|          | 0/37 [00:00<?, ?it/s]"
      ]
     },
     "metadata": {},
     "output_type": "display_data"
    },
    {
     "name": "stdout",
     "output_type": "stream",
     "text": [
      "Running ChemLIBS Mars 0-750\n",
      "Making pred/true plots\n"
     ]
    },
    {
     "data": {
      "application/vnd.jupyter.widget-view+json": {
       "model_id": "1c034fc56c3a4b3d92f2fcc2cb47ce32",
       "version_major": 2,
       "version_minor": 0
      },
      "text/plain": [
       "  0%|          | 0/28 [00:00<?, ?it/s]"
      ]
     },
     "metadata": {},
     "output_type": "display_data"
    },
    {
     "name": "stdout",
     "output_type": "stream",
     "text": [
      "Running ChemLIBS Mars 250-1000\n",
      "Making pred/true plots\n"
     ]
    },
    {
     "data": {
      "application/vnd.jupyter.widget-view+json": {
       "model_id": "3bc8cb51fa8f42d3bfa8b6e817404faf",
       "version_major": 2,
       "version_minor": 0
      },
      "text/plain": [
       "  0%|          | 0/28 [00:00<?, ?it/s]"
      ]
     },
     "metadata": {},
     "output_type": "display_data"
    },
    {
     "name": "stdout",
     "output_type": "stream",
     "text": [
      "Running ChemLIBS Earth 0-750\n",
      "Making pred/true plots\n"
     ]
    },
    {
     "data": {
      "application/vnd.jupyter.widget-view+json": {
       "model_id": "7c2a4352ba284dd4921cd66e4797b54f",
       "version_major": 2,
       "version_minor": 0
      },
      "text/plain": [
       "  0%|          | 0/28 [00:00<?, ?it/s]"
      ]
     },
     "metadata": {},
     "output_type": "display_data"
    },
    {
     "name": "stdout",
     "output_type": "stream",
     "text": [
      "Running ChemLIBS Earth 250-1000\n",
      "Making pred/true plots\n"
     ]
    },
    {
     "data": {
      "application/vnd.jupyter.widget-view+json": {
       "model_id": "3fb98eba6776463aa68dee5c8af26ebc",
       "version_major": 2,
       "version_minor": 0
      },
      "text/plain": [
       "  0%|          | 0/28 [00:00<?, ?it/s]"
      ]
     },
     "metadata": {},
     "output_type": "display_data"
    },
    {
     "name": "stdout",
     "output_type": "stream",
     "text": [
      "Running ChemLIBS Vacuum 0-750\n",
      "Making pred/true plots\n"
     ]
    },
    {
     "data": {
      "application/vnd.jupyter.widget-view+json": {
       "model_id": "26797b4aa6214e5ba1281d40c4a4763f",
       "version_major": 2,
       "version_minor": 0
      },
      "text/plain": [
       "  0%|          | 0/28 [00:00<?, ?it/s]"
      ]
     },
     "metadata": {},
     "output_type": "display_data"
    },
    {
     "name": "stdout",
     "output_type": "stream",
     "text": [
      "Running ChemLIBS Vacuum 250-1000\n",
      "Making pred/true plots\n"
     ]
    },
    {
     "data": {
      "application/vnd.jupyter.widget-view+json": {
       "model_id": "2040ed7238b243a381b594c2067f3042",
       "version_major": 2,
       "version_minor": 0
      },
      "text/plain": [
       "  0%|          | 0/28 [00:00<?, ?it/s]"
      ]
     },
     "metadata": {},
     "output_type": "display_data"
    }
   ],
   "source": [
    "envs = [['LANL', 'Mars'],['ChemLIBS', 'Mars'],['ChemLIBS', 'Earth'],['ChemLIBS', 'Vacuum']]\n",
    "\n",
    "for env in envs:\n",
    "    \n",
    "    instrument = env[0]\n",
    "    atmosphere = env[1]\n",
    "    \n",
    "    for n_range in ['0-750', '250-1000']:\n",
    "        print('Running',  instrument, atmosphere, n_range)\n",
    "        \n",
    "        folder = \"C:\\\\Users\\\\ytsma22c\\\\Google Drive\\\\Darby Work\\\\LOD paper\\\\\"+instrument+\" calculations\\\\models\\\\\"+atmosphere+\"\\\\\"+n_range+\"\\\\\"\n",
    "        file_list = os.listdir(folder)    \n",
    "\n",
    "        pred_true_plot(folder, file_list, data, comps, instrument, atmosphere, n_range)\n",
    "        #reg_plot(folder, file_list, instrument, atmosphere, n_range)"
   ]
  },
  {
   "cell_type": "markdown",
   "id": "4a6a5350",
   "metadata": {},
   "source": [
    "# Example pred/true, reg vector figures\n",
    "ChemLIBS Mars Li\n",
    "### Regression vector"
   ]
  },
  {
   "cell_type": "code",
   "execution_count": null,
   "id": "11e9dd5d",
   "metadata": {},
   "outputs": [],
   "source": [
    "# 0-750 regression vector\n",
    "coeffs750 = pd.read_csv(\"C:\\\\Users\\\\ytsma22c\\\\Google Drive\\\\Darby Work\\\\LOD paper\\\\ChemLIBS calculations\\\\models\\\\Mars\\\\0-750\\\\Li_coeffs.csv\")\n",
    "coeffs750 = coeffs750.reset_index().transpose()\n",
    "coeffs750.columns = coeffs750.iloc[0]\n",
    "coeffs750 = coeffs750.drop(coeffs750.index[0]).reset_index(drop=True)\n",
    "coeffs750.columns = ['wave', '0-750']\n",
    "# 250-1000 regression vector\n",
    "coeffs250 = pd.read_csv(\"C:\\\\Users\\\\ytsma22c\\\\Google Drive\\\\Darby Work\\\\LOD paper\\\\ChemLIBS calculations\\\\models\\\\Mars\\\\250-1000\\\\Li_coeffs.csv\")\n",
    "coeffs250 = coeffs250.reset_index().transpose()\n",
    "coeffs250.columns = coeffs250.iloc[0]\n",
    "coeffs250 = coeffs250.drop(coeffs250.index[0]).reset_index(drop=True)\n",
    "coeffs250.columns = ['wave', '250-1000']\n",
    "# merge\n",
    "coeffs = pd.merge(coeffs750, coeffs250, on='wave')\n",
    "# add CADILLAC spectrum\n",
    "cad.columns = ['wave', 'CADILLAC']\n",
    "coeffs = pd.merge(coeffs, cad, on='wave')\n",
    "coeffs['CADILLAC'] = coeffs['CADILLAC'] * 100000 # make larger to match scale"
   ]
  },
  {
   "cell_type": "code",
   "execution_count": null,
   "id": "96c1572d",
   "metadata": {},
   "outputs": [],
   "source": [
    "# data\n",
    "wave = coeffs['wave']\n",
    "cf_750 = coeffs['0-750']\n",
    "cf_250 = coeffs['250-1000']\n",
    "cadillac = coeffs['CADILLAC']\n",
    "# format\n",
    "c_cad = 'black'\n",
    "c_750 = 'darkgreen'\n",
    "c_250 = 'lightgreen'\n",
    "xlab = 'Wavelength (nm)'\n",
    "ylab = 'Weight or Normalized Intensity (A.U.)'\n",
    "xsize=20\n",
    "lsize=14\n",
    "a = 0.6\n",
    "l_cad = 'CADILLAC'\n",
    "l_750 = '0-750 Regression Vector'\n",
    "l_250 = '250-1000 Regression Vector'\n",
    "\n",
    "fig, ax = plt.subplots(1, figsize = (10,6))\n",
    "ax.plot(wave, cadillac, c = c_cad, alpha = a, zorder = 1, label = l_cad)\n",
    "ax.plot(wave, cf_750, c = c_750, zorder = 2, label = l_750)\n",
    "ax.plot(wave, cf_250, c = c_250, alpha = a, zorder = 3, label = l_250)\n",
    "ax.set_xlim(240,855)\n",
    "ax.set_xlabel(xlab, fontsize = xsize)\n",
    "ax.set_ylabel(ylab, fontsize = xsize)\n",
    "ax.tick_params(length=klen, labelsize=tsize)\n",
    "ax.legend(fontsize = lsize, loc=(0.27,0.77))\n",
    "\n",
    "# save image\n",
    "path = \"C:\\\\Users\\\\ytsma22c\\\\Google Drive\\\\Darby Work\\\\LOD paper\\\\figures\\\\reg_vector_compare.eps\"\n",
    "path1 = \"C:\\\\Users\\\\ytsma22c\\\\Google Drive\\\\Darby Work\\\\LOD paper\\\\figures\\\\reg_vector_compare.jpeg\"\n",
    "plt.savefig(path, bbox_inches=\"tight\") # save as .eps\n",
    "plt.savefig(path1, bbox_inches=\"tight\") # save as .jpeg\n",
    "\n",
    "plt.show()"
   ]
  },
  {
   "cell_type": "markdown",
   "id": "b232d22a",
   "metadata": {},
   "source": [
    "### Pred/true"
   ]
  },
  {
   "cell_type": "code",
   "execution_count": null,
   "id": "339e8a42",
   "metadata": {},
   "outputs": [],
   "source": [
    "element = 'Li'\n",
    "instrument = 'ChemLIBS'\n",
    "atmosphere = 'Mars'\n",
    "xerr = uncert[element]\n",
    "\n",
    "# 0-750 predictions\n",
    "pred_true_750 = pd.read_csv(\"C:\\\\Users\\\\ytsma22c\\\\Google Drive\\\\Darby Work\\\\LOD paper\\\\ChemLIBS calculations\\\\models\\\\Mars\\\\0-750\\\\Li_test_predictions.csv\")\n",
    "pred_true_750.columns = ['pkey', 'Actual', 'Pred']\n",
    "pred_true_750 = pred_true_750.drop([0])\n",
    "pred_true_750.Pred = pred_true_750.Pred.astype(float)\n",
    "# compositions\n",
    "pred_true_750 = pred_true_750.replace({'pkey': mhc_key})\n",
    "pred_true_750 = pred_true_750[['pkey', 'Actual', 'Pred']].drop_duplicates(subset = 'pkey').sort_values(by='pkey').reset_index(drop=True)\n",
    "# add in Actual concentrations\n",
    "temp_comps = comps[comps.Sample.isin(pred_true_750.pkey)].reset_index(drop=True) \n",
    "pred_true_750['Actual'] = temp_comps[temp_comps['Sample'] == pred_true_750['pkey']][element]\n",
    "# get RMSEP\n",
    "ref_750 = detail_data[(detail_data.num_range == '0-750')&(detail_data.instrument == instrument)&(detail_data.atmosphere == atmosphere)&(detail_data.element == element)].reset_index(drop=True)\n",
    "err_750 = ref_750['RMSEP_Braga'].iloc[0]\n",
    "\n",
    "# 250-1000 predictions\n",
    "pred_true_250 = pd.read_csv(\"C:\\\\Users\\\\ytsma22c\\\\Google Drive\\\\Darby Work\\\\LOD paper\\\\ChemLIBS calculations\\\\models\\\\Mars\\\\250-1000\\\\Li_test_predictions.csv\")\n",
    "pred_true_250.columns = ['pkey', 'Actual', 'Pred']\n",
    "pred_true_250 = pred_true_250.drop([0])\n",
    "pred_true_250.Pred = pred_true_250.Pred.astype(float)\n",
    "# compositions\n",
    "pred_true_250 = pred_true_250.replace({'pkey': mhc_key})\n",
    "pred_true_250 = pred_true_250[['pkey', 'Actual', 'Pred']].drop_duplicates(subset = 'pkey').sort_values(by='pkey').reset_index(drop=True)\n",
    "# add in Actual concentrations\n",
    "temp_comps = comps[comps.Sample.isin(pred_true_250.pkey)].reset_index(drop=True) \n",
    "pred_true_250['Actual'] = temp_comps[temp_comps['Sample'] == pred_true_250['pkey']][element]\n",
    "# get RMSEP\n",
    "ref_250 = detail_data[(detail_data.num_range == '250-1000')&(detail_data.instrument == instrument)&(detail_data.atmosphere == atmosphere)&(detail_data.element == element)].reset_index(drop=True)\n",
    "err_250 = ref_250['RMSEP_Braga'].iloc[0]"
   ]
  },
  {
   "cell_type": "code",
   "execution_count": 13,
   "id": "ee43c9ea",
   "metadata": {},
   "outputs": [
    {
     "ename": "NameError",
     "evalue": "name 'pred_true_750' is not defined",
     "output_type": "error",
     "traceback": [
      "\u001b[1;31m---------------------------------------------------------------------------\u001b[0m",
      "\u001b[1;31mNameError\u001b[0m                                 Traceback (most recent call last)",
      "\u001b[1;32m<ipython-input-13-d8ba41c37cdc>\u001b[0m in \u001b[0;36m<module>\u001b[1;34m\u001b[0m\n\u001b[0;32m      1\u001b[0m \u001b[1;31m# data\u001b[0m\u001b[1;33m\u001b[0m\u001b[1;33m\u001b[0m\u001b[1;33m\u001b[0m\u001b[0m\n\u001b[1;32m----> 2\u001b[1;33m \u001b[0mx_750\u001b[0m \u001b[1;33m=\u001b[0m \u001b[0mpred_true_750\u001b[0m\u001b[1;33m[\u001b[0m\u001b[1;34m'Actual'\u001b[0m\u001b[1;33m]\u001b[0m\u001b[1;33m\u001b[0m\u001b[1;33m\u001b[0m\u001b[0m\n\u001b[0m\u001b[0;32m      3\u001b[0m \u001b[0my_750\u001b[0m \u001b[1;33m=\u001b[0m \u001b[0mpred_true_750\u001b[0m\u001b[1;33m[\u001b[0m\u001b[1;34m'Pred'\u001b[0m\u001b[1;33m]\u001b[0m\u001b[1;33m\u001b[0m\u001b[1;33m\u001b[0m\u001b[0m\n\u001b[0;32m      4\u001b[0m \u001b[0mx_250\u001b[0m \u001b[1;33m=\u001b[0m \u001b[0mpred_true_250\u001b[0m\u001b[1;33m[\u001b[0m\u001b[1;34m'Actual'\u001b[0m\u001b[1;33m]\u001b[0m\u001b[1;33m\u001b[0m\u001b[1;33m\u001b[0m\u001b[0m\n\u001b[0;32m      5\u001b[0m \u001b[0my_250\u001b[0m \u001b[1;33m=\u001b[0m \u001b[0mpred_true_250\u001b[0m\u001b[1;33m[\u001b[0m\u001b[1;34m'Pred'\u001b[0m\u001b[1;33m]\u001b[0m\u001b[1;33m\u001b[0m\u001b[1;33m\u001b[0m\u001b[0m\n",
      "\u001b[1;31mNameError\u001b[0m: name 'pred_true_750' is not defined"
     ]
    }
   ],
   "source": [
    "# data\n",
    "x_750 = pred_true_750['Actual']\n",
    "y_750 = pred_true_750['Pred']\n",
    "x_250 = pred_true_250['Actual']\n",
    "y_250 = pred_true_250['Pred']\n",
    "# format\n",
    "c_750 = 'darkgreen'\n",
    "c_250 = 'lightgreen'\n",
    "xlab = 'Actual Li (ppm)'\n",
    "ylab = 'Predicted Li (ppm)'\n",
    "xsize=20\n",
    "lsize=14\n",
    "ddash = (0, (10, 2))\n",
    "l_type = 'solid'\n",
    "a = 0.6\n",
    "c_e = \"#bfbfbf\"\n",
    "c_g = \"darkgrey\"\n",
    "c_p = 'black'\n",
    "linew = 0.5\n",
    "lwidht = 1\n",
    "line_c = 'white'\n",
    "cap = 2.5\n",
    "l_750 = '0-750 Model'\n",
    "l_250 = '250-1000 Model'\n",
    "\n",
    "fig, ax = plt.subplots(1, figsize = (6,6))\n",
    "# data\n",
    "ax.scatter(x_750, y_750, c = c_750, linewidth = linew, alpha = a, edgecolors = line_c, label = l_750, zorder=4)\n",
    "ax.scatter(x_250, y_250, c = c_250, linewidth = linew, edgecolors = line_c, label = l_250, zorder=3)\n",
    "ax.axhline(y=0, xmin=0, xmax=1, c=c_p, linewidth=1, linestyle = l_type) # 0 line\n",
    "\n",
    "# error bars (line for each model bc too much overlap otherwise)\n",
    "#ax.errorbar(x=x_750, y=y_750, c=c_e, xerr=xerr, yerr=err_750, alpha = a, capsize=cap, fmt='o', zorder=1)\n",
    "#ax.errorbar(x=x_250, y=y_250, c=c_e, xerr=xerr, yerr=err_250, alpha = a, capsize=cap, fmt='o', zorder=2)\n",
    "ax.errorbar(x=210, y=65, c=c_250, xerr=0, yerr=err_250, capsize=3)\n",
    "ax.errorbar(x=180, y=65, c=c_750, xerr=0, yerr=err_750, capsize=3)\n",
    "\n",
    "# 1:1 line\n",
    "y_bot, y_top = ax.get_ylim() # get current auto-axes\n",
    "x_bot, x_top = ax.get_xlim()\n",
    "top = max(y_top, x_top)\n",
    "bot = min(y_bot, x_bot, 0)\n",
    "ax.set_xlim(x_bot, x_top) # reset to original axes\n",
    "ax.set_ylim(y_bot, y_top)\n",
    "ax.plot([bot,top], [bot,top], c=c_p, linewidth=lwidth, linestyle = ddash, label = \"1:1\")\n",
    "\n",
    "# formatting\n",
    "ax.set_xlabel(xlab, fontsize = xsize)\n",
    "ax.set_ylabel(ylab, fontsize = xsize)\n",
    "ax.tick_params(length=klen, labelsize=lsize)\n",
    "ax.legend(fontsize = lsize)\n",
    "\n",
    "# save image\n",
    "path = \"C:\\\\Users\\\\ytsma22c\\\\Google Drive\\\\Darby Work\\\\LOD paper\\\\figures\\\\pred_true_compare.eps\"\n",
    "path1 = \"C:\\\\Users\\\\ytsma22c\\\\Google Drive\\\\Darby Work\\\\LOD paper\\\\figures\\\\pred_true_compare.jpeg\"\n",
    "plt.savefig(path, bbox_inches=\"tight\") # save as .eps\n",
    "plt.savefig(path1, bbox_inches=\"tight\") # save as .jpeg\n",
    "\n",
    "plt.show()"
   ]
  },
  {
   "cell_type": "code",
   "execution_count": null,
   "id": "f276bb8c",
   "metadata": {},
   "outputs": [],
   "source": []
  }
 ],
 "metadata": {
  "kernelspec": {
   "display_name": "Python 3",
   "language": "python",
   "name": "python3"
  },
  "language_info": {
   "codemirror_mode": {
    "name": "ipython",
    "version": 3
   },
   "file_extension": ".py",
   "mimetype": "text/x-python",
   "name": "python",
   "nbconvert_exporter": "python",
   "pygments_lexer": "ipython3",
   "version": "3.8.8"
  }
 },
 "nbformat": 4,
 "nbformat_minor": 5
}
