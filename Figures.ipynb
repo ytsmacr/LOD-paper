{
 "cells": [
  {
   "cell_type": "code",
   "execution_count": 44,
   "id": "ad69e03f",
   "metadata": {},
   "outputs": [
    {
     "name": "stdout",
     "output_type": "stream",
     "text": [
      "Matplotlib version 3.4.2\n"
     ]
    }
   ],
   "source": [
    "import pandas as pd\n",
    "import numpy as np\n",
    "import matplotlib as mpl\n",
    "from matplotlib import pyplot as plt\n",
    "from matplotlib.collections import PatchCollection\n",
    "from matplotlib.patches import Rectangle\n",
    "from matplotlib.colors import to_rgba\n",
    "import os\n",
    "import sys\n",
    "from tqdm.notebook import tqdm\n",
    "\n",
    "# get version\n",
    "print(\"Matplotlib version\",mpl.__version__)\n",
    "\n",
    "mpl.rc('font', family = 'Arial')\n",
    "plt.ioff()\n",
    "\n",
    "fp = \"G:\\\\My Drive\\\\Darby Work\\\\Ytsma and Dyar 2021 (LOD paper)\\\\\"\n",
    "# read in results\n",
    "data = pd.read_csv(fp + \"average_train_results.csv\")\n",
    "# detailed results\n",
    "detail_data = pd.read_csv(fp + \"train_results.csv\")"
   ]
  },
  {
   "cell_type": "markdown",
   "id": "e6840128",
   "metadata": {},
   "source": [
    "### compare LOQ"
   ]
  },
  {
   "cell_type": "code",
   "execution_count": 49,
   "id": "b519e502",
   "metadata": {},
   "outputs": [],
   "source": [
    "def loq_compare(on='sens_method', \n",
    "                inst='CL', \n",
    "                atm='Mars',\n",
    "                out='iqr_q3',\n",
    "                norm='norm3',\n",
    "                sens='metals'):\n",
    "    # prep data\n",
    "    if on == 'sens_method':\n",
    "        df = data[(data.instrument==inst) &\n",
    "                  (data.atmosphere==atm) &\n",
    "                  (data.normalization==norm) &\n",
    "                  (data.outlier_defn==out)\n",
    "                 ].copy(deep=True)\n",
    "        \n",
    "        lab1 = 'braga'\n",
    "        lab2='metals'\n",
    "        \n",
    "    elif on == 'outlier_defn':\n",
    "        df = data[(data.instrument==inst) &\n",
    "                  (data.atmosphere==atm) &\n",
    "                  (data.normalization==norm) &\n",
    "                  (data.sens_method==sens)\n",
    "                 ].copy(deep=True)\n",
    "        \n",
    "        lab1 = 'iqr_q3'\n",
    "        lab2 = 'high_natl'\n",
    "        \n",
    "    elif on == 'normalization':\n",
    "        df = data[(data.instrument==inst) &\n",
    "                  (data.atmosphere==atm) &\n",
    "                  (data.outlier_defn==out) &\n",
    "                  (data.sens_method==sens)\n",
    "                 ].copy(deep=True)\n",
    "        \n",
    "        lab1='norm3'\n",
    "        lab2='unnorm'\n",
    "        \n",
    "    elif on == 'instrument':\n",
    "        df = data[(data.instrument.str.contains('CC')) &\n",
    "                  (data.normalization==norm) &\n",
    "                  (data.atmosphere=='Mars') &\n",
    "                  (data.outlier_defn==out) &\n",
    "                  (data.sens_method==sens)\n",
    "                 ].copy(deep=True)\n",
    "        \n",
    "        lab1='CC'\n",
    "        lab2='CL_CC'\n",
    "        \n",
    "#    elif on == 'atmosphere':\n",
    "#        df = data[(data.instrument=='CL') &\n",
    "#                  (data.normalization==norm) &\n",
    "#                  (data.outlier_defn==out) &\n",
    "#                  (data.sens_method==sens)\n",
    "#                 ].copy(deep=True)\n",
    "        \n",
    "    maj_list = ['MnO', 'Na2O', 'SiO2']\n",
    " \n",
    "    df1 = df[df[on]==lab1].reset_index(drop=True)\n",
    "    df2 = df[df[on]==lab2].reset_index(drop=True)\n",
    "\n",
    "    df1_maj = pd.DataFrame(df1[df1.element.isin(maj_list)].reset_index(drop=True))\n",
    "    df1_min = df1[~df1.element.isin(maj_list)].reset_index(drop=True)\n",
    "\n",
    "    df2_maj = pd.DataFrame(df2[df2.element.isin(maj_list)].reset_index(drop=True))\n",
    "    df2_min = df2[~df2.element.isin(maj_list)].reset_index(drop=True) \n",
    "    \n",
    "    # define plot stuff\n",
    "    width = 0.2\n",
    "    c_b = '#540231'\n",
    "    c_m = '#40888a'\n",
    "    cap= 3\n",
    "    ysize = 12\n",
    "    lsize = 14\n",
    "    tsize = 16\n",
    "    klen = 5\n",
    "\n",
    "    #labels\n",
    "    majlab = df1_maj.element\n",
    "    minlab = df1_min.element\n",
    "\n",
    "    # tick locations\n",
    "    majt1 = [0, 0.5, 1] \n",
    "    majt2 = [x + width for x in majt1]\n",
    "    mint1 = np.arange(0,3,step=0.5)\n",
    "    mint2 = [x + width for x in mint1]\n",
    "    majtk = [x + width/2 for x in majt1]\n",
    "    mintk = [x + width/2 for x in mint1]\n",
    "\n",
    "    # make figure\n",
    "    fig, (maj, minor) = plt.subplots(ncols = 2, figsize = (10,4),\n",
    "                                     # make major one smaller\n",
    "                                     gridspec_kw={'width_ratios': [1,2]})\n",
    "    # majors\n",
    "    df1_major = maj.bar(majt1, df1_maj['loq'], width, yerr=df1_maj['loq_sd'], capsize=cap, label = lab1, color = c_b)\n",
    "    df2_major = maj.bar(majt2, df2_maj['loq'], width, yerr=df2_maj['loq_sd'], capsize=cap, label = lab2, color = c_m)\n",
    "    # minors\n",
    "    df1_minor = minor.bar(mint1, df1_min['loq'], width, yerr=df1_min['loq_sd'], capsize=cap, label = lab1, color = c_b)\n",
    "    df2_minor = minor.bar(mint2, df2_min['loq'], width, yerr=df2_min['loq_sd'], capsize=cap, label = lab2, color = c_m)\n",
    "\n",
    "    # formatting\n",
    "    maj.tick_params(axis = 'y', which = 'major', labelsize = ysize,)\n",
    "    maj.tick_params(length=klen)\n",
    "    maj.set_xticks(majtk)\n",
    "    maj.set_xticklabels(majlab, fontsize = lsize)\n",
    "    maj.set_ylabel('LOQ (wt%)', fontsize = tsize)\n",
    "\n",
    "    minor.set_xticks(mintk)\n",
    "    minor.set_xticklabels(minlab, fontsize = lsize)\n",
    "    minor.set_ylabel('LOQ (ppm)', fontsize = tsize)\n",
    "    minor.tick_params(axis = 'y', which = 'major', labelsize = ysize)  \n",
    "    minor.tick_params(length=klen)\n",
    "    minor.legend(handles = [df1_major, df2_major], fontsize = lsize)\n",
    "    \n",
    "    plt.tight_layout()\n",
    "    #plt.savefig(fp + \"figures\\\\outlier_comp_\"+metric+\".eps\", dpi=600)\n",
    "    plt.show()"
   ]
  },
  {
   "cell_type": "code",
   "execution_count": 62,
   "id": "7f129907",
   "metadata": {},
   "outputs": [],
   "source": [
    "def rmsecv_compare(on='sens_method', \n",
    "                inst='CL', \n",
    "                atm='Mars',\n",
    "                out='iqr_q3',\n",
    "                norm='norm3',\n",
    "                sens='metals'):\n",
    "    # prep data\n",
    "    if on == 'sens_method':\n",
    "        df = data[(data.instrument==inst) &\n",
    "                  (data.atmosphere==atm) &\n",
    "                  (data.normalization==norm) &\n",
    "                  (data.outlier_defn==out)\n",
    "                 ].copy(deep=True)\n",
    "        \n",
    "        lab1 = 'braga'\n",
    "        lab2='metals'\n",
    "        \n",
    "    elif on == 'outlier_defn':\n",
    "        df = data[(data.instrument==inst) &\n",
    "                  (data.atmosphere==atm) &\n",
    "                  (data.normalization==norm) &\n",
    "                  (data.sens_method==sens)\n",
    "                 ].copy(deep=True)\n",
    "        \n",
    "        lab1 = 'iqr_q3'\n",
    "        lab2 = 'high_natl'\n",
    "        \n",
    "    elif on == 'normalization':\n",
    "        df = data[(data.instrument==inst) &\n",
    "                  (data.atmosphere==atm) &\n",
    "                  (data.outlier_defn==out) &\n",
    "                  (data.sens_method==sens)\n",
    "                 ].copy(deep=True)\n",
    "        \n",
    "        lab1='norm3'\n",
    "        lab2='unnorm'\n",
    "        \n",
    "    elif on == 'instrument':\n",
    "        df = data[(data.instrument.str.contains('CC')) &\n",
    "                  (data.normalization==norm) &\n",
    "                  (data.atmosphere=='Mars') &\n",
    "                  (data.outlier_defn==out) &\n",
    "                  (data.sens_method==sens)\n",
    "                 ].copy(deep=True)\n",
    "        \n",
    "        lab1='CC'\n",
    "        lab2='CL_CC'\n",
    "        \n",
    "#    elif on == 'atmosphere':\n",
    "#        df = data[(data.instrument=='CL') &\n",
    "#                  (data.normalization==norm) &\n",
    "#                  (data.outlier_defn==out) &\n",
    "#                  (data.sens_method==sens)\n",
    "#                 ].copy(deep=True)\n",
    "        \n",
    "    maj_list = ['MnO', 'Na2O', 'SiO2']\n",
    " \n",
    "    df1 = df[df[on]==lab1].reset_index(drop=True)\n",
    "    df2 = df[df[on]==lab2].reset_index(drop=True)\n",
    "\n",
    "    df1_maj = pd.DataFrame(df1[df1.element.isin(maj_list)].reset_index(drop=True))\n",
    "    df1_min = df1[~df1.element.isin(maj_list)].reset_index(drop=True)\n",
    "\n",
    "    df2_maj = pd.DataFrame(df2[df2.element.isin(maj_list)].reset_index(drop=True))\n",
    "    df2_min = df2[~df2.element.isin(maj_list)].reset_index(drop=True) \n",
    "    \n",
    "    # define plot stuff\n",
    "    width = 0.2\n",
    "    c_b = '#540231'\n",
    "    c_m = '#40888a'\n",
    "    cap= 3\n",
    "    ysize = 12\n",
    "    lsize = 14\n",
    "    tsize = 16\n",
    "    klen = 5\n",
    "\n",
    "    #labels\n",
    "    majlab = df1_maj.element\n",
    "    minlab = df1_min.element\n",
    "\n",
    "    # tick locations\n",
    "    majt1 = [0, 0.5, 1] \n",
    "    majt2 = [x + width for x in majt1]\n",
    "    mint1 = np.arange(0,3,step=0.5)\n",
    "    mint2 = [x + width for x in mint1]\n",
    "    majtk = [x + width/2 for x in majt1]\n",
    "    mintk = [x + width/2 for x in mint1]\n",
    "\n",
    "    # make figure\n",
    "    fig, (maj, minor) = plt.subplots(ncols = 2, figsize = (10,4),\n",
    "                                     # make major one smaller\n",
    "                                     gridspec_kw={'width_ratios': [1,2]})\n",
    "    # majors\n",
    "    df1_major = maj.bar(majt1, df1_maj['rmsecv'], width, yerr=df1_maj['rmsecv_sd'], capsize=cap, label = lab1, color = c_b)\n",
    "    df2_major = maj.bar(majt2, df2_maj['rmsecv'], width, yerr=df2_maj['rmsecv_sd'], capsize=cap, label = lab2, color = c_m)\n",
    "    # minors\n",
    "    df1_minor = minor.bar(mint1, df1_min['rmsecv'], width, yerr=df1_min['rmsecv_sd'], capsize=cap, label = lab1, color = c_b)\n",
    "    df2_minor = minor.bar(mint2, df2_min['rmsecv'], width, yerr=df2_min['rmsecv_sd'], capsize=cap, label = lab2, color = c_m)\n",
    "\n",
    "    # formatting\n",
    "    maj.tick_params(axis = 'y', which = 'major', labelsize = ysize,)\n",
    "    maj.tick_params(length=klen)\n",
    "    maj.set_xticks(majtk)\n",
    "    maj.set_xticklabels(majlab, fontsize = lsize)\n",
    "    maj.set_ylabel('RMSE-CV (wt%)', fontsize = tsize)\n",
    "\n",
    "    minor.set_xticks(mintk)\n",
    "    minor.set_xticklabels(minlab, fontsize = lsize)\n",
    "    minor.set_ylabel('RMSE-CV (ppm)', fontsize = tsize)\n",
    "    minor.tick_params(axis = 'y', which = 'major', labelsize = ysize)  \n",
    "    minor.tick_params(length=klen)\n",
    "    minor.legend(handles = [df1_major, df2_major], fontsize = lsize)\n",
    "    \n",
    "    plt.tight_layout()\n",
    "    #plt.savefig(fp + \"figures\\\\outlier_comp_\"+metric+\".eps\", dpi=600)\n",
    "    plt.show()"
   ]
  },
  {
   "cell_type": "code",
   "execution_count": 66,
   "id": "99b8a6a9",
   "metadata": {},
   "outputs": [
    {
     "data": {
      "image/png": "[encoded data removed]",
      "text/plain": [
       "<Figure size 720x288 with 2 Axes>"
      ]
     },
     "metadata": {
      "needs_background": "light"
     },
     "output_type": "display_data"
    }
   ],
   "source": [
    "loq_compare(on='instrument')"
   ]
  },
  {
   "cell_type": "code",
   "execution_count": 64,
   "id": "b1ba9219",
   "metadata": {},
   "outputs": [
    {
     "data": {
      "image/png": "[encoded data removed]",
      "text/plain": [
       "<Figure size 720x288 with 2 Axes>"
      ]
     },
     "metadata": {
      "needs_background": "light"
     },
     "output_type": "display_data"
    }
   ],
   "source": [
    "rmsecv_compare(on='outlier_defn', atm='Earth')"
   ]
  },
  {
   "cell_type": "code",
   "execution_count": 65,
   "id": "94489379",
   "metadata": {},
   "outputs": [
    {
     "data": {
      "image/png": "[encoded data removed]",
      "text/plain": [
       "<Figure size 720x288 with 2 Axes>"
      ]
     },
     "metadata": {
      "needs_background": "light"
     },
     "output_type": "display_data"
    }
   ],
   "source": [
    "rmsecv_compare(on='outlier_defn', atm=\"Vacuum\")"
   ]
  },
  {
   "cell_type": "code",
   "execution_count": 47,
   "id": "aaed6487",
   "metadata": {},
   "outputs": [
    {
     "data": {
      "image/png": "[encoded data removed]",
      "text/plain": [
       "<Figure size 720x288 with 2 Axes>"
      ]
     },
     "metadata": {
      "needs_background": "light"
     },
     "output_type": "display_data"
    }
   ],
   "source": [
    "loq_compare(on='outlier_defn')#, norm='unnorm')"
   ]
  },
  {
   "cell_type": "code",
   "execution_count": 48,
   "id": "9d63cc76",
   "metadata": {},
   "outputs": [
    {
     "data": {
      "image/png": "[encoded data removed]",
      "text/plain": [
       "<Figure size 720x288 with 2 Axes>"
      ]
     },
     "metadata": {
      "needs_background": "light"
     },
     "output_type": "display_data"
    }
   ],
   "source": [
    "loq_compare(on='instrument')"
   ]
  },
  {
   "cell_type": "code",
   "execution_count": null,
   "id": "2c10ee23",
   "metadata": {},
   "outputs": [],
   "source": []
  },
  {
   "cell_type": "code",
   "execution_count": null,
   "id": "e6f06bcc",
   "metadata": {},
   "outputs": [],
   "source": []
  },
  {
   "cell_type": "code",
   "execution_count": null,
   "id": "b138dffb",
   "metadata": {},
   "outputs": [],
   "source": []
  },
  {
   "cell_type": "markdown",
   "id": "9e683165",
   "metadata": {},
   "source": [
    "### compare outlier methods"
   ]
  },
  {
   "cell_type": "code",
   "execution_count": 135,
   "id": "117b6c9b",
   "metadata": {},
   "outputs": [],
   "source": [
    "temp_data = data[(data.atmosphere == 'Mars')&\n",
    "                 (data.instrument == 'ChemLIBS')&\n",
    "                 (data.method == 'metals')].copy(deep=True)"
   ]
  },
  {
   "cell_type": "code",
   "execution_count": 136,
   "id": "70f5c2a7",
   "metadata": {},
   "outputs": [
    {
     "data": {
      "text/html": [
       "<div>\n",
       "<style scoped>\n",
       "    .dataframe tbody tr th:only-of-type {\n",
       "        vertical-align: middle;\n",
       "    }\n",
       "\n",
       "    .dataframe tbody tr th {\n",
       "        vertical-align: top;\n",
       "    }\n",
       "\n",
       "    .dataframe thead th {\n",
       "        text-align: right;\n",
       "    }\n",
       "</style>\n",
       "<table border=\"1\" class=\"dataframe\">\n",
       "  <thead>\n",
       "    <tr style=\"text-align: right;\">\n",
       "      <th></th>\n",
       "      <th>element</th>\n",
       "      <th>outlier_defn</th>\n",
       "      <th>n_train</th>\n",
       "      <th>n_test</th>\n",
       "    </tr>\n",
       "  </thead>\n",
       "  <tbody>\n",
       "    <tr>\n",
       "      <th>0</th>\n",
       "      <td>Li</td>\n",
       "      <td>highest_natural</td>\n",
       "      <td>421.5</td>\n",
       "      <td>2.0</td>\n",
       "    </tr>\n",
       "    <tr>\n",
       "      <th>1</th>\n",
       "      <td>Li</td>\n",
       "      <td>iqr_q3</td>\n",
       "      <td>374.5</td>\n",
       "      <td>109.0</td>\n",
       "    </tr>\n",
       "    <tr>\n",
       "      <th>2</th>\n",
       "      <td>MnO</td>\n",
       "      <td>highest_natural</td>\n",
       "      <td>2156.0</td>\n",
       "      <td>11.0</td>\n",
       "    </tr>\n",
       "    <tr>\n",
       "      <th>3</th>\n",
       "      <td>MnO</td>\n",
       "      <td>iqr_q3</td>\n",
       "      <td>2120.5</td>\n",
       "      <td>674.0</td>\n",
       "    </tr>\n",
       "    <tr>\n",
       "      <th>4</th>\n",
       "      <td>Na2O</td>\n",
       "      <td>highest_natural</td>\n",
       "      <td>2157.0</td>\n",
       "      <td>680.0</td>\n",
       "    </tr>\n",
       "    <tr>\n",
       "      <th>5</th>\n",
       "      <td>Na2O</td>\n",
       "      <td>iqr_q3</td>\n",
       "      <td>2125.5</td>\n",
       "      <td>690.0</td>\n",
       "    </tr>\n",
       "    <tr>\n",
       "      <th>6</th>\n",
       "      <td>Ni</td>\n",
       "      <td>highest_natural</td>\n",
       "      <td>1899.5</td>\n",
       "      <td>82.5</td>\n",
       "    </tr>\n",
       "    <tr>\n",
       "      <th>7</th>\n",
       "      <td>Ni</td>\n",
       "      <td>iqr_q3</td>\n",
       "      <td>1619.5</td>\n",
       "      <td>350.0</td>\n",
       "    </tr>\n",
       "    <tr>\n",
       "      <th>8</th>\n",
       "      <td>Pb</td>\n",
       "      <td>highest_natural</td>\n",
       "      <td>1770.5</td>\n",
       "      <td>583.5</td>\n",
       "    </tr>\n",
       "    <tr>\n",
       "      <th>9</th>\n",
       "      <td>Pb</td>\n",
       "      <td>iqr_q3</td>\n",
       "      <td>1672.5</td>\n",
       "      <td>469.5</td>\n",
       "    </tr>\n",
       "    <tr>\n",
       "      <th>10</th>\n",
       "      <td>Rb</td>\n",
       "      <td>highest_natural</td>\n",
       "      <td>1931.0</td>\n",
       "      <td>321.5</td>\n",
       "    </tr>\n",
       "    <tr>\n",
       "      <th>11</th>\n",
       "      <td>Rb</td>\n",
       "      <td>iqr_q3</td>\n",
       "      <td>1882.0</td>\n",
       "      <td>357.0</td>\n",
       "    </tr>\n",
       "    <tr>\n",
       "      <th>12</th>\n",
       "      <td>SiO2</td>\n",
       "      <td>highest_natural</td>\n",
       "      <td>2160.0</td>\n",
       "      <td>704.0</td>\n",
       "    </tr>\n",
       "    <tr>\n",
       "      <th>13</th>\n",
       "      <td>SiO2</td>\n",
       "      <td>iqr_q3</td>\n",
       "      <td>2160.0</td>\n",
       "      <td>704.0</td>\n",
       "    </tr>\n",
       "    <tr>\n",
       "      <th>14</th>\n",
       "      <td>Sr</td>\n",
       "      <td>highest_natural</td>\n",
       "      <td>1970.5</td>\n",
       "      <td>75.0</td>\n",
       "    </tr>\n",
       "    <tr>\n",
       "      <th>15</th>\n",
       "      <td>Sr</td>\n",
       "      <td>iqr_q3</td>\n",
       "      <td>1821.0</td>\n",
       "      <td>77.0</td>\n",
       "    </tr>\n",
       "    <tr>\n",
       "      <th>16</th>\n",
       "      <td>Zn</td>\n",
       "      <td>highest_natural</td>\n",
       "      <td>1916.0</td>\n",
       "      <td>297.5</td>\n",
       "    </tr>\n",
       "    <tr>\n",
       "      <th>17</th>\n",
       "      <td>Zn</td>\n",
       "      <td>iqr_q3</td>\n",
       "      <td>1876.5</td>\n",
       "      <td>412.0</td>\n",
       "    </tr>\n",
       "  </tbody>\n",
       "</table>\n",
       "</div>"
      ],
      "text/plain": [
       "   element     outlier_defn  n_train  n_test\n",
       "0       Li  highest_natural    421.5     2.0\n",
       "1       Li           iqr_q3    374.5   109.0\n",
       "2      MnO  highest_natural   2156.0    11.0\n",
       "3      MnO           iqr_q3   2120.5   674.0\n",
       "4     Na2O  highest_natural   2157.0   680.0\n",
       "5     Na2O           iqr_q3   2125.5   690.0\n",
       "6       Ni  highest_natural   1899.5    82.5\n",
       "7       Ni           iqr_q3   1619.5   350.0\n",
       "8       Pb  highest_natural   1770.5   583.5\n",
       "9       Pb           iqr_q3   1672.5   469.5\n",
       "10      Rb  highest_natural   1931.0   321.5\n",
       "11      Rb           iqr_q3   1882.0   357.0\n",
       "12    SiO2  highest_natural   2160.0   704.0\n",
       "13    SiO2           iqr_q3   2160.0   704.0\n",
       "14      Sr  highest_natural   1970.5    75.0\n",
       "15      Sr           iqr_q3   1821.0    77.0\n",
       "16      Zn  highest_natural   1916.0   297.5\n",
       "17      Zn           iqr_q3   1876.5   412.0"
      ]
     },
     "execution_count": 136,
     "metadata": {},
     "output_type": "execute_result"
    }
   ],
   "source": [
    "# differences in n standards by outlier defn\n",
    "temp_data.groupby(['element', 'outlier_defn']).mean()[['n_train', 'n_test']].reset_index()"
   ]
  },
  {
   "cell_type": "code",
   "execution_count": 137,
   "id": "066ce994",
   "metadata": {},
   "outputs": [],
   "source": [
    "thn = temp_data[temp_data.outlier_defn=='highest_natural'].reset_index(drop=True)\n",
    "tq = temp_data[temp_data.outlier_defn=='iqr_q3'].reset_index(drop=True)"
   ]
  },
  {
   "cell_type": "code",
   "execution_count": 138,
   "id": "3cbd70a5",
   "metadata": {},
   "outputs": [],
   "source": [
    "maj_list = ['MnO', 'Na2O', 'SiO2']\n",
    "thn_maj = pd.DataFrame(thn[thn.element.isin(maj_list)].reset_index(drop=True))\n",
    "thn_min = thn[~thn.element.isin(maj_list)].reset_index(drop=True)\n",
    "\n",
    "tq_maj = pd.DataFrame(tq[tq.element.isin(maj_list)].reset_index(drop=True))\n",
    "tq_min = tq[~tq.element.isin(maj_list)].reset_index(drop=True)"
   ]
  },
  {
   "cell_type": "code",
   "execution_count": 143,
   "id": "b4c899a1",
   "metadata": {},
   "outputs": [],
   "source": [
    "def outlier_comp(metric):\n",
    "    \n",
    "    sd = metric + '_sd'\n",
    "    # define plot stuff\n",
    "    width = 0.2\n",
    "    c_b = '#540231'\n",
    "    c_m = '#40888a'\n",
    "    cap= 3\n",
    "    ysize = 12\n",
    "    lsize = 14\n",
    "    tsize = 16\n",
    "    klen = 5\n",
    "\n",
    "    #labels\n",
    "    majlab = thn_maj.element\n",
    "    minlab = thn_min.element\n",
    "\n",
    "    # tick locations\n",
    "    majt1 = [0, 0.5, 1] \n",
    "    majt2 = [x + width for x in majt1]\n",
    "    mint1 = np.arange(0,3,step=0.5)\n",
    "    mint2 = [x + width for x in mint1]\n",
    "    majtk = [x + width/2 for x in majt1]\n",
    "    mintk = [x + width/2 for x in mint1]\n",
    "\n",
    "    # make figure\n",
    "    fig, (maj, minor) = plt.subplots(ncols = 2, figsize = (10,4),\n",
    "                                     # make major one smaller\n",
    "                                     gridspec_kw={'width_ratios': [1,2]})\n",
    "    # majors\n",
    "    tq_major = maj.bar(majt1, tq_maj[metric], width, yerr=tq_maj[sd], capsize=cap, label = \"highest_natural\", color = c_b)\n",
    "    thn_major = maj.bar(majt2, thn_maj[metric], width, yerr=thn_maj[sd], capsize=cap, label = \"iqr_q3\", color = c_m)\n",
    "    # minors\n",
    "    tq_minor = minor.bar(mint1, tq_min[metric], width, yerr=tq_min[sd], capsize=cap, label = \"highest_natural\", color = c_b)\n",
    "    thn_minor = minor.bar(mint2, thn_min[metric], width, yerr=thn_min[sd], capsize=cap, label = \"iqr_q3\", color = c_m)\n",
    "\n",
    "    # formatting\n",
    "    maj.tick_params(axis = 'y', which = 'major', labelsize = ysize,)\n",
    "    maj.tick_params(length=klen)\n",
    "    maj.set_xticks(majtk)\n",
    "    maj.set_xticklabels(majlab, fontsize = lsize)\n",
    "    maj.set_ylabel(metric, fontsize = tsize)\n",
    "\n",
    "    minor.set_xticks(mintk)\n",
    "    minor.set_xticklabels(minlab, fontsize = lsize)\n",
    "    minor.set_ylabel(metric, fontsize = tsize)\n",
    "    minor.tick_params(axis = 'y', which = 'major', labelsize = ysize)  \n",
    "    minor.tick_params(length=klen)\n",
    "    minor.legend(handles = [tq_major, thn_major], fontsize = lsize)\n",
    "    \n",
    "    plt.tight_layout()\n",
    "    plt.savefig(fp + \"figures\\\\outlier_comp_\"+metric+\".eps\", dpi=600)\n",
    "    plt.show()"
   ]
  },
  {
   "cell_type": "code",
   "execution_count": 144,
   "id": "0cf36a0e",
   "metadata": {},
   "outputs": [
    {
     "name": "stderr",
     "output_type": "stream",
     "text": [
      "The PostScript backend does not support transparency; partially transparent artists will be rendered opaque.\n",
      "The PostScript backend does not support transparency; partially transparent artists will be rendered opaque.\n"
     ]
    },
    {
     "data": {
      "image/png": "[encoded data removed]",
      "text/plain": [
       "<Figure size 720x288 with 2 Axes>"
      ]
     },
     "metadata": {
      "needs_background": "light"
     },
     "output_type": "display_data"
    }
   ],
   "source": [
    "outlier_comp('rmsep')"
   ]
  },
  {
   "cell_type": "code",
   "execution_count": 145,
   "id": "db26aaf7",
   "metadata": {},
   "outputs": [
    {
     "name": "stderr",
     "output_type": "stream",
     "text": [
      "The PostScript backend does not support transparency; partially transparent artists will be rendered opaque.\n",
      "The PostScript backend does not support transparency; partially transparent artists will be rendered opaque.\n"
     ]
    },
    {
     "data": {
      "image/png": "[encoded data removed]",
      "text/plain": [
       "<Figure size 720x288 with 2 Axes>"
      ]
     },
     "metadata": {
      "needs_background": "light"
     },
     "output_type": "display_data"
    }
   ],
   "source": [
    "outlier_comp('test_adj_r2')"
   ]
  },
  {
   "cell_type": "code",
   "execution_count": 146,
   "id": "9f66d797",
   "metadata": {},
   "outputs": [
    {
     "name": "stderr",
     "output_type": "stream",
     "text": [
      "The PostScript backend does not support transparency; partially transparent artists will be rendered opaque.\n",
      "The PostScript backend does not support transparency; partially transparent artists will be rendered opaque.\n"
     ]
    },
    {
     "data": {
      "image/png": "[encoded data removed]",
      "text/plain": [
       "<Figure size 720x288 with 2 Axes>"
      ]
     },
     "metadata": {
      "needs_background": "light"
     },
     "output_type": "display_data"
    }
   ],
   "source": [
    "outlier_comp('loq')"
   ]
  },
  {
   "cell_type": "markdown",
   "id": "6ff48a41",
   "metadata": {},
   "source": [
    "# Braga regions\n",
    "CADILLAC ChemLIBS"
   ]
  },
  {
   "cell_type": "code",
   "execution_count": 2,
   "id": "6c61dfff",
   "metadata": {},
   "outputs": [],
   "source": [
    "cad = pd.read_csv(fp + \"figures\\\\cadillac_spectra.csv\")\n",
    "peaks = pd.read_csv(fp + \"figures\\\\braga_peaks.csv\") \n",
    "noise = pd.read_csv(fp + \"figures\\\\braga_noise_regions.csv\") "
   ]
  },
  {
   "cell_type": "code",
   "execution_count": 7,
   "id": "9298ef56",
   "metadata": {},
   "outputs": [
    {
     "ename": "NameError",
     "evalue": "name 'cad' is not defined",
     "output_type": "error",
     "traceback": [
      "\u001b[1;31m---------------------------------------------------------------------------\u001b[0m",
      "\u001b[1;31mNameError\u001b[0m                                 Traceback (most recent call last)",
      "\u001b[1;32m~\\AppData\\Local\\Temp/ipykernel_2900/2733511343.py\u001b[0m in \u001b[0;36m<module>\u001b[1;34m\u001b[0m\n\u001b[0;32m      8\u001b[0m \u001b[0malpha\u001b[0m \u001b[1;33m=\u001b[0m \u001b[1;36m0.5\u001b[0m\u001b[1;33m\u001b[0m\u001b[1;33m\u001b[0m\u001b[0m\n\u001b[0;32m      9\u001b[0m \u001b[0mlwidth\u001b[0m\u001b[1;33m=\u001b[0m\u001b[1;36m1\u001b[0m\u001b[1;33m\u001b[0m\u001b[1;33m\u001b[0m\u001b[0m\n\u001b[1;32m---> 10\u001b[1;33m \u001b[0mx_data\u001b[0m \u001b[1;33m=\u001b[0m \u001b[0mcad\u001b[0m\u001b[1;33m[\u001b[0m\u001b[1;34m'wave'\u001b[0m\u001b[1;33m]\u001b[0m\u001b[1;33m\u001b[0m\u001b[1;33m\u001b[0m\u001b[0m\n\u001b[0m\u001b[0;32m     11\u001b[0m \u001b[0my_data\u001b[0m \u001b[1;33m=\u001b[0m \u001b[0mcad\u001b[0m\u001b[1;33m[\u001b[0m\u001b[1;34m'intensity'\u001b[0m\u001b[1;33m]\u001b[0m\u001b[1;33m\u001b[0m\u001b[1;33m\u001b[0m\u001b[0m\n\u001b[0;32m     12\u001b[0m \u001b[0mpeak_x\u001b[0m \u001b[1;33m=\u001b[0m \u001b[0mpeaks\u001b[0m\u001b[1;33m[\u001b[0m\u001b[1;34m'peak'\u001b[0m\u001b[1;33m]\u001b[0m\u001b[1;33m\u001b[0m\u001b[1;33m\u001b[0m\u001b[0m\n",
      "\u001b[1;31mNameError\u001b[0m: name 'cad' is not defined"
     ]
    }
   ],
   "source": [
    "# plot defining things\n",
    "height = 0.052\n",
    "b_y = -.003\n",
    "box_list = []\n",
    "rcolor = '#8b8b8b'\n",
    "base='black'\n",
    "b_a =1\n",
    "alpha = 0.5\n",
    "lwidth=1\n",
    "x_data = cad['wave']\n",
    "y_data = cad['intensity']\n",
    "peak_x = peaks['peak']\n",
    "peak_y = peaks['intensity']\n",
    "peak_labs = peaks['element']\n",
    "size=70\n",
    "mark=\"*\"\n",
    "mwidth=0.5\n",
    "mcolor='goldenrod'\n",
    "c_l = 'navy'\n",
    "c_m = 'goldenrod'\n",
    "llabel = 'LANL (ChemCam)'\n",
    "mlabel = 'MHC (ChemLIBS)'\n",
    "ysize = 12\n",
    "lsize = 14\n",
    "tsize = 16\n",
    "klen = 5"
   ]
  },
  {
   "cell_type": "code",
   "execution_count": 19,
   "id": "e49bf787",
   "metadata": {
    "scrolled": false
   },
   "outputs": [
    {
     "name": "stderr",
     "output_type": "stream",
     "text": [
      "The PostScript backend does not support transparency; partially transparent artists will be rendered opaque.\n",
      "The PostScript backend does not support transparency; partially transparent artists will be rendered opaque.\n",
      "The PostScript backend does not support transparency; partially transparent artists will be rendered opaque.\n",
      "The PostScript backend does not support transparency; partially transparent artists will be rendered opaque.\n",
      "The PostScript backend does not support transparency; partially transparent artists will be rendered opaque.\n",
      "The PostScript backend does not support transparency; partially transparent artists will be rendered opaque.\n",
      "The PostScript backend does not support transparency; partially transparent artists will be rendered opaque.\n",
      "The PostScript backend does not support transparency; partially transparent artists will be rendered opaque.\n",
      "The PostScript backend does not support transparency; partially transparent artists will be rendered opaque.\n",
      "The PostScript backend does not support transparency; partially transparent artists will be rendered opaque.\n",
      "The PostScript backend does not support transparency; partially transparent artists will be rendered opaque.\n",
      "The PostScript backend does not support transparency; partially transparent artists will be rendered opaque.\n",
      "The PostScript backend does not support transparency; partially transparent artists will be rendered opaque.\n",
      "The PostScript backend does not support transparency; partially transparent artists will be rendered opaque.\n",
      "The PostScript backend does not support transparency; partially transparent artists will be rendered opaque.\n",
      "The PostScript backend does not support transparency; partially transparent artists will be rendered opaque.\n",
      "The PostScript backend does not support transparency; partially transparent artists will be rendered opaque.\n",
      "The PostScript backend does not support transparency; partially transparent artists will be rendered opaque.\n",
      "The PostScript backend does not support transparency; partially transparent artists will be rendered opaque.\n",
      "The PostScript backend does not support transparency; partially transparent artists will be rendered opaque.\n",
      "The PostScript backend does not support transparency; partially transparent artists will be rendered opaque.\n",
      "The PostScript backend does not support transparency; partially transparent artists will be rendered opaque.\n",
      "The PostScript backend does not support transparency; partially transparent artists will be rendered opaque.\n",
      "The PostScript backend does not support transparency; partially transparent artists will be rendered opaque.\n",
      "The PostScript backend does not support transparency; partially transparent artists will be rendered opaque.\n",
      "The PostScript backend does not support transparency; partially transparent artists will be rendered opaque.\n",
      "The PostScript backend does not support transparency; partially transparent artists will be rendered opaque.\n",
      "The PostScript backend does not support transparency; partially transparent artists will be rendered opaque.\n",
      "The PostScript backend does not support transparency; partially transparent artists will be rendered opaque.\n",
      "The PostScript backend does not support transparency; partially transparent artists will be rendered opaque.\n",
      "The PostScript backend does not support transparency; partially transparent artists will be rendered opaque.\n",
      "The PostScript backend does not support transparency; partially transparent artists will be rendered opaque.\n",
      "The PostScript backend does not support transparency; partially transparent artists will be rendered opaque.\n",
      "The PostScript backend does not support transparency; partially transparent artists will be rendered opaque.\n",
      "The PostScript backend does not support transparency; partially transparent artists will be rendered opaque.\n",
      "The PostScript backend does not support transparency; partially transparent artists will be rendered opaque.\n",
      "The PostScript backend does not support transparency; partially transparent artists will be rendered opaque.\n",
      "The PostScript backend does not support transparency; partially transparent artists will be rendered opaque.\n",
      "The PostScript backend does not support transparency; partially transparent artists will be rendered opaque.\n",
      "The PostScript backend does not support transparency; partially transparent artists will be rendered opaque.\n",
      "The PostScript backend does not support transparency; partially transparent artists will be rendered opaque.\n",
      "The PostScript backend does not support transparency; partially transparent artists will be rendered opaque.\n",
      "The PostScript backend does not support transparency; partially transparent artists will be rendered opaque.\n",
      "The PostScript backend does not support transparency; partially transparent artists will be rendered opaque.\n",
      "The PostScript backend does not support transparency; partially transparent artists will be rendered opaque.\n",
      "The PostScript backend does not support transparency; partially transparent artists will be rendered opaque.\n",
      "The PostScript backend does not support transparency; partially transparent artists will be rendered opaque.\n",
      "The PostScript backend does not support transparency; partially transparent artists will be rendered opaque.\n",
      "The PostScript backend does not support transparency; partially transparent artists will be rendered opaque.\n",
      "The PostScript backend does not support transparency; partially transparent artists will be rendered opaque.\n",
      "The PostScript backend does not support transparency; partially transparent artists will be rendered opaque.\n",
      "The PostScript backend does not support transparency; partially transparent artists will be rendered opaque.\n",
      "The PostScript backend does not support transparency; partially transparent artists will be rendered opaque.\n",
      "The PostScript backend does not support transparency; partially transparent artists will be rendered opaque.\n",
      "The PostScript backend does not support transparency; partially transparent artists will be rendered opaque.\n",
      "The PostScript backend does not support transparency; partially transparent artists will be rendered opaque.\n",
      "The PostScript backend does not support transparency; partially transparent artists will be rendered opaque.\n",
      "The PostScript backend does not support transparency; partially transparent artists will be rendered opaque.\n",
      "The PostScript backend does not support transparency; partially transparent artists will be rendered opaque.\n",
      "The PostScript backend does not support transparency; partially transparent artists will be rendered opaque.\n",
      "The PostScript backend does not support transparency; partially transparent artists will be rendered opaque.\n",
      "The PostScript backend does not support transparency; partially transparent artists will be rendered opaque.\n",
      "The PostScript backend does not support transparency; partially transparent artists will be rendered opaque.\n",
      "The PostScript backend does not support transparency; partially transparent artists will be rendered opaque.\n",
      "The PostScript backend does not support transparency; partially transparent artists will be rendered opaque.\n",
      "The PostScript backend does not support transparency; partially transparent artists will be rendered opaque.\n",
      "The PostScript backend does not support transparency; partially transparent artists will be rendered opaque.\n",
      "The PostScript backend does not support transparency; partially transparent artists will be rendered opaque.\n",
      "The PostScript backend does not support transparency; partially transparent artists will be rendered opaque.\n",
      "The PostScript backend does not support transparency; partially transparent artists will be rendered opaque.\n",
      "The PostScript backend does not support transparency; partially transparent artists will be rendered opaque.\n",
      "The PostScript backend does not support transparency; partially transparent artists will be rendered opaque.\n",
      "The PostScript backend does not support transparency; partially transparent artists will be rendered opaque.\n",
      "The PostScript backend does not support transparency; partially transparent artists will be rendered opaque.\n",
      "The PostScript backend does not support transparency; partially transparent artists will be rendered opaque.\n",
      "The PostScript backend does not support transparency; partially transparent artists will be rendered opaque.\n"
     ]
    },
    {
     "name": "stderr",
     "output_type": "stream",
     "text": [
      "The PostScript backend does not support transparency; partially transparent artists will be rendered opaque.\n",
      "The PostScript backend does not support transparency; partially transparent artists will be rendered opaque.\n",
      "The PostScript backend does not support transparency; partially transparent artists will be rendered opaque.\n",
      "The PostScript backend does not support transparency; partially transparent artists will be rendered opaque.\n",
      "The PostScript backend does not support transparency; partially transparent artists will be rendered opaque.\n",
      "The PostScript backend does not support transparency; partially transparent artists will be rendered opaque.\n",
      "The PostScript backend does not support transparency; partially transparent artists will be rendered opaque.\n",
      "The PostScript backend does not support transparency; partially transparent artists will be rendered opaque.\n",
      "The PostScript backend does not support transparency; partially transparent artists will be rendered opaque.\n",
      "The PostScript backend does not support transparency; partially transparent artists will be rendered opaque.\n",
      "The PostScript backend does not support transparency; partially transparent artists will be rendered opaque.\n",
      "The PostScript backend does not support transparency; partially transparent artists will be rendered opaque.\n",
      "The PostScript backend does not support transparency; partially transparent artists will be rendered opaque.\n",
      "The PostScript backend does not support transparency; partially transparent artists will be rendered opaque.\n",
      "The PostScript backend does not support transparency; partially transparent artists will be rendered opaque.\n",
      "The PostScript backend does not support transparency; partially transparent artists will be rendered opaque.\n",
      "The PostScript backend does not support transparency; partially transparent artists will be rendered opaque.\n",
      "The PostScript backend does not support transparency; partially transparent artists will be rendered opaque.\n",
      "The PostScript backend does not support transparency; partially transparent artists will be rendered opaque.\n",
      "The PostScript backend does not support transparency; partially transparent artists will be rendered opaque.\n"
     ]
    },
    {
     "data": {
      "image/png": "[encoded data removed]",
      "text/plain": [
       "<Figure size 576x216 with 1 Axes>"
      ]
     },
     "metadata": {
      "needs_background": "light"
     },
     "output_type": "display_data"
    }
   ],
   "source": [
    "# get width of regions\n",
    "noise['width'] = noise['stop'] - noise['start']\n",
    "\n",
    "#make rectangles\n",
    "for i in np.array(range(len(noise))):\n",
    "    x = noise['start'][i]  \n",
    "    width = noise['width'][i]\n",
    "    box_list.append(Rectangle((x, b_y), width, height))\n",
    "    \n",
    "pc = PatchCollection(box_list, edgecolor = to_rgba(rcolor, alpha), facecolor=to_rgba(rcolor, alpha))\n",
    "#pc = PatchCollection(box_list, hatch = '..')\n",
    "\n",
    "# plot it all\n",
    "fig, ax = plt.subplots(1, figsize = (8,3))\n",
    "ax.plot(x_data, y_data, color=base, linewidth = lwidth, alpha = b_a, zorder=1) #spectrum\n",
    "ax.scatter(peak_x, peak_y, facecolor = mcolor, edgecolor=base, s = size, marker = mark, linewidth = mwidth, zorder=3) # peaks\n",
    "ax.add_collection(pc) # noise regions\n",
    "ax.margins(x=0.005, y=0.0)\n",
    "ax.set_xlabel('Wavelength (nm)', fontsize=lsize)\n",
    "ax.set_ylabel('Normalized Intensity (A.U.)', fontsize = lsize)\n",
    "ax.tick_params(length=klen, labelsize=ysize)\n",
    "\n",
    "plt.tight_layout()\n",
    "plt.savefig(fp + \"figures\\\\braga_regions.eps\", dpi=600)\n",
    "plt.savefig(fp + \"figures\\\\braga_regions.jpg\", dpi=600)\n",
    "plt.show()"
   ]
  },
  {
   "cell_type": "markdown",
   "id": "eab29ea7",
   "metadata": {},
   "source": [
    "# Concentration boxplots"
   ]
  },
  {
   "cell_type": "code",
   "execution_count": 62,
   "id": "fdcb7ca8",
   "metadata": {},
   "outputs": [],
   "source": [
    "comps_path = fp + \"tables\\\\TableS1_sample_compositions.xlsx\"\n",
    "mhc_comps = pd.read_excel(comps_path, sheet_name='MHC')\n",
    "lanl_comps = pd.read_excel(comps_path, sheet_name='LANL')\n",
    "\n",
    "# remove units\n",
    "mhc_comps.columns = mhc_comps.columns.str.strip(' (wt%)| (ppm)')\n",
    "lanl_comps.columns = lanl_comps.columns.str.strip(' (wt%)| (ppm)')\n",
    "\n",
    "# subsect into majors and minors\n",
    "majors = ('SiO2|MnO|Na2O')\n",
    "maj_mhc = mhc_comps.loc[:,mhc_comps.columns.str.contains(majors)]\n",
    "maj_lanl = lanl_comps.loc[:,lanl_comps.columns.str.contains(majors)]\n",
    "min_mhc = mhc_comps.loc[:,~mhc_comps.columns.str.contains(majors+'|Sample')]\n",
    "min_lanl = lanl_comps.loc[:,~lanl_comps.columns.str.contains(majors+'|Sample')]"
   ]
  },
  {
   "cell_type": "markdown",
   "id": "47f5f847",
   "metadata": {},
   "source": [
    "#### Prepare boxplot data and formatting"
   ]
  },
  {
   "cell_type": "code",
   "execution_count": 63,
   "id": "d4d8b91d",
   "metadata": {},
   "outputs": [],
   "source": [
    "maj_ticks = maj_mhc.columns\n",
    "min_ticks = min_mhc.columns\n",
    "\n",
    "maj_lanl_data = []\n",
    "min_lanl_data = []\n",
    "maj_mhc_data = []\n",
    "min_mhc_data = []\n",
    "\n",
    "# get outlier vals to later remove\n",
    "out_elem = ['Na2O', 'MnO', 'Li', 'Ni', 'Pb', 'Rb', 'Sr', 'Zn']\n",
    "out_vals = [15, 15, 285, 577, 219, 354, 739, 448]\n",
    "outliers = pd.DataFrame({\n",
    "        'element' : out_elem,\n",
    "        'outlier' : out_vals\n",
    "})\n",
    "\n",
    "# get data in right format\n",
    "for element in maj_ticks:\n",
    "    if element == 'SiO2':\n",
    "        maj_lanl_df = maj_lanl[element].dropna().tolist()   \n",
    "        maj_lanl_data.append(maj_lanl_df)\n",
    "        maj_mhc_df = maj_mhc[element].dropna().tolist()\n",
    "        maj_mhc_data.append(maj_mhc_df)\n",
    "    \n",
    "    else:\n",
    "        maj_lanl_df = maj_lanl[element].dropna().tolist()\n",
    "        maj_mhc_df = maj_mhc[element].dropna().tolist()\n",
    "\n",
    "        outlier = outliers[outliers['element'] == element]['outlier'].iloc[0]\n",
    "        maj_lanl_df = [i for i in maj_lanl_df if i <= outlier]\n",
    "        maj_mhc_df = [i for i in maj_mhc_df if i <= outlier]\n",
    "\n",
    "        maj_lanl_data.append(maj_lanl_df)\n",
    "        maj_mhc_data.append(maj_mhc_df)\n",
    "    \n",
    "for element in min_ticks:\n",
    "    min_lanl_df = min_lanl[element].dropna().tolist()\n",
    "    min_mhc_df = min_mhc[element].dropna().tolist()\n",
    "        \n",
    "    outlier = outliers[outliers['element'] == element]['outlier'].iloc[0]\n",
    "    min_lanl_df = [i for i in min_lanl_df if i <= outlier]\n",
    "    min_mhc_df = [i for i in min_mhc_df if i <= outlier]\n",
    "    \n",
    "    min_lanl_data.append(min_lanl_df)\n",
    "    min_mhc_data.append(min_mhc_df)\n",
    "\n",
    "def set_box_color(bp, color):\n",
    "    plt.setp(bp['boxes'], color=color)\n",
    "    plt.setp(bp['whiskers'], color=color)\n",
    "    plt.setp(bp['caps'], color=color)\n",
    "    plt.setp(bp['medians'], color=color)\n",
    "    \n",
    "# set how outlier points look\n",
    "flierprops = dict(marker='x', markeredgecolor='#c9c9c9', markersize=2)"
   ]
  },
  {
   "cell_type": "markdown",
   "id": "edef1579",
   "metadata": {},
   "source": [
    "#### Plot"
   ]
  },
  {
   "cell_type": "code",
   "execution_count": 64,
   "id": "f9882bf8",
   "metadata": {
    "scrolled": false
   },
   "outputs": [
    {
     "name": "stderr",
     "output_type": "stream",
     "text": [
      "The PostScript backend does not support transparency; partially transparent artists will be rendered opaque.\n",
      "The PostScript backend does not support transparency; partially transparent artists will be rendered opaque.\n"
     ]
    },
    {
     "data": {
      "image/png": "[encoded data removed]",
      "text/plain": [
       "<Figure size 720x288 with 2 Axes>"
      ]
     },
     "metadata": {
      "needs_background": "light"
     },
     "output_type": "display_data"
    }
   ],
   "source": [
    "fig, (major, minor) = plt.subplots(ncols = 2, figsize = (10,4),\n",
    "                                # make major one smaller\n",
    "                                gridspec_kw={'width_ratios': [1,2]})\n",
    "\n",
    "# box positions\n",
    "maj_left_pos = np.array(range(len(maj_ticks)))*2.0-0.4\n",
    "maj_right_pos = np.array(range(len(maj_ticks)))*2.0+0.4\n",
    "min_left_pos = np.array(range(len(min_ticks)))*2.0-0.4\n",
    "min_right_pos = np.array(range(len(min_ticks)))*2.0+0.4\n",
    "\n",
    "# majors\n",
    "bp_maj_lanl = major.boxplot(maj_lanl_data, flierprops=flierprops, positions = maj_left_pos, widths=0.6, showfliers=True)\n",
    "bp_maj_mhc = major.boxplot(maj_mhc_data, flierprops=flierprops, positions = maj_right_pos, widths=0.6, showfliers=True)\n",
    "set_box_color(bp_maj_lanl, c_l)\n",
    "set_box_color(bp_maj_mhc, c_m)\n",
    "\n",
    "# minors\n",
    "bp_min_lanl = minor.boxplot(min_lanl_data, flierprops=flierprops, positions = min_left_pos, widths=0.6, showfliers=True)\n",
    "bp_min_mhc = minor.boxplot(min_mhc_data, flierprops=flierprops, positions = min_right_pos, widths=0.6, showfliers=True)\n",
    "set_box_color(bp_min_lanl, c_l)\n",
    "set_box_color(bp_min_mhc, c_m)\n",
    " \n",
    "# set plot labels\n",
    "major.set_xticks(range(0, len(maj_ticks) * 2, 2))\n",
    "major.set_xticklabels(maj_ticks, fontsize=lsize)\n",
    "major.tick_params(axis = 'y', which = 'major', labelsize = ysize) \n",
    "major.set_ylabel('Concentration (wt%)', fontsize=lsize)\n",
    "major.tick_params(length=klen)\n",
    "\n",
    "minor.set_xticks(range(0, len(min_ticks) * 2, 2))\n",
    "minor.set_xticklabels(min_ticks, fontsize=lsize)\n",
    "minor.tick_params(axis = 'y', which = 'major', labelsize = ysize) \n",
    "minor.set_ylabel('Concentration (ppm)', fontsize=lsize)\n",
    "minor.tick_params(length=klen)\n",
    "\n",
    "\n",
    "plt.plot([], c=c_l, label=llabel)\n",
    "plt.plot([], c=c_m, label=mlabel)\n",
    "plt.legend(loc = 'best', fontsize=lsize)\n",
    "\n",
    "plt.tight_layout()\n",
    "plt.savefig(fp + \"figures\\\\comps_boxplot.eps\")\n",
    "plt.savefig(fp + \"figures\\\\comps_boxplot.jpg\")\n",
    "plt.show()"
   ]
  },
  {
   "cell_type": "markdown",
   "id": "92a21a83",
   "metadata": {},
   "source": [
    "# Braga vs. metals\n",
    "- ChemLIBS, Mars atmosphere\n",
    "- LOQ and RMSE-P\n",
    "\n",
    "USE HIGHEST NATURAL OUTLIER RESULTS"
   ]
  },
  {
   "cell_type": "code",
   "execution_count": 3,
   "id": "260536fd",
   "metadata": {},
   "outputs": [],
   "source": [
    "data1 = data[(data.instrument == \"ChemLIBS\") & \n",
    "             (data.atmosphere == \"Mars\") &\n",
    "             (data.outlier_defn == 'highest_natural')].copy(deep=True)\n",
    "\n",
    "maj_list = ['MnO', 'Na2O', 'SiO2']\n",
    "maj1_b = pd.DataFrame(data1[(data1.element.isin(maj_list)) &\n",
    "                           (data1.method == 'braga')].reset_index(drop=True))\n",
    "maj1_m = pd.DataFrame(data1[(data1.element.isin(maj_list)) &\n",
    "                           (data1.method == 'metals')].reset_index(drop=True))\n",
    "min1_b = data1[(~data1.element.isin(maj_list)) &\n",
    "               (data1.method == 'braga')].reset_index(drop=True)\n",
    "min1_m = data1[(~data1.element.isin(maj_list)) &\n",
    "               (data1.method == 'metals')].reset_index(drop=True)"
   ]
  },
  {
   "cell_type": "markdown",
   "id": "873314ca",
   "metadata": {},
   "source": [
    "### Bar plot"
   ]
  },
  {
   "cell_type": "code",
   "execution_count": 17,
   "id": "6aca1301",
   "metadata": {},
   "outputs": [],
   "source": [
    "def braga_metals(lotype):\n",
    "    \n",
    "    # define plot stuff\n",
    "    width = 0.2\n",
    "    c_b = '#3a2382'\n",
    "    c_m = '#9588BF'\n",
    "    cap= 3\n",
    "    ysize = 12\n",
    "    klen = 5\n",
    "    lsize = 14\n",
    "    tsize = 16\n",
    "\n",
    "    #labels\n",
    "    majlab = maj1_b.element\n",
    "    minlab = min1_b.element\n",
    "\n",
    "    # tick locations\n",
    "    majt1 = [0, 0.5, 1] \n",
    "    majt2 = [x + width for x in majt1]\n",
    "    mint1 = np.arange(0,3,step=0.5)\n",
    "    mint2 = [x + width for x in mint1]\n",
    "    majtk = [x + width/2 for x in majt1]\n",
    "    mintk = [x + width/2 for x in mint1]\n",
    "\n",
    "    # make figure\n",
    "    fig, (maj, minor) = plt.subplots(ncols = 2, figsize = (10,4),\n",
    "                                     # make major one smaller\n",
    "                                     gridspec_kw={'width_ratios': [1,2]})\n",
    "    # majors\n",
    "    major_b = maj.bar(majt1, maj1_b[lotype], width, yerr=maj1_b[lotype+'_sd'], capsize=cap, label = \"Braga\", color = c_b)\n",
    "    major_m = maj.bar(majt2, maj1_m[lotype], width, yerr=maj1_m[lotype+'_sd'], capsize=cap, label = \"metals\", color = c_m)\n",
    "    # minors\n",
    "    minor_b = minor.bar(mint1, min1_b[lotype], width, yerr=min1_b[lotype+'_sd'], capsize=cap, label = \"Braga\", color = c_b)\n",
    "    minor_m = minor.bar(mint2, min1_m[lotype], width, yerr=min1_m[lotype+'_sd'], capsize=cap, label = \"metals\", color = c_m)\n",
    "\n",
    "    # formatting\n",
    "    maj.tick_params(axis = 'y', which = 'major', labelsize = ysize,)\n",
    "    maj.tick_params(length=klen)\n",
    "    maj.set_xticks(majtk)\n",
    "    maj.set_xticklabels(majlab, fontsize = lsize)\n",
    "    maj.set_ylabel((lotype + \" (wt%)\"), fontsize = tsize)\n",
    "\n",
    "    minor.set_xticks(mintk)\n",
    "    minor.set_xticklabels(minlab, fontsize = lsize)\n",
    "    minor.set_ylabel((lotype + \" (ppm)\"), fontsize = tsize)\n",
    "    minor.tick_params(axis = 'y', which = 'major', labelsize = ysize)  \n",
    "    minor.tick_params(length=klen)\n",
    "    minor.legend(handles = [major_b, major_m], fontsize = lsize)\n",
    "\n",
    "    # save image\n",
    "    path = fp + \"figures\\\\\" + lotype + '_Braga_metals_new.eps'\n",
    "    path1 = fp + \"figures\\\\\" + lotype + '_Braga_metals_new.jpeg'\n",
    "    plt.savefig(path, bbox_inches=\"tight\") # save as .eps\n",
    "    plt.savefig(path1, bbox_inches=\"tight\") # save as .jpeg\n",
    "    plt.show()"
   ]
  },
  {
   "cell_type": "code",
   "execution_count": 18,
   "id": "6efce03b",
   "metadata": {
    "scrolled": false
   },
   "outputs": [
    {
     "name": "stderr",
     "output_type": "stream",
     "text": [
      "The PostScript backend does not support transparency; partially transparent artists will be rendered opaque.\n",
      "The PostScript backend does not support transparency; partially transparent artists will be rendered opaque.\n"
     ]
    },
    {
     "data": {
      "image/png": "[encoded data removed]",
      "text/plain": [
       "<Figure size 720x288 with 2 Axes>"
      ]
     },
     "metadata": {
      "needs_background": "light"
     },
     "output_type": "display_data"
    },
    {
     "name": "stderr",
     "output_type": "stream",
     "text": [
      "The PostScript backend does not support transparency; partially transparent artists will be rendered opaque.\n",
      "The PostScript backend does not support transparency; partially transparent artists will be rendered opaque.\n"
     ]
    },
    {
     "data": {
      "image/png": "[encoded data removed]",
      "text/plain": [
       "<Figure size 720x288 with 2 Axes>"
      ]
     },
     "metadata": {
      "needs_background": "light"
     },
     "output_type": "display_data"
    }
   ],
   "source": [
    "# make plots\n",
    "braga_metals(\"loq\")\n",
    "braga_metals(\"rmsep\")"
   ]
  },
  {
   "cell_type": "raw",
   "id": "f9504b5b",
   "metadata": {},
   "source": [
    "# LANL vs MHC\n",
    "- Braga\n",
    "- colors diff b/w instruments\n",
    "- add data points for RMSE-P from Clegg\n",
    "- X (RMSE) vs Y (R2) plot for CL/CC"
   ]
  },
  {
   "cell_type": "raw",
   "id": "bc0fac93",
   "metadata": {},
   "source": [
    "data2 = data[data.atmosphere == \"Mars\"].copy(deep=True)\n",
    "data2['RMSEP_per'] = round(((data2.RMSEP_Braga / data2.Avg_Braga) * 100), 1)\n",
    "data2['RMSEP_sd_per'] = round(((data2.RMSEP_Braga_sd / data2.Avg_Braga) * 100), 1)\n",
    "\n",
    "maj2 = data2[data2.element.isin(maj_list)].reset_index(drop=True)\n",
    "min2 = data2[~data2.element.isin(maj_list)].reset_index(drop=True)\n",
    "ldata = data2[data2.instrument == \"LANL\"].reset_index(drop=True)\n",
    "mdata = data2[data2.instrument == \"ChemLIBS\"].reset_index(drop=True)"
   ]
  },
  {
   "cell_type": "raw",
   "id": "e6b704b3",
   "metadata": {},
   "source": [
    "### Bar chart"
   ]
  },
  {
   "cell_type": "raw",
   "id": "eb1d8927",
   "metadata": {},
   "source": [
    "def inst_maj(inst, lotype):\n",
    "    return maj2[maj2.instrument==inst][lotype].reset_index(drop=True)\n",
    "    \n",
    "def inst_min(inst, lotype):\n",
    "    return min2[min2.instrument==inst][lotype].reset_index(drop=True)\n",
    "\n",
    "def mhc_lanl(lotype):\n",
    "    data = lotype + '_Braga'\n",
    "    error = lotype + '_Braga_sd'\n",
    "    \n",
    "    # define plot stuff\n",
    "    width = 0.2\n",
    "    ysize = 12\n",
    "    lsize = 14\n",
    "    tsize = 16\n",
    "    cap = 5\n",
    "    cl = 'ChemLIBS'\n",
    "    la = 'LANL'\n",
    "\n",
    "    #labels\n",
    "    majlab = maj1.element\n",
    "    minlab = min1.element\n",
    "\n",
    "    # tick locations\n",
    "    majt1 = [0, 0.5, 1] \n",
    "    majt2 = [x + width for x in majt1]\n",
    "    mint1 = np.arange(0,3,step=0.5)\n",
    "    mint2 = [x + width for x in mint1]\n",
    "    majtk = [x + width/2 for x in majt1]\n",
    "    mintk = [x + width/2 for x in mint1]\n",
    "\n",
    "    # make figure\n",
    "    fig, (maj, minor) = plt.subplots(ncols = 2, figsize = (10,4),\n",
    "                                     # make major one smaller\n",
    "                                     gridspec_kw={'width_ratios': [1,2]})\n",
    "\n",
    "    # majors\n",
    "    major1 = maj.bar(majt1, inst_maj(la, data), width, yerr=inst_maj(la, error), capsize=cap, label = llabel, color = c_l)\n",
    "    major2 = maj.bar(majt2, inst_maj(cl, data), width, yerr=inst_maj(cl, error), capsize=cap, label = mlabel, color = c_m)\n",
    "    # minors\n",
    "    minor1 = minor.bar(mint1, inst_min(la, data), width, yerr=inst_min(la, error), capsize=cap, label = llabel, color = c_l)\n",
    "    minor2 = minor.bar(mint2, inst_min(cl, data), width, yerr=inst_min(cl, error), capsize=cap, label = mlabel, color = c_m)\n",
    "\n",
    "    # formatting\n",
    "    maj.tick_params(axis = 'y', which = 'major', labelsize = ysize)\n",
    "    maj.tick_params(length=klen)\n",
    "    maj.set_xticks(majtk)\n",
    "    maj.set_xticklabels(majlab, fontsize = lsize)\n",
    "    maj.set_ylabel((lotype + \" (wt%)\"), fontsize = tsize)\n",
    "\n",
    "    minor.set_xticks(mintk)\n",
    "    minor.set_xticklabels(minlab, fontsize = lsize)\n",
    "    minor.set_ylabel((lotype + \" (ppm)\"), fontsize = tsize)\n",
    "    minor.tick_params(axis = 'y', which = 'major', labelsize = ysize, length=klen)  \n",
    "    minor.tick_params(length=klen)\n",
    "    minor.legend(handles = [major1, major2], fontsize = lsize)\n",
    "\n",
    "    # save image\n",
    "    path = fp + \"figures\\\\\" + lotype + '_LANL_MHC.eps'\n",
    "    path1 = fp + \"figures\\\\\" + lotype + '_LANL_MHC.jpeg'\n",
    "    plt.savefig(path, bbox_inches=\"tight\") # save as .eps\n",
    "    plt.savefig(path1, bbox_inches=\"tight\") # save as .jpeg\n",
    "    plt.show() "
   ]
  },
  {
   "cell_type": "raw",
   "id": "a58ff8a4",
   "metadata": {
    "scrolled": false
   },
   "source": [
    "mhc_lanl('RMSEP')\n",
    "mhc_lanl('LOQ')"
   ]
  },
  {
   "cell_type": "raw",
   "id": "082e5980",
   "metadata": {},
   "source": [
    "### XY plot"
   ]
  },
  {
   "cell_type": "raw",
   "id": "e09cd448",
   "metadata": {},
   "source": [
    "# def inst_compare(instrument):\n",
    "fig, (lanl, mhc) = plt.subplots(nrows=1, ncols=2, sharey=True, figsize = (16,8))\n",
    "\n",
    "#sizes\n",
    "labsize = 26\n",
    "titlesize = 28\n",
    "lwidth = 1.5\n",
    "annot = 20\n",
    "p_s = 70\n",
    "tlen=10\n",
    "cap=5\n",
    "c_e = 'grey'\n",
    "    \n",
    "lanl.scatter(x = ldata.R2_Braga, y = ldata.RMSEP_per, c=c_l, s=p_s, zorder=3)\n",
    "lanl.errorbar(x=ldata.R2_Braga, y = ldata.RMSEP_per, c=c_e, xerr=ldata.R2_Braga_sd, yerr=ldata.RMSEP_sd_per, capsize=cap, fmt='o', zorder=1)\n",
    "lanl.set_xlim(right=1.2)\n",
    "lanl.tick_params(labelsize=annot, width =lwidth, length = tlen)\n",
    "lanl.set_ylabel(\"RMSEP (% of average concentration)\", fontsize = labsize)\n",
    "lanl.set_title(llabel, fontsize = titlesize)\n",
    "lanl.axhline(y=100, xmin = 0, xmax = 1, color=\"darkred\", linewidth=lwidth, linestyle = '--')\n",
    "\n",
    "mhc.scatter(x = mdata.R2_Braga, y = mdata.RMSEP_per, c=c_m, s=p_s, zorder=4)\n",
    "mhc.errorbar(x=mdata.R2_Braga, y = mdata.RMSEP_per, c=c_e, xerr=mdata.R2_Braga_sd, yerr=mdata.RMSEP_sd_per, capsize=cap, fmt='o', zorder=2)\n",
    "mhc.set_title(mlabel, fontsize = titlesize)\n",
    "mhc.set_xlim(right=1)\n",
    "mhc.tick_params(labelsize=annot, width =lwidth, length = tlen)\n",
    "mhc.axhline(y=100, xmin = 0, xmax = 1, color=\"darkred\", linewidth=lwidth, linestyle = '--')\n",
    "\n",
    "# add labels\n",
    "for i in range(len(mdata.element)):\n",
    "    mhc.text(mdata['R2_Braga'][i]+.02, mdata['RMSEP_per'][i]-10, mdata['element'][i], fontsize=annot)\n",
    "\n",
    "for i in range(len(ldata.element)):\n",
    "    lanl.text(ldata['R2_Braga'][i]+.03, ldata['RMSEP_per'][i]-12, ldata['element'][i], fontsize=annot)\n",
    "\n",
    "# x axis label\n",
    "fig.text(0.5, 0.02, r\"$R^{2}$\", ha = \"center\", fontsize = titlesize)\n",
    "\n",
    "plt.subplots_adjust(wspace = 0, hspace =0)\n",
    "plt.setp(mhc.spines.values(), linewidth=lwidth)\n",
    "plt.setp(lanl.spines.values(), linewidth=lwidth)\n",
    "\n",
    "# save image\n",
    "path = fp + \"figures\\\\CC_CL_XY.eps\"\n",
    "path1 = fp + \"figures\\\\CC_CL_XY.jpeg\"\n",
    "plt.savefig(path, bbox_inches=\"tight\") # save as .eps\n",
    "plt.savefig(path1, bbox_inches=\"tight\") # save as .jpeg\n",
    "\n",
    "plt.show()"
   ]
  },
  {
   "cell_type": "markdown",
   "id": "10a0d8a3",
   "metadata": {},
   "source": [
    "# Atmosphere comparison\n",
    "- Braga\n",
    "- ChemLIBS\n",
    "- LOQ and RMSE-P"
   ]
  },
  {
   "cell_type": "code",
   "execution_count": 26,
   "id": "a1784c75",
   "metadata": {},
   "outputs": [],
   "source": [
    "data3 = data[(data.instrument == 'ChemLIBS') &\n",
    "             (data.outlier_defn == 'highest_natural') &\n",
    "             (data.method == 'metals')]\n",
    "maj3 = data3[data3.element.isin(maj_list)].reset_index(drop=True)\n",
    "min3 = data3[~data3.element.isin(maj_list)].reset_index(drop=True)"
   ]
  },
  {
   "cell_type": "code",
   "execution_count": 27,
   "id": "4d396cea",
   "metadata": {},
   "outputs": [],
   "source": [
    "def maj_atm(atm, lotype):\n",
    "    return maj3[maj3.atmosphere==atm][lotype]\n",
    "    \n",
    "def min_atm(atm, lotype):\n",
    "    return min3[min3.atmosphere==atm][lotype]\n",
    "    \n",
    "def atmosphere(lotype):\n",
    "    data = lotype\n",
    "    error = lotype+'_sd'\n",
    "    \n",
    "    # define plot stuff\n",
    "    width = 0.14\n",
    "    c_m = '#a8261d'\n",
    "    c_e = '#34a9c7'\n",
    "    c_v = '#757778'\n",
    "    ysize = 12\n",
    "    lsize = 14\n",
    "    tsize = 16\n",
    "    cap = 3\n",
    "    klen = 5\n",
    "\n",
    "    #labels\n",
    "    majlab = maj3.element.unique()\n",
    "    minlab = min3.element.unique()\n",
    "\n",
    "    # tick locations\n",
    "    majt1 = [0, 0.5, 1] \n",
    "    majt2 = [x + width for x in majt1]\n",
    "    majt3 = [x + width*2 for x in majt1]\n",
    "    \n",
    "    mint1 = np.arange(0,3,step=0.5)\n",
    "    mint2 = [x + width for x in mint1]\n",
    "    mint3 = [x + width*2 for x in mint1]\n",
    "    \n",
    "    majtk = [x + width for x in majt1]\n",
    "    mintk = [x + width for x in mint1]\n",
    "\n",
    "    # make figure\n",
    "    fig, (maj, minor) = plt.subplots(ncols = 2, figsize = (10,4),\n",
    "                                     # make major one smaller\n",
    "                                     gridspec_kw={'width_ratios': [1,2]})\n",
    "    # majors\n",
    "    major1 = maj.bar(majt1, maj_atm('Mars', data), width, yerr=maj_atm('Mars', error), capsize=cap, label = \"Mars\", color = c_m)\n",
    "    major2 = maj.bar(majt2, maj_atm('Earth', data), width, yerr=maj_atm('Earth', error), capsize=cap, label = \"Earth\", color = c_e)\n",
    "    major3 = maj.bar(majt3, maj_atm('Vacuum', data), width, yerr=maj_atm('Vacuum', error), capsize=cap, label = \"Vacuum\", color = c_v)\n",
    "    # minors\n",
    "    minor1 = minor.bar(mint1, min_atm('Mars', data), width, yerr=min_atm('Mars', error), capsize=cap, label = \"Mars\", color = c_m)\n",
    "    minor2 = minor.bar(mint2, min_atm('Earth', data), width, yerr=min_atm('Earth', error), capsize=cap, label = \"Earth\", color = c_e)\n",
    "    minor3 = minor.bar(mint3, min_atm('Vacuum', data), width, yerr=min_atm('Vacuum', error), capsize=cap, label = \"Vacuum\", color = c_v)\n",
    "\n",
    "    # formatting\n",
    "    maj.tick_params(axis = 'y', which = 'major', labelsize = ysize)\n",
    "    maj.tick_params(length=klen)\n",
    "    maj.set_xticks(majtk)\n",
    "    maj.set_xticklabels(majlab, fontsize = lsize)\n",
    "    maj.set_ylabel((lotype + \" (wt%)\"), fontsize = tsize)\n",
    "\n",
    "    minor.set_xticks(mintk)\n",
    "    minor.set_xticklabels(minlab, fontsize = lsize)\n",
    "    minor.set_ylabel((lotype + \" (ppm)\"), fontsize = tsize)\n",
    "    minor.tick_params(axis = 'y', which = 'major', labelsize = ysize)  \n",
    "    minor.tick_params(length=klen)\n",
    "    minor.legend(handles = [major1, major2, major3], fontsize = lsize)\n",
    "\n",
    "    # save image\n",
    "    path = fp + \"figures\\\\\"+lotype+\"_atmosphere_new_metals.eps\"\n",
    "    path1 = fp + \"figures\\\\\"+lotype+\"_atmosphere_new_metals.jpeg\"\n",
    "    plt.savefig(path, bbox_inches=\"tight\") # save as .eps\n",
    "    plt.savefig(path1, bbox_inches=\"tight\") # save as .jpeg\n",
    "    \n",
    "    plt.show()"
   ]
  },
  {
   "cell_type": "code",
   "execution_count": 28,
   "id": "33f9a159",
   "metadata": {},
   "outputs": [
    {
     "name": "stderr",
     "output_type": "stream",
     "text": [
      "The PostScript backend does not support transparency; partially transparent artists will be rendered opaque.\n",
      "The PostScript backend does not support transparency; partially transparent artists will be rendered opaque.\n"
     ]
    },
    {
     "data": {
      "image/png": "[encoded data removed]",
      "text/plain": [
       "<Figure size 720x288 with 2 Axes>"
      ]
     },
     "metadata": {
      "needs_background": "light"
     },
     "output_type": "display_data"
    },
    {
     "name": "stderr",
     "output_type": "stream",
     "text": [
      "The PostScript backend does not support transparency; partially transparent artists will be rendered opaque.\n",
      "The PostScript backend does not support transparency; partially transparent artists will be rendered opaque.\n"
     ]
    },
    {
     "data": {
      "image/png": "[encoded data removed]",
      "text/plain": [
       "<Figure size 720x288 with 2 Axes>"
      ]
     },
     "metadata": {
      "needs_background": "light"
     },
     "output_type": "display_data"
    }
   ],
   "source": [
    "atmosphere('rmsep')\n",
    "atmosphere('loq')"
   ]
  },
  {
   "cell_type": "markdown",
   "id": "0e9843fb",
   "metadata": {},
   "source": [
    "# All predicted vs. true and regression vector plots"
   ]
  },
  {
   "cell_type": "markdown",
   "id": "5d8dda25",
   "metadata": {},
   "source": [
    "#### Pred v. true"
   ]
  },
  {
   "cell_type": "code",
   "execution_count": 29,
   "id": "bb7339ff",
   "metadata": {},
   "outputs": [],
   "source": [
    "# make dictionary of 'Actual' uncertainties\n",
    "unc_path = fp + \"BureauVeritasuncertainties_forpaper.csv\"\n",
    "uncert = pd.read_csv(unc_path)\n",
    "uncert = pd.Series(uncert.uncertainty.values, index=uncert.element).to_dict()"
   ]
  },
  {
   "cell_type": "code",
   "execution_count": 115,
   "id": "e23296f6",
   "metadata": {},
   "outputs": [],
   "source": [
    "def pred_true_plot(folder_name, data, outlier, method):\n",
    "#-------------------------GET-DATA--------------------------#\n",
    "    folder = fp+'python_models\\\\'+folder_name+\"\\\\\"\n",
    "\n",
    "    for file in tqdm(os.listdir(folder), desc = folder_name+' plots', leave=False):\n",
    "\n",
    "        if outlier+\"_\"+method+'_test' in file:\n",
    "            \n",
    "            path = (folder + file)\n",
    "            df = pd.read_csv(path)\n",
    "            df = df[~df.pred.astype(str).str.contains('<LOQ|>100 wt%')]\n",
    "            df.pred = df.pred.astype(float)\n",
    "            \n",
    "            element = file.split('_')[0]\n",
    "            \n",
    "            # get LDBQ\n",
    "            temp = data[data.element==element]\n",
    "            if method == 'braga':\n",
    "                temp = temp[temp.method=='braga']\n",
    "                c = '#3a2382'\n",
    "            elif method == 'metals':\n",
    "                temp = temp[temp.method=='metals']\n",
    "                c = '#f58442'\n",
    "            \n",
    "            loq = temp['loq'].iloc[0]\n",
    "            lob = temp['lob'].iloc[0]\n",
    "            lod = temp['lod'].iloc[0]\n",
    "\n",
    "#----------------------------MAKE-PLOT------------------------------#\n",
    "            xlab = \"True \"+element\n",
    "            ylab = \"Predicted \"+element\n",
    "            xdata = df.actual\n",
    "            ydata = df.pred\n",
    "            xerr = uncert[element] # 'Actual' uncertainty\n",
    "            yerr = temp['rmsep'].iloc[0] \n",
    "\n",
    "            b_type = 'dotted'\n",
    "            d_type = 'dashed'\n",
    "            q_type = 'solid'\n",
    "            ddash = (0, (10, 2))\n",
    "            c_p = \"black\"\n",
    "            c_g = \"darkgrey\"\n",
    "            c_e = \"#bfbfbf\"\n",
    "            linew = 0.5\n",
    "            line_c = 'white'\n",
    "            lwidth = 1.5\n",
    "            cap = 2.5\n",
    "            xsize = 20\n",
    "            klen = 5\n",
    "            tsize = 16\n",
    "\n",
    "            fig, ax = plt.subplots(1, figsize = (6,6))\n",
    "            # plot data\n",
    "            ax.scatter(xdata, ydata, c=c_p, linewidth = linew, edgecolors = line_c, zorder=2)\n",
    "            # error bars\n",
    "            ax.errorbar(x=xdata, y=ydata, c=c_e, xerr=xerr, yerr=yerr, fmt = '.', capsize=cap, zorder=1)\n",
    "            # 1:1 line\n",
    "            y_bot, y_top = plt.ylim() # get current auto-axes\n",
    "            x_bot, x_top = plt.xlim()\n",
    "            # make sure LDBQ not below edge\n",
    "            top = max(y_top, x_top, loq+(0.1*loq))\n",
    "            bot = min(y_bot, x_bot, 0)\n",
    "            plt.xlim(x_bot, x_top) # reset to original axes\n",
    "            plt.ylim(y_bot, y_top)\n",
    "            one_one = ax.plot([bot,top], [bot,top], c=c_p, linewidth=lwidth, linestyle = ddash, label = \"1:1\")\n",
    "\n",
    "            # plot lines\n",
    "            zero = ax.axhline(y=0, xmin=0, xmax=1, c=c_p, linewidth=1, linestyle = q_type)\n",
    "            lob_line = ax.axhline(y=lob, xmin = 0, xmax = 1, c=c, linewidth=lwidth, linestyle = b_type, label = \"Braga LOB\")\n",
    "            lod_line = ax.axhline(y=lod, xmin = 0, xmax = 1, c=c, linewidth=lwidth, linestyle = d_type, label = \"Braga LOD\")\n",
    "            loq_line = ax.axhline(y=loq, xmin = 0, xmax = 1, c=c, linewidth=lwidth, linestyle = q_type, label = \"Braga LOQ\")\n",
    "\n",
    "            # format\n",
    "            ax.set_xlabel(xlab, fontsize = xsize)\n",
    "            ax.set_ylabel(ylab, fontsize = xsize)\n",
    "            ax.tick_params(length=klen, labelsize=tsize)\n",
    "\n",
    "            plt.tight_layout()\n",
    "            plt.savefig(fp + \"figures\\\\new_pred_true\\\\\"+folder_name+\"\\\\\"+element+\"_\"+method+\".eps\", dpi=600)\n",
    "            plt.savefig(fp + \"figures\\\\new_pred_true\\\\\"+folder_name+\"\\\\\"+element+\"_\"+method+\".jpg\", dpi=600)\n",
    "            plt.close(fig)"
   ]
  },
  {
   "cell_type": "markdown",
   "id": "922dd264",
   "metadata": {},
   "source": [
    "#### Regression vector"
   ]
  },
  {
   "cell_type": "code",
   "execution_count": 119,
   "id": "db74a374",
   "metadata": {},
   "outputs": [],
   "source": [
    "cl_key = pd.read_csv(fp+'CL_all_Mars_spectra.csv', usecols=[0])\n",
    "cc_key = pd.read_csv(fp+'CC_all_Mars_spectra.csv', usecols=[0])"
   ]
  },
  {
   "cell_type": "code",
   "execution_count": 132,
   "id": "e1c55524",
   "metadata": {},
   "outputs": [],
   "source": [
    "def reg_plot(folder_name, temp, outlier, method):\n",
    "#-------------------------GET-DATA--------------------------#\n",
    "    folder = fp+'python_models\\\\'+folder_name+\"\\\\\"\n",
    "    inst = folder_name.split('_')[0]\n",
    "\n",
    "    for file in tqdm(os.listdir(folder), desc = folder_name+' plots', leave=False):\n",
    "\n",
    "        if outlier+'_coeff' in file:\n",
    "            path = (folder + file)\n",
    "            df = pd.read_csv(path)\n",
    "    \n",
    "            element = file.split('_')[0]\n",
    "\n",
    "#----------------------------MAKE-PLOT------------------------------#\n",
    "            path_name = instrument+\"_\"+atmosphere+\"\\\\\"\n",
    "            fig_name = element+\"_\"+n_range\n",
    "            \n",
    "            if inst == 'CL':\n",
    "                xdata = cl_key['wave']\n",
    "            elif inst == 'CC':\n",
    "                xdata = cc_key['wave']\n",
    "            ydata = df['0']\n",
    "            c_p = 'black'\n",
    "            xlab = 'Wavelength (nm)'\n",
    "            ylab = 'Weight (A.U.)'\n",
    "            title = element+\": \"+instrument+\" \"+atmosphere+\" \"+n_range\n",
    "            xsize=20\n",
    "            tsize = 16\n",
    "            klen = 5\n",
    "\n",
    "            fig, ax = plt.subplots(1, figsize = (10,6))\n",
    "            ax.plot(xdata, ydata, c = c_p)\n",
    "            ax.set_xlabel(xlab, fontsize = xsize)\n",
    "            ax.set_ylabel(ylab, fontsize = xsize)\n",
    "            ax.tick_params(length=klen, labelsize=tsize)\n",
    "            plt.title(title, fontsize=tsize)\n",
    "\n",
    "            # save\n",
    "            plt.tight_layout()\n",
    "            plt.savefig(fp + \"figures\\\\new_regression_vectors\\\\\"+folder_name+\"\\\\\"+element+\"_\"+method+\".eps\", dpi=600)\n",
    "            plt.savefig(fp + \"figures\\\\new_regression_vectors\\\\\"+folder_name+\"\\\\\"+element+\"_\"+method+\".jpg\", dpi=600)\n",
    "            plt.close(fig)"
   ]
  },
  {
   "cell_type": "code",
   "execution_count": 133,
   "id": "0288da78",
   "metadata": {},
   "outputs": [
    {
     "data": {
      "application/vnd.jupyter.widget-view+json": {
       "model_id": "",
       "version_major": 2,
       "version_minor": 0
      },
      "text/plain": [
       "CC_Mars_0-750\\ plots:   0%|          | 0/105 [00:00<?, ?it/s]"
      ]
     },
     "metadata": {},
     "output_type": "display_data"
    },
    {
     "data": {
      "application/vnd.jupyter.widget-view+json": {
       "model_id": "",
       "version_major": 2,
       "version_minor": 0
      },
      "text/plain": [
       "CC_Mars_250-1000\\ plots:   0%|          | 0/103 [00:00<?, ?it/s]"
      ]
     },
     "metadata": {},
     "output_type": "display_data"
    },
    {
     "data": {
      "application/vnd.jupyter.widget-view+json": {
       "model_id": "",
       "version_major": 2,
       "version_minor": 0
      },
      "text/plain": [
       "CL_Mars_0-750\\ plots:   0%|          | 0/105 [00:00<?, ?it/s]"
      ]
     },
     "metadata": {},
     "output_type": "display_data"
    },
    {
     "data": {
      "application/vnd.jupyter.widget-view+json": {
       "model_id": "",
       "version_major": 2,
       "version_minor": 0
      },
      "text/plain": [
       "CL_Mars_250-1000\\ plots:   0%|          | 0/105 [00:00<?, ?it/s]"
      ]
     },
     "metadata": {},
     "output_type": "display_data"
    },
    {
     "data": {
      "application/vnd.jupyter.widget-view+json": {
       "model_id": "",
       "version_major": 2,
       "version_minor": 0
      },
      "text/plain": [
       "CL_Earth_0-750\\ plots:   0%|          | 0/103 [00:00<?, ?it/s]"
      ]
     },
     "metadata": {},
     "output_type": "display_data"
    },
    {
     "data": {
      "application/vnd.jupyter.widget-view+json": {
       "model_id": "",
       "version_major": 2,
       "version_minor": 0
      },
      "text/plain": [
       "CL_Earth_250-1000\\ plots:   0%|          | 0/105 [00:00<?, ?it/s]"
      ]
     },
     "metadata": {},
     "output_type": "display_data"
    },
    {
     "data": {
      "application/vnd.jupyter.widget-view+json": {
       "model_id": "",
       "version_major": 2,
       "version_minor": 0
      },
      "text/plain": [
       "CL_Vacuum_0-750\\ plots:   0%|          | 0/101 [00:00<?, ?it/s]"
      ]
     },
     "metadata": {},
     "output_type": "display_data"
    },
    {
     "data": {
      "application/vnd.jupyter.widget-view+json": {
       "model_id": "",
       "version_major": 2,
       "version_minor": 0
      },
      "text/plain": [
       "CL_Vacuum_250-1000\\ plots:   0%|          | 0/101 [00:00<?, ?it/s]"
      ]
     },
     "metadata": {},
     "output_type": "display_data"
    }
   ],
   "source": [
    "envs = [['LANL', 'Mars'],['ChemLIBS', 'Mars'],['ChemLIBS', 'Earth'],['ChemLIBS', 'Vacuum']]\n",
    "inst_alias = {'ChemLIBS':'CL','LANL':'CC'}\n",
    "\n",
    "outlier = 'highest_natural'\n",
    "method = 'braga'\n",
    "\n",
    "for env in envs:\n",
    "    \n",
    "    instrument = env[0]\n",
    "    atmosphere = env[1]\n",
    "    \n",
    "    for n_range in ['0-750', '250-1000']:\n",
    "        \n",
    "        temp = detail_data[(detail_data.instrument == instrument) &\n",
    "                           (detail_data.atmosphere == atmosphere) &\n",
    "                           (detail_data.outlier_defn == outlier) &\n",
    "                           (detail_data.num_range == n_range)]\n",
    "        \n",
    "        folder_name = \"{}_{}_{}\\\\\".format(inst_alias[instrument], atmosphere, n_range)\n",
    "        \n",
    "        #pred_true_plot(folder_name, temp, outlier, method)\n",
    "        reg_plot(folder_name, temp, outlier, method)"
   ]
  },
  {
   "cell_type": "code",
   "execution_count": null,
   "id": "f276bb8c",
   "metadata": {},
   "outputs": [],
   "source": []
  }
 ],
 "metadata": {
  "kernelspec": {
   "display_name": "Python 3 (ipykernel)",
   "language": "python",
   "name": "python3"
  },
  "language_info": {
   "codemirror_mode": {
    "name": "ipython",
    "version": 3
   },
   "file_extension": ".py",
   "mimetype": "text/x-python",
   "name": "python",
   "nbconvert_exporter": "python",
   "pygments_lexer": "ipython3",
   "version": "3.8.8"
  }
 },
 "nbformat": 4,
 "nbformat_minor": 5
}
