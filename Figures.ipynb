{
 "cells": [
  {
   "cell_type": "code",
   "execution_count": 1,
   "id": "ad69e03f",
   "metadata": {},
   "outputs": [
    {
     "name": "stdout",
     "output_type": "stream",
     "text": [
      "Matplotlib version 3.4.2\n"
     ]
    }
   ],
   "source": [
    "import pandas as pd\n",
    "import numpy as np\n",
    "import matplotlib as mpl\n",
    "from matplotlib import pyplot as plt\n",
    "from matplotlib.collections import PatchCollection\n",
    "from matplotlib.patches import Rectangle\n",
    "from matplotlib.colors import to_rgba\n",
    "import os\n",
    "import sys\n",
    "from tqdm.notebook import tqdm\n",
    "import statistics\n",
    "\n",
    "# get version\n",
    "print(\"Matplotlib version\",mpl.__version__)\n",
    "\n",
    "mpl.rc('font', family = 'Arial')\n",
    "plt.ioff()\n",
    "\n",
    "fp = \"G:\\\\My Drive\\\\Darby Work\\\\Ytsma and Dyar 2021 (LOD paper)\\\\\"\n",
    "# read in results\n",
    "data = pd.read_csv(fp + \"average_train_results.csv\")\n",
    "# detailed results\n",
    "detail_data = pd.read_csv(fp + \"train_results.csv\")"
   ]
  },
  {
   "cell_type": "code",
   "execution_count": 2,
   "id": "405124ef",
   "metadata": {},
   "outputs": [],
   "source": [
    "# REMOVE NORMALIZED RESULTS\n",
    "data = data[data.normalization=='norm3'].reset_index(drop=True).drop(columns='normalization')\n",
    "detail_data = detail_data[detail_data.normalization=='norm3'].reset_index(drop=True).drop(columns='normalization')"
   ]
  },
  {
   "cell_type": "markdown",
   "id": "f2721817",
   "metadata": {},
   "source": [
    "# Get compositional overview"
   ]
  },
  {
   "cell_type": "code",
   "execution_count": 5,
   "id": "fdcb7ca8",
   "metadata": {},
   "outputs": [],
   "source": [
    "mhc_comps = pd.read_csv(fp+'tables\\\\TableS1_MHC_sample_compositions.csv')\n",
    "lanl_comps = pd.read_csv(fp+'tables\\\\TableS2_LANL_sample_compositions.csv')\n",
    "\n",
    "# remove units\n",
    "mhc_comps.columns = mhc_comps.columns.str.strip(' (wt%)| (ppm)')\n",
    "lanl_comps.columns = lanl_comps.columns.str.strip(' (wt%)| (ppm)')"
   ]
  },
  {
   "cell_type": "code",
   "execution_count": 7,
   "id": "7d86a656",
   "metadata": {},
   "outputs": [],
   "source": [
    "outlier_limits = pd.read_csv('Z:\\\\Millennium Set\\\\NEW_OUTLIER_LIMITS.csv')\n",
    "iqr_outliers = dict(zip(outlier_limits.element, outlier_limits.iqr_q3_outlier_limit))\n",
    "natl_outliers = dict(zip(outlier_limits.element, outlier_limits.highest_natural_for_doped))"
   ]
  },
  {
   "cell_type": "code",
   "execution_count": 68,
   "id": "27e6517b",
   "metadata": {},
   "outputs": [],
   "source": [
    "count = 0\n",
    "for comps in [mhc_comps, lanl_comps]:\n",
    "    \n",
    "    if count==0:\n",
    "        name='MHC'\n",
    "    else:\n",
    "        name=\"LANL\"\n",
    "    count+=1\n",
    "    \n",
    "    elem_list = []\n",
    "    mean_list = []\n",
    "    med_list = []\n",
    "    max_list = []\n",
    "    n_list=[]\n",
    "    imean_list = []\n",
    "    imed_list = []\n",
    "    imax_list = []\n",
    "    in_list=[]\n",
    "    nmean_list = []\n",
    "    nmed_list = []\n",
    "    nmax_list = []\n",
    "    nn_list=[]\n",
    "    iqr_list = []\n",
    "    natl_list = []\n",
    "    \n",
    "    for element in mhc_comps.columns[2:]:\n",
    "        \n",
    "        iqr_out = iqr_outliers[element]\n",
    "        natl_out = natl_outliers[element]\n",
    "    \n",
    "        all_data = list(comps[~comps[element].isna()][element])\n",
    "        n_all = len(all_data)\n",
    "        all_mean = round(statistics.mean(all_data),3)\n",
    "        all_median = round(statistics.median(all_data),3)\n",
    "        all_max = round(max(all_data),3)\n",
    "        \n",
    "        iqr_data = list(comps[comps[element] <= iqr_out][element])\n",
    "        n_iqr = len(iqr_data)\n",
    "        iqr_mean = round(statistics.mean(iqr_data),3)\n",
    "        iqr_median = round(statistics.median(iqr_data),3)\n",
    "        iqr_max = round(max(iqr_data),3)\n",
    "        \n",
    "        if ~np.isnan(natl_out):\n",
    "            natl_data = list(comps[comps[element] <= natl_out][element])\n",
    "            n_natl = len(natl_data)\n",
    "            natl_mean = round(statistics.mean(natl_data),3)\n",
    "            natl_median = round(statistics.median(natl_data),3)\n",
    "            natl_max = round(max(natl_data),3)\n",
    "        else:\n",
    "            n_natl = 'NA'\n",
    "            natl_mean = 'NA'\n",
    "            natl_median = 'NA'\n",
    "            natl_max = 'NA'\n",
    "            natl_out = 'NA'\n",
    "        \n",
    "        elem_list.append(element)\n",
    "        n_list.append(n_all)\n",
    "        mean_list.append(all_mean)\n",
    "        med_list.append(all_median)\n",
    "        max_list.append(all_max)\n",
    "        in_list.append(n_iqr)\n",
    "        imean_list.append(iqr_mean)\n",
    "        imed_list.append(iqr_median)\n",
    "        imax_list.append(iqr_max)\n",
    "        nn_list.append(n_natl)\n",
    "        nmean_list.append(natl_mean)\n",
    "        nmed_list.append(natl_median)\n",
    "        nmax_list.append(natl_max)\n",
    "        natl_list.append(natl_out)\n",
    "        iqr_list.append(iqr_out)\n",
    "        \n",
    "    results = pd.DataFrame({\n",
    "        'element':elem_list,\n",
    "        'all_n':n_list,\n",
    "        'all_med':med_list,\n",
    "        'all_mean':mean_list,\n",
    "        'all_max':max_list,\n",
    "        'natl_lim':natl_list,\n",
    "        'natl_n':nn_list,\n",
    "        'natl_med':nmed_list,\n",
    "        'natl_mean':nmean_list,\n",
    "        'natl_max':nmax_list,\n",
    "        'iqr_lim':iqr_list,\n",
    "        'iqr_n':in_list,\n",
    "        'iqr_med':imed_list,\n",
    "        'iqr_mean':imean_list,\n",
    "        'iqr_max':imax_list\n",
    "    })\n",
    "    \n",
    "    results.to_csv(fp+name+'_sample_summary.csv', index=False)"
   ]
  },
  {
   "cell_type": "markdown",
   "id": "6ff48a41",
   "metadata": {},
   "source": [
    "# Braga regions\n",
    "CADILLAC ChemLIBS"
   ]
  },
  {
   "cell_type": "code",
   "execution_count": 2,
   "id": "6c61dfff",
   "metadata": {},
   "outputs": [],
   "source": [
    "cad = pd.read_csv(fp + \"figures\\\\cadillac_spectra.csv\")\n",
    "peaks = pd.read_csv(fp + \"figures\\\\braga_peaks.csv\") \n",
    "noise = pd.read_csv(fp + \"figures\\\\braga_noise_regions.csv\") "
   ]
  },
  {
   "cell_type": "code",
   "execution_count": 7,
   "id": "9298ef56",
   "metadata": {},
   "outputs": [
    {
     "ename": "NameError",
     "evalue": "name 'cad' is not defined",
     "output_type": "error",
     "traceback": [
      "\u001b[1;31m---------------------------------------------------------------------------\u001b[0m",
      "\u001b[1;31mNameError\u001b[0m                                 Traceback (most recent call last)",
      "\u001b[1;32m~\\AppData\\Local\\Temp/ipykernel_2900/2733511343.py\u001b[0m in \u001b[0;36m<module>\u001b[1;34m\u001b[0m\n\u001b[0;32m      8\u001b[0m \u001b[0malpha\u001b[0m \u001b[1;33m=\u001b[0m \u001b[1;36m0.5\u001b[0m\u001b[1;33m\u001b[0m\u001b[1;33m\u001b[0m\u001b[0m\n\u001b[0;32m      9\u001b[0m \u001b[0mlwidth\u001b[0m\u001b[1;33m=\u001b[0m\u001b[1;36m1\u001b[0m\u001b[1;33m\u001b[0m\u001b[1;33m\u001b[0m\u001b[0m\n\u001b[1;32m---> 10\u001b[1;33m \u001b[0mx_data\u001b[0m \u001b[1;33m=\u001b[0m \u001b[0mcad\u001b[0m\u001b[1;33m[\u001b[0m\u001b[1;34m'wave'\u001b[0m\u001b[1;33m]\u001b[0m\u001b[1;33m\u001b[0m\u001b[1;33m\u001b[0m\u001b[0m\n\u001b[0m\u001b[0;32m     11\u001b[0m \u001b[0my_data\u001b[0m \u001b[1;33m=\u001b[0m \u001b[0mcad\u001b[0m\u001b[1;33m[\u001b[0m\u001b[1;34m'intensity'\u001b[0m\u001b[1;33m]\u001b[0m\u001b[1;33m\u001b[0m\u001b[1;33m\u001b[0m\u001b[0m\n\u001b[0;32m     12\u001b[0m \u001b[0mpeak_x\u001b[0m \u001b[1;33m=\u001b[0m \u001b[0mpeaks\u001b[0m\u001b[1;33m[\u001b[0m\u001b[1;34m'peak'\u001b[0m\u001b[1;33m]\u001b[0m\u001b[1;33m\u001b[0m\u001b[1;33m\u001b[0m\u001b[0m\n",
      "\u001b[1;31mNameError\u001b[0m: name 'cad' is not defined"
     ]
    }
   ],
   "source": [
    "# plot defining things\n",
    "height = 0.052\n",
    "b_y = -.003\n",
    "box_list = []\n",
    "rcolor = '#8b8b8b'\n",
    "base='black'\n",
    "b_a =1\n",
    "alpha = 0.5\n",
    "lwidth=1\n",
    "x_data = cad['wave']\n",
    "y_data = cad['intensity']\n",
    "peak_x = peaks['peak']\n",
    "peak_y = peaks['intensity']\n",
    "peak_labs = peaks['element']\n",
    "size=70\n",
    "mark=\"*\"\n",
    "mwidth=0.5\n",
    "mcolor='goldenrod'\n",
    "c_l = 'navy'\n",
    "c_m = 'goldenrod'\n",
    "llabel = 'LANL (ChemCam)'\n",
    "mlabel = 'MHC (ChemLIBS)'\n",
    "ysize = 12\n",
    "lsize = 14\n",
    "tsize = 16\n",
    "klen = 5"
   ]
  },
  {
   "cell_type": "code",
   "execution_count": 19,
   "id": "e49bf787",
   "metadata": {
    "scrolled": false
   },
   "outputs": [
    {
     "name": "stderr",
     "output_type": "stream",
     "text": [
      "The PostScript backend does not support transparency; partially transparent artists will be rendered opaque.\n",
      "The PostScript backend does not support transparency; partially transparent artists will be rendered opaque.\n",
      "The PostScript backend does not support transparency; partially transparent artists will be rendered opaque.\n",
      "The PostScript backend does not support transparency; partially transparent artists will be rendered opaque.\n",
      "The PostScript backend does not support transparency; partially transparent artists will be rendered opaque.\n",
      "The PostScript backend does not support transparency; partially transparent artists will be rendered opaque.\n",
      "The PostScript backend does not support transparency; partially transparent artists will be rendered opaque.\n",
      "The PostScript backend does not support transparency; partially transparent artists will be rendered opaque.\n",
      "The PostScript backend does not support transparency; partially transparent artists will be rendered opaque.\n",
      "The PostScript backend does not support transparency; partially transparent artists will be rendered opaque.\n",
      "The PostScript backend does not support transparency; partially transparent artists will be rendered opaque.\n",
      "The PostScript backend does not support transparency; partially transparent artists will be rendered opaque.\n",
      "The PostScript backend does not support transparency; partially transparent artists will be rendered opaque.\n",
      "The PostScript backend does not support transparency; partially transparent artists will be rendered opaque.\n",
      "The PostScript backend does not support transparency; partially transparent artists will be rendered opaque.\n",
      "The PostScript backend does not support transparency; partially transparent artists will be rendered opaque.\n",
      "The PostScript backend does not support transparency; partially transparent artists will be rendered opaque.\n",
      "The PostScript backend does not support transparency; partially transparent artists will be rendered opaque.\n",
      "The PostScript backend does not support transparency; partially transparent artists will be rendered opaque.\n",
      "The PostScript backend does not support transparency; partially transparent artists will be rendered opaque.\n",
      "The PostScript backend does not support transparency; partially transparent artists will be rendered opaque.\n",
      "The PostScript backend does not support transparency; partially transparent artists will be rendered opaque.\n",
      "The PostScript backend does not support transparency; partially transparent artists will be rendered opaque.\n",
      "The PostScript backend does not support transparency; partially transparent artists will be rendered opaque.\n",
      "The PostScript backend does not support transparency; partially transparent artists will be rendered opaque.\n",
      "The PostScript backend does not support transparency; partially transparent artists will be rendered opaque.\n",
      "The PostScript backend does not support transparency; partially transparent artists will be rendered opaque.\n",
      "The PostScript backend does not support transparency; partially transparent artists will be rendered opaque.\n",
      "The PostScript backend does not support transparency; partially transparent artists will be rendered opaque.\n",
      "The PostScript backend does not support transparency; partially transparent artists will be rendered opaque.\n",
      "The PostScript backend does not support transparency; partially transparent artists will be rendered opaque.\n",
      "The PostScript backend does not support transparency; partially transparent artists will be rendered opaque.\n",
      "The PostScript backend does not support transparency; partially transparent artists will be rendered opaque.\n",
      "The PostScript backend does not support transparency; partially transparent artists will be rendered opaque.\n",
      "The PostScript backend does not support transparency; partially transparent artists will be rendered opaque.\n",
      "The PostScript backend does not support transparency; partially transparent artists will be rendered opaque.\n",
      "The PostScript backend does not support transparency; partially transparent artists will be rendered opaque.\n",
      "The PostScript backend does not support transparency; partially transparent artists will be rendered opaque.\n",
      "The PostScript backend does not support transparency; partially transparent artists will be rendered opaque.\n",
      "The PostScript backend does not support transparency; partially transparent artists will be rendered opaque.\n",
      "The PostScript backend does not support transparency; partially transparent artists will be rendered opaque.\n",
      "The PostScript backend does not support transparency; partially transparent artists will be rendered opaque.\n",
      "The PostScript backend does not support transparency; partially transparent artists will be rendered opaque.\n",
      "The PostScript backend does not support transparency; partially transparent artists will be rendered opaque.\n",
      "The PostScript backend does not support transparency; partially transparent artists will be rendered opaque.\n",
      "The PostScript backend does not support transparency; partially transparent artists will be rendered opaque.\n",
      "The PostScript backend does not support transparency; partially transparent artists will be rendered opaque.\n",
      "The PostScript backend does not support transparency; partially transparent artists will be rendered opaque.\n",
      "The PostScript backend does not support transparency; partially transparent artists will be rendered opaque.\n",
      "The PostScript backend does not support transparency; partially transparent artists will be rendered opaque.\n",
      "The PostScript backend does not support transparency; partially transparent artists will be rendered opaque.\n",
      "The PostScript backend does not support transparency; partially transparent artists will be rendered opaque.\n",
      "The PostScript backend does not support transparency; partially transparent artists will be rendered opaque.\n",
      "The PostScript backend does not support transparency; partially transparent artists will be rendered opaque.\n",
      "The PostScript backend does not support transparency; partially transparent artists will be rendered opaque.\n",
      "The PostScript backend does not support transparency; partially transparent artists will be rendered opaque.\n",
      "The PostScript backend does not support transparency; partially transparent artists will be rendered opaque.\n",
      "The PostScript backend does not support transparency; partially transparent artists will be rendered opaque.\n",
      "The PostScript backend does not support transparency; partially transparent artists will be rendered opaque.\n",
      "The PostScript backend does not support transparency; partially transparent artists will be rendered opaque.\n",
      "The PostScript backend does not support transparency; partially transparent artists will be rendered opaque.\n",
      "The PostScript backend does not support transparency; partially transparent artists will be rendered opaque.\n",
      "The PostScript backend does not support transparency; partially transparent artists will be rendered opaque.\n",
      "The PostScript backend does not support transparency; partially transparent artists will be rendered opaque.\n",
      "The PostScript backend does not support transparency; partially transparent artists will be rendered opaque.\n",
      "The PostScript backend does not support transparency; partially transparent artists will be rendered opaque.\n",
      "The PostScript backend does not support transparency; partially transparent artists will be rendered opaque.\n",
      "The PostScript backend does not support transparency; partially transparent artists will be rendered opaque.\n",
      "The PostScript backend does not support transparency; partially transparent artists will be rendered opaque.\n",
      "The PostScript backend does not support transparency; partially transparent artists will be rendered opaque.\n",
      "The PostScript backend does not support transparency; partially transparent artists will be rendered opaque.\n",
      "The PostScript backend does not support transparency; partially transparent artists will be rendered opaque.\n",
      "The PostScript backend does not support transparency; partially transparent artists will be rendered opaque.\n",
      "The PostScript backend does not support transparency; partially transparent artists will be rendered opaque.\n",
      "The PostScript backend does not support transparency; partially transparent artists will be rendered opaque.\n",
      "The PostScript backend does not support transparency; partially transparent artists will be rendered opaque.\n"
     ]
    },
    {
     "name": "stderr",
     "output_type": "stream",
     "text": [
      "The PostScript backend does not support transparency; partially transparent artists will be rendered opaque.\n",
      "The PostScript backend does not support transparency; partially transparent artists will be rendered opaque.\n",
      "The PostScript backend does not support transparency; partially transparent artists will be rendered opaque.\n",
      "The PostScript backend does not support transparency; partially transparent artists will be rendered opaque.\n",
      "The PostScript backend does not support transparency; partially transparent artists will be rendered opaque.\n",
      "The PostScript backend does not support transparency; partially transparent artists will be rendered opaque.\n",
      "The PostScript backend does not support transparency; partially transparent artists will be rendered opaque.\n",
      "The PostScript backend does not support transparency; partially transparent artists will be rendered opaque.\n",
      "The PostScript backend does not support transparency; partially transparent artists will be rendered opaque.\n",
      "The PostScript backend does not support transparency; partially transparent artists will be rendered opaque.\n",
      "The PostScript backend does not support transparency; partially transparent artists will be rendered opaque.\n",
      "The PostScript backend does not support transparency; partially transparent artists will be rendered opaque.\n",
      "The PostScript backend does not support transparency; partially transparent artists will be rendered opaque.\n",
      "The PostScript backend does not support transparency; partially transparent artists will be rendered opaque.\n",
      "The PostScript backend does not support transparency; partially transparent artists will be rendered opaque.\n",
      "The PostScript backend does not support transparency; partially transparent artists will be rendered opaque.\n",
      "The PostScript backend does not support transparency; partially transparent artists will be rendered opaque.\n",
      "The PostScript backend does not support transparency; partially transparent artists will be rendered opaque.\n",
      "The PostScript backend does not support transparency; partially transparent artists will be rendered opaque.\n",
      "The PostScript backend does not support transparency; partially transparent artists will be rendered opaque.\n"
     ]
    },
    {
     "data": {
      "image/png": "[encoded data removed]",
      "text/plain": [
       "<Figure size 576x216 with 1 Axes>"
      ]
     },
     "metadata": {
      "needs_background": "light"
     },
     "output_type": "display_data"
    }
   ],
   "source": [
    "# get width of regions\n",
    "noise['width'] = noise['stop'] - noise['start']\n",
    "\n",
    "#make rectangles\n",
    "for i in np.array(range(len(noise))):\n",
    "    x = noise['start'][i]  \n",
    "    width = noise['width'][i]\n",
    "    box_list.append(Rectangle((x, b_y), width, height))\n",
    "    \n",
    "pc = PatchCollection(box_list, edgecolor = to_rgba(rcolor, alpha), facecolor=to_rgba(rcolor, alpha))\n",
    "#pc = PatchCollection(box_list, hatch = '..')\n",
    "\n",
    "# plot it all\n",
    "fig, ax = plt.subplots(1, figsize = (8,3))\n",
    "ax.plot(x_data, y_data, color=base, linewidth = lwidth, alpha = b_a, zorder=1) #spectrum\n",
    "ax.scatter(peak_x, peak_y, facecolor = mcolor, edgecolor=base, s = size, marker = mark, linewidth = mwidth, zorder=3) # peaks\n",
    "ax.add_collection(pc) # noise regions\n",
    "ax.margins(x=0.005, y=0.0)\n",
    "ax.set_xlabel('Wavelength (nm)', fontsize=lsize)\n",
    "ax.set_ylabel('Normalized Intensity (A.U.)', fontsize = lsize)\n",
    "ax.tick_params(length=klen, labelsize=ysize)\n",
    "\n",
    "plt.tight_layout()\n",
    "plt.savefig(fp + \"figures\\\\braga_regions.eps\", dpi=600)\n",
    "plt.savefig(fp + \"figures\\\\braga_regions.jpg\", dpi=600)\n",
    "plt.show()"
   ]
  },
  {
   "cell_type": "markdown",
   "id": "e6840128",
   "metadata": {},
   "source": [
    "## compare LOQ"
   ]
  },
  {
   "cell_type": "code",
   "execution_count": 3,
   "id": "06579c42",
   "metadata": {},
   "outputs": [],
   "source": [
    "mhc_sum = pd.read_csv(fp+'MHC_sample_summary.csv')"
   ]
  },
  {
   "cell_type": "code",
   "execution_count": 4,
   "id": "b803c465",
   "metadata": {},
   "outputs": [],
   "source": [
    "iqr_means = dict(zip(mhc_sum.element, mhc_sum.iqr_mean))\n",
    "natl_means = dict(zip(mhc_sum.element, mhc_sum.natl_mean))\n",
    "iqr_meds = dict(zip(mhc_sum.element, mhc_sum.iqr_med))\n",
    "natl_meds = dict(zip(mhc_sum.element, mhc_sum.natl_med))"
   ]
  },
  {
   "cell_type": "code",
   "execution_count": 5,
   "id": "caef52f0",
   "metadata": {},
   "outputs": [],
   "source": [
    "# add median and mean values\n",
    "data['mean'] = np.nan\n",
    "data['median'] = np.nan\n",
    "\n",
    "for elem in data.element.unique():\n",
    "    data.loc[(data.element==elem) & (data.outlier_defn=='high_natl'), 'mean'] = natl_means[elem]\n",
    "    data.loc[(data.element==elem) & (data.outlier_defn=='high_natl'), 'median'] = natl_meds[elem]\n",
    "    data.loc[(data.element==elem) & (data.outlier_defn=='iqr_q3'), 'median'] = iqr_meds[elem]\n",
    "    data.loc[(data.element==elem) & (data.outlier_defn=='iqr_q3'), 'mean'] = iqr_means[elem]"
   ]
  },
  {
   "cell_type": "code",
   "execution_count": 6,
   "id": "555b8d93",
   "metadata": {},
   "outputs": [],
   "source": [
    "# get loqs as percent\n",
    "data['loq_per_med'] = (data['loq'] / data['median']) * 100\n",
    "data['loq_per_mean'] = (data['loq'] / data['mean']) * 100"
   ]
  },
  {
   "cell_type": "code",
   "execution_count": 8,
   "id": "16782438",
   "metadata": {},
   "outputs": [],
   "source": [
    "data.to_csv(fp+'results_with_percents.csv', index=False)"
   ]
  },
  {
   "cell_type": "markdown",
   "id": "8b7a62d9",
   "metadata": {},
   "source": [
    "## Compare LOQ for method 1 to LOQ for method 2 \n",
    "(for atms, use Mars as method 1, earth & vac for method 2)\n",
    "#### OUTLIER REMOVAL"
   ]
  },
  {
   "cell_type": "code",
   "execution_count": 25,
   "id": "2184e293",
   "metadata": {},
   "outputs": [
    {
     "data": {
      "image/png": "[encoded data removed]",
      "text/plain": [
       "<Figure size 432x288 with 1 Axes>"
      ]
     },
     "metadata": {
      "needs_background": "light"
     },
     "output_type": "display_data"
    }
   ],
   "source": [
    "elem_list = ['MnO', 'Na2O', 'SiO2', 'Li', 'Ni', 'Pb', 'Rb', 'Sr', 'Zn']\n",
    "vals = []\n",
    "sds = []\n",
    "elems = []\n",
    "for element in elem_list:\n",
    "    temp = []\n",
    "    for atm in data.atmosphere.unique():\n",
    "        df = data[(data.element==element)&\n",
    "                  (data.instrument=='CL')&\n",
    "                  (data.atmosphere==atm)&\n",
    "                  (data.sens_method=='braga')].copy(deep=True)\n",
    "\n",
    "        natl_val = df[df.outlier_defn=='high_natl'].reset_index(drop=True)['loq_per_mean'][0]\n",
    "        iqr_val = df[df.outlier_defn=='iqr_q3'].reset_index(drop=True)['loq_per_mean'][0]\n",
    "\n",
    "        ratio =  natl_val / iqr_val\n",
    "        temp.append(ratio)\n",
    "\n",
    "    # get avg and std of ratio per element\n",
    "    avg = statistics.mean(temp)\n",
    "    sd = np.std(temp)\n",
    "    \n",
    "    elems.append(element)\n",
    "    vals.append(avg)\n",
    "    sds.append(sd)\n",
    "    \n",
    "out_ratios = pd.DataFrame({\n",
    "    'element':elems,\n",
    "    'ratio_avg':vals,\n",
    "    'ratio_sd':sds\n",
    "})\n",
    "\n",
    "plt.bar(out_ratios.index, \n",
    "        out_ratios.ratio_avg, \n",
    "        yerr=out_ratios.ratio_sd, \n",
    "        tick_label=out_ratios.element,\n",
    "        capsize=3,\n",
    "        color='grey')\n",
    "plt.tick_params(length=5)\n",
    "plt.xticks(fontsize=13)\n",
    "plt.yticks(fontsize=12)\n",
    "plt.hlines(1, -1, 9, color='darkred', linestyles='dashed')\n",
    "plt.title('high_natl / iqr_q3', fontsize = 16)\n",
    "plt.ylabel('Averaged LOQ as percent\\nof mean concentration', fontsize=14)\n",
    "plt.ylim(0,2)\n",
    "plt.xlim(-0.75, 8.75)\n",
    "plt.tight_layout()\n",
    "plt.savefig(fp + \"figures\\\\outlier_loq_mean_ratio.eps\", dpi=600)\n",
    "plt.show()"
   ]
  },
  {
   "cell_type": "markdown",
   "id": "48f25b67",
   "metadata": {},
   "source": [
    "#### INSTRUMENT"
   ]
  },
  {
   "cell_type": "code",
   "execution_count": 20,
   "id": "d6c69329",
   "metadata": {},
   "outputs": [
    {
     "data": {
      "image/png": "[encoded data removed]",
      "text/plain": [
       "<Figure size 432x288 with 1 Axes>"
      ]
     },
     "metadata": {
      "needs_background": "light"
     },
     "output_type": "display_data"
    }
   ],
   "source": [
    "vals = []\n",
    "sds = []\n",
    "elems = []\n",
    "for element in elem_list:\n",
    "    temp = []\n",
    "    for out in data.outlier_defn.unique():\n",
    "        df = data[(data.element==element)&\n",
    "                  (data.outlier_defn==out)&\n",
    "                  (data.atmosphere=='Mars')&\n",
    "                  (data.sens_method=='braga')].copy(deep=True)\n",
    "\n",
    "        cc_val = df[df.instrument=='CC'].reset_index(drop=True)['loq'][0]\n",
    "        cl_val = df[df.instrument=='CL_CC'].reset_index(drop=True)['loq'][0]\n",
    "\n",
    "        ratio =  cc_val / cl_val\n",
    "        temp.append(ratio)\n",
    "    \n",
    "    # get avg and std of ratio per element\n",
    "    avg = statistics.mean(temp)\n",
    "    sd = np.std(temp)\n",
    "    \n",
    "    elems.append(element)\n",
    "    vals.append(avg)\n",
    "    sds.append(sd)\n",
    "    \n",
    "inst_ratios = pd.DataFrame({\n",
    "    'element':elems,\n",
    "    'ratio_avg':vals,\n",
    "    'ratio_sd':sds\n",
    "})\n",
    "\n",
    "plt.bar(inst_ratios.index, \n",
    "        inst_ratios.ratio_avg, \n",
    "        yerr=inst_ratios.ratio_sd, \n",
    "        tick_label=inst_ratios.element,\n",
    "        capsize=3,\n",
    "        color='grey')\n",
    "plt.tick_params(length=5)\n",
    "plt.xticks(fontsize=13)\n",
    "plt.yticks(fontsize=12)\n",
    "plt.hlines(1, -1, 9, color='darkred', linestyles='dashed')\n",
    "plt.title('ChemCam / ChemLIBS', fontsize = 16)\n",
    "plt.ylabel('Averaged LOQ ratio', fontsize=14)\n",
    "plt.ylim(0,2)\n",
    "plt.xlim(-0.75, 8.75)\n",
    "plt.tight_layout()\n",
    "plt.savefig(fp + \"figures\\\\instrument_loq_ratio.eps\", dpi=600)\n",
    "plt.show()"
   ]
  },
  {
   "cell_type": "markdown",
   "id": "a5b1dc2d",
   "metadata": {},
   "source": [
    "#### ATMOSPHERE"
   ]
  },
  {
   "cell_type": "code",
   "execution_count": 22,
   "id": "e1e1cac8",
   "metadata": {
    "scrolled": true
   },
   "outputs": [
    {
     "name": "stderr",
     "output_type": "stream",
     "text": [
      "The PostScript backend does not support transparency; partially transparent artists will be rendered opaque.\n",
      "The PostScript backend does not support transparency; partially transparent artists will be rendered opaque.\n"
     ]
    },
    {
     "data": {
      "image/png": "[encoded data removed]",
      "text/plain": [
       "<Figure size 432x288 with 1 Axes>"
      ]
     },
     "metadata": {
      "needs_background": "light"
     },
     "output_type": "display_data"
    }
   ],
   "source": [
    "e_vals = []\n",
    "v_vals = []\n",
    "e_sds = []\n",
    "v_sds = []\n",
    "elems = []\n",
    "for element in elem_list:\n",
    "    e_temp = []\n",
    "    v_temp = []\n",
    "    for out in data.outlier_defn.unique():\n",
    "        df = data[(data.element==element)&\n",
    "                  (data.instrument=='CL')&\n",
    "                  (data.outlier_defn==out)&\n",
    "                  (data.sens_method=='braga')].copy(deep=True)\n",
    "            \n",
    "        mars_val = df[df.atmosphere=='Mars'].reset_index(drop=True)['loq'][0]\n",
    "        earth_val = df[df.atmosphere=='Earth'].reset_index(drop=True)['loq'][0]\n",
    "        vac_val = df[df.atmosphere=='Vacuum'].reset_index(drop=True)['loq'][0]\n",
    "\n",
    "        e_ratio =  mars_val / earth_val\n",
    "        v_ratio = mars_val / vac_val\n",
    "\n",
    "        e_temp.append(e_ratio)\n",
    "        v_temp.append(v_ratio)\n",
    "    \n",
    "    # get avg and std of ratio per element\n",
    "    e_avg = statistics.mean(e_temp)\n",
    "    e_sd = np.std(e_temp)\n",
    "    v_avg = statistics.mean(v_temp)\n",
    "    v_sd = np.std(v_temp)\n",
    "    \n",
    "    elems.append(element)\n",
    "    e_vals.append(e_avg)\n",
    "    e_sds.append(e_sd)\n",
    "    v_vals.append(v_avg)\n",
    "    v_sds.append(v_sd)\n",
    "    \n",
    "atm_ratios = pd.DataFrame({\n",
    "    'element':elems,\n",
    "    'earth_avg':e_vals,\n",
    "    'earth_sd':e_sds,\n",
    "    'vac_avg':v_vals,\n",
    "    'vac_sd':v_sds\n",
    "})\n",
    "\n",
    "# tick locations\n",
    "width = 0.6\n",
    "et = [i*2 for i in atm_ratios.index]\n",
    "vt = [x + width for x in et]\n",
    "tk = [x + width/2 for x in et]\n",
    "\n",
    "earth = plt.bar(et, \n",
    "                atm_ratios.earth_avg, \n",
    "                yerr=atm_ratios.earth_sd, \n",
    "                width=width,\n",
    "                label='Mars/Earth',\n",
    "                capsize=3,\n",
    "                color='green')\n",
    "vac = plt.bar(vt, \n",
    "              atm_ratios.vac_avg, \n",
    "              yerr=atm_ratios.vac_sd, \n",
    "              width=width,\n",
    "              label='Mars/Vacuum',\n",
    "              capsize=3,\n",
    "              color='grey')\n",
    "\n",
    "plt.xticks(tk, labels=atm_ratios.element,fontsize = 12)\n",
    "plt.tick_params(length=5)\n",
    "plt.yticks(fontsize=12)\n",
    "plt.hlines(1, -1, 17.5, color='darkred', linestyles='dashed')\n",
    "plt.legend(loc='best')\n",
    "plt.ylabel('Averaged LOQ ratio', fontsize=14)\n",
    "plt.ylim(0,2)\n",
    "plt.xlim(-1, 17.5)\n",
    "plt.tight_layout()\n",
    "plt.savefig(fp + \"figures\\\\atms_loq_ratio.eps\", dpi=600)\n",
    "plt.show()"
   ]
  },
  {
   "cell_type": "markdown",
   "id": "1968603e",
   "metadata": {},
   "source": [
    "### Test results"
   ]
  },
  {
   "cell_type": "code",
   "execution_count": 45,
   "id": "8944346c",
   "metadata": {},
   "outputs": [],
   "source": [
    "test = pd.read_csv(fp+'average_test_results.csv')\n",
    "test_maj = test.loc[:2]\n",
    "test_min = test.loc[3:].reset_index(drop=True)"
   ]
  },
  {
   "cell_type": "markdown",
   "id": "d764badd",
   "metadata": {},
   "source": [
    "#### RMSEPs"
   ]
  },
  {
   "cell_type": "code",
   "execution_count": 48,
   "id": "98b6004d",
   "metadata": {},
   "outputs": [
    {
     "data": {
      "image/png": "[encoded data removed]",
      "text/plain": [
       "<Figure size 576x288 with 2 Axes>"
      ]
     },
     "metadata": {
      "needs_background": "light"
     },
     "output_type": "display_data"
    }
   ],
   "source": [
    "width = 0.2\n",
    "label1 = 'All'\n",
    "label2 = 'Above LOQ'\n",
    "c_b = 'grey'\n",
    "c_m = 'darkred'\n",
    "cap=3\n",
    "ysize=10\n",
    "klen=5\n",
    "lsize=12\n",
    "tsize=14\n",
    "\n",
    "#labels\n",
    "majlab = test_maj.element\n",
    "minlab = test_min.element\n",
    "\n",
    "# tick locations\n",
    "majt1 = [0, 0.5, 1] \n",
    "majt2 = [x + width for x in majt1]\n",
    "mint1 = np.arange(0,3,step=0.5)\n",
    "mint2 = [x + width for x in mint1]\n",
    "majtk = [x + width/2 for x in majt1]\n",
    "mintk = [x + width/2 for x in mint1]\n",
    "\n",
    "# make figure\n",
    "fig, (maj, minor) = plt.subplots(ncols = 2, figsize = (8,4),\n",
    "                                 # make major one smaller\n",
    "                                 gridspec_kw={'width_ratios': [1,2]})\n",
    "# majors\n",
    "df1_major = maj.bar(majt1, test_maj['rmsep_all'], width, yerr=test_maj['rmsep_all_sd'], capsize=cap, label = label1, color = c_b)\n",
    "df2_major = maj.bar(majt2, test_maj['rmsep_loq'], width, yerr=test_maj['rmsep_loq_sd'], capsize=cap, label = label2, color = c_m)\n",
    "# minors\n",
    "df1_minor = minor.bar(mint1, test_min['rmsep_all'], width, yerr=test_min['rmsep_all_sd'], capsize=cap, label = label1, color = c_b)\n",
    "df2_minor = minor.bar(mint2, test_min['rmsep_loq'], width, yerr=test_min['rmsep_loq_sd'], capsize=cap, label = label2, color = c_m)\n",
    "\n",
    "# formatting\n",
    "maj.tick_params(axis = 'y', which = 'major', labelsize = ysize,)\n",
    "maj.tick_params(length=klen)\n",
    "maj.set_xticks(majtk)\n",
    "maj.set_xticklabels(majlab, fontsize = lsize)\n",
    "maj.set_ylabel('RMSE-P (wt%)', fontsize = tsize)\n",
    "\n",
    "minor.set_xticks(mintk)\n",
    "minor.set_xticklabels(minlab, fontsize = lsize)\n",
    "minor.set_ylabel('RMSE-P (ppm)', fontsize = tsize)\n",
    "minor.tick_params(axis = 'y', which = 'major', labelsize = ysize)  \n",
    "minor.tick_params(length=klen)\n",
    "minor.legend(handles = [df1_major, df2_major], fontsize = lsize)\n",
    "\n",
    "plt.tight_layout()\n",
    "#plt.savefig(fp + \"figures\\\\atms_loq_ratio.eps\", dpi=600)\n",
    "plt.show()"
   ]
  },
  {
   "cell_type": "markdown",
   "id": "686979d1",
   "metadata": {},
   "source": [
    "#### R2"
   ]
  },
  {
   "cell_type": "code",
   "execution_count": 49,
   "id": "f436f82f",
   "metadata": {},
   "outputs": [
    {
     "data": {
      "image/png": "[encoded data removed]",
      "text/plain": [
       "<Figure size 576x288 with 2 Axes>"
      ]
     },
     "metadata": {
      "needs_background": "light"
     },
     "output_type": "display_data"
    }
   ],
   "source": [
    "# make figure\n",
    "fig, (maj, minor) = plt.subplots(ncols = 2, figsize = (8,4),\n",
    "                                 # make major one smaller\n",
    "                                 gridspec_kw={'width_ratios': [1,2]})\n",
    "# majors\n",
    "df1_major = maj.bar(majt1, test_maj['adj_r2_all'], width, yerr=test_maj['adj_r2_all_sd'], capsize=cap, label = label1, color = c_b)\n",
    "df2_major = maj.bar(majt2, test_maj['adj_r2_loq'], width, yerr=test_maj['adj_r2_loq_sd'], capsize=cap, label = label2, color = c_m)\n",
    "# minors\n",
    "df1_minor = minor.bar(mint1, test_min['adj_r2_all'], width, yerr=test_min['adj_r2_all_sd'], capsize=cap, label = label1, color = c_b)\n",
    "df2_minor = minor.bar(mint2, test_min['adj_r2_loq'], width, yerr=test_min['adj_r2_loq_sd'], capsize=cap, label = label2, color = c_m)\n",
    "\n",
    "# formatting\n",
    "maj.tick_params(axis = 'y', which = 'major', labelsize = ysize,)\n",
    "maj.tick_params(length=klen)\n",
    "maj.set_xticks(majtk)\n",
    "maj.set_xticklabels(majlab, fontsize = lsize)\n",
    "maj.set_ylabel('Adjusted R2', fontsize = tsize)\n",
    "\n",
    "minor.set_xticks(mintk)\n",
    "minor.set_xticklabels(minlab, fontsize = lsize)\n",
    "minor.set_ylabel('RMSE-P (ppm)', fontsize = tsize)\n",
    "minor.tick_params(axis = 'y', which = 'major', labelsize = ysize)  \n",
    "minor.tick_params(length=klen)\n",
    "minor.legend(handles = [df1_major, df2_major], fontsize = lsize)\n",
    "\n",
    "plt.tight_layout()\n",
    "#plt.savefig(fp + \"figures\\\\atms_loq_ratio.eps\", dpi=600)\n",
    "plt.show()"
   ]
  }
 ],
 "metadata": {
  "kernelspec": {
   "display_name": "Python 3 (ipykernel)",
   "language": "python",
   "name": "python3"
  },
  "language_info": {
   "codemirror_mode": {
    "name": "ipython",
    "version": 3
   },
   "file_extension": ".py",
   "mimetype": "text/x-python",
   "name": "python",
   "nbconvert_exporter": "python",
   "pygments_lexer": "ipython3",
   "version": "3.8.8"
  }
 },
 "nbformat": 4,
 "nbformat_minor": 5
}
